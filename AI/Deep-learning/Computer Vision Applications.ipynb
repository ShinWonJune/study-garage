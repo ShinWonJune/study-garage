{
 "cells": [
  {
   "cell_type": "markdown",
   "metadata": {},
   "source": [
    "### Semantic Segmentation\n",
    "#### Fully convolutional Network\n",
    "- 레이블에 대한 예측 뿐 아니라 spatial 한 정보도 함께 예측가능.\n",
    "- 어디에 뭐가 있는지에대한 정보가 나옴\n",
    "- 하지만 input spatial dimension 보다는 output spatial dimension이 작아짐\n",
    "- 이를 키우고 싶음\n",
    "#### Deconvoluition (conv transpose)\n",
    "- spatial dimension을 키움"
   ]
  },
  {
   "cell_type": "markdown",
   "metadata": {},
   "source": [
    "### Detection\n",
    "#### R-CNN\n",
    "- 하나의 이미지에서 2000개의 부분을 추출한뒤 각각 alex net을 통해 features를 도출\n",
    "- linear svm을 통해 classify\n",
    "\n",
    "#### SPPNet\n",
    "- 하나의 이미지를 CNN 한번만 돌린 후, bounding box에 해당하는 feature map에 tensor를 뜯어오자.\n",
    "\n",
    "#### Fast R-CNN\n",
    "-  Input 이미지와 bounding boxes(2000개?)를 받는다\n",
    "- Convloutional feature map을 얻는다\n",
    "- 각 region마다 fixed length feature를 뽑아낸다. By ROI pooling\n",
    "- 그 feature veator를 input으로 N.network를 통해 softmax classification과 bounding box regressor를 얻는다.\n",
    "\n",
    "#### Faster R-CNN\n",
    "- Region proposal Network + Fast R-CNN\n",
    "- RPN 이란?\n",
    "    - 여기에 이 물체가 있을거 같다.\n",
    "    - Bounding box를 여기에 두릅시다.\n",
    "\n",
    "#### YOLO\n",
    "-  bounding box를 따로 뽑는 과정 없이 동시에 여러 bbox를 예측하고 분류한다.\n",
    "- YOLO divides into SxS grid. If the center of an object falls into the grid cell, that grid cell is reponsible for detection\n",
    "-  Each cell predicts N bounding boxes x,y,w,h and confidens of objectness\n",
    "- Also each cell predicts C class probabilities of bboxes. \n",
    "- bbox의 위치의 쓸모여부와 classification을 동시에 하는것.\n",
    "- tensor size = SxSx(N*5+C)\n",
    "    -  SxS : Grid cell 수\n",
    "    - N*5 : box의 수 * (x,y,w,h,confidence)\n",
    "    - C: number of classes"
   ]
  },
  {
   "cell_type": "markdown",
   "metadata": {},
   "source": []
  }
 ],
 "metadata": {
  "language_info": {
   "name": "python"
  },
  "orig_nbformat": 4
 },
 "nbformat": 4,
 "nbformat_minor": 2
}
