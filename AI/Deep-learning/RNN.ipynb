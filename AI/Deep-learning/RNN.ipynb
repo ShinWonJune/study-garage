{
 "cells": [
  {
   "cell_type": "markdown",
   "metadata": {},
   "source": [
    "### Sequential Model\n",
    "#### Markov model (first -order autoregressive model)\n",
    "- 전날에만 영향을 받는다.\n",
    "\n",
    "#### Latent autoregressive model\n",
    "- hidden state that summarize all the past datas "
   ]
  },
  {
   "cell_type": "markdown",
   "metadata": {},
   "source": [
    "### Recurrent Neural Network\n",
    "- short term dependencies,,\n",
    "    - 과거의 data의 영향히 희박해지거나 exploding gradient.\n",
    "\n",
    "### LSTM \n",
    "- Previous cell state : time step t까지의 정보를 함축하고 있는, 밖으로 나가지 않는 state.\n",
    "- Forget Gate : Decide which infor to throw away\n",
    "- Input gate : Decide which infor to store in the cell state\n",
    "    - i = 어떤 정보를 올릴지 말지 결정\n",
    "    - Cell state candidate = 올라갈 정보의 후보들. \n",
    "    Update cell :  Ct = forgetgate*Ct(-1) + i*c.candidate\n",
    "- output gate : output\n",
    "    - next hidden state = outputgate*tanh(Ct)\n",
    "\n",
    "### Gated Recurrent Unit(GRU)\n",
    "- simpler gates: Reset gate, Update gate \n",
    "- No cell state, just hidden state\n",
    "    - hidden gate가 바로 output임\n"
   ]
  },
  {
   "cell_type": "markdown",
   "metadata": {},
   "source": []
  }
 ],
 "metadata": {
  "language_info": {
   "name": "python"
  },
  "orig_nbformat": 4
 },
 "nbformat": 4,
 "nbformat_minor": 2
}
