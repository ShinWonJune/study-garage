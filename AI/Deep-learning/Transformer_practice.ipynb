{
 "cells": [
  {
   "cell_type": "markdown",
   "metadata": {},
   "source": [
    "# Transformer\n",
    "- Mulit-Headded Attention\n",
    "    - Scaled Dot-Product Attension\n",
    "- Positional Encoding\n",
    "    - Vanila\n",
    "    - Pytorch efficient\n",
    "    - DropOut"
   ]
  },
  {
   "cell_type": "markdown",
   "metadata": {},
   "source": [
    "## Multi-Headded Attention"
   ]
  },
  {
   "cell_type": "code",
   "execution_count": 77,
   "metadata": {},
   "outputs": [],
   "source": [
    "import numpy as np\n",
    "import matplotlib.pyplot as plt\n",
    "import torch\n",
    "import torch.nn as nn\n",
    "import torch.optim as optim\n",
    "import torch.nn.functional as F\n"
   ]
  },
  {
   "cell_type": "markdown",
   "metadata": {},
   "source": [
    "### Scaled Dot-Product Attension\n",
    "- Data $X \\in R^{n\\times d}$ whrer $n$ is the number of data and $d$ is the data dimension. Usually 512\n",
    "- $Q,K\\in R^{n\\times d_k}$, where $d_k$ is dimension of $K$.\n",
    "- $V\\in R^{n\\times d_v}$\n",
    "\n",
    "##### $\\text{Attention}(Q,K,V) = \\text{softmax}\\big(\\frac{QK^T}{\\sqrt{d_k}}\\big)V \\in \\mathbb{R}^{n\\times d_v}$"
   ]
  },
  {
   "cell_type": "code",
   "execution_count": 78,
   "metadata": {},
   "outputs": [
    {
     "name": "stdout",
     "output_type": "stream",
     "text": [
      "SDPA: Q[3, 30, 128] K[3, 30, 128] V[3, 30, 258] => out[3, 30, 258] attention[3, 30, 30]\n",
      "SDPA: Q[3, 5, 30, 128] K[3, 5, 30, 128] V[3, 5, 30, 258] => out[3, 5, 30, 258] attention[3, 5, 30, 30]\n"
     ]
    }
   ],
   "source": [
    "# self attention\n",
    "class SDPA(nn.Module):\n",
    "    def forward(self,Q,K,V,mask=None):\n",
    "        d_k = K.size()[-1] # key dimension\n",
    "        scores = Q.matmul(K.transpose(-2,-1))/np.sqrt(d_k)\n",
    "        if mask is not None: #if mask exists\n",
    "            scores = scores.maksed_fill(mask==0, -1e9) #mask == 0 인 부분에 -1e9\n",
    "        attention = F.softmax(scores,dim=-1)#last dim (row vector) is a query score with other keys.\n",
    "        out = attention.matmul(V)\n",
    "        return out, attention\n",
    "    \n",
    "# Demo run\n",
    "sdpa = SDPA()\n",
    "n_batch,d_k,d_v = 3,128,258\n",
    "Q_n, K_n, V_n = 30, 30, 30 # sequence length\n",
    "Q = torch.rand(n_batch,Q_n,d_k)\n",
    "K = torch.rand(n_batch,K_n,d_k)\n",
    "V = torch.rand(n_batch,Q_n,d_v)\n",
    "out, attention = sdpa(Q,K,V)\n",
    "def sh(x): return str(x.shape)[11:-1]\n",
    "print (\"SDPA: Q%s K%s V%s => out%s attention%s\"%\n",
    "       (sh(Q),sh(K),sh(V),sh(out),sh(attention)))\n",
    "\n",
    "#supports Multi-headedAttention as well\n",
    "head = 5\n",
    "Q = torch.rand(n_batch,head,Q_n,d_k)\n",
    "K = torch.rand(n_batch,head,K_n,d_k)\n",
    "V = torch.rand(n_batch,head,Q_n,d_v)\n",
    "out, attention = sdpa(Q,K,V)\n",
    "def sh(x): return str(x.shape)[11:-1]\n",
    "print (\"SDPA: Q%s K%s V%s => out%s attention%s\"%\n",
    "       (sh(Q),sh(K),sh(V),sh(out),sh(attention)))\n",
    "\n",
    "#Batch 수가 head 보다 상위 dimension. 5개의 head를 3개씩 process.\n"
   ]
  },
  {
   "cell_type": "markdown",
   "metadata": {},
   "source": [
    "### Multi-Headed Attention (MHA)\n",
    "- In the case of splitting embeddings into the number of heads and assign to each head."
   ]
  },
  {
   "cell_type": "code",
   "execution_count": 79,
   "metadata": {},
   "outputs": [],
   "source": [
    "class MHA(nn.Module):\n",
    "    def __init__(self, d_feat=128,n_head=5,actv=F.relu,USE_BIAS=True,dropout_p=0.1,devise=None):\n",
    "        \"\"\"\n",
    "        d_feat : feature dimension (same for each input words)\n",
    "        n_head : number of heads\n",
    "        actv : activation function after each linear\n",
    "        USE_BIAS : whether to use bias\n",
    "        dropout_p : dropout rate\n",
    "        device : device select\n",
    "        \"\"\"\n",
    "\n",
    "        super(MHA,self).__init__()\n",
    "        if (d_feat%n_head) != 0:\n",
    "            raise ValueError(f\"d_feat({d_feat}) should be divisible by ({n_head})\")\n",
    "        self.d_feat = d_feat\n",
    "        self.n_head = n_head\n",
    "        self.d_head = self.d_feat // self.n_head\n",
    "        self.actv = actv\n",
    "        self.USE_BIAS = USE_BIAS\n",
    "        self.dropout_p = dropout_p\n",
    "        \n",
    "        # embedding 된 latent vector 상태로 들어옴\n",
    "        self.lin_Q = nn.Linear(d_feat,d_feat,self.USE_BIAS)\n",
    "        self.lin_K = nn.Linear(d_feat,d_feat,self.USE_BIAS)\n",
    "        self.lin_V = nn.Linear(d_feat,d_feat,self.USE_BIAS)\n",
    "        self.lin_O = nn.Linear(d_feat,d_feat,self.USE_BIAS)\n",
    "        #dropout arg 는 %로 주고, 클래스 안에서 nn.dropout 함수에 전달.\n",
    "        self.dropout = nn.Dropout(p=self.dropout_p)\n",
    "\n",
    "    def forward(self,Q,K,V,mask=None):\n",
    "        \"\"\"\n",
    "        Q:[n_batch,n_Q,d_feat]\n",
    "        K:[n_batch,n_K,d_feat]\n",
    "        V:[n_batch,n_V,d_feat], where n_K == n_V\n",
    "        \"\"\"\n",
    "\n",
    "        n_batch = Q.shape[0] # Q는 batch 단위로 들어온다\n",
    "        Q_feat = self.lin_Q(Q) # [n_batch, n_Q, d_feat]\n",
    "        K_feat = self.lin_K(K) \n",
    "        V_feat = self.lin_V(V)\n",
    "        \n",
    "        #It is important to shape the lower dimension first and then permutate.\n",
    "        #Actually I don't gettit.\n",
    "        Q_split = Q_feat.view(n_batch,-1,self.n_head,self.d_head).permute(0,2,1,3)\n",
    "        K_split = K_feat.view(n_batch,-1,self.n_head,self.d_head).permute(0,2,1,3)\n",
    "        V_split = V_feat.view(n_batch,-1,self.n_head,self.d_head).permute(0,2,1,3)\n",
    "        print(\"K_shape:\",K_split.shape)\n",
    "        d_K = K_split.size()[-1] # shape이 반환하는 tuple 에서 바로 index 접근\n",
    "        #K_split.size()[-1]. .size() method를 불로온 후에 index 접근\n",
    "        \n",
    "        scores = Q_split.matmul(K_split.transpose(-2,-1))/np.sqrt(d_K)\n",
    "        if mask is not None:\n",
    "            scores = scores.masked_fill(mask==0,-1e9)\n",
    "        attention = torch.softmax(scores,dim=-1) #dim=-1 : softmax along dimension -1 \n",
    "        print(\"attention shape:\",attention.shape)\n",
    "        # attention = [n_batch, n_head, n_Q, n_K]\n",
    "        x_raw = torch.matmul(self.dropout(attention),V_split)\n",
    "        # x_raw = [n_batch, n_head,n_Q,d_head]\n",
    "\n",
    "        # Reshape x to operate add and normalization\n",
    "        x_rsh1 = x_raw.permute(0,2,1,3).contiguous() #x_rh1의 객체 id 순서를 dim 1 따라 해줌\n",
    "        # x_rh1 : [n_batch, n_Q, n_head, d_head]\n",
    "        x_rsh2 = x_rsh1.view(n_batch,-1,self.d_feat)\n",
    "        # x_rh2 : [n_batch,n_Q, d_feat]\n",
    "\n",
    "        # Linear\n",
    "        x = self.lin_O(x_rsh2)\n",
    "        # x:[n_batch, n_Q, d_feat]\n",
    "\n",
    "        out = {'Q_feat':Q_feat,'K_feat':K_feat,'V_feat':V_feat,\n",
    "               'Q_split':Q_split,'K_split':K_split,'V_split':V_split,\n",
    "               'scores':scores,'attention':attention,\n",
    "               'x_raw':x_raw,'x_rsh1':x_rsh1,'x_rsh2':x_rsh2,'x':x} # x is the output of MHA\n",
    "        return out\n"
   ]
  },
  {
   "cell_type": "code",
   "execution_count": 91,
   "metadata": {},
   "outputs": [
    {
     "name": "stdout",
     "output_type": "stream",
     "text": [
      "K_shape: torch.Size([128, 5, 32, 40])\n",
      "attention shape: torch.Size([128, 5, 32, 32])\n"
     ]
    }
   ],
   "source": [
    "# Self-Attention Layer\n",
    "n_batch = 128\n",
    "n_src   = 32\n",
    "d_feat  = 200\n",
    "n_head  = 5\n",
    "src = torch.rand(n_batch,n_src,d_feat)\n",
    "self_attention = MHA(\n",
    "    d_feat=d_feat,n_head=n_head,actv=F.relu,USE_BIAS=True,dropout_p=0.1)\n",
    "out = self_attention.forward(src,src,src,mask=None)\n"
   ]
  },
  {
   "cell_type": "markdown",
   "metadata": {},
   "source": [
    "## Positional Embedding\n",
    "$PE(pos,2i) = \\sin(pos/10000^{2i/d_{model}})$\n",
    "\n",
    "$PE(pos,2i+1) = \\cos(pos/10000^{2i/d_{model}})$\n",
    "\n",
    "- For each sequences, identical PE can be used by broadcasting within each sequence"
   ]
  },
  {
   "cell_type": "markdown",
   "metadata": {},
   "source": [
    "### Vanila PE"
   ]
  },
  {
   "cell_type": "code",
   "execution_count": 81,
   "metadata": {},
   "outputs": [
    {
     "data": {
      "text/plain": [
       "tensor([[[ 0.0000,  1.0000,  0.0000,  1.0000,  0.0000,  1.0000],\n",
       "         [ 0.8415,  0.5403,  0.4477,  0.8942,  0.2138,  0.9769],\n",
       "         [ 0.9093, -0.4161,  0.8006,  0.5992,  0.4177,  0.9086],\n",
       "         [ 0.1411, -0.9900,  0.9841,  0.1774,  0.6023,  0.7983],\n",
       "         [-0.7568, -0.6536,  0.9594, -0.2820,  0.7590,  0.6511]]],\n",
       "       dtype=torch.float64)"
      ]
     },
     "execution_count": 81,
     "metadata": {},
     "output_type": "execute_result"
    }
   ],
   "source": [
    "import numpy as np\n",
    "import math\n",
    "# Basic method\n",
    "\n",
    "def gen_pe(max_length, d_model, n):\n",
    "\n",
    "    # empty matrix\n",
    "    pe = np.zeros(max_length*d_model).reshape(max_length,d_model)\n",
    "\n",
    "    # for each position\n",
    "    for k in np.arange(max_length):\n",
    "\n",
    "        #for each dimension\n",
    "        for i in np.arange(d_model//2):\n",
    "            theta = k / n**((2*i)/d_model)\n",
    "\n",
    "            pe[k,2*i] = math.sin(theta)\n",
    "            pe[k,2*i+1] = math.cos(theta)\n",
    "    pe = torch.tensor(pe).unsqueeze(0)\n",
    "    return pe\n",
    "\n",
    "max_lenth = 10\n",
    "n = 10\n",
    "d_model = 6\n",
    "\n",
    "positions = gen_pe(max_lenth, d_model, n)\n",
    "positions[:,:5] # first dimention is for batch."
   ]
  },
  {
   "cell_type": "markdown",
   "metadata": {},
   "source": [
    "### Pytorch Efficient PE"
   ]
  },
  {
   "cell_type": "markdown",
   "metadata": {},
   "source": [
    "#### Since basic function consists double loop, not efficient.\n",
    "\n",
    "divisor tranforms as following :\n",
    "\n",
    "$\\frac{1}{n^{\\frac{2i}{d_{model}}}} = n^{-\\frac{2i}{d_model}}=\\exp^{\\log(n^{-\\frac{2i}{d_{model}}})}=\\exp^{-\\frac{2i}{d_{model}}\\log(n)}=\\exp^{-\\frac{2i \\log(n)}{d_{model}}}$"
   ]
  },
  {
   "cell_type": "code",
   "execution_count": 82,
   "metadata": {},
   "outputs": [
    {
     "data": {
      "text/plain": [
       "tensor([1.0000, 0.1000])"
      ]
     },
     "execution_count": 82,
     "metadata": {},
     "output_type": "execute_result"
    }
   ],
   "source": [
    "d_model = 4 #d_model/2 == range if i \n",
    "n = 100\n",
    "div_term = torch.exp(torch.arange(0,d_model,2)*-(math.log(n)/d_model))\n",
    "#torch.arange(0,d_model,2) = 0, 2, 4 , ... , 2i\n",
    "div_term"
   ]
  },
  {
   "cell_type": "code",
   "execution_count": 83,
   "metadata": {},
   "outputs": [
    {
     "data": {
      "text/plain": [
       "tensor([[0],\n",
       "        [1],\n",
       "        [2],\n",
       "        [3],\n",
       "        [4],\n",
       "        [5],\n",
       "        [6],\n",
       "        [7],\n",
       "        [8],\n",
       "        [9]])"
      ]
     },
     "execution_count": 83,
     "metadata": {},
     "output_type": "execute_result"
    }
   ],
   "source": [
    "# generating K\n",
    "\n",
    "max_lenth = 10 #K\n",
    "k = torch.arange(max_lenth).reshape(-1,1)\n",
    "k"
   ]
  },
  {
   "cell_type": "code",
   "execution_count": 84,
   "metadata": {},
   "outputs": [
    {
     "data": {
      "text/plain": [
       "tensor([[[ 0.0000,  1.0000,  0.0000,  1.0000],\n",
       "         [ 0.8415,  0.5403,  0.0998,  0.9950],\n",
       "         [ 0.9093, -0.4161,  0.1987,  0.9801],\n",
       "         [ 0.1411, -0.9900,  0.2955,  0.9553],\n",
       "         [-0.7568, -0.6536,  0.3894,  0.9211],\n",
       "         [-0.9589,  0.2837,  0.4794,  0.8776],\n",
       "         [-0.2794,  0.9602,  0.5646,  0.8253],\n",
       "         [ 0.6570,  0.7539,  0.6442,  0.7648],\n",
       "         [ 0.9894, -0.1455,  0.7174,  0.6967],\n",
       "         [ 0.4121, -0.9111,  0.7833,  0.6216]]])"
      ]
     },
     "execution_count": 84,
     "metadata": {},
     "output_type": "execute_result"
    }
   ],
   "source": [
    "pe = torch.zeros(max_length,d_model)\n",
    "pe[:,::2] = torch.sin(k*div_term)\n",
    "pe[:,1::2] = torch.cos(k*div_term)\n",
    "\n",
    "pe = pe.unsqueeze(0) # addtional dimension for broadcasting\n",
    "pe"
   ]
  },
  {
   "cell_type": "markdown",
   "metadata": {},
   "source": [
    "### Dropout \n",
    "-  helps with regularization and prevents neurons from co-adapting (overrelying on each other) ."
   ]
  },
  {
   "cell_type": "code",
   "execution_count": 85,
   "metadata": {},
   "outputs": [],
   "source": [
    "class PositionalEncoding(nn.Module):\n",
    "    def __init__(self, d_model : int, dropout : float = 0.1, max_length: int =5000):\n",
    "        super(PositionalEncoding,self).__init__()\n",
    "        self.dropout = nn.Dropout(p=dropout)\n",
    "        \n",
    "        pe = torch.zeros(max_length,d_model)\n",
    "\n",
    "        k = torch.arange(max_length).unsqueeze(1)\n",
    "        div_term = torch.exp(torch.arange(0,d_model,2)*-math.log(n)/d_model)\n",
    "\n",
    "        pe[:,0::2] = torch.sin(k*div_term)\n",
    "        pe[:,1::2] = torch.cos(k*div_term)\n",
    "\n",
    "        pe = pe.unsqueeze(0)\n",
    "\n",
    "        self.register_buffer(\"pe\",pe) # save in state_dit but not a model parameter to train\n",
    "\n",
    "    def forward(self, x):\n",
    "        x = x + self.pe[:,:x.size(1)].requires_grad_(False)\n",
    "        #.requires_grad(False) # x.size(1) = sequence x's length\n",
    "\n",
    "        return self.dropout(x)"
   ]
  },
  {
   "cell_type": "code",
   "execution_count": 86,
   "metadata": {},
   "outputs": [
    {
     "data": {
      "text/plain": [
       "OrderedDict([('pe',\n",
       "              tensor([[[ 0.0000,  1.0000,  0.0000,  1.0000],\n",
       "                       [ 0.8415,  0.5403,  0.0998,  0.9950],\n",
       "                       [ 0.9093, -0.4161,  0.1987,  0.9801],\n",
       "                       [ 0.1411, -0.9900,  0.2955,  0.9553],\n",
       "                       [-0.7568, -0.6536,  0.3894,  0.9211],\n",
       "                       [-0.9589,  0.2837,  0.4794,  0.8776],\n",
       "                       [-0.2794,  0.9602,  0.5646,  0.8253],\n",
       "                       [ 0.6570,  0.7539,  0.6442,  0.7648],\n",
       "                       [ 0.9894, -0.1455,  0.7174,  0.6967],\n",
       "                       [ 0.4121, -0.9111,  0.7833,  0.6216]]]))])"
      ]
     },
     "execution_count": 86,
     "metadata": {},
     "output_type": "execute_result"
    }
   ],
   "source": [
    "d_model = 4\n",
    "max_length = 10\n",
    "dropout = 0.0\n",
    "\n",
    "# create the positional encoding matrix\n",
    "pe = PositionalEncoding(d_model, dropout, max_length)\n",
    "\n",
    "# preview the values\n",
    "pe.state_dict()\n",
    "# pe.pe"
   ]
  },
  {
   "cell_type": "markdown",
   "metadata": {},
   "source": [
    "#### Display attension"
   ]
  },
  {
   "cell_type": "code",
   "execution_count": 106,
   "metadata": {},
   "outputs": [],
   "source": [
    "def display_attention(attention, \n",
    "                      n_heads: int = 8, n_rows: int = 4, n_cols: int = 2):\n",
    "  \"\"\"\n",
    "    Display the attention matrix for each head of a sequence.\n",
    "\n",
    "    Args:\n",
    "        sentence:     German sentence to be translated to English; list\n",
    "        translation:  English sentence predicted by the model\n",
    "        attention:    attention scores for the heads\n",
    "        n_heads:      number of heads\n",
    "        n_rows:       number of rows\n",
    "        n_cols:       number of columns\n",
    "  \"\"\"\n",
    "  # ensure the number of rows and columns are equal to the number of heads\n",
    "  assert n_rows * n_cols == n_heads\n",
    "    \n",
    "  # figure size\n",
    "  fig = plt.figure(figsize=(15,20))\n",
    "    \n",
    "  # visualize each head\n",
    "  for i in range(n_heads):\n",
    "        \n",
    "    # create a plot\n",
    "    ax = fig.add_subplot(n_rows, n_cols, i+1)\n",
    "    \n",
    "    # select the respective head and make it a numpy array for plotting\n",
    "    _attention = attention.squeeze(0)[i,:,:].cpu().detach().numpy()\n",
    "    \n",
    "\n",
    "    # plot the matrix\n",
    "    cax = ax.matshow(_attention, cmap='bone')\n",
    "\n",
    "    # set the size of the labels\n",
    "    ax.tick_params(labelsize=12)\n",
    "\n",
    "    # set the indices for the tick marks\n",
    "    # ax.set_xticks(range(len(sentence)))?\n",
    "    # ax.set_yticks(range(len(translation)))\n",
    "\n",
    "    # ax.set_xticklabels(sentence)\n",
    "    # ax.set_yticklabels(translation)\n",
    "\n",
    "  plt.show()"
   ]
  },
  {
   "cell_type": "code",
   "execution_count": 107,
   "metadata": {},
   "outputs": [
    {
     "data": {
      "image/png": "[encoded data removed]",
      "text/plain": [
       "<Figure size 1500x2000 with 3 Axes>"
      ]
     },
     "metadata": {},
     "output_type": "display_data"
    }
   ],
   "source": [
    "display_attention(out['attention'][0],n_heads=3,n_rows=1,n_cols=3)"
   ]
  },
  {
   "cell_type": "markdown",
   "metadata": {},
   "source": [
    "## Feed Forward"
   ]
  },
  {
   "cell_type": "code",
   "execution_count": null,
   "metadata": {},
   "outputs": [],
   "source": []
  },
  {
   "cell_type": "markdown",
   "metadata": {},
   "source": [
    "# Whole procedure"
   ]
  },
  {
   "cell_type": "code",
   "execution_count": 94,
   "metadata": {},
   "outputs": [
    {
     "name": "stdout",
     "output_type": "stream",
     "text": [
      "torch.Size([3, 10, 4])\n",
      "K_shape: torch.Size([3, 4, 10, 1])\n",
      "attention shape: torch.Size([3, 4, 10, 10])\n"
     ]
    }
   ],
   "source": [
    "d_model = 4 #dim of embeddings\n",
    "max_length = 10 # sequence max length\n",
    "dropout = 0.1\n",
    "n = 3 # batch\n",
    "\n",
    "# embedded data\n",
    "x = torch.rand((n,max_length,d_model))\n",
    "\n",
    "# create the positional encoding matrix\n",
    "pe = PositionalEncoding(d_model, dropout, max_length)\n",
    "\n",
    "# add pe to x\n",
    "x = pe.forward(x)\n",
    "\n",
    "# attention block\n",
    "attention = MHA(d_feat = d_model, n_head = 4, actv=F.relu,USE_BIAS=True,dropout_p=0.1)\n",
    "out = attention.forward(x,x,x,mask=None) # Q,K,V as x\n"
   ]
  },
  {
   "cell_type": "code",
   "execution_count": null,
   "metadata": {},
   "outputs": [],
   "source": []
  }
 ],
 "metadata": {
  "kernelspec": {
   "display_name": "study",
   "language": "python",
   "name": "python3"
  },
  "language_info": {
   "codemirror_mode": {
    "name": "ipython",
    "version": 3
   },
   "file_extension": ".py",
   "mimetype": "text/x-python",
   "name": "python",
   "nbconvert_exporter": "python",
   "pygments_lexer": "ipython3",
   "version": "3.12.4"
  }
 },
 "nbformat": 4,
 "nbformat_minor": 2
}
