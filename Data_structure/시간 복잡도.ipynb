{
 "cells": [
  {
   "cell_type": "markdown",
   "metadata": {
    "collapsed": true
   },
   "source": [
    "## 알고리즘 복잡도 표현 방법"
   ]
  },
  {
   "cell_type": "markdown",
   "metadata": {},
   "source": [
    "### 1. 알고리즘 복잡도 계산이 필요한 이유\n",
    "#### 하나의 문제를 푸는 알고리즘은 다양할 수 있음\n",
    "  - 정수의 절대값 구하기\n",
    "    - 1, -1 ->> 1\n",
    "    - 방법1: 정수값을 제곱한 값에 다시 루트를 씌우기\n",
    "    - 방법2: 정수가 음수인지 확인해서, 음수일 때만, -1을 곱하기\n",
    "\n",
    "> 다양한 알고리즘 중 어느 알고리즘이 더 좋은지를 분석하기 위해, 복잡도를 정의하고 계산함"
   ]
  },
  {
   "cell_type": "markdown",
   "metadata": {},
   "source": [
    "### 2. 알고리즘 복잡도 계산 항목\n",
    "1. **시간 복잡도**: 알고리즘 실행 속도\n",
    "2. **공간 복잡도**: 알고리즘이 사용하는 메모리 사이즈\n",
    "\n",
    "> 가장 중요한 시간 복잡도를 꼭 이해하고 계산할 수 있어야 함"
   ]
  },
  {
   "cell_type": "markdown",
   "metadata": {},
   "source": [
    "### 알고리즘 시간 복잡도의 주요 요소\n",
    "\n",
    "> __반복문__"
   ]
  },
  {
   "cell_type": "markdown",
   "metadata": {},
   "source": [
    "### 알고리즘 성능 표기법\n",
    "- Big O (빅-오) 표기법: O(N)\n",
    "  - 알고리즘 최악의 실행 시간을 표기\n",
    "  - **가장 많이/일반적으로 사용함**\n",
    "  - **아무리 최악의 상황이라도, 이정도의 성능은 보장한다는 의미**\n",
    "\n",
    "- Ω (오메가) 표기법:  Ω(N)\n",
    "  - 오메가 표기법은 알고리즘 최상의 실행 시간을 표기\n",
    "\n",
    "- Θ (세타) 표기법: Θ(N)\n",
    "  - 오메가 표기법은 알고리즘 평균 실행 시간을 표기\n",
    "\n",
    "> 시간 복잡도 계산은 반복문이 핵심 요소임을 인지하고, 계산 표기는 최상, 평균, 최악 중, 최악의 시간인 Big-O 표기법을 중심으로 "
   ]
  },
  {
   "cell_type": "markdown",
   "metadata": {},
   "source": [
    "### 3. 대문자 O 표기법\n",
    "* 빅 오 표기법, Big-O 표기법 이라고도 부름\n",
    "* O(x)\n",
    "  - 입력 n 에 따라 결정되는 시간 복잡도 함수\n",
    "  - O(1), O($log n$), O(n), O(n$log n$), O($n^2$), O($2^n$), O(n!)등으로 표기함\n",
    "  -  n 의 크기에 따라 기하급수적으로 시간 복잡도가 늘어날 수 있음\n",
    "    - O(1) < O($log n$) < O(n) < O(n$log n$) < O($n^2$) < O($2^n$) < O(n!)\n",
    "      - log n 의 베이스는 2 - $log_2 n$\n",
    "\n",
    "* 입력 n에 따른 실행 횟수를 수식화.\n",
    "  - **실행 복잡도 함수의 최고 차원**으로 표기.\n",
    "    -  상수횟수 실행: O(1) \n",
    "       ```python\n",
    "            if n > 10:\n",
    "                 print(n)\n",
    "       ```\n",
    "    - n번, 3n + 10 번등, __n에대한 일차함수__ 만큼 실행: O(n)\n",
    "       ```python\n",
    "            variable = 1\n",
    "            for num in range(3):\n",
    "                for index in range(n):\n",
    "                     print(index)\n",
    "       ```\n",
    "    - $n^2$번, 300$n^2$ + 1번등 __n에대한 2차함수__ 만큼 실행: O($n^2$)\n",
    "       ```python\n",
    "            variable = 1\n",
    "            for i in range(300):\n",
    "                for num in range(n):\n",
    "                    for index in range(n):\n",
    "                         print(index)\n",
    "       ```    \n"
   ]
  },
  {
   "cell_type": "markdown",
   "metadata": {},
   "source": [
    "<img src=\"http://www.fun-coding.org/00_Images/bigo.png\" width=400/>"
   ]
  },
  {
   "cell_type": "markdown",
   "metadata": {},
   "source": [
    "* 빅 오 입력값 표기 예\n",
    "    - 시간 복잡도 함수: 2$n^2$ + 3n\n",
    "      - 빅 오 표기법: O($n^2$)\n"
   ]
  },
  {
   "cell_type": "markdown",
   "metadata": {
    "collapsed": true
   },
   "source": [
    "### 4. 실제 알고리즘을 예로 각 알고리즘의 시간 복잡도와 빅 오 표기법 알아보기"
   ]
  },
  {
   "cell_type": "markdown",
   "metadata": {},
   "source": [
    "### 알고리즘1: 1부터 n까지의 합을 구하는 알고리즘1\n",
    "* 합을 기록할 변수를 만들고 0을 저장\n",
    "* n을 1부터 1씩 증가하면서 반복\n",
    "* 반복문 안에서 합을 기록할 변수에 1씩 증가된 값을 더함\n",
    "* 반복이 끝나면 합을 출력"
   ]
  },
  {
   "cell_type": "code",
   "execution_count": 1,
   "metadata": {},
   "outputs": [],
   "source": [
    "def sum_all(n):\n",
    "    total = 0\n",
    "    for num in range(1, n + 1):\n",
    "        total += num\n",
    "    return total"
   ]
  },
  {
   "cell_type": "code",
   "execution_count": 2,
   "metadata": {},
   "outputs": [
    {
     "data": {
      "text/plain": [
       "5050"
      ]
     },
     "execution_count": 2,
     "metadata": {},
     "output_type": "execute_result"
    }
   ],
   "source": [
    "sum_all(100)"
   ]
  },
  {
   "cell_type": "markdown",
   "metadata": {},
   "source": [
    "### 알고리즘1의 시간 복잡도 \n",
    "* 1부터 n까지의 합을 구하는 알고리즘1\n",
    "  - 시간 복잡도: n, 빅 오 표기법으로는 **O(n)**"
   ]
  },
  {
   "cell_type": "markdown",
   "metadata": {},
   "source": [
    "### 알고리즘2: 1부터 n까지의 합을 구하는 알고리즘2\n",
    "* <font size=5em>$\\frac { n (n + 1) }{ 2 }$</font>\n"
   ]
  },
  {
   "cell_type": "code",
   "execution_count": 5,
   "metadata": {},
   "outputs": [],
   "source": [
    "def sum_all(n):\n",
    "    return int(n * (n + 1) / 2)"
   ]
  },
  {
   "cell_type": "code",
   "execution_count": 6,
   "metadata": {},
   "outputs": [
    {
     "data": {
      "text/plain": [
       "5050"
      ]
     },
     "execution_count": 6,
     "metadata": {},
     "output_type": "execute_result"
    }
   ],
   "source": [
    "sum_all(100)"
   ]
  },
  {
   "cell_type": "markdown",
   "metadata": {},
   "source": [
    "### 알고리즘2의 시간 복잡도 구하기\n",
    "* 1부터 n까지의 합을 구하는 알고리즘2\n",
    "  - 시간 복잡도: 1, 빅 오 표기법으로는 **O(1)**\n"
   ]
  },
  {
   "cell_type": "markdown",
   "metadata": {},
   "source": [
    "### 비고\n",
    "- 알고리즘1 vs 알고리즘2\n",
    "  - O(n) vs O(1)\n",
    "\n",
    "> 이와 같이, 동일한 문제를 푸는 알고리즘은 다양할 수 있음\n",
    "> 어느 알고리즘이 보다 좋은지를 객관적으로 비교하기 위해, 빅 오 표기법등의 시간복잡도 계산법을 사용함"
   ]
  }
 ],
 "metadata": {
  "kernelspec": {
   "display_name": "Python 3.9.1 64-bit",
   "language": "python",
   "name": "python3"
  },
  "language_info": {
   "codemirror_mode": {
    "name": "ipython",
    "version": 3
   },
   "file_extension": ".py",
   "mimetype": "text/x-python",
   "name": "python",
   "nbconvert_exporter": "python",
   "pygments_lexer": "ipython3",
   "version": "3.9.1"
  },
  "nbTranslate": {
   "displayLangs": [
    "*"
   ],
   "hotkey": "alt-t",
   "langInMainMenu": true,
   "sourceLang": "en",
   "targetLang": "fr",
   "useGoogleTranslate": true
  },
  "vscode": {
   "interpreter": {
    "hash": "da2004fe03f436a9a81b9c95e439c4add18d0165a64bc8b11e0efabfe79c313a"
   }
  }
 },
 "nbformat": 4,
 "nbformat_minor": 1
}
