{
 "cells": [
  {
   "cell_type": "markdown",
   "metadata": {},
   "source": [
    "### Hypermarameter Tuning\n",
    "- 최근에는 BOHB 라는, 베이지안 기반 기법이 주도"
   ]
  },
  {
   "cell_type": "markdown",
   "metadata": {},
   "source": [
    "### Ray\n",
    "- multi-node, multi processing 지원 모듈\n",
    "- ML/DL의 병렬 처리를 위해 개발된 모듈\n",
    "- 기본적으로 현재의 분산병렬 ML/DL 모듈의 표준\n",
    "- Hyperparameter Search 를 위한 다양한 모듈 제공\n",
    "- python의 일반적 병렬 처리도 맡기기도 한다."
   ]
  },
  {
   "cell_type": "code",
   "execution_count": 1,
   "metadata": {},
   "outputs": [
    {
     "ename": "SyntaxError",
     "evalue": "invalid syntax (1790472146.py, line 5)",
     "output_type": "error",
     "traceback": [
      "\u001b[1;36m  Input \u001b[1;32mIn [1]\u001b[1;36m\u001b[0m\n\u001b[1;33m    \"l1\": tune.sample_from(lambda_:2**np.random.randint(2,9)),\u001b[0m\n\u001b[1;37m                                  ^\u001b[0m\n\u001b[1;31mSyntaxError\u001b[0m\u001b[1;31m:\u001b[0m invalid syntax\n"
     ]
    }
   ],
   "source": [
    "data_dir = os.path.abspath(\"./data\")\n",
    "load_data(data_dir)\n",
    "# 학습공간 지정, parameter의 범위\n",
    "config = {\n",
    "    # 여기서의 l1, l2는 그냥 마지막 layer에 대한 크기\n",
    "    \"l1\": tune.sample_from(lambda_:2**np.random.randint(2,9)),\n",
    "    \"l2\": tune.sample_from(lambda_:2**np.random.randint(2,9)),\n",
    "    # grid_search\n",
    "    \"l3\": tune.loguniform(1e-4,1e-1),\n",
    "    \"batch_size\": tune.choice([2,4,8,16])\n",
    "    }\n",
    "#ASHA : 의미없다고 판별되는 진행방향의 hypermarameter는 잘라내는 알고리즘\n",
    "schduler = ASHAScheduler(\n",
    "    metric =\"loss\",mode=\"min\", max_t = max_num_epochs, grace_period=1, reduction_factor =2)\n",
    "    #Reporter : 결과를 출력하는 양식\n",
    "    #CLI REPORTER : Command line 에서 출력하는 양식\n",
    "    repoter=CLIReporter(\n",
    "        metric_columns=[\"loss\",\"accuracy\",\"training_iteration\"])\n",
    "\n",
    "# 병렬처리 방식\n",
    "result = tune.run(\n",
    "    # partial: data를 쪼개는 것\n",
    "    # train_cifar : 학습할 때 쓰는 함수 cifar \n",
    "    # 학습과정은 반드시 하나의 함수에 정의되어야 Ray가 불러올 수 있다.\n",
    "    # 즉 데이터 쪼개서 각각 cifar에 넣어서 학습 \n",
    "    partial(train_cifar, data_dir = data_dir),\n",
    "    # 한번 trial 할때  쓸 수있는 cpu와 gpu의 개수\n",
    "    resources_per_trial = {\"cpu\":2,\"gpu\":gpus_per_trial},\n",
    "    # search space\n",
    "    config = config, num_samples = num_samples,\n",
    "    scheduler = schedulerm\n",
    "    progress_reporter = reporter\n",
    ")\n"
   ]
  },
  {
   "cell_type": "code",
   "execution_count": null,
   "metadata": {},
   "outputs": [],
   "source": []
  }
 ],
 "metadata": {
  "kernelspec": {
   "display_name": "Python 3.9.1 64-bit",
   "language": "python",
   "name": "python3"
  },
  "language_info": {
   "codemirror_mode": {
    "name": "ipython",
    "version": 3
   },
   "file_extension": ".py",
   "mimetype": "text/x-python",
   "name": "python",
   "nbconvert_exporter": "python",
   "pygments_lexer": "ipython3",
   "version": "3.9.1"
  },
  "orig_nbformat": 4,
  "vscode": {
   "interpreter": {
    "hash": "da2004fe03f436a9a81b9c95e439c4add18d0165a64bc8b11e0efabfe79c313a"
   }
  }
 },
 "nbformat": 4,
 "nbformat_minor": 2
}
