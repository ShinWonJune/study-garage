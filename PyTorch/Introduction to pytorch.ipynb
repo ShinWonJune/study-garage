{
 "cells": [
  {
   "cell_type": "markdown",
   "metadata": {},
   "source": [
    "### Dynamic Computation Graph_PyTorch\n",
    "- 실행을 하면서 computiaonal graph를 생성하는 방식\n",
    "- Define by Run 이라고도 함\n",
    "- Debug에 유리\n",
    "- 연산 중간값들을 즉시 확인하기 유리. -> pythonic code\n",
    "\n",
    "- #### Numpy + AutoGrad(자동미분) + Function(다양한 DL함수와 모델들 제공)\n",
    "    - Numpy 구조를 가지는 Tensor 객체로 array 표현\n",
    "    - 자동 미분을 지원하여 DL연산 지원\n",
    "    - 다양한 형태의 DL을 지원하는 함수와 모델을 지원함\n",
    "\n",
    "### Define and run_ TensorFlow\n",
    "- CG를 먼저 정의(코드) 후, 실행 시점에 데이터를 feed 함\n",
    "- 실제로 run 해보기 전에는 중간 결과를 확인할 수 없다.\n",
    "- productivity 와 scale에 유리"
   ]
  }
 ],
 "metadata": {
  "kernelspec": {
   "display_name": "Python 3.9.1 64-bit",
   "language": "python",
   "name": "python3"
  },
  "language_info": {
   "name": "python",
   "version": "3.9.1"
  },
  "orig_nbformat": 4,
  "vscode": {
   "interpreter": {
    "hash": "da2004fe03f436a9a81b9c95e439c4add18d0165a64bc8b11e0efabfe79c313a"
   }
  }
 },
 "nbformat": 4,
 "nbformat_minor": 2
}
