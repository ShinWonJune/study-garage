{
 "cells": [
  {
   "cell_type": "markdown",
   "metadata": {},
   "source": [
    "### 개발 초기 단계에서는 대화식 개발 과정이 유리\n",
    "- 학습과정 및 디버깅의 지속적 확인\n",
    "\n",
    "### BUT, 배포 및 공유 단계에서는 notebook 공유의 어려움\n",
    "- 쉬운 재현의 어려움, 실행순서 꼬임\n",
    "\n",
    "### DL 코드도 하나의 프로그램\n",
    "- 개발 용이성 확보와 유지보수 향상 필요\n",
    "\n",
    "# OOP + 모듈 -> 프로젝트\n",
    "#### 다양한 프로젝트 템플릿이 존재함\n",
    "\n"
   ]
  }
 ],
 "metadata": {
  "kernelspec": {
   "display_name": "Python 3.9.1 64-bit",
   "language": "python",
   "name": "python3"
  },
  "language_info": {
   "name": "python",
   "version": "3.9.1"
  },
  "orig_nbformat": 4,
  "vscode": {
   "interpreter": {
    "hash": "da2004fe03f436a9a81b9c95e439c4add18d0165a64bc8b11e0efabfe79c313a"
   }
  }
 },
 "nbformat": 4,
 "nbformat_minor": 2
}
