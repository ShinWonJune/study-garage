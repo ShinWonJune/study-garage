{
 "cells": [
  {
   "cell_type": "markdown",
   "id": "fab53748",
   "metadata": {},
   "source": [
    "### 재귀함수\n",
    "- 자기 자신을 다시 호출하는 함수\n",
    "- Python의 경우, 최대 깊이가 존재하여 알아서 오류를 반환하고 종료함\n",
    "- 문제 풀이에선 종료 조건을 명시해야함"
   ]
  },
  {
   "cell_type": "markdown",
   "id": "e534a7d0",
   "metadata": {},
   "source": [
    "# DFS (Depth-First Search)\n",
    "- 깊이 우선 탐색 ; 깊은 부분을 우선적으로 탐색하는 알고리즘\n",
    "- __스택__ 자료구조 또는 __재귀함수__를 이용\n",
    "- 과정\n",
    "    1. 탐색 시작 노드를 스택에 삽입하고 방문 처리를 함\n",
    "    2. 스택의 최상단 노드에 방문하지 않은 인접한 노드가 하나라도 있으면 그 노드를 스택에 넣고 방문처리한다. <br>방문하지 않은 인접 노드가 없으면 스택에서 최상단 노드를 꺼낸다.\n",
    "    3. 2번의 과정을 더이상 수행할 수 없을 때 가지 반복\n",
    "    - 방문 기준은 다를 수 있다."
   ]
  },
  {
   "cell_type": "markdown",
   "id": "6a812584",
   "metadata": {},
   "source": [
    "####  DFS 예제"
   ]
  },
  {
   "cell_type": "code",
   "execution_count": 4,
   "id": "5d926d83",
   "metadata": {},
   "outputs": [
    {
     "name": "stdout",
     "output_type": "stream",
     "text": [
      "1 2 7 6 8 3 4 5 "
     ]
    }
   ],
   "source": [
    "# DFS 정의\n",
    "# 방문 방식: 숫자(index)가 낮은 node 부터 방문\n",
    "def dfs(graph, v, visited):\n",
    "    # 현재 노드를 방문처리\n",
    "    visited[v] = True\n",
    "    print(v, end = ' ')\n",
    "    # 현재 노드와 연결된 다른 노드를 방문\n",
    "    for i in graph[v]:\n",
    "        # False 라면\n",
    "        if not visited[i]:\n",
    "            dfs(graph, i ,visited)\n",
    "\n",
    "# node number 1 부터 시작하도록 index 0 은 비워둔다.\n",
    "graph = [\n",
    "    [],\n",
    "    [2,3,8],\n",
    "    [1,7],\n",
    "    [1,4,5],\n",
    "    [3,5],\n",
    "    [3,4],\n",
    "    [7],\n",
    "    [2,6,8],\n",
    "    [1,7]\n",
    "] \n",
    "\n",
    "# 각 노드가 방문된 정보를 표현\n",
    "# index 0 이 없는 것을 고려하여, 9 false 임\n",
    "visited = [False]* 9\n",
    "\n",
    "#정의된 DFS 함수 호출\n",
    "dfs(graph, 1, visited)"
   ]
  },
  {
   "cell_type": "markdown",
   "id": "7dd40cc0",
   "metadata": {},
   "source": [
    "# BFS(Breadth-First- Search)\n",
    "- 너비 우선 탐색 : 가까운 노드부터 우선적으로 탐색\n",
    "- __큐__ 자료구조 이용\n",
    "- 과정:\n",
    "    1. 탐색 시작 노드를 큐에 삽입하고 방문 처리를 함\n",
    "    2.  __큐에서 노드를 꺼낸 뒤__ 에 해당 노드의 인접 노드 중에서 방문하지 않은 노드를 모두 큐에 삽입하고 방문 처리함(방문 기준에 따라 삽입).\n",
    "    3. 2번 과정을 반복할 수 없을 때 까지 수행\n",
    "    - 즉, cost가 가장 적은 문제부터 해결, 점진적으로 cost를 늘려가며 해결하는 식"
   ]
  },
  {
   "cell_type": "markdown",
   "id": "6c09adb1",
   "metadata": {},
   "source": [
    "#### BFS 예제"
   ]
  },
  {
   "cell_type": "code",
   "execution_count": 10,
   "id": "81e021e7",
   "metadata": {},
   "outputs": [
    {
     "name": "stdout",
     "output_type": "stream",
     "text": [
      "1 2 3 8 7 4 5 6 "
     ]
    }
   ],
   "source": [
    "from collections import deque\n",
    "\n",
    "#bfs 정의\n",
    "def bfs(graph,start, visited):\n",
    "    queue = deque([start])\n",
    "    \n",
    "    visited[start] = True\n",
    "    \n",
    "    while queue:\n",
    "        # 큐의 가장 첫 원소 뽑아 출력\n",
    "        v = queue.popleft()\n",
    "        print(v, end=' ')\n",
    "        \n",
    "        #방문하지 않은 인접 원소를 큐에 삽입\n",
    "        for i in graph[v]:\n",
    "            if not visited[i]:\n",
    "                queue.append(i)\n",
    "                visited[i] = True\n",
    "    \n",
    "\n",
    "# node number 1 부터 시작하도록 index 0 은 비워둔다.\n",
    "graph = [\n",
    "    [],\n",
    "    [2,3,8],\n",
    "    [1,7],\n",
    "    [1,4,5],\n",
    "    [3,5],\n",
    "    [3,4],\n",
    "    [7],\n",
    "    [2,6,8],\n",
    "    [1,7]\n",
    "] \n",
    "\n",
    "# 각 노드가 방문된 정보를 표현\n",
    "# index 0 이 없는 것을 고려하여, 9 false 임\n",
    "visited = [False]* 9\n",
    "\n",
    "#정의된 DFS 함수 호출\n",
    "bfs(graph, 1, visited)"
   ]
  },
  {
   "cell_type": "markdown",
   "id": "bd856158",
   "metadata": {},
   "source": [
    "## 문제풀기\n",
    "### 음료 얼려 먹기\n",
    "- 첫 줄에 얼음틀의 세로길이 N과 가로길이 M이 주어짐\n",
    "- 두 번째 줄부터 N+1 번째 줄까지 얼음틀의 형태가 주어짐\n",
    "- 구멍이 뚫려있는 부분은  0, 그렇지 않은 부분은 1\n",
    "- 아이스크림 개수를 출력하라\n",
    "<br><br>\n",
    "- 붙어있는 미방문node(0인부분)들 하나당 카운트 하나"
   ]
  },
  {
   "cell_type": "code",
   "execution_count": 2,
   "id": "b060bb7a",
   "metadata": {},
   "outputs": [],
   "source": [
    "# DFS로 특정 노드를 방문하고 연결된 모든 미방문 노드(0)들도 방문\n",
    "\n",
    "def dfs(x,y):\n",
    "    if x<0 or x >= n or y < 0 or y >= m:\n",
    "        return False\n",
    "    \n",
    "    # 현재 노드가 미방문 노드라면, 즉 0이라면\n",
    "    if graph[x][y] == 0:\n",
    "        # 해당 노드를 방문처리, 즉 1로 바꿔줌\n",
    "        graph[x][y] = 1\n",
    "        # 상, 하, 좌 ,우 노드들도 재귀적으로 확인\n",
    "        dfs(x-1,y)\n",
    "        dfs(x,y-1)\n",
    "        dfs(x+1,y)\n",
    "        dfs(x,y+1)\n",
    "        #연결된 node를 전부 방문처리 했다면 True 반환\n",
    "        return True\n",
    "    # 해당 노드가 이미 방문했다면 False 반환\n",
    "    return False"
   ]
  },
  {
   "cell_type": "code",
   "execution_count": 3,
   "id": "335af9b3",
   "metadata": {},
   "outputs": [
    {
     "name": "stdout",
     "output_type": "stream",
     "text": [
      "2\n"
     ]
    }
   ],
   "source": [
    "# 첫 input에 대해\n",
    "n, m = map(int,input().split())\n",
    "\n",
    "# 2번째 ~ N+1번째 input에 대해\n",
    "graph = []\n",
    "for i in range(n):\n",
    "    graph.append(list(map(int,input())))\n",
    "\n",
    "# 모든 노드에 대해 dfs 수행\n",
    "result = 0\n",
    "for i in range(n):\n",
    "    for j in range(m):\n",
    "        # 0인 노드를 찾으면 result +1\n",
    "        # 0인 노드와 연결된 노드는 전부 1이 될 것\n",
    "        if dfs(i,j) == True:\n",
    "            result +=1\n",
    "            \n",
    "print(result)"
   ]
  },
  {
   "cell_type": "markdown",
   "id": "99b34548",
   "metadata": {},
   "source": [
    "### 미로 탈출 문제\n",
    "- (1,1)에서 (n,m)까지 최소 이동 수를 구하라.(시작 최종 노드 개수 포함)\n",
    "- queue 활용\n",
    "- 아예 함수 밖의 주어진 데이터를 변형시키는 기법"
   ]
  },
  {
   "cell_type": "code",
   "execution_count": 26,
   "id": "0d7da23c",
   "metadata": {},
   "outputs": [],
   "source": [
    "from collections import deque\n",
    "\n",
    "def dfs(x,y):\n",
    "    queue = deque()\n",
    "    queue.append((x,y))\n",
    "    \n",
    "    #queue가 빌 때까지 반복\n",
    "    while queue:\n",
    "        x, y = queue.popleft()\n",
    "        for i in range(4):\n",
    "            nx = x + dx[i]\n",
    "            ny = y + dy[i]\n",
    "            \n",
    "            if graph[nx][ny] == 0 :\n",
    "                continue\n",
    "            if nx > n-1 or nx < 0 or ny > m-1 or ny < 0 :\n",
    "                continue\n",
    "            \n",
    "            # 한번 거쳐간 node는 0,1이 아니게되기 때문에 돌아서 가는 루트는 신경 쓸 필요 없다.\n",
    "            if graph[nx][ny] == 1:\n",
    "                graph[nx][ny] = graph[x][y] + 1\n",
    "                queue.append((nx,ny))\n",
    "    \n",
    "    \n",
    "    return graph[n-1][m-1]\n",
    "        "
   ]
  },
  {
   "cell_type": "code",
   "execution_count": 31,
   "id": "989f5154",
   "metadata": {},
   "outputs": [
    {
     "name": "stdout",
     "output_type": "stream",
     "text": [
      "5 6\n",
      "101010\n",
      "111110\n",
      "000001\n",
      "111111\n",
      "111111\n"
     ]
    },
    {
     "data": {
      "text/plain": [
       "1"
      ]
     },
     "execution_count": 31,
     "metadata": {},
     "output_type": "execute_result"
    }
   ],
   "source": [
    "dx = [1,0,0,-1]\n",
    "dy = [0,-1,1,0]\n",
    "n,m = map(int,input().split())\n",
    "graph = []\n",
    "for i in range(n):\n",
    "    graph.append(list(map(int,input())))\n",
    "\n",
    "dfs(0,0)  "
   ]
  },
  {
   "cell_type": "code",
   "execution_count": 21,
   "id": "2d2a7d78",
   "metadata": {},
   "outputs": [
    {
     "ename": "ValueError",
     "evalue": "min() arg is an empty sequence",
     "output_type": "error",
     "traceback": [
      "\u001b[1;31m---------------------------------------------------------------------------\u001b[0m",
      "\u001b[1;31mValueError\u001b[0m                                Traceback (most recent call last)",
      "Input \u001b[1;32mIn [21]\u001b[0m, in \u001b[0;36m<module>\u001b[1;34m\u001b[0m\n\u001b[1;32m----> 1\u001b[0m \u001b[38;5;28;43mmin\u001b[39;49m\u001b[43m(\u001b[49m\u001b[43mmoves\u001b[49m\u001b[43m)\u001b[49m\n",
      "\u001b[1;31mValueError\u001b[0m: min() arg is an empty sequence"
     ]
    }
   ],
   "source": [
    "min(moves)"
   ]
  }
 ],
 "metadata": {
  "kernelspec": {
   "display_name": "Python 3 (ipykernel)",
   "language": "python",
   "name": "python3"
  },
  "language_info": {
   "codemirror_mode": {
    "name": "ipython",
    "version": 3
   },
   "file_extension": ".py",
   "mimetype": "text/x-python",
   "name": "python",
   "nbconvert_exporter": "python",
   "pygments_lexer": "ipython3",
   "version": "3.11.0"
  }
 },
 "nbformat": 4,
 "nbformat_minor": 5
}
