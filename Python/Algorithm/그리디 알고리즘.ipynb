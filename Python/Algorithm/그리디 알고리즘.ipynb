{
 "cells": [
  {
   "cell_type": "markdown",
   "id": "47068e6a",
   "metadata": {},
   "source": [
    "# 그리디 알고리즘\n",
    "- 현재 상황에서, 지금 당장 좋은 것만 고르는 방법\n",
    "- 전체적인 맥락에서, 최적의 해를 보장할 수 없을 때가 많다.\n",
    "- 단, 문제의 의도가 그리디 알고리즘일 경우, 그리디 알고리즘으로 해결했을 때 최적이도록 설계된다. 따라서 그리디 알고리즘을 활용해야하는 상황인지를 추론해야함"
   ]
  },
  {
   "cell_type": "markdown",
   "id": "8c1300ea",
   "metadata": {},
   "source": [
    "## 예제 1\n",
    "- n,k를 공백을 기준으로 구분하여 입력받는다\n",
    "- n이 k로 나누어 떨어지면 , n/=k 수행\n",
    "- n이 k로 나누어 떨어지지 않으면 n -= 1 수행\n",
    "- n이 1이 될 때 까지 최소 수행 횟수 구하라"
   ]
  },
  {
   "cell_type": "markdown",
   "id": "b55a9cff",
   "metadata": {},
   "source": [
    "반드시 주어진 순서대로 알고리즘을 풀 필요는 없다"
   ]
  },
  {
   "cell_type": "code",
   "execution_count": 10,
   "id": "d5a010b2",
   "metadata": {},
   "outputs": [
    {
     "name": "stdout",
     "output_type": "stream",
     "text": [
      "50 3\n",
      "8\n"
     ]
    }
   ],
   "source": [
    "# N, K를 공백을 기준으로 구분하여 입력 받기\n",
    "n, k = map(int,input().split())\n",
    "\n",
    "result = 0\n",
    "\n",
    "while True:\n",
    "    # N이 K로 나누어 떨어지는 수가 될 대까지 빼기\n",
    "    target = (n//k)*k\n",
    "    result += (n - target)\n",
    "    # n = 타겟\n",
    "    n = target\n",
    "    # n < k 일 경우 n-1 번 수행 하면 1 \n",
    "    if n < k :\n",
    "        break\n",
    "    \n",
    "    result += 1\n",
    "    n //= k\n",
    "\n",
    "result += (n-1)\n",
    "print(result)"
   ]
  },
  {
   "cell_type": "markdown",
   "id": "e6605cbc",
   "metadata": {},
   "source": [
    "## 예제2\n",
    "- 공포도 x 인 모험가는 반드시 x 이상으로 구성한 모험가 그룹에 참여\n",
    "- 그룹 수의 최댓값 구하라"
   ]
  },
  {
   "cell_type": "code",
   "execution_count": null,
   "id": "4cbb5e02",
   "metadata": {},
   "outputs": [],
   "source": [
    "#dict로 만든다\n",
    "# least fear rate 인원 수를 lfr로 나눈만큼 group에 추가한다\n",
    "# least fear 수를 위의 나머지로 대신한다.\n",
    "# 2nd lest fear 수 + least_fear 수 를 2nd_least__fear 수 로 나눈다.\n",
    "# 2nd least fear 수를 위의 나머지로 대체한다\n",
    "# ...\n",
    "# till the end"
   ]
  },
  {
   "cell_type": "code",
   "execution_count": 52,
   "id": "6e40447e",
   "metadata": {},
   "outputs": [
    {
     "name": "stdout",
     "output_type": "stream",
     "text": [
      "5\n"
     ]
    },
    {
     "data": {
      "text/plain": [
       "0"
      ]
     },
     "execution_count": 52,
     "metadata": {},
     "output_type": "execute_result"
    }
   ],
   "source": [
    "fear_list = list(map(int,input().split()))\n",
    "fear_list.sort()\n",
    "group_num = 0\n",
    "from collections import Counter\n",
    "from operator import itemgetter\n",
    "counter = dict(Counter(fear_list))\n",
    "counter_len = len(counter)\n",
    "items = list(counter.items()) # dict 에 뭘 하면 key만 적용되기 때문에 item에도 접근하기 위한 조치\n",
    "# key, value 쌍의 튜플로 이루어진 list 반환.\n",
    "leftover = 0\n",
    "for i in range(counter_len):\n",
    "    fear_rate = items[i][0]\n",
    "    counter[fear_rate] += leftover\n",
    "    group_num += counter[fear_rate]//fear_rate\n",
    "    leftover = counter[fear_rate]%fear_rate\n",
    "group_num\n",
    "    \n",
    "# fear_dict = sorted(fear_dict)\n",
    "# fear_dict\n",
    "\n"
   ]
  },
  {
   "cell_type": "markdown",
   "id": "b7f0a0c1",
   "metadata": {},
   "source": [
    "# 구현\n",
    "- 소스코드로 옮기기 어려운 문제\n",
    "- 적절한 라이브러리를 찾아서 사용해야하는 문제\n"
   ]
  },
  {
   "cell_type": "markdown",
   "id": "077bfae0",
   "metadata": {},
   "source": [
    "### 예제1 - inspirated\n",
    "- L,R,U,D 에 따른 좌우상하 좌표이동\n",
    "- 단순하게 각각의 경우에 대해 코딩하지말고 pool을 통해 접근"
   ]
  },
  {
   "cell_type": "code",
   "execution_count": 1,
   "id": "6246fe8d",
   "metadata": {},
   "outputs": [
    {
     "name": "stdout",
     "output_type": "stream",
     "text": [
      "\n"
     ]
    },
    {
     "ename": "ValueError",
     "evalue": "invalid literal for int() with base 10: ''",
     "output_type": "error",
     "traceback": [
      "\u001b[1;31m---------------------------------------------------------------------------\u001b[0m",
      "\u001b[1;31mValueError\u001b[0m                                Traceback (most recent call last)",
      "Input \u001b[1;32mIn [1]\u001b[0m, in \u001b[0;36m<module>\u001b[1;34m\u001b[0m\n\u001b[1;32m----> 1\u001b[0m n \u001b[38;5;241m=\u001b[39m \u001b[38;5;28;43mint\u001b[39;49m\u001b[43m(\u001b[49m\u001b[38;5;28;43minput\u001b[39;49m\u001b[43m(\u001b[49m\u001b[43m)\u001b[49m\u001b[43m)\u001b[49m\n\u001b[0;32m      2\u001b[0m x,y \u001b[38;5;241m=\u001b[39m \u001b[38;5;241m1\u001b[39m,\u001b[38;5;241m1\u001b[39m\n\u001b[0;32m      3\u001b[0m plans \u001b[38;5;241m=\u001b[39m \u001b[38;5;28minput\u001b[39m()\u001b[38;5;241m.\u001b[39msplit()\n",
      "\u001b[1;31mValueError\u001b[0m: invalid literal for int() with base 10: ''"
     ]
    }
   ],
   "source": [
    "n = int(input())\n",
    "x,y = 1,1\n",
    "plans = input().split()\n",
    "\n",
    "#L,R,U,D에 따른 이동 설계\n",
    "moves = ['L','R','U','D']\n",
    "dy = [0,0,-1,1]\n",
    "dx = [-1,1,0,0]\n",
    "\n",
    "#이동계획 확인\n",
    "for plan in plans:\n",
    "    # 이동 후 좌표 구하기\n",
    "    for i in range(len(moves)):\n",
    "        if plan == moves[i]:\n",
    "            new_x = x + dx[i] #new_x를 따로 초기화 해주지 않고 생성 가능.\n",
    "            new_y = y + dy[i]\n"
   ]
  },
  {
   "cell_type": "markdown",
   "id": "2a8bceaf",
   "metadata": {},
   "source": [
    "## 완전탐색(Brute forcing)\n",
    "- 1초에 2000만번 연산 가능\n",
    "- 2000만번 미만의 연산은 1초안에 가능\n",
    "\n",
    "### 시간 문제\n",
    "- 00시 00분 00초 부터 N시 59분 59초 까지의 모든 시각 중 3이 하나라도 포함되는 경우의 수를 출력"
   ]
  },
  {
   "cell_type": "code",
   "execution_count": 2,
   "id": "a60fc876",
   "metadata": {},
   "outputs": [
    {
     "ename": "SyntaxError",
     "evalue": "invalid syntax (3776002615.py, line 1)",
     "output_type": "error",
     "traceback": [
      "\u001b[1;36m  Input \u001b[1;32mIn [2]\u001b[1;36m\u001b[0m\n\u001b[1;33m    if n in [3,13,23]\u001b[0m\n\u001b[1;37m                     ^\u001b[0m\n\u001b[1;31mSyntaxError\u001b[0m\u001b[1;31m:\u001b[0m invalid syntax\n"
     ]
    }
   ],
   "source": [
    "# 조합 활용\n",
    "from itertools import product\n",
    "count=0\n",
    "n =int(input())\n",
    "if n in [3,13,23]:\n",
    "    count = list(product(range(60),repeat = 2))\n",
    "    \n",
    "else:\n",
    "   "
   ]
  },
  {
   "cell_type": "code",
   "execution_count": 4,
   "id": "9c4168bf",
   "metadata": {},
   "outputs": [
    {
     "name": "stdout",
     "output_type": "stream",
     "text": [
      "9\n",
      "17775\n"
     ]
    }
   ],
   "source": [
    "# 완전탐색\n",
    "\n",
    "h = int(input())\n",
    "\n",
    "count = 0\n",
    "for i in range(h+1):\n",
    "    for j in range(60):\n",
    "        for k in range(60):\n",
    "            if '3' in str(i) + str(j) + str(k):\n",
    "                count +=1\n",
    "print(count)\n",
    "                "
   ]
  },
  {
   "cell_type": "markdown",
   "id": "6b71ba40",
   "metadata": {},
   "source": [
    "### 나이트 문제\n",
    "- 나이트의 위치가 주어졌을 때, 이동 가능한 경우의 수를 구하라\n",
    "- 행은 `1~8`, 열은 `a~h`로 주어진다\n",
    "- 행렬로 좌표이동 표현하기"
   ]
  },
  {
   "cell_type": "code",
   "execution_count": 7,
   "id": "51bf9bd8",
   "metadata": {
    "scrolled": true
   },
   "outputs": [
    {
     "name": "stdout",
     "output_type": "stream",
     "text": [
      "g8\n"
     ]
    },
    {
     "data": {
      "text/plain": [
       "7"
      ]
     },
     "execution_count": 7,
     "metadata": {},
     "output_type": "execute_result"
    }
   ],
   "source": [
    "location = input()\n",
    "x = location[0]\n",
    "y = location[1]\n",
    "x_int = ord(x)-(ord('a'))+1\n",
    "\n"
   ]
  },
  {
   "cell_type": "markdown",
   "id": "782a8068",
   "metadata": {},
   "source": [
    "### 문자열 재정렬\n",
    "- 입력된 문자열&숫자에 대해, 문자열을 오름차순으로 정렬하고, 숫자는 다 더해서 붙여서 출력하라\n",
    "- append('str') : 'str'이 하나의 value로 list에 추가\n",
    "- extend('str') : 's','t','r' 각각 value로 list에 추가\n",
    "- ..join(list) : list value를 붙여서 출력하기"
   ]
  },
  {
   "cell_type": "code",
   "execution_count": 13,
   "id": "b3e60547",
   "metadata": {},
   "outputs": [
    {
     "name": "stdout",
     "output_type": "stream",
     "text": [
      "z5hj6l1kl5h\n",
      "hhjkllz17\n"
     ]
    }
   ],
   "source": [
    "S = input()\n",
    "alpah = []\n",
    "num = 0\n",
    "answer = []\n",
    "for i in S:\n",
    "    if i.isalpha():\n",
    "        alpah.append(i)\n",
    "    else:\n",
    "        num += int(i)\n",
    "alpah.sort()\n",
    "answer = ''\n",
    "for j in alpah:\n",
    "    answer += j\n",
    "answer+= str(num)\n",
    "print(answer)\n",
    "        "
   ]
  }
 ],
 "metadata": {
  "kernelspec": {
   "display_name": "Python 3 (ipykernel)",
   "language": "python",
   "name": "python3"
  },
  "language_info": {
   "codemirror_mode": {
    "name": "ipython",
    "version": 3
   },
   "file_extension": ".py",
   "mimetype": "text/x-python",
   "name": "python",
   "nbconvert_exporter": "python",
   "pygments_lexer": "ipython3",
   "version": "3.11.0"
  }
 },
 "nbformat": 4,
 "nbformat_minor": 5
}
