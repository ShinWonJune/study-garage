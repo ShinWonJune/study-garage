{
 "cells": [
  {
   "cell_type": "markdown",
   "id": "6e5a9ef6",
   "metadata": {},
   "source": [
    "# 동적 프로그래밍\n",
    "- 이미 계산된 결과(또는 작은 문제)는 별도의 메모리 영역에 저장하여 다시 계산하지 않고 필요할 때 꺼내 쓰도록 함\n",
    "- 메모리를 적절히 사용하여 수행 시간 효율성을 비약적으로 향상시키는 방법\n",
    "- 탑다운과 보텀업으로 구성됨\n",
    "\n",
    "##### Note\n",
    "- 일반적 프로그래밍 분야의 __동적__ 이란, 프로그램이 실행되는 도중.. 의 뜻.\n",
    "    - 자료구조에서의 동적할당: 프로그램이 실행되는 도중에 실행에 필요한 메모리를 할당하는 기법\n",
    "    \n",
    "_- 그러나 알고리즘의 동적 프로그래밍의 동적은 큰 의미 없이 사용된 단어다._\n",
    "\n",
    "### 사용 조건(둘다 만족해야함)\n",
    "1. 최적 부분 구조(Optimal Substructure)\n",
    "    - 큰 문제를 작은 문제로 나눌 수 있으며 작은 문제의 답을 모아서 큰 문제를 해결 할 수 있는 구조.\n",
    "    \n",
    "    \n",
    "2. 중복되는 부분 문제(Overlapping Subproblem)\n",
    "    - 동일한 작은 문제를 반복적으로 해결할 수 있는 구조\n",
    "    \n",
    "- 예) 피보나치 수열 a3 = a1 + a2\n",
    "    - 뒷단의 수열은 앞단의 수열들의 연산으로 이루어짐.. __조건1__\n",
    "    - 단순 재귀적 함수로는 같은 연산을 반복적으로 수행.. __조건2__\n",
    "        - a30 을 위해서는 10억 가량의 연산 필요..\n",
    "        - 시간 복잡도 $O(N^2)$\n",
    "    - 동적 프로그래밍 사용 조건 만족.\n",
    "    \n",
    "### 구현\n",
    "#### 1. 메모이제이션(Memoization)\n",
    "- 구현 방식 중 Topdown 방식\n",
    "- 한번 계산한 결과를 메모리 공간에 메모한뒤 같은 문제를 호출하면 그대로 결과를 가져옴\n",
    "- 캐싱이라고도 함\n",
    "- 동적 프로그래밍을 넘어, 이전에 계산된 결과를 일시적으로 기록해 놓는다는 넓은 개념."
   ]
  },
  {
   "cell_type": "code",
   "execution_count": 1,
   "id": "1057ced6",
   "metadata": {},
   "outputs": [
    {
     "name": "stdout",
     "output_type": "stream",
     "text": [
      "218922995834555169026\n"
     ]
    }
   ],
   "source": [
    "# Memoization 하기위한 DP리스트\n",
    "d = [0]*100\n",
    "\n",
    "# 피보나치 함수를 재귀 함수로 구현(탑다운 동적 프로그래밍)\n",
    "\n",
    "def fibo(x):\n",
    "    # 종료조건 설정\n",
    "    if x ==1 or x ==2 :\n",
    "        return 1\n",
    "    # 이미 계산 한 적 있는 문제라면 DP리스트에서 꺼내서 반환\n",
    "    if d[x] != 0:\n",
    "        return d[x]\n",
    "    \n",
    "    # 아직 계산 하지 않은 문제라면 점화식에 따라 재귀적으로 피보나치 결과 반환\n",
    "    d[x] = fibo(x-1) + fibo(x-2)\n",
    "    return d[x]\n",
    "print(fibo(99))"
   ]
  },
  {
   "cell_type": "markdown",
   "id": "987484e4",
   "metadata": {},
   "source": [
    "- 메모이제이션을 이용한 피보나치수열의 시간복잡도는 $O(N)$"
   ]
  },
  {
   "cell_type": "markdown",
   "id": "8d7f56a5",
   "metadata": {},
   "source": [
    "#### 2. bottomup 방식의 동적 프로그래밍\n",
    "- target 결과값까지 쌓아가는 방식"
   ]
  },
  {
   "cell_type": "code",
   "execution_count": 3,
   "id": "965b0bf8",
   "metadata": {},
   "outputs": [
    {
     "name": "stdout",
     "output_type": "stream",
     "text": [
      "218922995834555169026\n"
     ]
    }
   ],
   "source": [
    "# DP 테이블\n",
    "d = [0]*100\n",
    "\n",
    "# 첫 두 수열의 값은 일반적이지 않으므로 할당\n",
    "d[1] = 1\n",
    "d[2] = 1\n",
    "n = 99\n",
    "\n",
    "# 반복문으로 피보나치 수열 구현. Bottomup 동적 프로그래밍\n",
    "for i in range(3,n + 1):\n",
    "    d[i] = d[i-1]+d[i-2]\n",
    "\n",
    "print(d[n])"
   ]
  },
  {
   "cell_type": "markdown",
   "id": "f8581d0d",
   "metadata": {},
   "source": [
    "### 분할정복과의 비교\n",
    "- 동적프로그래밍, 분할정복 __둘 다 최적 부분 구조__를 가질 때 사용한다\n",
    "    - 큰 문제를 작은 문제의 답을 모아서 해결할 수 있는 구조\n",
    "- 하지만, 분할정복은 __부분 문제의 중복 구조를 가지지 않는다__.\n",
    "    - 분할 정복 문제는 동일한 문제가 반복적으로 계산되지 않는다.\n",
    "    \n",
    "\n",
    "- 분할 정복에는 퀵 정렬이 있다."
   ]
  },
  {
   "cell_type": "markdown",
   "id": "9222c82c",
   "metadata": {},
   "source": [
    "### 동적 프로그래밍 문제 접근 방법\n",
    "1. 주어진 문제가 동적 프로그래밍 문제인지 파악하는 것이 중요..\n",
    "    - 그리디, 구현, 완전 탐색 등으로 문제 해결이 안된다면 동적 프로그래밍 고려   \n",
    "<br><br>\n",
    "2. 우선 재귀 함수로 비효율적인 완전 탐색 프로그램을 작성한 뒤, <br>작은 문제에서    구한 답이 큰 문제에서 그대로 사용될 수 있으면 코드를 개선하는 방향.."
   ]
  },
  {
   "cell_type": "markdown",
   "id": "ef295b23",
   "metadata": {},
   "source": [
    "### 문제 풀이\n",
    "#### 개미전사\n",
    "- 연달아서 털 수는 없다\n",
    "- 최대 식량을 털어라\n",
    "    - 왼쪽 부터 차례로 식량을 털 때, i번째 식량창고를 털지 안털지의 여부는<br> i-1 까지의 최대 식량과, i-2의 최대식량을 비교하여 결정된다\n",
    "    - $a_i$ = max($a_{i-1},a_{i-2} + k$), where k = i번째 창고 식량\n",
    "   "
   ]
  },
  {
   "cell_type": "code",
   "execution_count": 4,
   "id": "24356978",
   "metadata": {},
   "outputs": [
    {
     "ename": "NameError",
     "evalue": "name 'array' is not defined",
     "output_type": "error",
     "traceback": [
      "\u001b[1;31m---------------------------------------------------------------------------\u001b[0m",
      "\u001b[1;31mNameError\u001b[0m                                 Traceback (most recent call last)",
      "Input \u001b[1;32mIn [4]\u001b[0m, in \u001b[0;36m<module>\u001b[1;34m\u001b[0m\n\u001b[0;32m      2\u001b[0m d \u001b[38;5;241m=\u001b[39m [\u001b[38;5;241m0\u001b[39m]\u001b[38;5;241m*\u001b[39m\u001b[38;5;241m100\u001b[39m\n\u001b[0;32m      4\u001b[0m \u001b[38;5;66;03m# 동적 프로그래밍 bottom up\u001b[39;00m\n\u001b[1;32m----> 5\u001b[0m d[\u001b[38;5;241m0\u001b[39m] \u001b[38;5;241m=\u001b[39m \u001b[43marray\u001b[49m[\u001b[38;5;241m0\u001b[39m]\n\u001b[0;32m      6\u001b[0m d[\u001b[38;5;241m1\u001b[39m] \u001b[38;5;241m=\u001b[39m \u001b[38;5;28mmax\u001b[39m(array[\u001b[38;5;241m0\u001b[39m],array[\u001b[38;5;241m1\u001b[39m])\n\u001b[0;32m      7\u001b[0m \u001b[38;5;28;01mfor\u001b[39;00m i \u001b[38;5;129;01min\u001b[39;00m \u001b[38;5;28mrange\u001b[39m(\u001b[38;5;241m2\u001b[39m,n):\n",
      "\u001b[1;31mNameError\u001b[0m: name 'array' is not defined"
     ]
    }
   ],
   "source": [
    "n = int(input())\n",
    "\n",
    "array = list(map(int,input().split()))\n",
    "# i번째 식량창고 까지의 최대 식량의 양\n",
    "d = [0]*100\n",
    "\n",
    "# 동적 프로그래밍 bottom up\n",
    "d[0] = array[0]\n",
    "d[1] = max(array[0],array[1])\n",
    "for i in range(2,n):\n",
    "    d[i] = max(d[i-1],d[i-2]+array[i])\n",
    "\n",
    "print(d[n-1])"
   ]
  },
  {
   "cell_type": "markdown",
   "id": "0fb61758",
   "metadata": {},
   "source": [
    "### 1로 만들기\n",
    "- 주어진 정수 x에 대하여\n",
    "    1. 5로 나누어떨어지면 5로 나누기\n",
    "    2. 3으로 나누어 떨어지면 3으로 나누기\n",
    "    3. 2로 나누어 떨어지면 2로 나누기\n",
    "    4. x에서 1 빼기\n",
    "    - 연산을 통해 x를 1로 만들 때, 최소 연산 횟수를 구하라\n",
    "    \n",
    "    \n",
    "- 해법\n",
    "    - x-1, x/5, x/3, x/2의 최소연산횟수 중에 최소값을 구해 + 1 한디."
   ]
  },
  {
   "cell_type": "code",
   "execution_count": 5,
   "id": "97881e87",
   "metadata": {},
   "outputs": [
    {
     "name": "stdout",
     "output_type": "stream",
     "text": [
      "1241\n",
      "9\n"
     ]
    }
   ],
   "source": [
    "x = int(input())\n",
    "\n",
    "# 계산을 쌓아올릴 DP테이블\n",
    "d = [0]*30001\n",
    "\n",
    "# bottom up 동적 프로그래밍\n",
    "# 입력 자연수 1,2는 횟수 1로 fix 해준다.\n",
    "for i in range(2,x+1):\n",
    "    # 현재 자연수 i에 대해 -1 해주는 경우\n",
    "    d[i] = d[i - 1] + 1\n",
    "    \n",
    "    #현재 수가 2로 나누어 떨어지는 경우\n",
    "    if i%2 == 0:\n",
    "        d[i] = min(d[i//2],d[i-1]) +  1\n",
    "    # 3의 배수일 경우\n",
    "    if i%3 == 0:\n",
    "        d[i] = min(d[i//3],d[i-1]) +  1\n",
    "    # 5의 배수일 경우\n",
    "    if i%5 == 0:\n",
    "        d[i] = min(d[i//5],d[i-1]) +  1\n",
    "        \n",
    "print(d[x])\n",
    "    "
   ]
  },
  {
   "cell_type": "markdown",
   "id": "bb037eb2",
   "metadata": {},
   "source": [
    "### 효율적인 화폐 구성 문제\n",
    "- N개의 화폐종류로, M원을 최소갯수의 화폐를 사용해 만들어라"
   ]
  },
  {
   "cell_type": "code",
   "execution_count": 34,
   "id": "933daa37",
   "metadata": {},
   "outputs": [
    {
     "ename": "KeyboardInterrupt",
     "evalue": "Interrupted by user",
     "output_type": "error",
     "traceback": [
      "\u001b[1;31m---------------------------------------------------------------------------\u001b[0m",
      "\u001b[1;31mKeyboardInterrupt\u001b[0m                         Traceback (most recent call last)",
      "Input \u001b[1;32mIn [34]\u001b[0m, in \u001b[0;36m<module>\u001b[1;34m\u001b[0m\n\u001b[1;32m----> 1\u001b[0m n,m \u001b[38;5;241m=\u001b[39m \u001b[38;5;28mmap\u001b[39m(\u001b[38;5;28mint\u001b[39m,\u001b[38;5;28;43minput\u001b[39;49m\u001b[43m(\u001b[49m\u001b[43m)\u001b[49m\u001b[38;5;241m.\u001b[39msplit())\n\u001b[0;32m      2\u001b[0m c_type \u001b[38;5;241m=\u001b[39m [\u001b[38;5;241m0\u001b[39m]\u001b[38;5;241m*\u001b[39mn\n\u001b[0;32m      3\u001b[0m \u001b[38;5;28;01mfor\u001b[39;00m i \u001b[38;5;129;01min\u001b[39;00m \u001b[38;5;28mrange\u001b[39m(n):\n",
      "File \u001b[1;32m~\\AppData\\Roaming\\Python\\Python39\\site-packages\\ipykernel\\kernelbase.py:1062\u001b[0m, in \u001b[0;36mKernel.raw_input\u001b[1;34m(self, prompt)\u001b[0m\n\u001b[0;32m   1058\u001b[0m \u001b[38;5;28;01mif\u001b[39;00m \u001b[38;5;129;01mnot\u001b[39;00m \u001b[38;5;28mself\u001b[39m\u001b[38;5;241m.\u001b[39m_allow_stdin:\n\u001b[0;32m   1059\u001b[0m     \u001b[38;5;28;01mraise\u001b[39;00m StdinNotImplementedError(\n\u001b[0;32m   1060\u001b[0m         \u001b[38;5;124m\"\u001b[39m\u001b[38;5;124mraw_input was called, but this frontend does not support input requests.\u001b[39m\u001b[38;5;124m\"\u001b[39m\n\u001b[0;32m   1061\u001b[0m     )\n\u001b[1;32m-> 1062\u001b[0m \u001b[38;5;28;01mreturn\u001b[39;00m \u001b[38;5;28;43mself\u001b[39;49m\u001b[38;5;241;43m.\u001b[39;49m\u001b[43m_input_request\u001b[49m\u001b[43m(\u001b[49m\n\u001b[0;32m   1063\u001b[0m \u001b[43m    \u001b[49m\u001b[38;5;28;43mstr\u001b[39;49m\u001b[43m(\u001b[49m\u001b[43mprompt\u001b[49m\u001b[43m)\u001b[49m\u001b[43m,\u001b[49m\n\u001b[0;32m   1064\u001b[0m \u001b[43m    \u001b[49m\u001b[38;5;28;43mself\u001b[39;49m\u001b[38;5;241;43m.\u001b[39;49m\u001b[43m_parent_ident\u001b[49m\u001b[43m[\u001b[49m\u001b[38;5;124;43m\"\u001b[39;49m\u001b[38;5;124;43mshell\u001b[39;49m\u001b[38;5;124;43m\"\u001b[39;49m\u001b[43m]\u001b[49m\u001b[43m,\u001b[49m\n\u001b[0;32m   1065\u001b[0m \u001b[43m    \u001b[49m\u001b[38;5;28;43mself\u001b[39;49m\u001b[38;5;241;43m.\u001b[39;49m\u001b[43mget_parent\u001b[49m\u001b[43m(\u001b[49m\u001b[38;5;124;43m\"\u001b[39;49m\u001b[38;5;124;43mshell\u001b[39;49m\u001b[38;5;124;43m\"\u001b[39;49m\u001b[43m)\u001b[49m\u001b[43m,\u001b[49m\n\u001b[0;32m   1066\u001b[0m \u001b[43m    \u001b[49m\u001b[43mpassword\u001b[49m\u001b[38;5;241;43m=\u001b[39;49m\u001b[38;5;28;43;01mFalse\u001b[39;49;00m\u001b[43m,\u001b[49m\n\u001b[0;32m   1067\u001b[0m \u001b[43m\u001b[49m\u001b[43m)\u001b[49m\n",
      "File \u001b[1;32m~\\AppData\\Roaming\\Python\\Python39\\site-packages\\ipykernel\\kernelbase.py:1107\u001b[0m, in \u001b[0;36mKernel._input_request\u001b[1;34m(self, prompt, ident, parent, password)\u001b[0m\n\u001b[0;32m   1104\u001b[0m             \u001b[38;5;28;01mbreak\u001b[39;00m\n\u001b[0;32m   1105\u001b[0m \u001b[38;5;28;01mexcept\u001b[39;00m \u001b[38;5;167;01mKeyboardInterrupt\u001b[39;00m:\n\u001b[0;32m   1106\u001b[0m     \u001b[38;5;66;03m# re-raise KeyboardInterrupt, to truncate traceback\u001b[39;00m\n\u001b[1;32m-> 1107\u001b[0m     \u001b[38;5;28;01mraise\u001b[39;00m \u001b[38;5;167;01mKeyboardInterrupt\u001b[39;00m(\u001b[38;5;124m\"\u001b[39m\u001b[38;5;124mInterrupted by user\u001b[39m\u001b[38;5;124m\"\u001b[39m) \u001b[38;5;28;01mfrom\u001b[39;00m \u001b[38;5;28mNone\u001b[39m\n\u001b[0;32m   1108\u001b[0m \u001b[38;5;28;01mexcept\u001b[39;00m \u001b[38;5;167;01mException\u001b[39;00m:\n\u001b[0;32m   1109\u001b[0m     \u001b[38;5;28mself\u001b[39m\u001b[38;5;241m.\u001b[39mlog\u001b[38;5;241m.\u001b[39mwarning(\u001b[38;5;124m\"\u001b[39m\u001b[38;5;124mInvalid Message:\u001b[39m\u001b[38;5;124m\"\u001b[39m, exc_info\u001b[38;5;241m=\u001b[39m\u001b[38;5;28;01mTrue\u001b[39;00m)\n",
      "\u001b[1;31mKeyboardInterrupt\u001b[0m: Interrupted by user"
     ]
    }
   ],
   "source": [
    "n,m = map(int,input().split())\n",
    "c_type = [0]*n\n",
    "for i in range(n):\n",
    "    c_type[i] = int(input())\n",
    "c_type.sort()\n",
    "c_count = [0] * 10000\n",
    "\n",
    "def casher(bill,c_list):\n",
    "    while c_list:\n",
    "        \n",
    "        if bill == 0:\n",
    "            return sum(c_count)\n",
    "        \n",
    "        if max(c_list) <= bill :\n",
    "            max_c = c_list.pop()\n",
    "            c_count[max_c] = bill//max_c\n",
    "            bill -= c_count[max_c]*max_c\n",
    "            casher(bill,c_list)\n",
    "        else:\n",
    "            c_list.pop()\n",
    "    return -1\n",
    "\n",
    "casher(m,c_type)"
   ]
  },
  {
   "cell_type": "code",
   "execution_count": 37,
   "id": "81d4343e",
   "metadata": {},
   "outputs": [
    {
     "name": "stdout",
     "output_type": "stream",
     "text": [
      "2 15\n",
      "3\n",
      "5\n",
      "3\n"
     ]
    }
   ],
   "source": [
    "# bottom up 방식\n",
    "\n",
    "n,m = map(int,input().split())\n",
    "\n",
    "array = []\n",
    "for i in range(n):\n",
    "    array.append(int(input()))\n",
    "\n",
    "    \n",
    "# DP의 index값이 target 금액\\\n",
    "# 계산된 적 없는 금액은 INF(엄청큰) 금액\n",
    "d = [10001]*(m+1)\n",
    "\n",
    "#0원은 0으로 초기화\n",
    "d[0] = 0\n",
    "# 화폐 종류만큼 반복\n",
    "for i in range(n):\n",
    "    # 화폐만큼의 금액부터 지불할 최소 화폐 개수 카운트\n",
    "    # ex). 첫 화폐 3원의 지불 개수는 1개. 3원으로 한번 계싼\n",
    "    for j in range(array[i], m+1):\n",
    "        # j-array[i]금액이 현재 계산 중인 화폐단위로 딱 떨어지게 지불할 수 있다면~ \n",
    "        # j 금액도 딱 떨어지게 지불 할 수 있다.\n",
    "        if d[j-array[i]] != 10001:\n",
    "            # j금액의 최소 화폐 수는, (j-array[i])금액의 지불 화폐 수 + 1\n",
    "            d[j] = min(d[j], d[j - array[i]]+ 1)\n",
    "\n",
    "if d[m] == 10001:\n",
    "    print(-1)\n",
    "\n",
    "else:\n",
    "    print(d[m])"
   ]
  },
  {
   "cell_type": "markdown",
   "id": "a6326326",
   "metadata": {},
   "source": [
    "### 금광문제\n",
    "- 해법 : 오는 경우를 고려해라..! \n",
    "    - 왼쪽 위에서 오는 경우\n",
    "    - 왼쪽 아래에서 오는경우\n",
    "    - 왼쪽에서 오는 경우\n",
    "    \n",
    "    \n",
    "- 가는 쪽을 고려하는데 잘 안풀린다? 반대로, 오는 경우를 생각해보라!\n",
    "    - 가는 방향을 고려하면..\n",
    "        - 경우에 따라 최대가 아닐 수도 있다.\n",
    "    - 하지만 오는 방향을 고려하면\n",
    "        - 각 위치에서의 최대 값을 구할 수 있다.\n",
    " "
   ]
  },
  {
   "cell_type": "markdown",
   "id": "e3ae8f55",
   "metadata": {},
   "source": [
    "`array[i][j]` = i행 j열에 묻힌 금<br>\n",
    "`dp[i][j]` = i행 j열까지의 최대 금<br>\n",
    "`dp[i][j] = array[i][j] + max(dp[i][j-1],dp[i-1][j-1],dp[i+1][j-1])`"
   ]
  },
  {
   "cell_type": "code",
   "execution_count": 64,
   "id": "70611170",
   "metadata": {},
   "outputs": [
    {
     "data": {
      "text/plain": [
       "[1, 2]"
      ]
     },
     "execution_count": 64,
     "metadata": {},
     "output_type": "execute_result"
    }
   ],
   "source": [
    "dp = [1,2,3,4,5\n",
    "    ]\n",
    "dp[0:2]"
   ]
  },
  {
   "cell_type": "code",
   "execution_count": 65,
   "id": "815c435c",
   "metadata": {},
   "outputs": [
    {
     "name": "stdout",
     "output_type": "stream",
     "text": [
      "2\n",
      "3 4\n",
      "1 3 3 2 2 1 4 1 0 6 4 7\n"
     ]
    },
    {
     "ename": "TypeError",
     "evalue": "'builtin_function_or_method' object is not iterable",
     "output_type": "error",
     "traceback": [
      "\u001b[1;31m---------------------------------------------------------------------------\u001b[0m",
      "\u001b[1;31mTypeError\u001b[0m                                 Traceback (most recent call last)",
      "Input \u001b[1;32mIn [65]\u001b[0m, in \u001b[0;36m<module>\u001b[1;34m\u001b[0m\n\u001b[0;32m      2\u001b[0m \u001b[38;5;28;01mfor\u001b[39;00m tc \u001b[38;5;129;01min\u001b[39;00m \u001b[38;5;28mrange\u001b[39m(\u001b[38;5;28mint\u001b[39m(\u001b[38;5;28minput\u001b[39m())):\n\u001b[0;32m      3\u001b[0m     \u001b[38;5;66;03m# 금광 크기\u001b[39;00m\n\u001b[0;32m      4\u001b[0m     n,m \u001b[38;5;241m=\u001b[39m \u001b[38;5;28mmap\u001b[39m(\u001b[38;5;28mint\u001b[39m,\u001b[38;5;28minput\u001b[39m()\u001b[38;5;241m.\u001b[39msplit())\n\u001b[1;32m----> 5\u001b[0m     array \u001b[38;5;241m=\u001b[39m \u001b[38;5;28mlist\u001b[39m(\u001b[38;5;28;43mmap\u001b[39;49m\u001b[43m(\u001b[49m\u001b[38;5;28;43mint\u001b[39;49m\u001b[43m,\u001b[49m\u001b[38;5;28;43minput\u001b[39;49m\u001b[43m(\u001b[49m\u001b[43m)\u001b[49m\u001b[38;5;241;43m.\u001b[39;49m\u001b[43msplit\u001b[49m\u001b[43m)\u001b[49m)\n\u001b[0;32m      6\u001b[0m     \u001b[38;5;66;03m#dp table\u001b[39;00m\n\u001b[0;32m      7\u001b[0m     dp \u001b[38;5;241m=\u001b[39m []\n",
      "\u001b[1;31mTypeError\u001b[0m: 'builtin_function_or_method' object is not iterable"
     ]
    }
   ],
   "source": [
    "# test case입력\n",
    "for tc in range(int(input())):\n",
    "    # 금광 크기\n",
    "    n,m = map(int,input().split())\n",
    "    array = list(map(int,input().split()))\n",
    "    #dp table\n",
    "    dp = []\n",
    "    index = 0\n",
    "    for i in range(n):\n",
    "        # array[index:m]을 append\n",
    "        dp.append(array[index:index + m])\n",
    "        index += m\n",
    "    \n",
    "    # bottom up 동적 프로그래밍\n",
    "    for j in range(1,m):\n",
    "        for i in range(n):\n",
    "            # 왼쪽 위에서 오는 경우\n",
    "            if i == 0:\n",
    "                left_up = 0\n",
    "            else:\n",
    "                left_up = dp[i-1][j-1]\n",
    "            # 왼쪽 아래에서 오는 경우\n",
    "            if i == n-1:\n",
    "                left_down = 0\n",
    "            else:\n",
    "                left_down = dp[i+1][j-1]\n",
    "            left = dp[i][j-1]\n",
    "            \n",
    "            dp[i][j] = max(left,left_up,left_down) + dp[i][j]\n",
    "        result = 0\n",
    "        for i in range(n):\n",
    "            result = max(result,dp[i][j-1])\n",
    "        print(result)"
   ]
  },
  {
   "cell_type": "code",
   "execution_count": 80,
   "id": "eedd1f4e",
   "metadata": {},
   "outputs": [
    {
     "name": "stdout",
     "output_type": "stream",
     "text": [
      "check1 [[0, 0], [0, 0], [0, 0]]\n",
      "check2 1\n",
      "check2 2\n",
      "check1 [[1, 2], [1, 2], [1, 2]]\n",
      "check2 3\n",
      "check2 4\n",
      "check1 [[3, 4], [3, 4], [3, 4]]\n",
      "check2 5\n",
      "check2 6\n"
     ]
    },
    {
     "data": {
      "text/plain": [
       "[[5, 6], [5, 6], [5, 6]]"
      ]
     },
     "execution_count": 80,
     "metadata": {},
     "output_type": "execute_result"
    }
   ],
   "source": [
    "# 곱하기로 복제하면 light copy라서 \n",
    "# 같은거 세개가 중복된거다!!!!!!!!!!!!!!!!!그래서 같이바뀜.\n",
    "mine = [[0]*2]*3 \n",
    "temp = [1,2,3,4,5,6]\n",
    "for j in range(3):\n",
    "        print('check1',mine)\n",
    "        for k in range(2):\n",
    "            mine[j][k] = temp[j*2+k]\n",
    "            print('check2',mine[j][k])\n",
    "mine"
   ]
  },
  {
   "cell_type": "markdown",
   "id": "26321332",
   "metadata": {},
   "source": [
    "### 병사 배치하기 문제"
   ]
  },
  {
   "cell_type": "code",
   "execution_count": null,
   "id": "046cf281",
   "metadata": {},
   "outputs": [],
   "source": [
    "n = int(input())\n",
    "s = list(map(int,input().split()))\n",
    "# 순서 뒤집기\n",
    "s.reverse()\n",
    "\n",
    "dp = [1]*n\n",
    "\n",
    "# 가장 긴, 증가 수열 알고리즘\n",
    "# 병사마다 병사가 속한 최대 길이의 수열을 구한다.\n",
    "for i in range(1,n):\n",
    "    # 앞의 병사들을 쭉 훑는다\n",
    "    for j in range(0,i):\n",
    "        # 앞 병사들이 속한 수열 수 중 가장 긴 수열 + 1 을 택한다.\n",
    "        if array[j] < array[i]:\n",
    "            dp[i] = max(dp[i],dp[j]+1)\n",
    "\n",
    "print(n-max(dp))"
   ]
  }
 ],
 "metadata": {
  "kernelspec": {
   "display_name": "Python 3 (ipykernel)",
   "language": "python",
   "name": "python3"
  },
  "language_info": {
   "codemirror_mode": {
    "name": "ipython",
    "version": 3
   },
   "file_extension": ".py",
   "mimetype": "text/x-python",
   "name": "python",
   "nbconvert_exporter": "python",
   "pygments_lexer": "ipython3",
   "version": "3.9.7"
  }
 },
 "nbformat": 4,
 "nbformat_minor": 5
}
