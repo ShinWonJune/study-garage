{
 "cells": [
  {
   "cell_type": "markdown",
   "metadata": {},
   "source": [
    "### 재귀함수는 끝까지 간다\n",
    "그 길이 최적이 아닐 가능성이 크다."
   ]
  },
  {
   "cell_type": "markdown",
   "metadata": {},
   "source": [
    "### 과거의 step을 queue에 저장해 놓으면 뒤로 갈 수 있다.``"
   ]
  },
  {
   "cell_type": "markdown",
   "metadata": {},
   "source": [
    "### Shallow copy의 element에 append (or mutate) 하면 큰일나. 재할당을 해야해."
   ]
  },
  {
   "cell_type": "code",
   "execution_count": null,
   "metadata": {},
   "outputs": [],
   "source": [
    "t = int(input())\n",
    "# shallow copy!!! changes together!!\n",
    "mine = [[]]*t\n",
    "# mine의 텅빈 list element에 append하면 모든 list element가 같이 바뀐다. Empty list의 shallow copy를 element로 가질때,\n",
    "#  그 element를 변형하면 다같이 바뀐다. 재할당을 하면 됨\n",
    "for i in range(t):\n",
    "    x = 0\n",
    "    n,m = map(int,input().split())\n",
    "    whole = list(map(int,input().split()))\n",
    "    row = [[]]*n\n",
    "    for j in range(n):\n",
    "        for k in range(m):\n",
    "            row[j].append(whole[x]) \n",
    "            x += 1\n",
    "            print(row[j])\n",
    "            if x >= n*m:\n",
    "                continue\n",
    "        print(row)\n",
    "#     mine[i].append(row)\n",
    "    print(\"whole : \",whole)\n",
    "print(mine)"
   ]
  }
 ],
 "metadata": {
  "kernelspec": {
   "display_name": "Python 3",
   "language": "python",
   "name": "python3"
  },
  "language_info": {
   "name": "python",
   "version": "3.9.1"
  }
 },
 "nbformat": 4,
 "nbformat_minor": 2
}
