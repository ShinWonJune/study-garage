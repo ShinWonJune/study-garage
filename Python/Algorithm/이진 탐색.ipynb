{
 "cells": [
  {
   "cell_type": "markdown",
   "id": "48fa918a",
   "metadata": {},
   "source": [
    "## 이진 탐색 알고리즘\n",
    "### 순차탐색\n",
    "- 앞에서 부터 데이터를 하나씩 확인하는 방법\n",
    "- 선택 정렬도 하나의 순차탐색\n",
    "\n",
    "### 이진탐색\n",
    "- 정렬되어 있는 리스트에서, __탐색 범위__를 절반씩 좁혀가며 데이터를 탐색하는 방법\n",
    "    - 탐색범위: 시작점, 끝점, 중간점 지정해줘야함(index로)\n",
    "- 중간점이 타겟 데이터인지, 더 큰지 작은지 고려하여 재귀적으로 탐색\n",
    "\n",
    "\n",
    "- 시간 복잡도: O(logN) "
   ]
  },
  {
   "cell_type": "code",
   "execution_count": 2,
   "id": "dc8528df",
   "metadata": {},
   "outputs": [],
   "source": [
    "# 재귀 함수로 구현\n",
    "\n",
    "def binary_search(array, target, start, end):\n",
    "    if start > end:\n",
    "        return None\n",
    "    mid = (start + end) // 2\n",
    "    # 찾은경우 중간점 index 반환\n",
    "    if array[mid] == target:\n",
    "        return mid\n",
    "    # mid가 target 보다 클 경우, target이 속한 범위에서 다시 탐색\n",
    "    elif array[mid] > target:\n",
    "        return binary_search(array,target,start,mid -1)\n",
    "    # mid가 target 보다 작을 경우, target이 속한 범위에서 다시 탐색\n",
    "    else:\n",
    "        return binary_search(array,target,mid + 1,end)\n",
    "    \n"
   ]
  },
  {
   "cell_type": "code",
   "execution_count": 3,
   "id": "0b587827",
   "metadata": {},
   "outputs": [],
   "source": [
    "# 반복문으로 구현\n",
    "\n",
    "def binary_search(array, target,start,end):\n",
    "    while start <= end:\n",
    "        mid = (start + end)//2\n",
    "        \n",
    "        if array[mid] == target:\n",
    "            return mid\n",
    "        elif array[mid] > target:\n",
    "            end = mid - 1\n",
    "        else:\n",
    "            start = mid + 1\n",
    "    return None\n",
    "        "
   ]
  },
  {
   "cell_type": "markdown",
   "id": "cde62885",
   "metadata": {},
   "source": [
    "## bisect(이진 탐색 라이브러리)\n",
    " 1. bisect_left(array, insert_data)\n",
    "     - 오름차순 정렬 기준으로, insert_data가 삽입 될 가장 작은 index 반환\n",
    " 2. bisect_right(array, insert_data)\n",
    "     - 오름차순 정렬 기준으로, insert_data가 삽일 될 가장 큰 index 반환\n",
    "     \n",
    " - 삽입 됐을 때 기준의 index를 반환한다는 점"
   ]
  },
  {
   "cell_type": "markdown",
   "id": "978929b3",
   "metadata": {},
   "source": [
    "#### 특정 범위에 속하는 데이터  수 구하기"
   ]
  },
  {
   "cell_type": "code",
   "execution_count": 7,
   "id": "df4fd928",
   "metadata": {},
   "outputs": [],
   "source": [
    "from bisect import bisect_left,bisect_right\n",
    "# a is a list\n",
    "def count_by_range(a, left_value,right_value):\n",
    "    right_index = bisect_right(a,right_value)\n",
    "    left_index = bisect_left(a,left_value)\n",
    "    return right_index - left_index"
   ]
  },
  {
   "cell_type": "markdown",
   "id": "b2792456",
   "metadata": {},
   "source": [
    "## 파라메트릭 서치 (Parametric Search)\n",
    "- 최적화 문제를 여러개의 결정문제(예, 아니오)로 바꾸어 해결하는 기법\n",
    "- 이진 탐색을 활용\n",
    "\n",
    "\n",
    "- 주어진 N이 10억,, 이렇게 큰 탐색범위는 떠올려라 __이진탐색__\n",
    "- 점점 최적의 값이 기록될 것."
   ]
  },
  {
   "cell_type": "code",
   "execution_count": 6,
   "id": "2ab38eb3",
   "metadata": {},
   "outputs": [
    {
     "ename": "KeyboardInterrupt",
     "evalue": "Interrupted by user",
     "output_type": "error",
     "traceback": [
      "\u001b[1;31m---------------------------------------------------------------------------\u001b[0m",
      "\u001b[1;31mKeyboardInterrupt\u001b[0m                         Traceback (most recent call last)",
      "Input \u001b[1;32mIn [6]\u001b[0m, in \u001b[0;36m<module>\u001b[1;34m\u001b[0m\n\u001b[0;32m      1\u001b[0m \u001b[38;5;66;03m# 떡 길이 맞추기\u001b[39;00m\n\u001b[1;32m----> 3\u001b[0m n,m \u001b[38;5;241m=\u001b[39m \u001b[38;5;28mlist\u001b[39m(\u001b[38;5;28mmap\u001b[39m(\u001b[38;5;28mint\u001b[39m,\u001b[38;5;28;43minput\u001b[39;49m\u001b[43m(\u001b[49m\u001b[43m)\u001b[49m\u001b[38;5;241m.\u001b[39msplit(\u001b[38;5;124m'\u001b[39m\u001b[38;5;124m \u001b[39m\u001b[38;5;124m'\u001b[39m)))\n\u001b[0;32m      4\u001b[0m array \u001b[38;5;241m=\u001b[39m \u001b[38;5;28mlist\u001b[39m(\u001b[38;5;28mmap\u001b[39m(\u001b[38;5;28mint\u001b[39m,\u001b[38;5;28minput\u001b[39m\u001b[38;5;241m.\u001b[39msplit()))\n\u001b[0;32m      6\u001b[0m start \u001b[38;5;241m=\u001b[39m \u001b[38;5;241m0\u001b[39m\n",
      "File \u001b[1;32m~\\AppData\\Roaming\\Python\\Python39\\site-packages\\ipykernel\\kernelbase.py:1062\u001b[0m, in \u001b[0;36mKernel.raw_input\u001b[1;34m(self, prompt)\u001b[0m\n\u001b[0;32m   1058\u001b[0m \u001b[38;5;28;01mif\u001b[39;00m \u001b[38;5;129;01mnot\u001b[39;00m \u001b[38;5;28mself\u001b[39m\u001b[38;5;241m.\u001b[39m_allow_stdin:\n\u001b[0;32m   1059\u001b[0m     \u001b[38;5;28;01mraise\u001b[39;00m StdinNotImplementedError(\n\u001b[0;32m   1060\u001b[0m         \u001b[38;5;124m\"\u001b[39m\u001b[38;5;124mraw_input was called, but this frontend does not support input requests.\u001b[39m\u001b[38;5;124m\"\u001b[39m\n\u001b[0;32m   1061\u001b[0m     )\n\u001b[1;32m-> 1062\u001b[0m \u001b[38;5;28;01mreturn\u001b[39;00m \u001b[38;5;28;43mself\u001b[39;49m\u001b[38;5;241;43m.\u001b[39;49m\u001b[43m_input_request\u001b[49m\u001b[43m(\u001b[49m\n\u001b[0;32m   1063\u001b[0m \u001b[43m    \u001b[49m\u001b[38;5;28;43mstr\u001b[39;49m\u001b[43m(\u001b[49m\u001b[43mprompt\u001b[49m\u001b[43m)\u001b[49m\u001b[43m,\u001b[49m\n\u001b[0;32m   1064\u001b[0m \u001b[43m    \u001b[49m\u001b[38;5;28;43mself\u001b[39;49m\u001b[38;5;241;43m.\u001b[39;49m\u001b[43m_parent_ident\u001b[49m\u001b[43m[\u001b[49m\u001b[38;5;124;43m\"\u001b[39;49m\u001b[38;5;124;43mshell\u001b[39;49m\u001b[38;5;124;43m\"\u001b[39;49m\u001b[43m]\u001b[49m\u001b[43m,\u001b[49m\n\u001b[0;32m   1065\u001b[0m \u001b[43m    \u001b[49m\u001b[38;5;28;43mself\u001b[39;49m\u001b[38;5;241;43m.\u001b[39;49m\u001b[43mget_parent\u001b[49m\u001b[43m(\u001b[49m\u001b[38;5;124;43m\"\u001b[39;49m\u001b[38;5;124;43mshell\u001b[39;49m\u001b[38;5;124;43m\"\u001b[39;49m\u001b[43m)\u001b[49m\u001b[43m,\u001b[49m\n\u001b[0;32m   1066\u001b[0m \u001b[43m    \u001b[49m\u001b[43mpassword\u001b[49m\u001b[38;5;241;43m=\u001b[39;49m\u001b[38;5;28;43;01mFalse\u001b[39;49;00m\u001b[43m,\u001b[49m\n\u001b[0;32m   1067\u001b[0m \u001b[43m\u001b[49m\u001b[43m)\u001b[49m\n",
      "File \u001b[1;32m~\\AppData\\Roaming\\Python\\Python39\\site-packages\\ipykernel\\kernelbase.py:1107\u001b[0m, in \u001b[0;36mKernel._input_request\u001b[1;34m(self, prompt, ident, parent, password)\u001b[0m\n\u001b[0;32m   1104\u001b[0m             \u001b[38;5;28;01mbreak\u001b[39;00m\n\u001b[0;32m   1105\u001b[0m \u001b[38;5;28;01mexcept\u001b[39;00m \u001b[38;5;167;01mKeyboardInterrupt\u001b[39;00m:\n\u001b[0;32m   1106\u001b[0m     \u001b[38;5;66;03m# re-raise KeyboardInterrupt, to truncate traceback\u001b[39;00m\n\u001b[1;32m-> 1107\u001b[0m     \u001b[38;5;28;01mraise\u001b[39;00m \u001b[38;5;167;01mKeyboardInterrupt\u001b[39;00m(\u001b[38;5;124m\"\u001b[39m\u001b[38;5;124mInterrupted by user\u001b[39m\u001b[38;5;124m\"\u001b[39m) \u001b[38;5;28;01mfrom\u001b[39;00m \u001b[38;5;28mNone\u001b[39m\n\u001b[0;32m   1108\u001b[0m \u001b[38;5;28;01mexcept\u001b[39;00m \u001b[38;5;167;01mException\u001b[39;00m:\n\u001b[0;32m   1109\u001b[0m     \u001b[38;5;28mself\u001b[39m\u001b[38;5;241m.\u001b[39mlog\u001b[38;5;241m.\u001b[39mwarning(\u001b[38;5;124m\"\u001b[39m\u001b[38;5;124mInvalid Message:\u001b[39m\u001b[38;5;124m\"\u001b[39m, exc_info\u001b[38;5;241m=\u001b[39m\u001b[38;5;28;01mTrue\u001b[39;00m)\n",
      "\u001b[1;31mKeyboardInterrupt\u001b[0m: Interrupted by user"
     ]
    }
   ],
   "source": [
    "# 떡 길이 맞추기\n",
    "\n",
    "n,m = list(map(int,input().split(' ')))\n",
    "array = list(map(int,input.split()))\n",
    "\n",
    "start = 0\n",
    "end = max(array)\n",
    "\n",
    "result = 0\n",
    "while(start <= end):\n",
    "    total = 0\n",
    "    mid = (start + end) //2\n",
    "    for x in array:\n",
    "        # 자른 떡의 양 계산\n",
    "        if x > mid:\n",
    "            total += x - mid\n",
    "    \n",
    "    # 떡의 양이 부족하다\n",
    "    if total < m:\n",
    "        end = mid - 1\n",
    "        \n",
    "    # 떡의 양이 같거나 많다.\n",
    "    else:\n",
    "        # 기록한다. 점점 최적의 mid 값이 기록될것.\n",
    "        result = mid\n",
    "        start = mid + 1\n",
    "    \n",
    "    "
   ]
  }
 ],
 "metadata": {
  "kernelspec": {
   "display_name": "Python 3 (ipykernel)",
   "language": "python",
   "name": "python3"
  },
  "language_info": {
   "codemirror_mode": {
    "name": "ipython",
    "version": 3
   },
   "file_extension": ".py",
   "mimetype": "text/x-python",
   "name": "python",
   "nbconvert_exporter": "python",
   "pygments_lexer": "ipython3",
   "version": "3.9.7"
  }
 },
 "nbformat": 4,
 "nbformat_minor": 5
}
