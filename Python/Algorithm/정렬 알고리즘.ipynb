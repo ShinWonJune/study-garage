{
 "cells": [
  {
   "cell_type": "markdown",
   "id": "35be739d",
   "metadata": {},
   "source": [
    "## 선택 정렬\n",
    "1. index 순서대로 데이터를 선택하여, 정렬되지 않은 데이터 중 가장 작은 데이터와 위치를 바꿔 정렬한다.(순서가 앞으로 이동한 데이터만 정렬된 데이터라 취급)\n",
    "2. 이를 반복한다.\n",
    "\n",
    "<br>\n",
    "- 시간 복잡도 : $O(N^2)$"
   ]
  },
  {
   "cell_type": "markdown",
   "id": "659202a6",
   "metadata": {},
   "source": [
    "## 삽입 정렬\n",
    "- 처리되지 않은 데이터를 하나씩 골라 적절한 위치에 삽입\n",
    "- 선택정렬에 비해 난이도가 높지만 더 효율적\n",
    "- 보통은 $O(N^2)$, 이미 어느정도 정렬되어 있는 경우 빠르다, $O(N)$"
   ]
  },
  {
   "cell_type": "code",
   "execution_count": 5,
   "id": "4a4b559e",
   "metadata": {},
   "outputs": [
    {
     "name": "stdout",
     "output_type": "stream",
     "text": [
      "[0, 1, 2, 3, 4, 5, 6, 7, 8, 9]\n"
     ]
    }
   ],
   "source": [
    "array = [7,5,9,0,3,1,6,2,4,8]\n",
    "for i in range(1,len(array)):\n",
    "    for j in range(i,0,-1):\n",
    "        if array[j] < array[j-1]:\n",
    "            # 한칸 씩 이동\n",
    "            array[j], array[j-1] = array[j-1],array[j]\n",
    "        else:\n",
    "            break\n",
    "print(array)            "
   ]
  },
  {
   "cell_type": "markdown",
   "id": "f16d15be",
   "metadata": {},
   "source": [
    "## 퀵 정렬\n",
    " - 기준 데이터를 성정하고, 그 기준보다 큰 데이터(기준 데이터의 오른쪽으로 탐색)와 작은 데이터(기준 데이터의 왼쪽으로 탐색)의 위치를 바꾸는 방법\n",
    " - 과정 \n",
    "     1. 첫번째 데이터를 기준데이터(Pivot)로 설정함\n",
    "     2. 기준데이터보다 큰 데이터와 작은 데이터의 위치가 엇갈리는 경우, 작은 데이터와 기준 데이터의 위치를 바꿔준다.\n",
    "         - 이때 기준데이터 중심으로 묶음을 나누는 분할(Divide)이 이루어진다.\n",
    "     3. 분할된 데이터 두 그룹을 각각의 array로 보아 각각 퀵 정렬을 수행한다.(재귀함수로 구현)\n",
    "<br>\n",
    "\n",
    "- 높이 N, 너비 logN 의 연산이 필요, 시간복잡도 평균 $O(Nlog(N))$ \n",
    "- 최악(이미 정렬되어 있는 경우)에는 $O(N^2)$\n",
    "- 표준 lib 에는 $O(Nlog(N))$ 보장\n",
    "- 대부분 가장 적합, 충분히 빠르다."
   ]
  },
  {
   "cell_type": "code",
   "execution_count": 6,
   "id": "db8d2f26",
   "metadata": {},
   "outputs": [
    {
     "name": "stdout",
     "output_type": "stream",
     "text": [
      "[0, 1, 2, 4, 3, 5, 6, 8, 7, 9]\n"
     ]
    }
   ],
   "source": [
    "# straight way\n",
    "\n",
    "array = [5,7,9,0,3,1,6,2,4,8]\n",
    "\n",
    "def quick_sort(array,start,end):\n",
    "    \n",
    "    # sort 할 array가 1개면 함수종료\n",
    "    if start >= end :\n",
    "        return\n",
    "    # pivot index = start\n",
    "    pivot = start\n",
    "    left = start + 1\n",
    "    right = end\n",
    "    # 큰 데이터, 작은 데이터의 교차가 일어나지 않을 때까지 반복\n",
    "    while (left<right):\n",
    "        while (left <= end) and (array[left] < array[pivot]):\n",
    "            left +=1\n",
    "        while (right >= start) and (array[right]> array[pivot]):\n",
    "            right -= 1\n",
    "        if left > right:\n",
    "            array[pivot], array[right] = array[right], array[pivot]\n",
    "        else:\n",
    "            array[left], array[right] = array[right], array[left]\n",
    "    #분할 이후\n",
    "    quick_sort(array,start,right-1)\n",
    "    quick_sort(array,right+1,end)\n",
    "\n",
    "quick_sort(array,0,len(array)-1)\n",
    "print(array)\n",
    "\n",
    "            "
   ]
  },
  {
   "cell_type": "code",
   "execution_count": 10,
   "id": "f5d96710",
   "metadata": {},
   "outputs": [
    {
     "data": {
      "text/plain": [
       "[0, 1, 2, 3, 4, 5, 6, 7, 8, 9]"
      ]
     },
     "execution_count": 10,
     "metadata": {},
     "output_type": "execute_result"
    }
   ],
   "source": [
    "# pythonic way\n",
    "\n",
    "\n",
    "array = [5,7,9,0,3,1,6,2,4,8]\n",
    "\n",
    "def quick_sort(array):\n",
    "    if len(array) <= 1:\n",
    "        return array\n",
    "    \n",
    "    pivot = array[0]\n",
    "    tail = array[1:]\n",
    "    \n",
    "    left = [x for x in tail if x < pivot]\n",
    "    right = [x for x in tail if x > pivot]\n",
    "    \n",
    "    return quick_sort(left) + [pivot] + quick_sort(right)\n",
    "\n",
    "quick_sort(array)"
   ]
  },
  {
   "cell_type": "markdown",
   "id": "22637124",
   "metadata": {},
   "source": [
    "## 계수 정렬(Counting sort)\n",
    "- 데이터의 크기 범위가 제한되어 정수 형태로 표현할 수 있을 때 사용가능\n",
    "- 데이터 개수 N, 데이터 중 최댓값 k 일때 O(N+K)를 보장함\n",
    "- 과정:\n",
    "    1. 모든 범위의 데이터가 담길 수 있도록 리스트를 생성한다.\n",
    "        - 각 index가 데이터의 값이며, value가 데이터의 count 값이다.\n",
    "    2. value 값 만큼 반복하여 index를 출력한다.\n",
    "<br><br>\n",
    "- 데이터가 0, 99999 일때 최악의 비효율\n",
    "- 동일한 값이 여러개 있을 때 효과적"
   ]
  },
  {
   "cell_type": "code",
   "execution_count": 11,
   "id": "bf4b2c02",
   "metadata": {},
   "outputs": [
    {
     "name": "stdout",
     "output_type": "stream",
     "text": [
      "0 1 2 2 2 3 4 4 4 5 5 6 7 9 "
     ]
    }
   ],
   "source": [
    "array = [7,5,9,0,4,1,2,3,4,2,5,6,4,2]\n",
    "\n",
    "# 데이터의 종류만큼의 리스트 선언\n",
    "count = [0]*(max(array)+1)\n",
    "\n",
    "for i in array:\n",
    "    count[i] += 1\n",
    "    \n",
    "for i in range(len(count)):\n",
    "    for j in range(count[i]):\n",
    "        print(i,end = ' ')"
   ]
  }
 ],
 "metadata": {
  "kernelspec": {
   "display_name": "Python 3 (ipykernel)",
   "language": "python",
   "name": "python3"
  },
  "language_info": {
   "codemirror_mode": {
    "name": "ipython",
    "version": 3
   },
   "file_extension": ".py",
   "mimetype": "text/x-python",
   "name": "python",
   "nbconvert_exporter": "python",
   "pygments_lexer": "ipython3",
   "version": "3.9.7"
  }
 },
 "nbformat": 4,
 "nbformat_minor": 5
}
