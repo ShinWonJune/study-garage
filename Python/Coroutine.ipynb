{
 "cells": [
  {
   "cell_type": "markdown",
   "id": "f3cc39cf",
   "metadata": {},
   "source": [
    "## Coroutine\n",
    " - 정의 : 각 루틴이 종속적인 관계가 아닌 대등한 관계로서, 서로를 순차적으로 호출하게끔 되어있는 함수\n",
    "     - `x = yield y` 형태로 생성\n",
    "     - 상호 호출은 단일 쓰레드 안에서 가능\n",
    "     \n",
    "     \n",
    " - 특징 : 흐름제어, 병렬처리(concurrency)를 가능하게 함\n",
    "     - `yield y` 를 만난 시점에서 현 루틴은 멈추고, 다른 루틴을 진행하다가 next를 통해, 멈춰있던 루틴이 멈췄던 그 순간부터 다시 실행됨.\n",
    "     - send() 함수를 통해 밖에서 coroutine 함수 안에 x 값 전달\n",
    "     - next() 함수를 통해 coroutine 함수 밖으로 y값 반환 \n",
    "     -  순차 실행이 아닌 병렬 처리"
   ]
  },
  {
   "cell_type": "code",
   "execution_count": 3,
   "id": "bfb33777",
   "metadata": {},
   "outputs": [
    {
     "name": "stdout",
     "output_type": "stream",
     "text": [
      "EX1-1 - GEN_CREATED\n",
      ">>> coroutine started : 10\n",
      "10\n",
      "EX1-2 - GEN_SUSPENDED\n",
      ">>> Coroutine received : 20\n",
      "EX1-3 - GEN_SUSPENDED\n"
     ]
    }
   ],
   "source": [
    "# Coroutine 상태 확인\n",
    "# getgeneratorstate\n",
    "\n",
    "from inspect import getgeneratorstate\n",
    "from typing import Coroutine, final\n",
    "\n",
    "def coroutine1(a):\n",
    "    print('>>> coroutine started : {}'.format(a))\n",
    "    y = yield a\n",
    "    # y : 밖 루트에서 send로 받을 값\n",
    "    # x : 밖 루트에 전달 할 값\n",
    "    print('>>> Coroutine received : {}'.format(y))\n",
    "    z = yield a+y\n",
    "    print('>>>coroutine received again : {}'.format(z))\n",
    "    \n",
    "c3 = coroutine1(10)\n",
    "print('EX1-1 -', getgeneratorstate(c3))\n",
    "print(next(c3))\n",
    "print('EX1-2 -', getgeneratorstate(c3))\n",
    "c3.send(20)\n",
    "print('EX1-3 -', getgeneratorstate(c3))\n",
    "# c3.send(50)\n",
    "#stop iteration error 발생."
   ]
  },
  {
   "cell_type": "code",
   "execution_count": 11,
   "id": "84d1dff9",
   "metadata": {},
   "outputs": [
    {
     "name": "stdout",
     "output_type": "stream",
     "text": [
      "EX2-1 - <generator object sumer at 0x000002D108549900>\n",
      "GEN_SUSPENDED\n",
      "term recieved\n",
      "EX2-2 - 100\n",
      "term recieved\n",
      "EX2-3 - 200\n"
     ]
    }
   ],
   "source": [
    "# 데코레이터 패턴으로 만들기\n",
    "\n",
    "from functools import wraps \n",
    "\n",
    "def coroutine(func):\n",
    "    '''Decorator runs until meets yield'''\n",
    "    @wraps(func) # 설명문 독스트링 등을 싸서 같이가져가는 데코레이터\n",
    "    def primer(*args, **kwargs):\n",
    "        gen = func()\n",
    "        # next로 gen 시동 걸어줌\n",
    "        next(gen)           # total 0이 출력되지 않는 이유는 print(next(gen))이 아니고 그냥 next(gen) 이기 때문\n",
    "        return gen\n",
    "    return primer\n",
    "        \n",
    "@coroutine                   # next를 안해줘도 되게 하는 Decorator\n",
    "def sumer():\n",
    "    total = 0\n",
    "    term = 0\n",
    "    while True :              # Coroutine은 보통 무한 루프로 활용함. 여러번 사용의 장점을 살리는 것.\n",
    "        term = yield total\n",
    "        print('term recieved')\n",
    "        total += term\n",
    "\n",
    "su = sumer()\n",
    "print('EX2-1 -',su)\n",
    "print(getgeneratorstate(su))\n",
    "print('EX2-2 -',su.send(100))\n",
    "print('EX2-3 -',su.send(100))"
   ]
  },
  {
   "cell_type": "code",
   "execution_count": 4,
   "id": "2d48d23a",
   "metadata": {},
   "outputs": [
    {
     "name": "stdout",
     "output_type": "stream",
     "text": [
      ">>coroutine started.\n",
      "Ex3-1 - None\n",
      "-> coroutine received : 10\n",
      "EX3-2 - None\n",
      "-> coroutine received : 20\n",
      "EX3-3 - None\n",
      "-> SampleException handled. Continuing..\n",
      "EX3-4 - None\n",
      "-> coroutine received : 1000\n",
      "EX3-5 - None\n",
      "-> coroutine ending\n",
      "EX3-4 - None\n"
     ]
    }
   ],
   "source": [
    "# Coroutine 예외처리 (throw(), close())\n",
    "\n",
    "class SampleException(Exception):\n",
    "    '''설명에 사용할 예외 유형'''\n",
    "\n",
    "def coroutine_except():\n",
    "    print('>>coroutine started.')\n",
    "    try:\n",
    "        while True:\n",
    "            try:\n",
    "                x = yield \n",
    "            except SampleException:\n",
    "                print('-> SampleException handled. Continuing..')\n",
    "            else:   #except가 실행되지 않았을 때 실행됨\n",
    "                print('-> coroutine received : {}'.format(x))\n",
    "    finally: #무조건 실행되는 절.\n",
    "        print('-> coroutine ending') \n",
    "\n",
    "exe_co = coroutine_except()\n",
    "\n",
    "print('Ex3-1 -', next(exe_co)) \n",
    "print('EX3-2 -', exe_co.send(10))\n",
    "print('EX3-3 -', exe_co.send(20))\n",
    "print('EX3-4 -',exe_co.throw(SampleException)) \n",
    "print('EX3-5 -',exe_co.send(1000))\n",
    "print('EX3-4 -',exe_co.close()) #GEN_CLOSED. 코루틴을 끝냈다.|"
   ]
  },
  {
   "cell_type": "code",
   "execution_count": null,
   "id": "bfc37e3c",
   "metadata": {},
   "outputs": [],
   "source": [
    "# Coroutine Return값 확안\n",
    "# e.value 를 통해\n",
    "\n",
    "def averager_re():\n",
    "    total = 0.0\n",
    "    cnt = 0\n",
    "    avg = None\n",
    "    while True :\n",
    "        term = yield\n",
    "        if term is None:\n",
    "            break\n",
    "        total += term\n",
    "        cnt += 1\n",
    "        avg = total / cnt\n",
    "    return 'Average : {}'.format(avg)\n",
    "\n",
    "avger2 = averager_re()\n",
    "\n",
    "next(avger2)\n",
    "avger2.send(10)\n",
    "avger2.send(20)\n",
    "avger2.send(30)\n",
    "\n",
    "# avger2.send(None) # 그냥 stop 하면 generator 끝날 때 Stopiteration error  나오니깐. 예외처리함\n",
    "try :\n",
    "    avger2.send(None)\n",
    "except StopIteration as e :  # 예외 처리 없이 Error 발생해도 return 값 보여줌. \n",
    "    print('EX4-1 -', e.value) # coroutine의 return 값은 예외처리.value로 확인할 수 있다."
   ]
  },
  {
   "cell_type": "code",
   "execution_count": 10,
   "id": "7bb5e697",
   "metadata": {},
   "outputs": [
    {
     "name": "stdout",
     "output_type": "stream",
     "text": [
      "EX5-1 - ['A', 'B', 1, 2, 3]\n",
      "\n",
      "Ex6-1 - A\n",
      "Ex6-1 - B\n",
      "Ex6-1 - 1\n",
      "EX6-2 - [2, 3]\n"
     ]
    }
   ],
   "source": [
    "# yield from\n",
    "# generator\n",
    "# yield from 뒤의 arg를 순차적으로 반환\n",
    "\n",
    "def gen1():\n",
    "    for x in 'AB':\n",
    "        yield x         #X 가 A ,B 다 끝나야 y로 넘어감\n",
    "    for y in range(1,4):\n",
    "        yield y\n",
    "\n",
    "t1 = gen1()\n",
    "print('EX5-1 -', list(t1))\n",
    "print()\n",
    "\n",
    "def gen2():\n",
    "    yield from 'AB'     # for 문 대신 yield from 로 작성 가능\n",
    "    yield from range(1,4) # yield from 뒤의 것들을 순차적으로 반환\n",
    "\n",
    "t2 = gen2()\n",
    "print('Ex6-1 -', next(t2))\n",
    "print('Ex6-1 -', next(t2))\n",
    "print('Ex6-1 -', next(t2))\n",
    "print('EX6-2 -',list(t2))"
   ]
  },
  {
   "cell_type": "code",
   "execution_count": 9,
   "id": "e8fbfb87",
   "metadata": {},
   "outputs": [
    {
     "name": "stdout",
     "output_type": "stream",
     "text": [
      "sub coroutine.\n",
      "EX7-1 - 10\n",
      "recv1 :  7\n",
      "EX7-2 - 100\n"
     ]
    }
   ],
   "source": [
    "# Coroutine 끼리 상호 제어\n",
    "# yield from 이용\n",
    "\n",
    "def gen3_sub(): #코루틴\n",
    "    print(\n",
    "        'sub coroutine.'\n",
    "    )\n",
    "    x = yield 10\n",
    "    print('recv1 : ', str(x))\n",
    "    x = yield 100\n",
    "    print('recv2 : ', str(x))\n",
    "\n",
    "def gen4_main(): #제너레이터\n",
    "    yield from gen3_sub()\n",
    "    \n",
    "t5 = gen4_main()\n",
    "print('EX7-1 -', next(t5))\n",
    "print('EX7-2 -',t5.send(7))"
   ]
  },
  {
   "cell_type": "code",
   "execution_count": 11,
   "id": "0afc4aec",
   "metadata": {},
   "outputs": [
    {
     "name": "stdout",
     "output_type": "stream",
     "text": [
      "55\n"
     ]
    }
   ],
   "source": [
    "#  y = yield from 코루틴함수()\n",
    "# 코루틴함수()의 return 값을 반환한다\n",
    "# 즉 코루틴 안의 코루틴에 값을 전달한다.\n",
    "\n",
    "def accumulate():\n",
    "    total = 0\n",
    "    while True:\n",
    "        x = (yield)         # 코루틴 바깥에서 값을 받아옴\n",
    "        if x is None:       # 받아온 값이 None이면\n",
    "            return total    # 합계 total을 반환\n",
    "        total += x\n",
    "\n",
    "def sum_coroutine():\n",
    "    while True:\n",
    "        total = yield from accumulate()    # accumulate의 반환값을 가져옴 즉, send를 통해 하위 coroutine 까지 값을 전달.\n",
    "        print(total)\n",
    " \n",
    "co = sum_coroutine()\n",
    "next(co)\n",
    "for i in range(1, 11):    # 1부터 10까지 반복\n",
    "    co.send(i)            # sum_coroutine의 yield from을 통해 코루틴 accumulate에 숫자를 보냄\n",
    "co.send(None)   "
   ]
  },
  {
   "cell_type": "code",
   "execution_count": null,
   "id": "287f07f5",
   "metadata": {},
   "outputs": [],
   "source": []
  }
 ],
 "metadata": {
  "kernelspec": {
   "display_name": "Python 3.9.1 64-bit",
   "language": "python",
   "name": "python3"
  },
  "language_info": {
   "codemirror_mode": {
    "name": "ipython",
    "version": 3
   },
   "file_extension": ".py",
   "mimetype": "text/x-python",
   "name": "python",
   "nbconvert_exporter": "python",
   "pygments_lexer": "ipython3",
   "version": "3.9.1"
  },
  "vscode": {
   "interpreter": {
    "hash": "da2004fe03f436a9a81b9c95e439c4add18d0165a64bc8b11e0efabfe79c313a"
   }
  }
 },
 "nbformat": 4,
 "nbformat_minor": 5
}
