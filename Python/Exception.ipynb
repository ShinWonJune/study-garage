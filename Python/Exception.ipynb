{
 "cells": [
  {
   "cell_type": "markdown",
   "id": "2926f6d2",
   "metadata": {},
   "source": [
    "# Exception\n",
    "#### 1. 예상 가능한 예외: 사용자의 행동 예측\n",
    "- 개발자가 명시적으로 정의 해야함\n",
    "\n",
    "#### 2. 예상 불가능한 예외 : 인터프리터 과정에서 발생하는 예외, 개발자의 실수\n",
    "- 수행 불가시 인터프리터가 자동 호출"
   ]
  },
  {
   "cell_type": "markdown",
   "id": "64a7251f",
   "metadata": {},
   "source": [
    "### Exception Handling\n",
    "- try~ except 문법:<br>\n",
    "`try :\n",
    "    예외 발생 가능 코드\n",
    "except <Exception Type> :\n",
    "    예외 발생시 대응 코드`\n",
    "    \n",
    "- 명시해준 `<Exception Type>`의 에러가 발생하면, <br> `예외 발생시 대응 코드`를 실행한 후, 다시 try 구문을 실행한다.\n",
    "- 명시해준 에러가 아닐경우, 코드 실행이 중단된다. 그냥 에러난거."
   ]
  }
 ],
 "metadata": {
  "kernelspec": {
   "display_name": "Python 3 (ipykernel)",
   "language": "python",
   "name": "python3"
  },
  "language_info": {
   "codemirror_mode": {
    "name": "ipython",
    "version": 3
   },
   "file_extension": ".py",
   "mimetype": "text/x-python",
   "name": "python",
   "nbconvert_exporter": "python",
   "pygments_lexer": "ipython3",
   "version": "3.9.7"
  }
 },
 "nbformat": 4,
 "nbformat_minor": 5
}
