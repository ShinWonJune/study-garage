{
 "cells": [
  {
   "cell_type": "markdown",
   "id": "b59e39d3",
   "metadata": {},
   "source": [
    "# File 다루기\n",
    "- 1. text file\n",
    "- 2. os 모듈로 directory 다루기\n",
    "- 3. pathlib 모듈로 path를 객체로 다루기\n",
    "- 4. pickle 모듈"
   ]
  },
  {
   "cell_type": "markdown",
   "id": "065e2140",
   "metadata": {},
   "source": [
    "### 1. text file"
   ]
  },
  {
   "cell_type": "code",
   "execution_count": 1,
   "id": "8b699d67",
   "metadata": {},
   "outputs": [],
   "source": [
    "f = open('file1','w')\n",
    "content  = f.write('hi')\n",
    "f.close()"
   ]
  },
  {
   "cell_type": "markdown",
   "id": "ef3ca1b8",
   "metadata": {},
   "source": [
    "### 2. os 모듈"
   ]
  },
  {
   "cell_type": "code",
   "execution_count": 2,
   "id": "a3f6a28f",
   "metadata": {},
   "outputs": [],
   "source": [
    "#경로 만들기\n",
    "\n",
    "import os\n",
    "os.mkdir('i have no money.txt')"
   ]
  },
  {
   "cell_type": "code",
   "execution_count": 3,
   "id": "e72178bb",
   "metadata": {},
   "outputs": [],
   "source": [
    "# 디렉토리 확인 \n",
    "#os.path.isdir('디렉토리명')\n",
    "\n",
    "if not os.path.isdir('log'):\n",
    "    os.mkdir('log')"
   ]
  },
  {
   "cell_type": "markdown",
   "id": "3b99327b",
   "metadata": {},
   "source": [
    "#### 파일 디렉토리 변경\n",
    "- 새 경로 생성: os.path.join(path1,path2) \n",
    "- 새 경로에 파일 복사 : shutil.copy(file, new_path)"
   ]
  },
  {
   "cell_type": "code",
   "execution_count": 4,
   "id": "49c5113b",
   "metadata": {},
   "outputs": [
    {
     "data": {
      "text/plain": [
       "'i have no money.txt\\\\file1'"
      ]
     },
     "execution_count": 4,
     "metadata": {},
     "output_type": "execute_result"
    }
   ],
   "source": [
    "# 디렉토리 변경\n",
    "# shutil\n",
    "# join\n",
    "import os\n",
    "import shutil\n",
    "\n",
    "source = 'file1'\n",
    "# join: path 인자 두개를 연결함, 새로운 경로가 만들어짐.\n",
    "dest = os.path.join('i have no money.txt','i have no money.txt') \n",
    "# shutil : 디렉토리 변경\n",
    "# i have no money.txt 라는 폴더에 source 복 붙.\n",
    "shutil.copy(source,'i have no money.txt')"
   ]
  },
  {
   "cell_type": "code",
   "execution_count": 6,
   "id": "50c558d1",
   "metadata": {},
   "outputs": [
    {
     "data": {
      "text/plain": [
       "'i have no money.txt\\\\i have no money.txt'"
      ]
     },
     "execution_count": 6,
     "metadata": {},
     "output_type": "execute_result"
    }
   ],
   "source": [
    "# 경로 i have no money.txt\\\\i have no money.txt 에 복붙\n",
    "# 그러나 두번째 경로는 존재하지 않음.\n",
    "# 파일 명이 두번째 경로이름으로 바뀜.\n",
    "shutil.copy(source,dest)"
   ]
  },
  {
   "cell_type": "markdown",
   "id": "129a2217",
   "metadata": {},
   "source": [
    "### 3. pathlib 모듈"
   ]
  },
  {
   "cell_type": "code",
   "execution_count": 7,
   "id": "75082114",
   "metadata": {},
   "outputs": [
    {
     "data": {
      "text/plain": [
       "WindowsPath('C:/Users/shinw/OneDrive/바탕 화면/jupyter_projects')"
      ]
     },
     "execution_count": 7,
     "metadata": {},
     "output_type": "execute_result"
    }
   ],
   "source": [
    "import pathlib\n",
    "#current working directory\n",
    "cwd = pathlib.Path.cwd()\n",
    "cwd"
   ]
  },
  {
   "cell_type": "markdown",
   "id": "a8843b8e",
   "metadata": {},
   "source": [
    "#### glob('')\n",
    "- 현재 디렉토리의 파일 경로를 generator로 반환\n"
   ]
  },
  {
   "cell_type": "code",
   "execution_count": 9,
   "id": "782bcc3a",
   "metadata": {
    "collapsed": true
   },
   "outputs": [
    {
     "data": {
      "text/plain": [
       "[WindowsPath('C:/Users/shinw/OneDrive/바탕 화면/jupyter_projects/.ipynb_checkpoints'),\n",
       " WindowsPath('C:/Users/shinw/OneDrive/바탕 화면/jupyter_projects/Asyncio 활용 비동기 작업.ipynb'),\n",
       " WindowsPath('C:/Users/shinw/OneDrive/바탕 화면/jupyter_projects/concurrent.futures 활용 비동기 작업.ipynb'),\n",
       " WindowsPath('C:/Users/shinw/OneDrive/바탕 화면/jupyter_projects/Coroutine.ipynb'),\n",
       " WindowsPath('C:/Users/shinw/OneDrive/바탕 화면/jupyter_projects/CS231n'),\n",
       " WindowsPath('C:/Users/shinw/OneDrive/바탕 화면/jupyter_projects/Exception.ipynb'),\n",
       " WindowsPath('C:/Users/shinw/OneDrive/바탕 화면/jupyter_projects/File 다루기.ipynb'),\n",
       " WindowsPath('C:/Users/shinw/OneDrive/바탕 화면/jupyter_projects/file1'),\n",
       " WindowsPath('C:/Users/shinw/OneDrive/바탕 화면/jupyter_projects/i have no money.txt'),\n",
       " WindowsPath('C:/Users/shinw/OneDrive/바탕 화면/jupyter_projects/Iterator and Generator and itertools.ipynb'),\n",
       " WindowsPath('C:/Users/shinw/OneDrive/바탕 화면/jupyter_projects/log'),\n",
       " WindowsPath('C:/Users/shinw/OneDrive/바탕 화면/jupyter_projects/Modules and Projects.ipynb'),\n",
       " WindowsPath('C:/Users/shinw/OneDrive/바탕 화면/jupyter_projects/OOP(Object Oriented Programming).ipynb'),\n",
       " WindowsPath('C:/Users/shinw/OneDrive/바탕 화면/jupyter_projects/Python GIL.ipynb'),\n",
       " WindowsPath('C:/Users/shinw/OneDrive/바탕 화면/jupyter_projects/Random.ipynb'),\n",
       " WindowsPath('C:/Users/shinw/OneDrive/바탕 화면/jupyter_projects/Znote.ipynb'),\n",
       " WindowsPath('C:/Users/shinw/OneDrive/바탕 화면/jupyter_projects/매개변수.ipynb'),\n",
       " WindowsPath('C:/Users/shinw/OneDrive/바탕 화면/jupyter_projects/자료구조')]"
      ]
     },
     "execution_count": 9,
     "metadata": {},
     "output_type": "execute_result"
    }
   ],
   "source": [
    "list(cwd.glob(\"*\"))"
   ]
  },
  {
   "cell_type": "code",
   "execution_count": 17,
   "id": "1089e475",
   "metadata": {},
   "outputs": [
    {
     "data": {
      "text/plain": [
       "[WindowsPath('C:/Users/shinw/OneDrive/바탕 화면/가족관계증명서.pdf')]"
      ]
     },
     "execution_count": 17,
     "metadata": {},
     "output_type": "execute_result"
    }
   ],
   "source": [
    "list(cwd.parent.glob(\"*.pdf\"))"
   ]
  },
  {
   "cell_type": "markdown",
   "id": "77fa38ee",
   "metadata": {},
   "source": [
    "### 4. pickle 모듈\n",
    "- 객체를 영속화(객체를 file로 저장) <font size = 1>피클처럼 숙성시켰다가 나중에 먹는다 그런<font>\n",
    "- 클래스, 함수 다 가능\n",
    "- 실행중 정보를 저장하고 불러와서 사용\n",
    "- 저장해야하는 정보, 계산결과 등 "
   ]
  },
  {
   "cell_type": "code",
   "execution_count": 21,
   "id": "6d30e573",
   "metadata": {},
   "outputs": [],
   "source": [
    "import pickle\n",
    "\n",
    "f = open('list.pickle','wb')\n",
    "test = [1,2,3]\n",
    "# 객체를 파일로 저장\n",
    "pickle.dump(test,f)\n",
    "f.close()\n"
   ]
  },
  {
   "cell_type": "code",
   "execution_count": 22,
   "id": "63968470",
   "metadata": {},
   "outputs": [
    {
     "ename": "SyntaxError",
     "evalue": "invalid syntax (4129119882.py, line 1)",
     "output_type": "error",
     "traceback": [
      "\u001b[1;36m  Input \u001b[1;32mIn [22]\u001b[1;36m\u001b[0m\n\u001b[1;33m    def test\u001b[0m\n\u001b[1;37m            ^\u001b[0m\n\u001b[1;31mSyntaxError\u001b[0m\u001b[1;31m:\u001b[0m invalid syntax\n"
     ]
    }
   ],
   "source": [
    "#text 객체 메모리에서 제거\n",
    "def test\n",
    "test"
   ]
  },
  {
   "cell_type": "code",
   "execution_count": 23,
   "id": "d85fc641",
   "metadata": {},
   "outputs": [
    {
     "name": "stdout",
     "output_type": "stream",
     "text": [
      "[1, 2, 3]\n"
     ]
    }
   ],
   "source": [
    "# 파일로 저장해놨던 객체를 불러옴. 부활\n",
    "f = open('list.pickle','rb')\n",
    "test_pickle = pickle.load(f)\n",
    "print(test_pickle)\n",
    "f.close()"
   ]
  }
 ],
 "metadata": {
  "kernelspec": {
   "display_name": "Python 3 (ipykernel)",
   "language": "python",
   "name": "python3"
  },
  "language_info": {
   "codemirror_mode": {
    "name": "ipython",
    "version": 3
   },
   "file_extension": ".py",
   "mimetype": "text/x-python",
   "name": "python",
   "nbconvert_exporter": "python",
   "pygments_lexer": "ipython3",
   "version": "3.9.7"
  }
 },
 "nbformat": 4,
 "nbformat_minor": 5
}
