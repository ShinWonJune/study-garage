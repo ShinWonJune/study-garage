{
 "cells": [
  {
   "cell_type": "markdown",
   "id": "b59e39d3",
   "metadata": {},
   "source": [
    "# File 다루기\n",
    "- 1. text file\n",
    "- 2. os 모듈로 directory 다루기\n",
    "- 3. pathlib 모듈로 path를 객체로 다루기\n",
    "- 4. pickle 모듈"
   ]
  },
  {
   "cell_type": "markdown",
   "id": "065e2140",
   "metadata": {},
   "source": [
    "### 1. text file"
   ]
  },
  {
   "cell_type": "code",
   "execution_count": 1,
   "id": "8b699d67",
   "metadata": {},
   "outputs": [],
   "source": [
    "f = open('file1','w')\n",
    "content  = f.write('hi')\n",
    "f.close()"
   ]
  },
  {
   "cell_type": "markdown",
   "id": "ef3ca1b8",
   "metadata": {},
   "source": [
    "### 2. os 모듈"
   ]
  },
  {
   "cell_type": "code",
   "execution_count": 2,
   "id": "a3f6a28f",
   "metadata": {},
   "outputs": [],
   "source": [
    "#경로 만들기\n",
    "\n",
    "import os\n",
    "os.mkdir('i have no money.txt')"
   ]
  },
  {
   "cell_type": "code",
   "execution_count": 3,
   "id": "e72178bb",
   "metadata": {},
   "outputs": [],
   "source": [
    "# 디렉토리 확인 \n",
    "#os.path.isdir('디렉토리명')\n",
    "\n",
    "if not os.path.isdir('log'):\n",
    "    os.mkdir('log')"
   ]
  },
  {
   "cell_type": "markdown",
   "id": "3b99327b",
   "metadata": {},
   "source": [
    "#### 파일 디렉토리 변경\n",
    "- 새 경로 생성: os.path.join(path1,path2) \n",
    "- 새 경로에 파일 복사 : shutil.copy(file, new_path)"
   ]
  },
  {
   "cell_type": "code",
   "execution_count": 2,
   "id": "49c5113b",
   "metadata": {},
   "outputs": [
    {
     "ename": "FileNotFoundError",
     "evalue": "[Errno 2] No such file or directory: 'file1'",
     "output_type": "error",
     "traceback": [
      "\u001b[1;31m---------------------------------------------------------------------------\u001b[0m",
      "\u001b[1;31mFileNotFoundError\u001b[0m                         Traceback (most recent call last)",
      "\u001b[1;32mc:\\Users\\shinw\\OneDrive\\문서\\GitHub\\study-garage\\Python\\File 다루기os, pathlib, pickle.ipynb 셀 8\u001b[0m in \u001b[0;36m<module>\u001b[1;34m\u001b[0m\n\u001b[0;32m      <a href='vscode-notebook-cell:/c%3A/Users/shinw/OneDrive/%EB%AC%B8%EC%84%9C/GitHub/study-garage/Python/File%20%EB%8B%A4%EB%A3%A8%EA%B8%B0os%2C%20pathlib%2C%20pickle.ipynb#X10sZmlsZQ%3D%3D?line=8'>9</a>\u001b[0m dest \u001b[39m=\u001b[39m os\u001b[39m.\u001b[39mpath\u001b[39m.\u001b[39mjoin(\u001b[39m'\u001b[39m\u001b[39mi have no money.txt\u001b[39m\u001b[39m'\u001b[39m,\u001b[39m'\u001b[39m\u001b[39mi have no money.txt\u001b[39m\u001b[39m'\u001b[39m) \n\u001b[0;32m     <a href='vscode-notebook-cell:/c%3A/Users/shinw/OneDrive/%EB%AC%B8%EC%84%9C/GitHub/study-garage/Python/File%20%EB%8B%A4%EB%A3%A8%EA%B8%B0os%2C%20pathlib%2C%20pickle.ipynb#X10sZmlsZQ%3D%3D?line=9'>10</a>\u001b[0m \u001b[39m# shutil : 디렉토리 변경\u001b[39;00m\n\u001b[0;32m     <a href='vscode-notebook-cell:/c%3A/Users/shinw/OneDrive/%EB%AC%B8%EC%84%9C/GitHub/study-garage/Python/File%20%EB%8B%A4%EB%A3%A8%EA%B8%B0os%2C%20pathlib%2C%20pickle.ipynb#X10sZmlsZQ%3D%3D?line=10'>11</a>\u001b[0m \u001b[39m# i have no money.txt 라는 폴더에 source 복 붙.\u001b[39;00m\n\u001b[1;32m---> <a href='vscode-notebook-cell:/c%3A/Users/shinw/OneDrive/%EB%AC%B8%EC%84%9C/GitHub/study-garage/Python/File%20%EB%8B%A4%EB%A3%A8%EA%B8%B0os%2C%20pathlib%2C%20pickle.ipynb#X10sZmlsZQ%3D%3D?line=11'>12</a>\u001b[0m shutil\u001b[39m.\u001b[39;49mcopy(source,\u001b[39m'\u001b[39;49m\u001b[39mi have no money.txt\u001b[39;49m\u001b[39m'\u001b[39;49m)\n",
      "File \u001b[1;32mc:\\Users\\shinw\\AppData\\Local\\Programs\\Python\\Python39\\lib\\shutil.py:418\u001b[0m, in \u001b[0;36mcopy\u001b[1;34m(src, dst, follow_symlinks)\u001b[0m\n\u001b[0;32m    416\u001b[0m \u001b[39mif\u001b[39;00m os\u001b[39m.\u001b[39mpath\u001b[39m.\u001b[39misdir(dst):\n\u001b[0;32m    417\u001b[0m     dst \u001b[39m=\u001b[39m os\u001b[39m.\u001b[39mpath\u001b[39m.\u001b[39mjoin(dst, os\u001b[39m.\u001b[39mpath\u001b[39m.\u001b[39mbasename(src))\n\u001b[1;32m--> 418\u001b[0m copyfile(src, dst, follow_symlinks\u001b[39m=\u001b[39;49mfollow_symlinks)\n\u001b[0;32m    419\u001b[0m copymode(src, dst, follow_symlinks\u001b[39m=\u001b[39mfollow_symlinks)\n\u001b[0;32m    420\u001b[0m \u001b[39mreturn\u001b[39;00m dst\n",
      "File \u001b[1;32mc:\\Users\\shinw\\AppData\\Local\\Programs\\Python\\Python39\\lib\\shutil.py:264\u001b[0m, in \u001b[0;36mcopyfile\u001b[1;34m(src, dst, follow_symlinks)\u001b[0m\n\u001b[0;32m    262\u001b[0m     os\u001b[39m.\u001b[39msymlink(os\u001b[39m.\u001b[39mreadlink(src), dst)\n\u001b[0;32m    263\u001b[0m \u001b[39melse\u001b[39;00m:\n\u001b[1;32m--> 264\u001b[0m     \u001b[39mwith\u001b[39;00m \u001b[39mopen\u001b[39;49m(src, \u001b[39m'\u001b[39;49m\u001b[39mrb\u001b[39;49m\u001b[39m'\u001b[39;49m) \u001b[39mas\u001b[39;00m fsrc, \u001b[39mopen\u001b[39m(dst, \u001b[39m'\u001b[39m\u001b[39mwb\u001b[39m\u001b[39m'\u001b[39m) \u001b[39mas\u001b[39;00m fdst:\n\u001b[0;32m    265\u001b[0m         \u001b[39m# macOS\u001b[39;00m\n\u001b[0;32m    266\u001b[0m         \u001b[39mif\u001b[39;00m _HAS_FCOPYFILE:\n\u001b[0;32m    267\u001b[0m             \u001b[39mtry\u001b[39;00m:\n",
      "\u001b[1;31mFileNotFoundError\u001b[0m: [Errno 2] No such file or directory: 'file1'"
     ]
    }
   ],
   "source": [
    "# 디렉토리 변경\n",
    "# shutil\n",
    "# join\n",
    "import os\n",
    "import shutil\n",
    "\n",
    "source = 'file1'\n",
    "# join: path 인자 두개를 연결함, 새로운 경로가 만들어짐.\n",
    "dest = os.path.join('i have no money.txt','i have no money.txt') \n",
    "# shutil : 디렉토리 변경\n",
    "# i have no money.txt 라는 폴더에 source 복 붙.\n",
    "shutil.copy(source,'i have no money.txt')"
   ]
  },
  {
   "cell_type": "code",
   "execution_count": 1,
   "id": "50c558d1",
   "metadata": {},
   "outputs": [
    {
     "ename": "NameError",
     "evalue": "name 'shutil' is not defined",
     "output_type": "error",
     "traceback": [
      "\u001b[1;31m---------------------------------------------------------------------------\u001b[0m",
      "\u001b[1;31mNameError\u001b[0m                                 Traceback (most recent call last)",
      "\u001b[1;32mc:\\Users\\shinw\\OneDrive\\문서\\GitHub\\study-garage\\Python\\File 다루기os, pathlib, pickle.ipynb 셀 9\u001b[0m in \u001b[0;36m<module>\u001b[1;34m\u001b[0m\n\u001b[0;32m      <a href='vscode-notebook-cell:/c%3A/Users/shinw/OneDrive/%EB%AC%B8%EC%84%9C/GitHub/study-garage/Python/File%20%EB%8B%A4%EB%A3%A8%EA%B8%B0os%2C%20pathlib%2C%20pickle.ipynb#X25sZmlsZQ%3D%3D?line=0'>1</a>\u001b[0m \u001b[39m# 경로 i have no money.txt\\\\i have no money.txt 에 복붙\u001b[39;00m\n\u001b[0;32m      <a href='vscode-notebook-cell:/c%3A/Users/shinw/OneDrive/%EB%AC%B8%EC%84%9C/GitHub/study-garage/Python/File%20%EB%8B%A4%EB%A3%A8%EA%B8%B0os%2C%20pathlib%2C%20pickle.ipynb#X25sZmlsZQ%3D%3D?line=1'>2</a>\u001b[0m \u001b[39m# 그러나 두번째 경로는 존재하지 않음.\u001b[39;00m\n\u001b[0;32m      <a href='vscode-notebook-cell:/c%3A/Users/shinw/OneDrive/%EB%AC%B8%EC%84%9C/GitHub/study-garage/Python/File%20%EB%8B%A4%EB%A3%A8%EA%B8%B0os%2C%20pathlib%2C%20pickle.ipynb#X25sZmlsZQ%3D%3D?line=2'>3</a>\u001b[0m \u001b[39m# 파일 명이 두번째 경로이름으로 바뀜.\u001b[39;00m\n\u001b[1;32m----> <a href='vscode-notebook-cell:/c%3A/Users/shinw/OneDrive/%EB%AC%B8%EC%84%9C/GitHub/study-garage/Python/File%20%EB%8B%A4%EB%A3%A8%EA%B8%B0os%2C%20pathlib%2C%20pickle.ipynb#X25sZmlsZQ%3D%3D?line=3'>4</a>\u001b[0m shutil\u001b[39m.\u001b[39mcopy(source,dest)\n",
      "\u001b[1;31mNameError\u001b[0m: name 'shutil' is not defined"
     ]
    }
   ],
   "source": [
    "# 경로 i have no money.txt\\\\i have no money.txt 에 복붙\n",
    "# 그러나 두번째 경로는 존재하지 않음.\n",
    "# 파일 명이 두번째 경로이름으로 바뀜.\n",
    "shutil.copy(source,dest)"
   ]
  },
  {
   "cell_type": "markdown",
   "id": "86a15e50",
   "metadata": {},
   "source": [
    "#### os.listdir(\"경로\")\n",
    " - 경로 안의 파일 또는 디렉토리의 이름을 list로 가져옴\n",
    " "
   ]
  },
  {
   "cell_type": "code",
   "execution_count": 8,
   "id": "34f06769",
   "metadata": {},
   "outputs": [
    {
     "data": {
      "text/plain": [
       "['concurrent.futures 활용 비동기 작업.ipynb',\n",
       " 'Coroutine.ipynb',\n",
       " 'Exception.ipynb',\n",
       " 'File 다루기os, pathlib, pickle.ipynb',\n",
       " 'Iterator and Generator and itertools.ipynb',\n",
       " 'MARKDOWN.ipynb',\n",
       " 'Modules and Projects.ipynb',\n",
       " 'Numpy.ipynb',\n",
       " 'Often used Functions.ipynb',\n",
       " 'Often used List.ipynb',\n",
       " 'Often used Methods.ipynb',\n",
       " 'OOP(Object Oriented Programming).ipynb',\n",
       " 'Python GIL.ipynb',\n",
       " 'Random.ipynb',\n",
       " '매개변수.ipynb',\n",
       " '상식.ipynb']"
      ]
     },
     "execution_count": 8,
     "metadata": {},
     "output_type": "execute_result"
    }
   ],
   "source": [
    "# list comprehension 에 if문에 endswith를 활용해서 조건추가 가능\n",
    "import os\n",
    "files = [file_name\n",
    "        for file_name in os.listdir(\".\") if file_name.endswith(\"ipynb\")] \n",
    "files"
   ]
  },
  {
   "cell_type": "markdown",
   "id": "129a2217",
   "metadata": {},
   "source": [
    "### 3. pathlib 모듈"
   ]
  },
  {
   "cell_type": "code",
   "execution_count": 7,
   "id": "75082114",
   "metadata": {},
   "outputs": [
    {
     "data": {
      "text/plain": [
       "WindowsPath('C:/Users/shinw/OneDrive/바탕 화면/jupyter_projects')"
      ]
     },
     "execution_count": 7,
     "metadata": {},
     "output_type": "execute_result"
    }
   ],
   "source": [
    "import pathlib\n",
    "#current working directory\n",
    "cwd = pathlib.Path.cwd()\n",
    "cwd"
   ]
  },
  {
   "cell_type": "markdown",
   "id": "a8843b8e",
   "metadata": {},
   "source": [
    "#### glob('')\n",
    "- 현재 디렉토리의 파일 경로를 generator로 반환\n"
   ]
  },
  {
   "cell_type": "code",
   "execution_count": 9,
   "id": "782bcc3a",
   "metadata": {
    "collapsed": true
   },
   "outputs": [
    {
     "data": {
      "text/plain": [
       "[WindowsPath('C:/Users/shinw/OneDrive/바탕 화면/jupyter_projects/.ipynb_checkpoints'),\n",
       " WindowsPath('C:/Users/shinw/OneDrive/바탕 화면/jupyter_projects/Asyncio 활용 비동기 작업.ipynb'),\n",
       " WindowsPath('C:/Users/shinw/OneDrive/바탕 화면/jupyter_projects/concurrent.futures 활용 비동기 작업.ipynb'),\n",
       " WindowsPath('C:/Users/shinw/OneDrive/바탕 화면/jupyter_projects/Coroutine.ipynb'),\n",
       " WindowsPath('C:/Users/shinw/OneDrive/바탕 화면/jupyter_projects/CS231n'),\n",
       " WindowsPath('C:/Users/shinw/OneDrive/바탕 화면/jupyter_projects/Exception.ipynb'),\n",
       " WindowsPath('C:/Users/shinw/OneDrive/바탕 화면/jupyter_projects/File 다루기.ipynb'),\n",
       " WindowsPath('C:/Users/shinw/OneDrive/바탕 화면/jupyter_projects/file1'),\n",
       " WindowsPath('C:/Users/shinw/OneDrive/바탕 화면/jupyter_projects/i have no money.txt'),\n",
       " WindowsPath('C:/Users/shinw/OneDrive/바탕 화면/jupyter_projects/Iterator and Generator and itertools.ipynb'),\n",
       " WindowsPath('C:/Users/shinw/OneDrive/바탕 화면/jupyter_projects/log'),\n",
       " WindowsPath('C:/Users/shinw/OneDrive/바탕 화면/jupyter_projects/Modules and Projects.ipynb'),\n",
       " WindowsPath('C:/Users/shinw/OneDrive/바탕 화면/jupyter_projects/OOP(Object Oriented Programming).ipynb'),\n",
       " WindowsPath('C:/Users/shinw/OneDrive/바탕 화면/jupyter_projects/Python GIL.ipynb'),\n",
       " WindowsPath('C:/Users/shinw/OneDrive/바탕 화면/jupyter_projects/Random.ipynb'),\n",
       " WindowsPath('C:/Users/shinw/OneDrive/바탕 화면/jupyter_projects/Znote.ipynb'),\n",
       " WindowsPath('C:/Users/shinw/OneDrive/바탕 화면/jupyter_projects/매개변수.ipynb'),\n",
       " WindowsPath('C:/Users/shinw/OneDrive/바탕 화면/jupyter_projects/자료구조')]"
      ]
     },
     "execution_count": 9,
     "metadata": {},
     "output_type": "execute_result"
    }
   ],
   "source": [
    "list(cwd.glob(\"*\"))"
   ]
  },
  {
   "cell_type": "code",
   "execution_count": 17,
   "id": "1089e475",
   "metadata": {},
   "outputs": [
    {
     "data": {
      "text/plain": [
       "[WindowsPath('C:/Users/shinw/OneDrive/바탕 화면/가족관계증명서.pdf')]"
      ]
     },
     "execution_count": 17,
     "metadata": {},
     "output_type": "execute_result"
    }
   ],
   "source": [
    "list(cwd.parent.glob(\"*.pdf\"))"
   ]
  },
  {
   "cell_type": "markdown",
   "id": "8fc3df3e",
   "metadata": {},
   "source": [
    "\n",
    "#### glob 모듈도 존재\n",
    "- from glob import glob\n",
    "- glob(\"/data/*.jpg\")\n",
    "- 리스트로 반환"
   ]
  },
  {
   "cell_type": "markdown",
   "id": "77fa38ee",
   "metadata": {},
   "source": [
    "### 4. pickle 모듈\n",
    "- 객체를 영속화(객체를 file로 저장) <font size = 1>피클처럼 숙성시켰다가 나중에 먹는다 그런<font>\n",
    "- 클래스, 함수 다 가능\n",
    "- 실행중 정보를 저장하고 불러와서 사용\n",
    "- 저장해야하는 정보, 계산결과 등 "
   ]
  },
  {
   "cell_type": "code",
   "execution_count": 21,
   "id": "6d30e573",
   "metadata": {},
   "outputs": [],
   "source": [
    "import pickle\n",
    "\n",
    "#picke 파일을 만든다.\n",
    "f = open('list.pickle','wb')\n",
    "test = [1,2,3]\n",
    "# 피클 파일에 객체를 저장한다.\n",
    "pickle.dump(test,f)\n",
    "f.close()\n"
   ]
  },
  {
   "cell_type": "code",
   "execution_count": 22,
   "id": "63968470",
   "metadata": {},
   "outputs": [
    {
     "ename": "SyntaxError",
     "evalue": "invalid syntax (4129119882.py, line 1)",
     "output_type": "error",
     "traceback": [
      "\u001b[1;36m  Input \u001b[1;32mIn [22]\u001b[1;36m\u001b[0m\n\u001b[1;33m    def test\u001b[0m\n\u001b[1;37m            ^\u001b[0m\n\u001b[1;31mSyntaxError\u001b[0m\u001b[1;31m:\u001b[0m invalid syntax\n"
     ]
    }
   ],
   "source": [
    "#text 객체 메모리에서 제거\n",
    "def test\n",
    "test"
   ]
  },
  {
   "cell_type": "code",
   "execution_count": 23,
   "id": "d85fc641",
   "metadata": {},
   "outputs": [
    {
     "name": "stdout",
     "output_type": "stream",
     "text": [
      "[1, 2, 3]\n"
     ]
    }
   ],
   "source": [
    "# 파일로 저장해놨던 객체를 불러옴. 부활\n",
    "f = open('list.pickle','rb')\n",
    "test_pickle = pickle.load(f)\n",
    "print(test_pickle)\n",
    "f.close()"
   ]
  },
  {
   "cell_type": "markdown",
   "id": "827fa9f4",
   "metadata": {},
   "source": [
    "### tqdm\n",
    "- from tqdm.notebook import tqdm\n",
    "- 진행상황을 표현해줌\n",
    "- iterator 객체에 씌워서 사용\n"
   ]
  },
  {
   "cell_type": "code",
   "execution_count": 9,
   "id": "a53284ee",
   "metadata": {},
   "outputs": [
    {
     "ename": "ImportError",
     "evalue": "IProgress not found. Please update jupyter and ipywidgets. See https://ipywidgets.readthedocs.io/en/stable/user_install.html",
     "output_type": "error",
     "traceback": [
      "\u001b[1;31m---------------------------------------------------------------------------\u001b[0m",
      "\u001b[1;31mImportError\u001b[0m                               Traceback (most recent call last)",
      "\u001b[1;32mc:\\Users\\shinw\\OneDrive\\문서\\GitHub\\study-garage\\Python\\File 다루기os, pathlib, pickle.ipynb 셀 23\u001b[0m in \u001b[0;36m<module>\u001b[1;34m\u001b[0m\n\u001b[0;32m      <a href='vscode-notebook-cell:/c%3A/Users/shinw/OneDrive/%EB%AC%B8%EC%84%9C/GitHub/study-garage/Python/File%20%EB%8B%A4%EB%A3%A8%EA%B8%B0os%2C%20pathlib%2C%20pickle.ipynb#X33sZmlsZQ%3D%3D?line=0'>1</a>\u001b[0m \u001b[39mfrom\u001b[39;00m \u001b[39mtqdm\u001b[39;00m\u001b[39m.\u001b[39;00m\u001b[39mnotebook\u001b[39;00m \u001b[39mimport\u001b[39;00m tqdm\n\u001b[1;32m----> <a href='vscode-notebook-cell:/c%3A/Users/shinw/OneDrive/%EB%AC%B8%EC%84%9C/GitHub/study-garage/Python/File%20%EB%8B%A4%EB%A3%A8%EA%B8%B0os%2C%20pathlib%2C%20pickle.ipynb#X33sZmlsZQ%3D%3D?line=1'>2</a>\u001b[0m \u001b[39mfor\u001b[39;00m i \u001b[39min\u001b[39;00m tqdm(\u001b[39mrange\u001b[39;49m(\u001b[39m100\u001b[39;49m)):\n\u001b[0;32m      <a href='vscode-notebook-cell:/c%3A/Users/shinw/OneDrive/%EB%AC%B8%EC%84%9C/GitHub/study-garage/Python/File%20%EB%8B%A4%EB%A3%A8%EA%B8%B0os%2C%20pathlib%2C%20pickle.ipynb#X33sZmlsZQ%3D%3D?line=2'>3</a>\u001b[0m     \u001b[39mprint\u001b[39m(i)\n",
      "File \u001b[1;32mc:\\Users\\shinw\\AppData\\Local\\Programs\\Python\\Python39\\lib\\site-packages\\tqdm\\notebook.py:243\u001b[0m, in \u001b[0;36mtqdm_notebook.__init__\u001b[1;34m(self, *args, **kwargs)\u001b[0m\n\u001b[0;32m    241\u001b[0m unit_scale \u001b[39m=\u001b[39m \u001b[39m1\u001b[39m \u001b[39mif\u001b[39;00m \u001b[39mself\u001b[39m\u001b[39m.\u001b[39munit_scale \u001b[39mis\u001b[39;00m \u001b[39mTrue\u001b[39;00m \u001b[39melse\u001b[39;00m \u001b[39mself\u001b[39m\u001b[39m.\u001b[39munit_scale \u001b[39mor\u001b[39;00m \u001b[39m1\u001b[39m\n\u001b[0;32m    242\u001b[0m total \u001b[39m=\u001b[39m \u001b[39mself\u001b[39m\u001b[39m.\u001b[39mtotal \u001b[39m*\u001b[39m unit_scale \u001b[39mif\u001b[39;00m \u001b[39mself\u001b[39m\u001b[39m.\u001b[39mtotal \u001b[39melse\u001b[39;00m \u001b[39mself\u001b[39m\u001b[39m.\u001b[39mtotal\n\u001b[1;32m--> 243\u001b[0m \u001b[39mself\u001b[39m\u001b[39m.\u001b[39mcontainer \u001b[39m=\u001b[39m \u001b[39mself\u001b[39;49m\u001b[39m.\u001b[39;49mstatus_printer(\u001b[39mself\u001b[39;49m\u001b[39m.\u001b[39;49mfp, total, \u001b[39mself\u001b[39;49m\u001b[39m.\u001b[39;49mdesc, \u001b[39mself\u001b[39;49m\u001b[39m.\u001b[39;49mncols)\n\u001b[0;32m    244\u001b[0m \u001b[39mself\u001b[39m\u001b[39m.\u001b[39mcontainer\u001b[39m.\u001b[39mpbar \u001b[39m=\u001b[39m proxy(\u001b[39mself\u001b[39m)\n\u001b[0;32m    245\u001b[0m \u001b[39mself\u001b[39m\u001b[39m.\u001b[39mdisplayed \u001b[39m=\u001b[39m \u001b[39mFalse\u001b[39;00m\n",
      "File \u001b[1;32mc:\\Users\\shinw\\AppData\\Local\\Programs\\Python\\Python39\\lib\\site-packages\\tqdm\\notebook.py:118\u001b[0m, in \u001b[0;36mtqdm_notebook.status_printer\u001b[1;34m(_, total, desc, ncols)\u001b[0m\n\u001b[0;32m    109\u001b[0m \u001b[39m# Fallback to text bar if there's no total\u001b[39;00m\n\u001b[0;32m    110\u001b[0m \u001b[39m# DEPRECATED: replaced with an 'info' style bar\u001b[39;00m\n\u001b[0;32m    111\u001b[0m \u001b[39m# if not total:\u001b[39;00m\n\u001b[1;32m   (...)\u001b[0m\n\u001b[0;32m    115\u001b[0m \n\u001b[0;32m    116\u001b[0m \u001b[39m# Prepare IPython progress bar\u001b[39;00m\n\u001b[0;32m    117\u001b[0m \u001b[39mif\u001b[39;00m IProgress \u001b[39mis\u001b[39;00m \u001b[39mNone\u001b[39;00m:  \u001b[39m# #187 #451 #558 #872\u001b[39;00m\n\u001b[1;32m--> 118\u001b[0m     \u001b[39mraise\u001b[39;00m \u001b[39mImportError\u001b[39;00m(WARN_NOIPYW)\n\u001b[0;32m    119\u001b[0m \u001b[39mif\u001b[39;00m total:\n\u001b[0;32m    120\u001b[0m     pbar \u001b[39m=\u001b[39m IProgress(\u001b[39mmin\u001b[39m\u001b[39m=\u001b[39m\u001b[39m0\u001b[39m, \u001b[39mmax\u001b[39m\u001b[39m=\u001b[39mtotal)\n",
      "\u001b[1;31mImportError\u001b[0m: IProgress not found. Please update jupyter and ipywidgets. See https://ipywidgets.readthedocs.io/en/stable/user_install.html"
     ]
    }
   ],
   "source": [
    "from tqdm.notebook import tqdm\n",
    "for i in tqdm(range(100)):\n",
    "    print(i)"
   ]
  },
  {
   "cell_type": "code",
   "execution_count": 8,
   "id": "ede269c4",
   "metadata": {},
   "outputs": [
    {
     "name": "stdout",
     "output_type": "stream",
     "text": [
      "Note: you may need to restart the kernel to use updated packages.\n"
     ]
    },
    {
     "name": "stderr",
     "output_type": "stream",
     "text": [
      "\n",
      "Usage:   \n",
      "  c:\\Users\\shinw\\AppData\\Local\\Programs\\Python\\Python39\\python.exe -m pip install [options] <requirement specifier> [package-index-options] ...\n",
      "  c:\\Users\\shinw\\AppData\\Local\\Programs\\Python\\Python39\\python.exe -m pip install [options] -r <requirements file> [package-index-options] ...\n",
      "  c:\\Users\\shinw\\AppData\\Local\\Programs\\Python\\Python39\\python.exe -m pip install [options] [-e] <vcs project url> ...\n",
      "  c:\\Users\\shinw\\AppData\\Local\\Programs\\Python\\Python39\\python.exe -m pip install [options] [-e] <local project path> ...\n",
      "  c:\\Users\\shinw\\AppData\\Local\\Programs\\Python\\Python39\\python.exe -m pip install [options] <archive url/path> ...\n",
      "\n",
      "no such option: -n\n"
     ]
    }
   ],
   "source": [
    "pip install -n base -c conda-forge widgetsnbextension"
   ]
  }
 ],
 "metadata": {
  "kernelspec": {
   "display_name": "Python 3.9.1 64-bit",
   "language": "python",
   "name": "python3"
  },
  "language_info": {
   "codemirror_mode": {
    "name": "ipython",
    "version": 3
   },
   "file_extension": ".py",
   "mimetype": "text/x-python",
   "name": "python",
   "nbconvert_exporter": "python",
   "pygments_lexer": "ipython3",
   "version": "3.9.1"
  },
  "vscode": {
   "interpreter": {
    "hash": "da2004fe03f436a9a81b9c95e439c4add18d0165a64bc8b11e0efabfe79c313a"
   }
  }
 },
 "nbformat": 4,
 "nbformat_minor": 5
}
