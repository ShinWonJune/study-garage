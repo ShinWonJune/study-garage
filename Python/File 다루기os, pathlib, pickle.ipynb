{
 "cells": [
  {
   "cell_type": "markdown",
   "id": "b59e39d3",
   "metadata": {},
   "source": [
    "# File 다루기\n",
    "- 1. text file\n",
    "- 2. os 모듈로 directory 다루기\n",
    "- 3. pathlib 모듈로 path를 객체로 다루기\n",
    "- 4. pickle 모듈"
   ]
  },
  {
   "cell_type": "markdown",
   "id": "52b674d0",
   "metadata": {},
   "source": [
    "Add \"!\" in front of command to use Linux shell commands"
   ]
  },
  {
   "cell_type": "code",
   "execution_count": null,
   "id": "954eb3ed",
   "metadata": {},
   "outputs": [],
   "source": [
    "!ls     # Prints the names of files and folders in the current directory\n",
    "!pwd    # Prints the path of the current directory"
   ]
  },
  {
   "cell_type": "code",
   "execution_count": null,
   "id": "04de85a0",
   "metadata": {},
   "outputs": [],
   "source": [
    "#check OS version\n",
    "!cat /etc/issue.net # ! = linux shell commands\n",
    "\n",
    "\n",
    "### check CPU\n",
    "!cat /proc/cpuinfo\n",
    "\n",
    "### check GPU status\n",
    "!nvidia-smi\n",
    "\n",
    "\n",
    "    \n",
    "### check RAM\n",
    "!cat /proc/meminfo\n",
    "\n",
    "\n",
    "### check file system and storage\n",
    "!df -h"
   ]
  },
  {
   "cell_type": "markdown",
   "id": "065e2140",
   "metadata": {},
   "source": [
    "### 1. text file"
   ]
  },
  {
   "cell_type": "code",
   "execution_count": 1,
   "id": "8b699d67",
   "metadata": {},
   "outputs": [],
   "source": [
    "f = open('file1','w')\n",
    "content  = f.write('hi')\n",
    "f.close()"
   ]
  },
  {
   "cell_type": "markdown",
   "id": "ef3ca1b8",
   "metadata": {},
   "source": [
    "### 2. os 모듈"
   ]
  },
  {
   "cell_type": "code",
   "execution_count": 2,
   "id": "a3f6a28f",
   "metadata": {},
   "outputs": [],
   "source": [
    "#경로 만들기\n",
    "\n",
    "import os\n",
    "os.mkdir('i have no money.txt')"
   ]
  },
  {
   "cell_type": "code",
   "execution_count": null,
   "id": "1032c118",
   "metadata": {},
   "outputs": [],
   "source": [
    "# 경로 바꾸기\n",
    "os.chdir('/content/gdrive/MyDrive/For_Student/CodingLecture/03.14.CodingLecture01')\n"
   ]
  },
  {
   "cell_type": "code",
   "execution_count": 3,
   "id": "e72178bb",
   "metadata": {},
   "outputs": [],
   "source": [
    "# 디렉토리 확인 \n",
    "#os.path.isdir('디렉토리명')\n",
    "\n",
    "if not os.path.isdir('log'):\n",
    "    os.mkdir('log')"
   ]
  },
  {
   "cell_type": "markdown",
   "id": "3b99327b",
   "metadata": {},
   "source": [
    "#### 파일 디렉토리 변경\n",
    "- 새 경로 생성: os.path.join(path1,path2) \n",
    "- 새 경로에 파일 복사 : shutil.copy(file, new_path)"
   ]
  },
  {
   "cell_type": "code",
   "execution_count": 2,
   "id": "49c5113b",
   "metadata": {},
   "outputs": [
    {
     "ename": "FileNotFoundError",
     "evalue": "[Errno 2] No such file or directory: 'file1'",
     "output_type": "error",
     "traceback": [
      "\u001b[1;31m---------------------------------------------------------------------------\u001b[0m",
      "\u001b[1;31mFileNotFoundError\u001b[0m                         Traceback (most recent call last)",
      "\u001b[1;32mc:\\Users\\shinw\\OneDrive\\문서\\GitHub\\study-garage\\Python\\File 다루기os, pathlib, pickle.ipynb 셀 8\u001b[0m in \u001b[0;36m<module>\u001b[1;34m\u001b[0m\n\u001b[0;32m      <a href='vscode-notebook-cell:/c%3A/Users/shinw/OneDrive/%EB%AC%B8%EC%84%9C/GitHub/study-garage/Python/File%20%EB%8B%A4%EB%A3%A8%EA%B8%B0os%2C%20pathlib%2C%20pickle.ipynb#X10sZmlsZQ%3D%3D?line=8'>9</a>\u001b[0m dest \u001b[39m=\u001b[39m os\u001b[39m.\u001b[39mpath\u001b[39m.\u001b[39mjoin(\u001b[39m'\u001b[39m\u001b[39mi have no money.txt\u001b[39m\u001b[39m'\u001b[39m,\u001b[39m'\u001b[39m\u001b[39mi have no money.txt\u001b[39m\u001b[39m'\u001b[39m) \n\u001b[0;32m     <a href='vscode-notebook-cell:/c%3A/Users/shinw/OneDrive/%EB%AC%B8%EC%84%9C/GitHub/study-garage/Python/File%20%EB%8B%A4%EB%A3%A8%EA%B8%B0os%2C%20pathlib%2C%20pickle.ipynb#X10sZmlsZQ%3D%3D?line=9'>10</a>\u001b[0m \u001b[39m# shutil : 디렉토리 변경\u001b[39;00m\n\u001b[0;32m     <a href='vscode-notebook-cell:/c%3A/Users/shinw/OneDrive/%EB%AC%B8%EC%84%9C/GitHub/study-garage/Python/File%20%EB%8B%A4%EB%A3%A8%EA%B8%B0os%2C%20pathlib%2C%20pickle.ipynb#X10sZmlsZQ%3D%3D?line=10'>11</a>\u001b[0m \u001b[39m# i have no money.txt 라는 폴더에 source 복 붙.\u001b[39;00m\n\u001b[1;32m---> <a href='vscode-notebook-cell:/c%3A/Users/shinw/OneDrive/%EB%AC%B8%EC%84%9C/GitHub/study-garage/Python/File%20%EB%8B%A4%EB%A3%A8%EA%B8%B0os%2C%20pathlib%2C%20pickle.ipynb#X10sZmlsZQ%3D%3D?line=11'>12</a>\u001b[0m shutil\u001b[39m.\u001b[39;49mcopy(source,\u001b[39m'\u001b[39;49m\u001b[39mi have no money.txt\u001b[39;49m\u001b[39m'\u001b[39;49m)\n",
      "File \u001b[1;32mc:\\Users\\shinw\\AppData\\Local\\Programs\\Python\\Python39\\lib\\shutil.py:418\u001b[0m, in \u001b[0;36mcopy\u001b[1;34m(src, dst, follow_symlinks)\u001b[0m\n\u001b[0;32m    416\u001b[0m \u001b[39mif\u001b[39;00m os\u001b[39m.\u001b[39mpath\u001b[39m.\u001b[39misdir(dst):\n\u001b[0;32m    417\u001b[0m     dst \u001b[39m=\u001b[39m os\u001b[39m.\u001b[39mpath\u001b[39m.\u001b[39mjoin(dst, os\u001b[39m.\u001b[39mpath\u001b[39m.\u001b[39mbasename(src))\n\u001b[1;32m--> 418\u001b[0m copyfile(src, dst, follow_symlinks\u001b[39m=\u001b[39;49mfollow_symlinks)\n\u001b[0;32m    419\u001b[0m copymode(src, dst, follow_symlinks\u001b[39m=\u001b[39mfollow_symlinks)\n\u001b[0;32m    420\u001b[0m \u001b[39mreturn\u001b[39;00m dst\n",
      "File \u001b[1;32mc:\\Users\\shinw\\AppData\\Local\\Programs\\Python\\Python39\\lib\\shutil.py:264\u001b[0m, in \u001b[0;36mcopyfile\u001b[1;34m(src, dst, follow_symlinks)\u001b[0m\n\u001b[0;32m    262\u001b[0m     os\u001b[39m.\u001b[39msymlink(os\u001b[39m.\u001b[39mreadlink(src), dst)\n\u001b[0;32m    263\u001b[0m \u001b[39melse\u001b[39;00m:\n\u001b[1;32m--> 264\u001b[0m     \u001b[39mwith\u001b[39;00m \u001b[39mopen\u001b[39;49m(src, \u001b[39m'\u001b[39;49m\u001b[39mrb\u001b[39;49m\u001b[39m'\u001b[39;49m) \u001b[39mas\u001b[39;00m fsrc, \u001b[39mopen\u001b[39m(dst, \u001b[39m'\u001b[39m\u001b[39mwb\u001b[39m\u001b[39m'\u001b[39m) \u001b[39mas\u001b[39;00m fdst:\n\u001b[0;32m    265\u001b[0m         \u001b[39m# macOS\u001b[39;00m\n\u001b[0;32m    266\u001b[0m         \u001b[39mif\u001b[39;00m _HAS_FCOPYFILE:\n\u001b[0;32m    267\u001b[0m             \u001b[39mtry\u001b[39;00m:\n",
      "\u001b[1;31mFileNotFoundError\u001b[0m: [Errno 2] No such file or directory: 'file1'"
     ]
    }
   ],
   "source": [
    "# 디렉토리 변경\n",
    "# shutil\n",
    "# join\n",
    "import os\n",
    "import shutil\n",
    "\n",
    "source = 'file1'\n",
    "# join: path 인자 두개를 연결함, 새로운 경로가 만들어짐.\n",
    "dest = os.path.join('i have no money.txt','i have no money.txt') \n",
    "# shutil : 디렉토리 변경\n",
    "# i have no money.txt 라는 폴더에 source 복 붙.\n",
    "shutil.copy(source,'i have no money.txt')"
   ]
  },
  {
   "cell_type": "code",
   "execution_count": 1,
   "id": "50c558d1",
   "metadata": {},
   "outputs": [
    {
     "ename": "NameError",
     "evalue": "name 'shutil' is not defined",
     "output_type": "error",
     "traceback": [
      "\u001b[1;31m---------------------------------------------------------------------------\u001b[0m",
      "\u001b[1;31mNameError\u001b[0m                                 Traceback (most recent call last)",
      "\u001b[1;32mc:\\Users\\shinw\\OneDrive\\문서\\GitHub\\study-garage\\Python\\File 다루기os, pathlib, pickle.ipynb 셀 9\u001b[0m in \u001b[0;36m<module>\u001b[1;34m\u001b[0m\n\u001b[0;32m      <a href='vscode-notebook-cell:/c%3A/Users/shinw/OneDrive/%EB%AC%B8%EC%84%9C/GitHub/study-garage/Python/File%20%EB%8B%A4%EB%A3%A8%EA%B8%B0os%2C%20pathlib%2C%20pickle.ipynb#X25sZmlsZQ%3D%3D?line=0'>1</a>\u001b[0m \u001b[39m# 경로 i have no money.txt\\\\i have no money.txt 에 복붙\u001b[39;00m\n\u001b[0;32m      <a href='vscode-notebook-cell:/c%3A/Users/shinw/OneDrive/%EB%AC%B8%EC%84%9C/GitHub/study-garage/Python/File%20%EB%8B%A4%EB%A3%A8%EA%B8%B0os%2C%20pathlib%2C%20pickle.ipynb#X25sZmlsZQ%3D%3D?line=1'>2</a>\u001b[0m \u001b[39m# 그러나 두번째 경로는 존재하지 않음.\u001b[39;00m\n\u001b[0;32m      <a href='vscode-notebook-cell:/c%3A/Users/shinw/OneDrive/%EB%AC%B8%EC%84%9C/GitHub/study-garage/Python/File%20%EB%8B%A4%EB%A3%A8%EA%B8%B0os%2C%20pathlib%2C%20pickle.ipynb#X25sZmlsZQ%3D%3D?line=2'>3</a>\u001b[0m \u001b[39m# 파일 명이 두번째 경로이름으로 바뀜.\u001b[39;00m\n\u001b[1;32m----> <a href='vscode-notebook-cell:/c%3A/Users/shinw/OneDrive/%EB%AC%B8%EC%84%9C/GitHub/study-garage/Python/File%20%EB%8B%A4%EB%A3%A8%EA%B8%B0os%2C%20pathlib%2C%20pickle.ipynb#X25sZmlsZQ%3D%3D?line=3'>4</a>\u001b[0m shutil\u001b[39m.\u001b[39mcopy(source,dest)\n",
      "\u001b[1;31mNameError\u001b[0m: name 'shutil' is not defined"
     ]
    }
   ],
   "source": [
    "# 경로 i have no money.txt\\\\i have no money.txt 에 복붙\n",
    "# 그러나 두번째 경로는 존재하지 않음.\n",
    "# 파일 명이 두번째 경로이름으로 바뀜.\n",
    "shutil.copy(source,dest)"
   ]
  },
  {
   "cell_type": "markdown",
   "id": "86a15e50",
   "metadata": {},
   "source": [
    "#### os.listdir(\"경로\")\n",
    " - 경로 안의 파일 또는 디렉토리의 이름을 list로 가져옴\n",
    " "
   ]
  },
  {
   "cell_type": "code",
   "execution_count": 8,
   "id": "34f06769",
   "metadata": {},
   "outputs": [
    {
     "data": {
      "text/plain": [
       "['concurrent.futures 활용 비동기 작업.ipynb',\n",
       " 'Coroutine.ipynb',\n",
       " 'Exception.ipynb',\n",
       " 'File 다루기os, pathlib, pickle.ipynb',\n",
       " 'Iterator and Generator and itertools.ipynb',\n",
       " 'MARKDOWN.ipynb',\n",
       " 'Modules and Projects.ipynb',\n",
       " 'Numpy.ipynb',\n",
       " 'Often used Functions.ipynb',\n",
       " 'Often used List.ipynb',\n",
       " 'Often used Methods.ipynb',\n",
       " 'OOP(Object Oriented Programming).ipynb',\n",
       " 'Python GIL.ipynb',\n",
       " 'Random.ipynb',\n",
       " '매개변수.ipynb',\n",
       " '상식.ipynb']"
      ]
     },
     "execution_count": 8,
     "metadata": {},
     "output_type": "execute_result"
    }
   ],
   "source": [
    "# list comprehension 에 if문에 endswith를 활용해서 조건추가 가능\n",
    "import os\n",
    "files = [file_name\n",
    "        for file_name in os.listdir(\".\") if file_name.endswith(\"ipynb\")] \n",
    "files"
   ]
  },
  {
   "cell_type": "markdown",
   "id": "fc9e3dfc",
   "metadata": {},
   "source": [
    "#### os.walk(\"경로\")\n",
    "- root, dir, file = os.walk 튜플 반환"
   ]
  },
  {
   "cell_type": "code",
   "execution_count": 1,
   "id": "f8534a99",
   "metadata": {},
   "outputs": [
    {
     "name": "stdout",
     "output_type": "stream",
     "text": [
      "# root : ../\n",
      "dir: .git\n",
      "dir: .vscode\n",
      "dir: AI\n",
      "dir: Data_structure\n",
      "dir: git\n",
      "dir: Python\n",
      "dir: PyTorch\n",
      "dir: 백준\n",
      "file: .gitignore\n",
      "file: Maths\n",
      "# root : ../.git\n",
      "dir: hooks\n",
      "dir: info\n",
      "dir: logs\n",
      "dir: objects\n",
      "dir: refs\n",
      "file: config\n",
      "file: description\n",
      "file: HEAD\n",
      "file: index\n",
      "file: packed-refs\n",
      "# root : ../.git\\hooks\n",
      "file: applypatch-msg.sample\n",
      "file: commit-msg.sample\n",
      "file: fsmonitor-watchman.sample\n",
      "file: post-update.sample\n",
      "file: pre-applypatch.sample\n",
      "file: pre-commit.sample\n",
      "file: pre-merge-commit.sample\n",
      "file: pre-push.sample\n",
      "file: pre-rebase.sample\n",
      "file: pre-receive.sample\n",
      "file: prepare-commit-msg.sample\n",
      "file: push-to-checkout.sample\n",
      "file: sendemail-validate.sample\n",
      "file: update.sample\n",
      "# root : ../.git\\info\n",
      "file: exclude\n",
      "# root : ../.git\\logs\n",
      "dir: refs\n",
      "file: HEAD\n",
      "# root : ../.git\\logs\\refs\n",
      "dir: heads\n",
      "dir: remotes\n",
      "# root : ../.git\\logs\\refs\\heads\n",
      "file: main\n",
      "# root : ../.git\\logs\\refs\\remotes\n",
      "dir: origin\n",
      "# root : ../.git\\logs\\refs\\remotes\\origin\n",
      "file: HEAD\n",
      "# root : ../.git\\objects\n",
      "dir: info\n",
      "dir: pack\n",
      "# root : ../.git\\objects\\info\n",
      "# root : ../.git\\objects\\pack\n",
      "file: pack-62cbe56e0bc95c301842c22ac6b004101d541614.idx\n",
      "file: pack-62cbe56e0bc95c301842c22ac6b004101d541614.pack\n",
      "file: pack-62cbe56e0bc95c301842c22ac6b004101d541614.rev\n",
      "# root : ../.git\\refs\n",
      "dir: heads\n",
      "dir: remotes\n",
      "dir: tags\n",
      "# root : ../.git\\refs\\heads\n",
      "file: main\n",
      "# root : ../.git\\refs\\remotes\n",
      "dir: origin\n",
      "# root : ../.git\\refs\\remotes\\origin\n",
      "file: HEAD\n",
      "# root : ../.git\\refs\\tags\n",
      "# root : ../.vscode\n",
      "file: settings.json\n",
      "# root : ../AI\n",
      "dir: Deep-learning\n",
      "dir: Templates\n",
      "# root : ../AI\\Deep-learning\n",
      "file: (8강_실습)_Transformer.ipynb\n",
      "file: Computer Vision Applications.ipynb\n",
      "file: Modern cnn.ipynb\n",
      "file: Optimizer.ipynb\n",
      "file: RNN.ipynb\n",
      "file: Transformer.ipynb\n",
      "file: Transformer_practice.ipynb\n",
      "# root : ../AI\\Templates\n",
      "file: Usefull_codes.ipynb\n",
      "# root : ../Data_structure\n",
      "file: Array_배열.ipynb\n",
      "file: Hash Table_해쉬 테이블.ipynb\n",
      "file: Linked List_링크드 리스트.ipynb\n",
      "file: Queue_큐.ipynb\n",
      "file: Stack_스택.ipynb\n",
      "file: Tree_트리.ipynb\n",
      "file: 시간 복잡도.ipynb\n",
      "# root : ../git\n",
      "file: 버전관리.ipynb\n",
      "# root : ../Python\n",
      "dir: Algorithm\n",
      "file: Advanced Dict and Set.ipynb\n",
      "file: Asyncio로 비동기 작업.py\n",
      "file: concurrent.futures 활용 비동기 작업.ipynb\n",
      "file: Coroutine.ipynb\n",
      "file: Decorator.ipynb\n",
      "file: Exception.ipynb\n",
      "file: File 다루기os, pathlib, pickle.ipynb\n",
      "file: Iterator and Generator and itertools.ipynb\n",
      "file: Magic commands.ipynb\n",
      "file: MARKDOWN.ipynb\n",
      "file: Modules and Projects.ipynb\n",
      "file: Numpy.ipynb\n",
      "file: Often used Functions.ipynb\n",
      "file: Often used Lib.ipynb\n",
      "file: often used List.ipynb\n",
      "file: Often used Methods.ipynb\n",
      "file: Often used string.ipynb\n",
      "file: OOP(Object Oriented Programming).ipynb\n",
      "file: Pandas.ipynb\n",
      "file: practics.py\n",
      "file: Python GIL.ipynb\n",
      "file: Random.ipynb\n",
      "file: seaborn.ipynb\n",
      "file: StaticMethod_ClassMethod.ipynb\n",
      "file: 매개변수.ipynb\n",
      "file: 상식.ipynb\n",
      "# root : ../Python\\Algorithm\n",
      "file: DFS&BFS(+재귀함수).ipynb\n",
      "file: 그리디 알고리즘.ipynb\n",
      "file: 동적 프로그래밍.ipynb\n",
      "file: 오답노트.ipynb\n",
      "file: 이진 탐색.ipynb\n",
      "file: 정렬 알고리즘.ipynb\n",
      "# root : ../PyTorch\n",
      "file: (3강-실습) Pytorch Project Template.ipynb\n",
      "file: (5강-실습) Datasets and Dataloaders.ipynb\n",
      "file: (6강-실습)_Transfer_Learning.ipynb\n",
      "file: AutoGrad & Optimizer.ipynb\n",
      "file: Hyperparameter Tuning.ipynb\n",
      "file: Introduction to pytorch.ipynb\n",
      "file: Multi-GPU 학습.ipynb\n",
      "file: Often used torch.ipynb\n",
      "file: PyTorch Basics.ipynb\n",
      "file: Pytorch Dataset&Dataloader.ipynb\n",
      "file: PyTorch Project Template.ipynb\n",
      "file: Ray_tune_for_Hyperparameter_Turning.ipynb\n",
      "file: Tensorboard_basics.ipynb\n",
      "file: Tensorboard_ipynb.ipynb\n",
      "file: Weights_and_Biases.ipynb\n",
      "file: 모델 불러오기.ipynb\n",
      "# root : ../백준\n",
      "dir: Silver\n",
      "# root : ../백준\\Silver\n",
      "dir: 1260. DFS와 BFS\n",
      "dir: 1931. 회의실 배정\n",
      "file: file1\n",
      "# root : ../백준\\Silver\\1260. DFS와 BFS\n",
      "file: DFS와 BFS.py\n",
      "file: README.md\n",
      "# root : ../백준\\Silver\\1931. 회의실 배정\n",
      "file: README.md\n",
      "file: 회의실 배정.py\n"
     ]
    }
   ],
   "source": [
    "import os\n",
    "\n",
    "root_dir = \"../\"\n",
    "for (root, dirs, files) in os.walk(root_dir):\n",
    "    print(\"# root : \" + root)\n",
    "    if len(dirs) > 0:\n",
    "        for dir_name in dirs:\n",
    "            print(\"dir: \" + dir_name)\n",
    "\n",
    "    if len(files) > 0:\n",
    "        for file_name in files:\n",
    "            print(\"file: \" + file_name)"
   ]
  },
  {
   "cell_type": "markdown",
   "id": "129a2217",
   "metadata": {},
   "source": [
    "### 3. pathlib 모듈"
   ]
  },
  {
   "cell_type": "code",
   "execution_count": 7,
   "id": "75082114",
   "metadata": {},
   "outputs": [
    {
     "data": {
      "text/plain": [
       "WindowsPath('C:/Users/shinw/OneDrive/바탕 화면/jupyter_projects')"
      ]
     },
     "execution_count": 7,
     "metadata": {},
     "output_type": "execute_result"
    }
   ],
   "source": [
    "import pathlib\n",
    "#current working directory\n",
    "cwd = pathlib.Path.cwd()\n",
    "cwd"
   ]
  },
  {
   "cell_type": "markdown",
   "id": "a8843b8e",
   "metadata": {},
   "source": [
    "#### glob('')\n",
    "- 현재 디렉토리의 파일 경로를 generator로 반환\n"
   ]
  },
  {
   "cell_type": "code",
   "execution_count": 9,
   "id": "782bcc3a",
   "metadata": {
    "collapsed": true
   },
   "outputs": [
    {
     "data": {
      "text/plain": [
       "[WindowsPath('C:/Users/shinw/OneDrive/바탕 화면/jupyter_projects/.ipynb_checkpoints'),\n",
       " WindowsPath('C:/Users/shinw/OneDrive/바탕 화면/jupyter_projects/Asyncio 활용 비동기 작업.ipynb'),\n",
       " WindowsPath('C:/Users/shinw/OneDrive/바탕 화면/jupyter_projects/concurrent.futures 활용 비동기 작업.ipynb'),\n",
       " WindowsPath('C:/Users/shinw/OneDrive/바탕 화면/jupyter_projects/Coroutine.ipynb'),\n",
       " WindowsPath('C:/Users/shinw/OneDrive/바탕 화면/jupyter_projects/CS231n'),\n",
       " WindowsPath('C:/Users/shinw/OneDrive/바탕 화면/jupyter_projects/Exception.ipynb'),\n",
       " WindowsPath('C:/Users/shinw/OneDrive/바탕 화면/jupyter_projects/File 다루기.ipynb'),\n",
       " WindowsPath('C:/Users/shinw/OneDrive/바탕 화면/jupyter_projects/file1'),\n",
       " WindowsPath('C:/Users/shinw/OneDrive/바탕 화면/jupyter_projects/i have no money.txt'),\n",
       " WindowsPath('C:/Users/shinw/OneDrive/바탕 화면/jupyter_projects/Iterator and Generator and itertools.ipynb'),\n",
       " WindowsPath('C:/Users/shinw/OneDrive/바탕 화면/jupyter_projects/log'),\n",
       " WindowsPath('C:/Users/shinw/OneDrive/바탕 화면/jupyter_projects/Modules and Projects.ipynb'),\n",
       " WindowsPath('C:/Users/shinw/OneDrive/바탕 화면/jupyter_projects/OOP(Object Oriented Programming).ipynb'),\n",
       " WindowsPath('C:/Users/shinw/OneDrive/바탕 화면/jupyter_projects/Python GIL.ipynb'),\n",
       " WindowsPath('C:/Users/shinw/OneDrive/바탕 화면/jupyter_projects/Random.ipynb'),\n",
       " WindowsPath('C:/Users/shinw/OneDrive/바탕 화면/jupyter_projects/Znote.ipynb'),\n",
       " WindowsPath('C:/Users/shinw/OneDrive/바탕 화면/jupyter_projects/매개변수.ipynb'),\n",
       " WindowsPath('C:/Users/shinw/OneDrive/바탕 화면/jupyter_projects/자료구조')]"
      ]
     },
     "execution_count": 9,
     "metadata": {},
     "output_type": "execute_result"
    }
   ],
   "source": [
    "list(cwd.glob(\"*\"))"
   ]
  },
  {
   "cell_type": "code",
   "execution_count": 17,
   "id": "1089e475",
   "metadata": {},
   "outputs": [
    {
     "data": {
      "text/plain": [
       "[WindowsPath('C:/Users/shinw/OneDrive/바탕 화면/가족관계증명서.pdf')]"
      ]
     },
     "execution_count": 17,
     "metadata": {},
     "output_type": "execute_result"
    }
   ],
   "source": [
    "list(cwd.parent.glob(\"*.pdf\"))"
   ]
  },
  {
   "cell_type": "markdown",
   "id": "8fc3df3e",
   "metadata": {},
   "source": [
    "\n",
    "#### glob 모듈도 존재\n",
    "- from glob import glob\n",
    "- glob(\"/data/*.jpg\")\n",
    "- 리스트로 반환"
   ]
  },
  {
   "cell_type": "markdown",
   "id": "77fa38ee",
   "metadata": {},
   "source": [
    "### 4. pickle 모듈\n",
    "- 객체를 영속화(객체를 file로 저장) <font size = 1>피클처럼 숙성시켰다가 나중에 먹는다 그런<font>\n",
    "- 클래스, 함수 다 가능\n",
    "- 실행중 정보를 저장하고 불러와서 사용\n",
    "- 저장해야하는 정보, 계산결과 등 "
   ]
  },
  {
   "cell_type": "code",
   "execution_count": 21,
   "id": "6d30e573",
   "metadata": {},
   "outputs": [],
   "source": [
    "import pickle\n",
    "\n",
    "#picke 파일을 만든다.\n",
    "f = open('list.pickle','wb')\n",
    "test = [1,2,3]\n",
    "# 피클 파일에 객체를 저장한다.\n",
    "pickle.dump(test,f)\n",
    "f.close()\n"
   ]
  },
  {
   "cell_type": "code",
   "execution_count": 22,
   "id": "63968470",
   "metadata": {},
   "outputs": [
    {
     "ename": "SyntaxError",
     "evalue": "invalid syntax (4129119882.py, line 1)",
     "output_type": "error",
     "traceback": [
      "\u001b[1;36m  Input \u001b[1;32mIn [22]\u001b[1;36m\u001b[0m\n\u001b[1;33m    def test\u001b[0m\n\u001b[1;37m            ^\u001b[0m\n\u001b[1;31mSyntaxError\u001b[0m\u001b[1;31m:\u001b[0m invalid syntax\n"
     ]
    }
   ],
   "source": [
    "#text 객체, 메모리에서 제거\n",
    "del test\n",
    "test"
   ]
  },
  {
   "cell_type": "code",
   "execution_count": 23,
   "id": "d85fc641",
   "metadata": {},
   "outputs": [
    {
     "name": "stdout",
     "output_type": "stream",
     "text": [
      "[1, 2, 3]\n"
     ]
    }
   ],
   "source": [
    "# 파일로 저장해놨던 객체를 불러옴. 부활\n",
    "f = open('list.pickle','rb')\n",
    "test_pickle = pickle.load(f)\n",
    "print(test_pickle)\n",
    "f.close()"
   ]
  },
  {
   "cell_type": "markdown",
   "id": "827fa9f4",
   "metadata": {},
   "source": [
    "### tqdm\n",
    "- from tqdm.notebook import tqdm\n",
    "- 진행상황을 표현해줌\n",
    "- iterator 객체에 씌워서 사용\n"
   ]
  },
  {
   "cell_type": "code",
   "execution_count": 4,
   "id": "a53284ee",
   "metadata": {},
   "outputs": [
    {
     "data": {
      "application/vnd.jupyter.widget-view+json": {
       "model_id": "aac76864c4d54b98bb030bd8952bfc7b",
       "version_major": 2,
       "version_minor": 0
      },
      "text/plain": [
       "  0%|          | 0/10 [00:00<?, ?it/s]"
      ]
     },
     "metadata": {},
     "output_type": "display_data"
    }
   ],
   "source": [
    "from tqdm.notebook import tqdm\n",
    "import time\n",
    "for i in tqdm(range(10)):\n",
    "    time.sleep(0.25)\n",
    "    i"
   ]
  },
  {
   "cell_type": "code",
   "execution_count": null,
   "id": "25cf87d9",
   "metadata": {},
   "outputs": [],
   "source": []
  }
 ],
 "metadata": {
  "kernelspec": {
   "display_name": "Python 3.9.1 64-bit",
   "language": "python",
   "name": "python3"
  },
  "language_info": {
   "codemirror_mode": {
    "name": "ipython",
    "version": 3
   },
   "file_extension": ".py",
   "mimetype": "text/x-python",
   "name": "python",
   "nbconvert_exporter": "python",
   "pygments_lexer": "ipython3",
   "version": "3.12.4"
  },
  "vscode": {
   "interpreter": {
    "hash": "da2004fe03f436a9a81b9c95e439c4add18d0165a64bc8b11e0efabfe79c313a"
   }
  }
 },
 "nbformat": 4,
 "nbformat_minor": 5
}
