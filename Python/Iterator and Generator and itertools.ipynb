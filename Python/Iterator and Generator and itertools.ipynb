{
 "cells": [
  {
   "cell_type": "markdown",
   "id": "ee71f675",
   "metadata": {},
   "source": [
    "## Iterator\n",
    " - __정의__ : 한 번 호출 할 때마다 하나의 값만 리턴하는 데이터 타입\n",
    " \n",
    " \n",
    " - __특징__\n",
    "   * 지능형 리스트, 딕셔너리, 집합에 비해 메모리 사용량 적음\n",
    "   - 단위 실현이 가능한 코루틴 구현에 중요 \n",
    " \n",
    " \n",
    " - __종류__: for, collections(itertools 함수들), text file, List, Dict, Set, Tuple, unpacking, *args\n",
    " \n",
    " \n",
    " - __조건__: `__iter__` & `__next__` 속성이 존재할때 (필요충분조건)\n",
    "     "
   ]
  },
  {
   "cell_type": "code",
   "execution_count": 2,
   "id": "6fcf950a",
   "metadata": {},
   "outputs": [
    {
     "name": "stdout",
     "output_type": "stream",
     "text": [
      "EX1-2 - a\n",
      "EX1-2 - b\n",
      "EX1-2 - c\n",
      "EX1-2 - d\n",
      "EX1-2 - e\n",
      "EX1-2 - f\n"
     ]
    }
   ],
   "source": [
    "# iter()\n",
    "\n",
    "t = 'abcdef'\n",
    "w = iter(t)\n",
    "\n",
    "while True:\n",
    "    try :\n",
    "        print('EX1-2 -', next(w))\n",
    "    except StopIteration:\n",
    "        break"
   ]
  },
  {
   "cell_type": "code",
   "execution_count": 4,
   "id": "994006ea",
   "metadata": {},
   "outputs": [
    {
     "name": "stdout",
     "output_type": "stream",
     "text": [
      "EX1-3 - True\n",
      "EX1-4 - True\n"
     ]
    }
   ],
   "source": [
    "# 반복형 확인\n",
    "\n",
    "from collections import abc\n",
    "\n",
    "print('EX1-3 -', hasattr(t,'__iter__')) # t 가 '__iter__'  속성이 있느나\n",
    "print('EX1-4 -', isinstance(t, abc.Iterable)) # t가 abc.iterable의 객체냐."
   ]
  },
  {
   "cell_type": "code",
   "execution_count": 23,
   "id": "64fccb21",
   "metadata": {},
   "outputs": [
    {
     "name": "stdout",
     "output_type": "stream",
     "text": [
      "EX2-1 - WordSplit(['Who', 'says', 'nights', 'are', 'for', 'sleeping'])\n",
      "Called __next__\n",
      "EX2-1 - Who\n",
      "Called __next__\n",
      "EX2-2 - says\n",
      "Called __next__\n",
      "EX2-3 - nights\n",
      "Called __next__\n",
      "EX2-4 - are\n",
      "Called __next__\n",
      "EX2-5 - for\n",
      "Called __next__\n",
      "EX2-6 - sleeping\n",
      "Called __next__\n"
     ]
    },
    {
     "ename": "StopIteration",
     "evalue": "test",
     "output_type": "error",
     "traceback": [
      "\u001b[1;31m---------------------------------------------------------------------------\u001b[0m",
      "\u001b[1;31mIndexError\u001b[0m                                Traceback (most recent call last)",
      "\u001b[1;32m~\\AppData\\Local\\Temp/ipykernel_23072/2186128454.py\u001b[0m in \u001b[0;36m__next__\u001b[1;34m(self)\u001b[0m\n\u001b[0;32m     10\u001b[0m         \u001b[1;32mtry\u001b[0m\u001b[1;33m:\u001b[0m\u001b[1;33m\u001b[0m\u001b[1;33m\u001b[0m\u001b[0m\n\u001b[1;32m---> 11\u001b[1;33m             \u001b[0mword\u001b[0m \u001b[1;33m=\u001b[0m \u001b[0mself\u001b[0m\u001b[1;33m.\u001b[0m\u001b[0m_text\u001b[0m\u001b[1;33m[\u001b[0m\u001b[0mself\u001b[0m\u001b[1;33m.\u001b[0m\u001b[0m_idx\u001b[0m\u001b[1;33m]\u001b[0m\u001b[1;33m\u001b[0m\u001b[1;33m\u001b[0m\u001b[0m\n\u001b[0m\u001b[0;32m     12\u001b[0m         \u001b[1;32mexcept\u001b[0m \u001b[0mIndexError\u001b[0m\u001b[1;33m:\u001b[0m\u001b[1;33m\u001b[0m\u001b[1;33m\u001b[0m\u001b[0m\n",
      "\u001b[1;31mIndexError\u001b[0m: list index out of range",
      "\nDuring handling of the above exception, another exception occurred:\n",
      "\u001b[1;31mStopIteration\u001b[0m                             Traceback (most recent call last)",
      "\u001b[1;32m~\\AppData\\Local\\Temp/ipykernel_23072/2186128454.py\u001b[0m in \u001b[0;36m<module>\u001b[1;34m\u001b[0m\n\u001b[0;32m     31\u001b[0m \u001b[0mprint\u001b[0m\u001b[1;33m(\u001b[0m\u001b[1;34m'EX2-5 -'\u001b[0m\u001b[1;33m,\u001b[0m\u001b[0mnext\u001b[0m\u001b[1;33m(\u001b[0m\u001b[0mwi\u001b[0m\u001b[1;33m)\u001b[0m\u001b[1;33m)\u001b[0m\u001b[1;33m\u001b[0m\u001b[1;33m\u001b[0m\u001b[0m\n\u001b[0;32m     32\u001b[0m \u001b[0mprint\u001b[0m\u001b[1;33m(\u001b[0m\u001b[1;34m'EX2-6 -'\u001b[0m\u001b[1;33m,\u001b[0m\u001b[0mnext\u001b[0m\u001b[1;33m(\u001b[0m\u001b[0mwi\u001b[0m\u001b[1;33m)\u001b[0m\u001b[1;33m)\u001b[0m\u001b[1;33m\u001b[0m\u001b[1;33m\u001b[0m\u001b[0m\n\u001b[1;32m---> 33\u001b[1;33m \u001b[0mprint\u001b[0m\u001b[1;33m(\u001b[0m\u001b[1;34m'EX2-7 -'\u001b[0m\u001b[1;33m,\u001b[0m\u001b[0mnext\u001b[0m\u001b[1;33m(\u001b[0m\u001b[0mwi\u001b[0m\u001b[1;33m)\u001b[0m\u001b[1;33m)\u001b[0m\u001b[1;33m\u001b[0m\u001b[1;33m\u001b[0m\u001b[0m\n\u001b[0m",
      "\u001b[1;32m~\\AppData\\Local\\Temp/ipykernel_23072/2186128454.py\u001b[0m in \u001b[0;36m__next__\u001b[1;34m(self)\u001b[0m\n\u001b[0;32m     11\u001b[0m             \u001b[0mword\u001b[0m \u001b[1;33m=\u001b[0m \u001b[0mself\u001b[0m\u001b[1;33m.\u001b[0m\u001b[0m_text\u001b[0m\u001b[1;33m[\u001b[0m\u001b[0mself\u001b[0m\u001b[1;33m.\u001b[0m\u001b[0m_idx\u001b[0m\u001b[1;33m]\u001b[0m\u001b[1;33m\u001b[0m\u001b[1;33m\u001b[0m\u001b[0m\n\u001b[0;32m     12\u001b[0m         \u001b[1;32mexcept\u001b[0m \u001b[0mIndexError\u001b[0m\u001b[1;33m:\u001b[0m\u001b[1;33m\u001b[0m\u001b[1;33m\u001b[0m\u001b[0m\n\u001b[1;32m---> 13\u001b[1;33m             \u001b[1;32mraise\u001b[0m \u001b[0mStopIteration\u001b[0m\u001b[1;33m(\u001b[0m\u001b[1;34m'test'\u001b[0m\u001b[1;33m)\u001b[0m\u001b[1;33m\u001b[0m\u001b[1;33m\u001b[0m\u001b[0m\n\u001b[0m\u001b[0;32m     14\u001b[0m         \u001b[0mself\u001b[0m\u001b[1;33m.\u001b[0m\u001b[0m_idx\u001b[0m \u001b[1;33m+=\u001b[0m \u001b[1;36m1\u001b[0m\u001b[1;33m\u001b[0m\u001b[1;33m\u001b[0m\u001b[0m\n\u001b[0;32m     15\u001b[0m         \u001b[1;32mreturn\u001b[0m \u001b[0mword\u001b[0m\u001b[1;33m\u001b[0m\u001b[1;33m\u001b[0m\u001b[0m\n",
      "\u001b[1;31mStopIteration\u001b[0m: test"
     ]
    }
   ],
   "source": [
    "# iterator 만들기 - __next__ 사용\n",
    "\n",
    "class WordSplitIter: #iterator\n",
    "    def __init__(self,text):\n",
    "        self._idx = 0\n",
    "        self._text = text.split(' ')\n",
    "    \n",
    "    def __next__(self):\n",
    "        print('Called __next__')\n",
    "        try:\n",
    "            word = self._text[self._idx]\n",
    "        except IndexError:\n",
    "            raise StopIteration('test')\n",
    "        self._idx += 1\n",
    "        return word\n",
    "    \n",
    "    def __iter__(self):           # iterable 하게 호출됐을 때 호출되는 함수\n",
    "        print('called __iter__')\n",
    "        return self\n",
    "    \n",
    "    def __repr__(self):\n",
    "        return 'WordSplit(%s)' %(self._text)\n",
    "\n",
    "wi = WordSplitIter('Who says nights are for sleeping')\n",
    "\n",
    "print('EX2-1 -',wi)\n",
    "print('EX2-1 -',next(wi))\n",
    "print('EX2-2 -',next(wi))\n",
    "print('EX2-3 -',next(wi))\n",
    "print('EX2-4 -',next(wi))\n",
    "print('EX2-5 -',next(wi))\n",
    "print('EX2-6 -',next(wi))\n",
    "print('EX2-7 -',next(wi))\n"
   ]
  },
  {
   "cell_type": "code",
   "execution_count": 24,
   "id": "1754d4d8",
   "metadata": {},
   "outputs": [
    {
     "name": "stdout",
     "output_type": "stream",
     "text": [
      "called __iter__\n",
      "Called __next__\n"
     ]
    }
   ],
   "source": [
    "for j in wi:\n",
    "    print('iter text',wi) # iterable 하게 호출함. iterator 로써 호출 한 것은 아니므로 print(wi) 즉, __repr__ 가 호출됨."
   ]
  },
  {
   "cell_type": "markdown",
   "id": "ab25d163",
   "metadata": {},
   "source": [
    "## Generator\n",
    " - 정의: Iterator를 생성하는 함수\n",
    "    - `yield`를 통해 Iterator 생성\n",
    " - 모든 데이터 대신 다음 데이터의 주소만 가지고 있다. yield를 통해 호출.\n",
    " - list에 비해 용량 절약이 된다.\n",
    " - list보다 권장됨."
   ]
  },
  {
   "cell_type": "code",
   "execution_count": 18,
   "id": "629928e3",
   "metadata": {},
   "outputs": [
    {
     "name": "stdout",
     "output_type": "stream",
     "text": [
      "EX3-1 Who\n",
      "EX3-2 says\n"
     ]
    }
   ],
   "source": [
    "# Generator '패턴'으로 iterator 만들기 - yield 사용 ..\n",
    "# Generator는 '함수' 인데 예제는 클래스이므로 Generator가 아니라 Generator '패턴'\n",
    "\n",
    "class WordSplitGenerator : \n",
    "    def __init__(self,text):\n",
    "        self._text = text.split(' ')\n",
    "    \n",
    "    def __iter__(self):         \n",
    "        for word in self._text:\n",
    "            yield word       # word 객체를 통해 iterator 값 하나씩 반환\n",
    "        return\n",
    "    \n",
    "    def __repr__(self):\n",
    "        return 'WordSplit(%s)' %(self._text)\n",
    "\n",
    "wt = WordSplitGenerator('Who says nughts are for sleeping')\n",
    "wg = iter(wt)            # __next__ 속성이 없으므로, iter()를 통해 부여해줌\n",
    "print('EX3-1',next(wg))\n",
    "print('EX3-2',next(wg))"
   ]
  },
  {
   "cell_type": "code",
   "execution_count": 26,
   "id": "27ea20a0",
   "metadata": {},
   "outputs": [
    {
     "name": "stdout",
     "output_type": "stream",
     "text": [
      "list build\n",
      "Start!\n",
      "Continue\n",
      "End\n",
      "\n",
      "generator build\n",
      "EX4-1 - ['AAAAAAAAA', 'BBBBBBBBB']\n",
      "EX4-2 - <generator object <genexpr> at 0x0000023AEAACE430>\n",
      "\n",
      "EX4-3 - AAAAAAAAA\n",
      "EX4-3 - BBBBBBBBB\n",
      "\n",
      "Start!\n",
      "EX4-4 - AAAAAAAAA\n",
      "Continue\n",
      "EX4-4 - BBBBBBBBB\n",
      "End\n"
     ]
    }
   ],
   "source": [
    "# Generator 예제1\n",
    "\n",
    "def generator_ex1():\n",
    "    print('Start!')\n",
    "    yield 'AAA'\n",
    "    print('Continue')\n",
    "    yield 'BBB'\n",
    "    print('End')\n",
    "    \n",
    "print('list build')\n",
    "temp2 = [x * 3 for x in generator_ex1()] # Generator의 print문이 바로 출력됨\n",
    "print()\n",
    "print('generator build')\n",
    "temp3 = (x * 3 for x in generator_ex1()) # 바로 출력되지 않고 이터레이터 객체를 반환함.\n",
    "\n",
    "print('EX4-1 -', temp2)\n",
    "print('EX4-2 -', temp3)\n",
    "\n",
    "print()\n",
    "for i in temp2:\n",
    "    print('EX4-3 -',i)\n",
    "\n",
    "print()\n",
    "for i in temp3:         #이제서 generator_ex1의 print문이 실행됨.\n",
    "    print('EX4-4 -',i)\n"
   ]
  },
  {
   "cell_type": "markdown",
   "id": "c6c9d845",
   "metadata": {},
   "source": [
    "## itertools\n",
    " - 모듈\n",
    " - 함수들은 Generator다 (Iterator를 반환한다)"
   ]
  },
  {
   "cell_type": "code",
   "execution_count": 28,
   "id": "e67f7495",
   "metadata": {},
   "outputs": [],
   "source": [
    "import itertools"
   ]
  },
  {
   "cell_type": "code",
   "execution_count": 29,
   "id": "3ea12b85",
   "metadata": {},
   "outputs": [
    {
     "name": "stdout",
     "output_type": "stream",
     "text": [
      "EX5-1 1\n",
      "EX5-1 3.5\n",
      "EX5-1 6.0\n"
     ]
    }
   ],
   "source": [
    "# count( a,n ) \n",
    "# a부터 n만큼씩 증가한 수 반환\n",
    "\n",
    "gen1 =itertools.count(1,2.5)\n",
    "\n",
    "print('EX5-1', next(gen1))\n",
    "print('EX5-1', next(gen1))\n",
    "print('EX5-1', next(gen1))"
   ]
  },
  {
   "cell_type": "code",
   "execution_count": 31,
   "id": "ade58162",
   "metadata": {},
   "outputs": [
    {
     "name": "stdout",
     "output_type": "stream",
     "text": [
      "EX5-2 1\n",
      "EX5-2 3.5\n",
      "EX5-2 6.0\n",
      "EX5-2 8.5\n"
     ]
    },
    {
     "ename": "StopIteration",
     "evalue": "",
     "output_type": "error",
     "traceback": [
      "\u001b[1;31m---------------------------------------------------------------------------\u001b[0m",
      "\u001b[1;31mStopIteration\u001b[0m                             Traceback (most recent call last)",
      "\u001b[1;32m~\\AppData\\Local\\Temp/ipykernel_23072/1507118698.py\u001b[0m in \u001b[0;36m<module>\u001b[1;34m\u001b[0m\n\u001b[0;32m      8\u001b[0m \u001b[0mprint\u001b[0m\u001b[1;33m(\u001b[0m\u001b[1;34m'EX5-2'\u001b[0m\u001b[1;33m,\u001b[0m \u001b[0mnext\u001b[0m\u001b[1;33m(\u001b[0m\u001b[0mgen2\u001b[0m\u001b[1;33m)\u001b[0m\u001b[1;33m)\u001b[0m\u001b[1;33m\u001b[0m\u001b[1;33m\u001b[0m\u001b[0m\n\u001b[0;32m      9\u001b[0m \u001b[0mprint\u001b[0m\u001b[1;33m(\u001b[0m\u001b[1;34m'EX5-2'\u001b[0m\u001b[1;33m,\u001b[0m \u001b[0mnext\u001b[0m\u001b[1;33m(\u001b[0m\u001b[0mgen2\u001b[0m\u001b[1;33m)\u001b[0m\u001b[1;33m)\u001b[0m\u001b[1;33m\u001b[0m\u001b[1;33m\u001b[0m\u001b[0m\n\u001b[1;32m---> 10\u001b[1;33m \u001b[0mprint\u001b[0m\u001b[1;33m(\u001b[0m\u001b[1;34m'EX5-2'\u001b[0m\u001b[1;33m,\u001b[0m \u001b[0mnext\u001b[0m\u001b[1;33m(\u001b[0m\u001b[0mgen2\u001b[0m\u001b[1;33m)\u001b[0m\u001b[1;33m)\u001b[0m\u001b[1;33m\u001b[0m\u001b[1;33m\u001b[0m\u001b[0m\n\u001b[0m\u001b[0;32m     11\u001b[0m \u001b[0mprint\u001b[0m\u001b[1;33m(\u001b[0m\u001b[1;34m'EX5-2'\u001b[0m\u001b[1;33m,\u001b[0m \u001b[0mnext\u001b[0m\u001b[1;33m(\u001b[0m\u001b[0mgen2\u001b[0m\u001b[1;33m)\u001b[0m\u001b[1;33m)\u001b[0m\u001b[1;33m\u001b[0m\u001b[1;33m\u001b[0m\u001b[0m\n",
      "\u001b[1;31mStopIteration\u001b[0m: "
     ]
    }
   ],
   "source": [
    "# takewhile( func, iterator)\n",
    "# func는 Boolean 값 반환.\n",
    "# iterator의 값을 순차대로 func에 대입했을 때 true인 값들만 하나씩 반환\n",
    "\n",
    "gen2= itertools.takewhile(lambda n : n < 10, itertools.count(1,2.5))\n",
    "print('EX5-2', next(gen2))\n",
    "print('EX5-2', next(gen2))\n",
    "print('EX5-2', next(gen2))\n",
    "print('EX5-2', next(gen2))\n",
    "print('EX5-2', next(gen2))\n",
    "print('EX5-2', next(gen2))"
   ]
  },
  {
   "cell_type": "code",
   "execution_count": 32,
   "id": "9c0f1318",
   "metadata": {},
   "outputs": [
    {
     "name": "stdout",
     "output_type": "stream",
     "text": [
      "Ex6-6 - 3\n",
      "Ex6-6 - 4\n",
      "Ex6-6 - 5\n"
     ]
    }
   ],
   "source": [
    "# filterfalse( func, iterator )\n",
    "# 필터 반대로 적용\n",
    "\n",
    "gen3 = itertools.filterfalse(lambda n : n<3, [1,2,3,4,5])\n",
    "for v in gen3:\n",
    "    print('Ex5-3 -', v)"
   ]
  },
  {
   "cell_type": "code",
   "execution_count": 36,
   "id": "b258bfa3",
   "metadata": {},
   "outputs": [
    {
     "name": "stdout",
     "output_type": "stream",
     "text": [
      "EX5-4 1\n",
      "EX5-4 3\n",
      "EX5-4 6\n",
      "EX5-4 10\n",
      "EX5-4 15\n",
      "EX5-4 21\n",
      "EX5-4 28\n",
      "EX5-4 36\n",
      "EX5-4 45\n",
      "EX5-4 55\n"
     ]
    }
   ],
   "source": [
    "# accumulate\n",
    "# 하나하나 누적값 반환\n",
    "\n",
    "gen4 = itertools.accumulate([x for x in range(1,11)]) \n",
    "print('EX5-4', next(gen4))\n",
    "print('EX5-4', next(gen4))\n",
    "print('EX5-4', next(gen4))\n",
    "print('EX5-4', next(gen4))\n",
    "print('EX5-4', next(gen4))\n",
    "print('EX5-4', next(gen4))\n",
    "print('EX5-4', next(gen4))\n",
    "print('EX5-4', next(gen4))\n",
    "print('EX5-4', next(gen4))\n",
    "print('EX5-4', next(gen4))"
   ]
  },
  {
   "cell_type": "code",
   "execution_count": 40,
   "id": "423e5fc0",
   "metadata": {},
   "outputs": [
    {
     "name": "stdout",
     "output_type": "stream",
     "text": [
      "EX5-5 A\n",
      "EX5-5 B\n",
      "EX5-5 C\n",
      "EX5-5 D\n",
      "EX5-5 E\n",
      "EX5-5 1\n",
      "EX5-5 3\n",
      "EX5-5 5\n",
      "EX5-5 7\n",
      "EX5-5 9\n",
      "\n",
      "EX5-6 (0, 'a')\n",
      "EX5-6 (1, 'b')\n",
      "EX5-6 (2, 'c')\n",
      "EX5-6 (3, 'd')\n",
      "EX5-6 (4, 'e')\n"
     ]
    }
   ],
   "source": [
    "# chain(*args)\n",
    "# 연결, 이어붙이기\n",
    "\n",
    "\n",
    "gen5 = itertools.chain('ABCDE', range(1,11,2))\n",
    "\n",
    "print('EX5-5', next(gen5))\n",
    "print('EX5-5', next(gen5))\n",
    "print('EX5-5', next(gen5))\n",
    "print('EX5-5', next(gen5))\n",
    "print('EX5-5', next(gen5))\n",
    "print('EX5-5', next(gen5))\n",
    "print('EX5-5', next(gen5))\n",
    "print('EX5-5', next(gen5))\n",
    "print('EX5-5', next(gen5))\n",
    "print('EX5-5', next(gen5))\n",
    "print()\n",
    "\n",
    "gen6 = itertools.chain(enumerate('abcdef'))\n",
    "print('EX5-6', next(gen6))\n",
    "print('EX5-6', next(gen6))\n",
    "print('EX5-6', next(gen6))\n",
    "print('EX5-6', next(gen6))\n",
    "print('EX5-6', next(gen6))"
   ]
  },
  {
   "cell_type": "code",
   "execution_count": 48,
   "id": "00c80526",
   "metadata": {},
   "outputs": [
    {
     "name": "stdout",
     "output_type": "stream",
     "text": [
      "EX6-10 - ('A',)\n",
      "EX6-10 - ('B',)\n",
      "EX6-10 - ('C',)\n",
      "EX6-10 - ('D',)\n",
      "EX6-10 - ('E',)\n",
      "\n",
      "EX6-11 - ('A', 'A')\n",
      "EX6-11 - ('A', 'B')\n",
      "EX6-11 - ('A', 'C')\n",
      "EX6-11 - ('A', 'D')\n",
      "EX6-11 - ('A', 'E')\n",
      "\n",
      "EX6-12 - ('A', 'a')\n",
      "EX6-12 - ('A', 'b')\n",
      "EX6-12 - ('A', 'c')\n",
      "EX6-12 - ('A', 'd')\n"
     ]
    }
   ],
   "source": [
    "# product(*args)\n",
    "# *args 내적\n",
    "\n",
    "gen7 = itertools.product('ABCDE') # 1개의 원소일 경우 원소 1짜리 튜플로 반환 ex. (a, )\n",
    "print('EX6-10 -',next(gen7))\n",
    "print('EX6-10 -',next(gen7))\n",
    "print('EX6-10 -',next(gen7))\n",
    "print('EX6-10 -',next(gen7))\n",
    "print('EX6-10 -',next(gen7))\n",
    "print()\n",
    "gen8 = itertools.product('ABCDE', repeat =2 )\n",
    "print('EX6-11 -',next(gen8))\n",
    "print('EX6-11 -',next(gen8))\n",
    "print('EX6-11 -',next(gen8))\n",
    "print('EX6-11 -',next(gen8))\n",
    "print('EX6-11 -',next(gen8))\n",
    "# 사실 내적이다.\n",
    "print()\n",
    "gen9 = itertools.product('ABCDE', 'abcde' )\n",
    "print('EX6-12 -',next(gen9))\n",
    "print('EX6-12 -',next(gen9))\n",
    "print('EX6-12 -',next(gen9))\n",
    "print('EX6-12 -',next(gen9))"
   ]
  },
  {
   "cell_type": "code",
   "execution_count": 57,
   "id": "70f9324a",
   "metadata": {},
   "outputs": [
    {
     "name": "stdout",
     "output_type": "stream",
     "text": [
      "EX6-11 - A : ['A', 'A', 'A', 'A']\n",
      "EX6-11 - B : ['B', 'B', 'B']\n",
      "EX6-11 - C : ['C', 'C', 'C', 'C']\n",
      "EX6-11 - D : ['D', 'D']\n",
      "EX6-11 - E : ['E', 'E', 'E', 'E']\n"
     ]
    }
   ],
   "source": [
    "# gruopby(arg)\n",
    "# 그룹바이\n",
    "# 주의, sorted 한 후에 적용해야 중복 그룹이 안생김\n",
    "\n",
    "gen10 = itertools.groupby('AAAABBBCCCCDDEEEE') # 중복확인 시 유용. 각 원소를 그룹바이해서 원소와 iterator로 반환\n",
    "# sorted 후에 사용해야함.\n",
    "for chr, group in gen10:\n",
    "    print('EX6-11 -',chr, ':' ,list(group)) "
   ]
  }
 ],
 "metadata": {
  "kernelspec": {
   "display_name": "Python 3.9.1 64-bit",
   "language": "python",
   "name": "python3"
  },
  "language_info": {
   "codemirror_mode": {
    "name": "ipython",
    "version": 3
   },
   "file_extension": ".py",
   "mimetype": "text/x-python",
   "name": "python",
   "nbconvert_exporter": "python",
   "pygments_lexer": "ipython3",
   "version": "3.9.1"
  },
  "vscode": {
   "interpreter": {
    "hash": "da2004fe03f436a9a81b9c95e439c4add18d0165a64bc8b11e0efabfe79c313a"
   }
  }
 },
 "nbformat": 4,
 "nbformat_minor": 5
}
