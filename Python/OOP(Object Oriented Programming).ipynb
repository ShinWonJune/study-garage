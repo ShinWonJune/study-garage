{
 "cells": [
  {
   "cell_type": "markdown",
   "id": "69b62504",
   "metadata": {},
   "source": [
    "#### 참고. 클래스명 함수명 규칙\n",
    "- 함수/변수명 : snake_case\n",
    "    - 띄어쓰기 부분에 \"-\" \n",
    "    - ex) aroma_oil()\n",
    "<br><br>\n",
    "- Class 명: CamelCase\n",
    "    - 띄어쓰기 부분에 대문자\n",
    "    - ex) LabtopComputer()"
   ]
  },
  {
   "cell_type": "markdown",
   "id": "5108397f",
   "metadata": {},
   "source": [
    "## 1. OOP 프로그래밍 예"
   ]
  },
  {
   "cell_type": "code",
   "execution_count": 32,
   "id": "abc75c80",
   "metadata": {},
   "outputs": [],
   "source": [
    "class Note():\n",
    "    \n",
    "    # initiation : 초기화, 객체의 초기값을 설정해줌\n",
    "    def __init__(self,content = None):\n",
    "        # 객체의 초기값을 content 변수를 통해 받아서 할당해줌\n",
    "        self.content = content\n",
    "        \n",
    "    def write_content(self,content):\n",
    "        self.content = content\n",
    "        \n",
    "    def erase_note(self):\n",
    "        self.content = \"\"\n",
    "    \n",
    "    # '+' 를 통해 호출되는 method\n",
    "    def __add__(self,note):\n",
    "        return self.content + note.content\n",
    "        \n",
    "    # print를 통해 호출되는 method\n",
    "    def __str__(self):\n",
    "        return self.content\n"
   ]
  },
  {
   "cell_type": "code",
   "execution_count": 41,
   "id": "9dba8cea",
   "metadata": {},
   "outputs": [],
   "source": [
    "class NoteBook():\n",
    "    def __init__(self,title):\n",
    "        self.title = title\n",
    "        self.notes = {}\n",
    "        self.page_num = 1\n",
    "    \n",
    "    def add_note(self,Note,page = 0):\n",
    "        # 함수 안에 if문 설정하기\n",
    "        if self.page_num < 300:\n",
    "            if page == 0 :\n",
    "                self.notes[self.page_num] = Note\n",
    "                self.page_num +=1\n",
    "            else :\n",
    "                self.notes[page] = Note\n",
    "                self.page_num += 1\n",
    "        else:\n",
    "            print('Book is full!')\n",
    "                \n",
    "                \n",
    "            \n"
   ]
  },
  {
   "cell_type": "markdown",
   "id": "def51582",
   "metadata": {},
   "source": [
    "## 2. OOP의 중요 요소\n",
    " - Inheritance 상속\n",
    "     - 부모의 메소드를 자식 클래스 객체가 사용 가능<br><br>\n",
    " - Polymorphism 다형성<br>\n",
    "     - 부모의 같은 메소드를 자식 객체에 따라 다른 로직 적용 가능\n",
    "     <br><br>\n",
    " - Visibility 가시성<br>\n",
    "     - 임의의 정보 수정 방지\n",
    "     - information hiding, incapsulizing 캡슐화"
   ]
  },
  {
   "cell_type": "markdown",
   "id": "04b3f249",
   "metadata": {},
   "source": [
    "### 2.1 Inheritance 상속"
   ]
  },
  {
   "cell_type": "code",
   "execution_count": 16,
   "id": "30c93e58",
   "metadata": {},
   "outputs": [],
   "source": [
    "class Person():\n",
    "    def __init__(self, name, age, gender):\n",
    "        self.name = name\n",
    "        self.age = age\n",
    "        self.gender = gender\n",
    "        \n",
    "    def about_me(self):\n",
    "        print('My name is ', self.name,\" and I'm \",self.age,\" years old\")\n",
    "        "
   ]
  },
  {
   "cell_type": "markdown",
   "id": "cf37f6f0",
   "metadata": {},
   "source": [
    " #### super.부모클래스함수()\n",
    "  - 부모클래스 함수를 가져오겠다"
   ]
  },
  {
   "cell_type": "code",
   "execution_count": 9,
   "id": "2a8ba7d5",
   "metadata": {},
   "outputs": [],
   "source": [
    "# Person 클래스를 상속받음\n",
    "class Employee(Person):\n",
    "    def __init__(self, name, age, gender, salary, hire_date):\n",
    "        # super().__init__() = 부모 클래스의 __init__ 가져오겠다.\n",
    "        super().__init__(name,age,gender)\n",
    "        self.salary = salary\n",
    "        self.hire_date = hire_date\n",
    "        \n",
    "    def about_me(self):\n",
    "        # 부모 클래스의 about_me() 가져오겠다\n",
    "        super().about_me() \n",
    "        print('And my salary is ',self.salary,' dollors, and my hired date is ',\\\n",
    "              self.hire_date,'.')"
   ]
  },
  {
   "cell_type": "markdown",
   "id": "fa4cdd35",
   "metadata": {},
   "source": [
    "### 2.2 .Polymorphism 다형성\n",
    "- 상속받은 함수는 같으나 디테일이 추가되어 조금 다른 함수로 재탄생\n",
    "- 같은 함수(행동)이나 고유의 특성을 지닌 함수 생성 가능"
   ]
  },
  {
   "cell_type": "code",
   "execution_count": 10,
   "id": "742122fa",
   "metadata": {},
   "outputs": [],
   "source": [
    "class Animal():\n",
    "    def __init__(self, name):\n",
    "        self.name = name\n",
    "    \n",
    "    # abstract method. Defined by convention(관습적으로 만듦)\n",
    "    def talk(self):\n",
    "        raise NotImplementedError('Subclass must implement abstract method')"
   ]
  },
  {
   "cell_type": "code",
   "execution_count": 11,
   "id": "9f766574",
   "metadata": {},
   "outputs": [],
   "source": [
    "class Cat(Animal):\n",
    "    \n",
    "    # 부모 함수를 각자 디자인\n",
    "    def talk(self):\n",
    "        return 'Meow!'\n",
    "    \n",
    "    \n",
    "class Dog(Animal):\n",
    "    \n",
    "    # 부모 함수를 각자 디자인\n",
    "    def talk(self):\n",
    "        return 'Woof!'"
   ]
  },
  {
   "cell_type": "code",
   "execution_count": 15,
   "id": "b6f40084",
   "metadata": {},
   "outputs": [
    {
     "name": "stdout",
     "output_type": "stream",
     "text": [
      "Happy  sounds  Meow!\n",
      "SimbA  sounds  Woof!\n"
     ]
    }
   ],
   "source": [
    "animals = [Cat('Happy'),Dog('SimbA')]\n",
    "for animals in animals:\n",
    "    # 같은 함수를 적용해도 다른 로직이 적용될 수 있다!\n",
    "    print(animals.name,' sounds ',animals.talk())"
   ]
  },
  {
   "cell_type": "markdown",
   "id": "1c171d1a",
   "metadata": {},
   "source": [
    "### 2.3 Visibility 가시성\n",
    "- 인터페이스만 알아서 활용, 너무 많은 정보는 알 필요 없다."
   ]
  },
  {
   "cell_type": "code",
   "execution_count": 26,
   "id": "3244adc0",
   "metadata": {},
   "outputs": [],
   "source": [
    "class Product():\n",
    "    pass"
   ]
  },
  {
   "cell_type": "code",
   "execution_count": 19,
   "id": "f435a78d",
   "metadata": {},
   "outputs": [
    {
     "data": {
      "text/plain": [
       "__main__.Product"
      ]
     },
     "execution_count": 19,
     "metadata": {},
     "output_type": "execute_result"
    }
   ],
   "source": [
    "a = Product()\n",
    "type(a)"
   ]
  },
  {
   "cell_type": "code",
   "execution_count": 24,
   "id": "decc32f5",
   "metadata": {},
   "outputs": [],
   "source": [
    "class Inventory():\n",
    "    def __init__(self):\n",
    "        # Private  변수 선언으로, 타 객체가 접근 못함\n",
    "        self.__items = []\n",
    "    \n",
    "    def add_new_item(self, product):\n",
    "        if type(product) == Product :\n",
    "            self.__items.append(product)\n",
    "            print('new item added')\n",
    "        else:\n",
    "            raise ValueError('Invalid item')\n",
    "    \n",
    "    def get_number_of_items(self):\n",
    "        # 클래스 내부 객체는 Private 변수 접근 가능함\n",
    "        return len(self.__items)"
   ]
  },
  {
   "cell_type": "code",
   "execution_count": 28,
   "id": "89009ea1",
   "metadata": {},
   "outputs": [
    {
     "name": "stdout",
     "output_type": "stream",
     "text": [
      "new item added\n",
      "new item added\n"
     ]
    }
   ],
   "source": [
    "my_inventory = Inventory()\n",
    "a = Product()\n",
    "b = Product()\n",
    "my_inventory.add_new_item(a)\n",
    "my_inventory.add_new_item(b)"
   ]
  },
  {
   "cell_type": "code",
   "execution_count": 31,
   "id": "35095ad2",
   "metadata": {},
   "outputs": [
    {
     "ename": "AttributeError",
     "evalue": "'Inventory' object has no attribute '__items'",
     "output_type": "error",
     "traceback": [
      "\u001b[1;31m---------------------------------------------------------------------------\u001b[0m",
      "\u001b[1;31mAttributeError\u001b[0m                            Traceback (most recent call last)",
      "Input \u001b[1;32mIn [31]\u001b[0m, in \u001b[0;36m<module>\u001b[1;34m\u001b[0m\n\u001b[0;32m      1\u001b[0m \u001b[38;5;66;03m# 변수가 숨겨져 직접 접근 불가능\u001b[39;00m\n\u001b[1;32m----> 2\u001b[0m \u001b[43mmy_inventory\u001b[49m\u001b[38;5;241;43m.\u001b[39;49m\u001b[43m__items\u001b[49m\u001b[38;5;241m.\u001b[39mappend(\u001b[38;5;124m'\u001b[39m\u001b[38;5;124msneak\u001b[39m\u001b[38;5;124m'\u001b[39m)\n",
      "\u001b[1;31mAttributeError\u001b[0m: 'Inventory' object has no attribute '__items'"
     ]
    }
   ],
   "source": [
    "# 변수가 숨겨져 직접 접근 불가능\n",
    "my_inventory.__items.append('sneak')"
   ]
  },
  {
   "cell_type": "code",
   "execution_count": 33,
   "id": "d65f7e7d",
   "metadata": {},
   "outputs": [],
   "source": [
    "class Inventory2():\n",
    "    def __init__(self):\n",
    "        # Private  변수 선언으로, 타 객체가 접근 못함\n",
    "        self.__items = []\n",
    "    \n",
    "    def add_new_item(self, product):\n",
    "        if type(product) == Product :\n",
    "            self.__items.append(product)\n",
    "            print('new item added')\n",
    "        else:\n",
    "            raise ValueError('Invalid item')\n",
    "    \n",
    "    # 함수를 변수처럼 호출하게 해줌\n",
    "    @property    \n",
    "    def items(self):\n",
    "        # 내부 함수는 Private 변수에 접근 가능\n",
    "        return self.__items\n",
    "    \n",
    "    # 따라서 숨겨진 변수를 반환할수 있게 해줌."
   ]
  },
  {
   "cell_type": "code",
   "execution_count": 36,
   "id": "f07845bd",
   "metadata": {
    "scrolled": false
   },
   "outputs": [
    {
     "name": "stdout",
     "output_type": "stream",
     "text": [
      "new item added\n",
      "new item added\n"
     ]
    },
    {
     "data": {
      "text/plain": [
       "[<__main__.Product at 0x139e378aca0>,\n",
       " <__main__.Product at 0x139e36cfee0>,\n",
       " 'sneak']"
      ]
     },
     "execution_count": 36,
     "metadata": {},
     "output_type": "execute_result"
    }
   ],
   "source": [
    "my_inventory2 = Inventory2()\n",
    "a = Product()\n",
    "b = Product()\n",
    "my_inventory2.add_new_item(a)\n",
    "my_inventory2.add_new_item(b)\n",
    "\n",
    "# 숨겨진 변수를 일반 변수처럼 접근 가능\n",
    "my_inventory2.items.append('sneak')\n",
    "my_inventory2.items"
   ]
  }
 ],
 "metadata": {
  "kernelspec": {
   "display_name": "Python 3 (ipykernel)",
   "language": "python",
   "name": "python3"
  },
  "language_info": {
   "codemirror_mode": {
    "name": "ipython",
    "version": 3
   },
   "file_extension": ".py",
   "mimetype": "text/x-python",
   "name": "python",
   "nbconvert_exporter": "python",
   "pygments_lexer": "ipython3",
   "version": "3.9.7"
  }
 },
 "nbformat": 4,
 "nbformat_minor": 5
}
