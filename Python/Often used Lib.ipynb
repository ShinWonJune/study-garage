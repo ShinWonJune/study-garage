{
 "cells": [
  {
   "attachments": {},
   "cell_type": "markdown",
   "id": "6b82a5a8",
   "metadata": {},
   "source": [
    "# operator\n",
    " - itemgetter\n",
    "      - list의 고급 정렬 key\n",
    "\n",
    "      ex.\n",
    "      ```\n",
    "        from operator import itemgetter\n",
    "\n",
    "        students = [\n",
    "            (\"jane\", 22, 'A'),\n",
    "            (\"dave\", 32, 'B'),\n",
    "            (\"sally\", 17, 'B'),\n",
    "        ]\n",
    "\n",
    "        result = sorted(students, key=itemgetter(1))\n",
    "        print(result)\n",
    "    result sorted by age\n",
    " - add, mul\n",
    "\n",
    "# functools\n",
    "- partial(func,*args)\n",
    "    - func의 arg를 입력받은 arg로 고정\n",
    "\n",
    "- reduce(func,list, init)\n",
    "    - func에 list를 차례로 누적시킴. starts with init\n",
    "\n",
    "# itertools\n",
    "- count(a,b)\n",
    "    - a 부터 b씩 증가하는 iterator\n",
    "- takewhile(predicate,sequence)\n",
    "    - predicate 를 충족하는 sequence를 iterator로 반환\n",
    "- filterfalse(predicate, sequence)\n",
    "    - predicate를 충족하지 않는 sequence를 iterator로 반환\n",
    "- permuations(*args,lengths)\n",
    "    - 순열\n",
    "- combinations(*args, lengths)\n",
    "    - 조합\n",
    "- product(*args, repeat = n)\n",
    "    - *args 로 내적\n",
    "    - ex) product('ABC',repeat=2)\n",
    "        AA AB AC BA BB BC CA CB CC\n",
    "    \n",
    "# collections\n",
    "- Counter(list) 클래스\n",
    "    - Counter 객체를 만든다\n",
    "    - Counter객체에 value로 접근하면 해당 value의 개수를 알 수 있다.<br>\n",
    "    ex) counter = Counter(list)<br>\n",
    "        counter['a'] = list 의 'a' 개수\n",
    "- deque 클래스\n",
    "    - queue를 만든다\n",
    "    - list 보다 시간 복잡도가 낮다.\n",
    "    \n",
    "# bisect(이진 탐색 라이브러리)\n",
    " 1. bisect_left(array, insert_data)\n",
    "     - 오름차순 정렬 기준으로, insert_data가 삽입 될 가장 작은 index 반환\n",
    "     - lower bound 개념\n",
    " 2. bisect_right(array, insert_data)\n",
    "     - 오름차순 정렬 기준으로, insert_data가 삽일 될 가장 큰 index 반환\n",
    "     - upper bound 개념\n",
    "     \n",
    " - 삽입 됐을 때 기준의 index를 반환한다는 점\n",
    "\n",
    "  # sys\n",
    " - input = sys.stdin.readline 을 할당하고 평소처럼 input() 쓰면 됨\n",
    " - input 줄이 많을 때 사용\n",
    " - jupyter 에서는 안됨.."
   ]
  },
  {
   "cell_type": "markdown",
   "metadata": {},
   "source": [
    "## Copy\n",
    "copy.copy(대상) 또는 슬라이싱으로 복사한 객체는 얕은 복사 : 객체안의 객체는 새로 할당되지 않음"
   ]
  },
  {
   "cell_type": "code",
   "execution_count": 3,
   "metadata": {},
   "outputs": [
    {
     "name": "stdout",
     "output_type": "stream",
     "text": [
      "1396510370816 1396509977280\n",
      "1396510371520 1396510371520\n"
     ]
    }
   ],
   "source": [
    "# mutable 안에 mutable 객체는 새로 할당되지 않음\n",
    "a = [[1,2], [3,4]]\n",
    "b = a[:]\n",
    "print(id(a),id(b))\n",
    "print(id(a[0]),id(b[0]))"
   ]
  },
  {
   "cell_type": "markdown",
   "metadata": {},
   "source": [
    "새로운 객체 = copy.deepcopy(대상) \n",
    "\n",
    "deepcopy를 통해 아예 새로운 객체 생성"
   ]
  },
  {
   "cell_type": "code",
   "execution_count": 1,
   "metadata": {},
   "outputs": [
    {
     "data": {
      "text/plain": [
       "[[1, 2], [3, 4, 5]]"
      ]
     },
     "execution_count": 1,
     "metadata": {},
     "output_type": "execute_result"
    }
   ],
   "source": [
    "import copy\n",
    "a = [[1,2],[3,4]]\n",
    "b = copy.deepcopy(a)\n",
    "a[1].append(5)\n",
    "a"
   ]
  },
  {
   "cell_type": "code",
   "execution_count": 2,
   "metadata": {},
   "outputs": [
    {
     "data": {
      "text/plain": [
       "[[1, 2], [3, 4]]"
      ]
     },
     "execution_count": 2,
     "metadata": {},
     "output_type": "execute_result"
    }
   ],
   "source": [
    "b"
   ]
  },
  {
   "cell_type": "markdown",
   "id": "f2abf4e4",
   "metadata": {},
   "source": [
    "### collections"
   ]
  },
  {
   "cell_type": "markdown",
   "id": "f2af0d15",
   "metadata": {},
   "source": [
    "#### deque (queue 생성 클래스)\n",
    " - queue를 만든다\n",
    " - list 보다 시간 복잡도가 낮다."
   ]
  },
  {
   "cell_type": "code",
   "execution_count": 4,
   "id": "568efe1a",
   "metadata": {},
   "outputs": [
    {
     "name": "stdout",
     "output_type": "stream",
     "text": [
      "deque([6, 7])\n",
      "deque([7, 6])\n"
     ]
    }
   ],
   "source": [
    "from collections import deque\n",
    "\n",
    "# deque Class를 통해 queue 객체 만듬\n",
    "queue = deque()\n",
    "\n",
    "#가장 오른쪽에 데이터를 추가.\n",
    "# list와 같다\n",
    "queue.append(5)\n",
    "queue.append(6)\n",
    "queue.append(7)\n",
    "\n",
    "#가장 왼쪽 데이터를 꺼냄\n",
    "# 선입 선출\n",
    "queue.popleft()\n",
    "\n",
    "print(queue)\n",
    "\n",
    "# 반대로 출력\n",
    "queue.reverse()\n",
    "print(queue)"
   ]
  },
  {
   "cell_type": "markdown",
   "id": "17bd4ea6",
   "metadata": {},
   "source": [
    "### bisect\n",
    "- 범위 안에 해당하는 데이터 개수 구하기"
   ]
  },
  {
   "cell_type": "code",
   "execution_count": 1,
   "id": "39cfb3f6",
   "metadata": {},
   "outputs": [],
   "source": [
    "from bisect import bisect_left,bisect_right\n",
    "\n",
    "def count_by_range(a, left_value,right_value):\n",
    "    right_index = bisect_right(a,right_value)\n",
    "    left_index = bisect_left(a,left_value)\n",
    "    return right_index - left_index"
   ]
  }
 ],
 "metadata": {
  "kernelspec": {
   "display_name": "Python 3.9.1 64-bit",
   "language": "python",
   "name": "python3"
  },
  "language_info": {
   "codemirror_mode": {
    "name": "ipython",
    "version": 3
   },
   "file_extension": ".py",
   "mimetype": "text/x-python",
   "name": "python",
   "nbconvert_exporter": "python",
   "pygments_lexer": "ipython3",
   "version": "3.9.1"
  },
  "vscode": {
   "interpreter": {
    "hash": "da2004fe03f436a9a81b9c95e439c4add18d0165a64bc8b11e0efabfe79c313a"
   }
  }
 },
 "nbformat": 4,
 "nbformat_minor": 5
}
