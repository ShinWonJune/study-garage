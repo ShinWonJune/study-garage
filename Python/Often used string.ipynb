{
 "cells": [
  {
   "cell_type": "markdown",
   "metadata": {},
   "source": [
    "### ''.format()\n",
    "#### print('{0}{1:c.df}'.format(a,b))\n",
    "- format함수 안 튜플을 index 순서대로 전달 a->0, b->1\n",
    "- b를 전체 c칸 중에 소수점d자리를 차지하게 표기"
   ]
  },
  {
   "cell_type": "code",
   "execution_count": 3,
   "metadata": {},
   "outputs": [
    {
     "name": "stdout",
     "output_type": "stream",
     "text": [
      "10   5.23000\n"
     ]
    }
   ],
   "source": [
    "print('{0}{1:10.5f}'.format(10,5.23))"
   ]
  },
  {
   "cell_type": "markdown",
   "metadata": {},
   "source": [
    "- 패딩 왼쪽으로 정렬: print('{0}{1:>10.5f}'.format(10,5.23))\n",
    "- 패딩 오른쪽으로 정렬: print('{0}{1:>10.5f}'.format(10,5.23))"
   ]
  },
  {
   "cell_type": "code",
   "execution_count": 5,
   "metadata": {},
   "outputs": [
    {
     "name": "stdout",
     "output_type": "stream",
     "text": [
      "105.23000   \n"
     ]
    }
   ],
   "source": [
    "print('{0}{1:<10.5f}'.format(10,5.23))"
   ]
  },
  {
   "cell_type": "code",
   "execution_count": 6,
   "metadata": {},
   "outputs": [
    {
     "name": "stdout",
     "output_type": "stream",
     "text": [
      "10   5.23000\n"
     ]
    }
   ],
   "source": [
    "print('{0}{1:>10.5f}'.format(10,5.23))"
   ]
  },
  {
   "cell_type": "markdown",
   "metadata": {},
   "source": [
    "## f-string\n",
    "- 편해진 포멧팅\n",
    "- print문 밖의 변수를 바로 사용가능"
   ]
  },
  {
   "cell_type": "code",
   "execution_count": 7,
   "metadata": {},
   "outputs": [
    {
     "name": "stdout",
     "output_type": "stream",
     "text": [
      "hello,I'm shin, and 31 years old\n"
     ]
    }
   ],
   "source": [
    "name = 'shin'\n",
    "age = 31\n",
    "print(f\"hello,I'm {name}, and {age} years old\")"
   ]
  },
  {
   "cell_type": "code",
   "execution_count": 9,
   "metadata": {},
   "outputs": [
    {
     "name": "stdout",
     "output_type": "stream",
     "text": [
      "                shin\n",
      "****************shin\n",
      "********shin********\n",
      "31.00\n"
     ]
    }
   ],
   "source": [
    "#오른쪽 정렬\n",
    "print(f\"{name:>20}\")\n",
    "\n",
    "#빈칸 별로 체우기\n",
    "print(f\"{name:*>20}\")\n",
    "\n",
    "# 중앙 정렬\n",
    "print(f\"{name:*^20}\")\n",
    "\n",
    "# 소수점\n",
    "print(f\"{age:.2f}\")"
   ]
  },
  {
   "cell_type": "markdown",
   "metadata": {},
   "source": [
    "### Slicing\n",
    "- list[a:b]\n",
    "    - a,b가 실제 list길이를 넘어설 경우 알아서 맞춰서 보여줌\n"
   ]
  },
  {
   "cell_type": "code",
   "execution_count": 2,
   "metadata": {},
   "outputs": [
    {
     "data": {
      "text/plain": [
       "''"
      ]
     },
     "execution_count": 2,
     "metadata": {},
     "output_type": "execute_result"
    }
   ],
   "source": [
    "a = 'lone island'\n",
    "\n",
    "# 실제 길이보다 짧게 슬라이싱\n",
    "a[0:-20]"
   ]
  },
  {
   "cell_type": "code",
   "execution_count": 3,
   "metadata": {},
   "outputs": [
    {
     "data": {
      "text/plain": [
       "'one island'"
      ]
     },
     "execution_count": 3,
     "metadata": {},
     "output_type": "execute_result"
    }
   ],
   "source": [
    "# 실제 길이보다 길게 슬라이싱\n",
    "a[1:40]"
   ]
  },
  {
   "cell_type": "markdown",
   "metadata": {},
   "source": [
    "### 문자열 적용 함수들\n",
    "- lower() : 소문자로 변환\n",
    "- title() : 첫글자들만 대문자로변환\n",
    "- isdigit() : 숫자인지 여부 판단\n",
    "- count('a') : a의 갯수 \n",
    "- find('a') : a의 위치 인덱스 반환"
   ]
  },
  {
   "cell_type": "code",
   "execution_count": 5,
   "metadata": {},
   "outputs": [
    {
     "data": {
      "text/plain": [
       "'lone island'"
      ]
     },
     "execution_count": 5,
     "metadata": {},
     "output_type": "execute_result"
    }
   ],
   "source": [
    "a.lower()"
   ]
  },
  {
   "cell_type": "code",
   "execution_count": 6,
   "metadata": {},
   "outputs": [
    {
     "data": {
      "text/plain": [
       "'Lone Island'"
      ]
     },
     "execution_count": 6,
     "metadata": {},
     "output_type": "execute_result"
    }
   ],
   "source": [
    "a.title()"
   ]
  },
  {
   "cell_type": "code",
   "execution_count": 7,
   "metadata": {},
   "outputs": [
    {
     "data": {
      "text/plain": [
       "False"
      ]
     },
     "execution_count": 7,
     "metadata": {},
     "output_type": "execute_result"
    }
   ],
   "source": [
    "a.isdigit()"
   ]
  },
  {
   "cell_type": "code",
   "execution_count": 9,
   "metadata": {},
   "outputs": [
    {
     "data": {
      "text/plain": [
       "2"
      ]
     },
     "execution_count": 9,
     "metadata": {},
     "output_type": "execute_result"
    }
   ],
   "source": [
    "a.count('n')a\n"
   ]
  },
  {
   "cell_type": "code",
   "execution_count": 10,
   "metadata": {},
   "outputs": [
    {
     "data": {
      "text/plain": [
       "0"
      ]
     },
     "execution_count": 10,
     "metadata": {},
     "output_type": "execute_result"
    }
   ],
   "source": [
    "a.find('l')"
   ]
  },
  {
   "cell_type": "markdown",
   "metadata": {},
   "source": [
    "### 특수문자\n",
    "- \\ 엔터 : 다음줄이랑 연결된 코드임을 표시\n",
    "- \\n : 줄바꿈\n",
    "- \\b : backspace. 앞의 한칸을 지우고 표기\n",
    "- \\t : tab"
   ]
  },
  {
   "cell_type": "markdown",
   "metadata": {},
   "source": [
    "### raw string\n",
    "- r''\n",
    "- \\n 등의 \\를 무시하고 바로 출력"
   ]
  },
  {
   "cell_type": "code",
   "execution_count": 19,
   "metadata": {},
   "outputs": [
    {
     "name": "stdout",
     "output_type": "stream",
     "text": [
      "hi \n",
      " who are     younonono\n"
     ]
    }
   ],
   "source": [
    "memo = 'hi \\n who are \\\n",
    "    you \\bnonono'\n",
    "print(memo)\n"
   ]
  },
  {
   "cell_type": "code",
   "execution_count": 17,
   "metadata": {},
   "outputs": [
    {
     "name": "stdout",
     "output_type": "stream",
     "text": [
      "hi \\n who are \\\n",
      "    you \\b nonono\n"
     ]
    }
   ],
   "source": [
    "memo2 = r'hi \\n who are \\\n",
    "    you \\b nonono'\n",
    "print(memo2)"
   ]
  },
  {
   "cell_type": "markdown",
   "metadata": {},
   "source": [
    "#### squeeze(axis)\n",
    "- 크기가 1인 axis 제거\n",
    "- 크기가 1인 axis가 여러개일 때, axis를 정해줘서 특정 axis만 제거할 수 있음"
   ]
  },
  {
   "cell_type": "code",
   "execution_count": 2,
   "metadata": {},
   "outputs": [
    {
     "data": {
      "text/plain": [
       "(1, 2, 3)"
      ]
     },
     "execution_count": 2,
     "metadata": {},
     "output_type": "execute_result"
    }
   ],
   "source": [
    "import numpy as np\n",
    "a = np.array([[[1,2,3],\n",
    "               [4,5,6]]])\n",
    "a.shape"
   ]
  },
  {
   "cell_type": "code",
   "execution_count": 13,
   "metadata": {},
   "outputs": [
    {
     "data": {
      "text/plain": [
       "(2, 3)"
      ]
     },
     "execution_count": 13,
     "metadata": {},
     "output_type": "execute_result"
    }
   ],
   "source": [
    "b = a.squeeze()\n",
    "b.shape"
   ]
  },
  {
   "cell_type": "markdown",
   "metadata": {},
   "source": [
    "#### np.expand_dims(a,axis)\n",
    "- axis 추가"
   ]
  },
  {
   "cell_type": "code",
   "execution_count": 12,
   "metadata": {},
   "outputs": [
    {
     "data": {
      "text/plain": [
       "(1, 1, 2, 3)"
      ]
     },
     "execution_count": 12,
     "metadata": {},
     "output_type": "execute_result"
    }
   ],
   "source": [
    "c= np.expand_dims(a,axis = 1)\n",
    "c.shape"
   ]
  }
 ],
 "metadata": {
  "kernelspec": {
   "display_name": "Python 3.9.1 64-bit",
   "language": "python",
   "name": "python3"
  },
  "language_info": {
   "codemirror_mode": {
    "name": "ipython",
    "version": 3
   },
   "file_extension": ".py",
   "mimetype": "text/x-python",
   "name": "python",
   "nbconvert_exporter": "python",
   "pygments_lexer": "ipython3",
   "version": "3.9.1"
  },
  "orig_nbformat": 4,
  "vscode": {
   "interpreter": {
    "hash": "da2004fe03f436a9a81b9c95e439c4add18d0165a64bc8b11e0efabfe79c313a"
   }
  }
 },
 "nbformat": 4,
 "nbformat_minor": 2
}
