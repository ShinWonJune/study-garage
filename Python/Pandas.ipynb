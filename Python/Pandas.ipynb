{
 "cells": [
  {
   "cell_type": "markdown",
   "id": "480d55e2",
   "metadata": {},
   "source": [
    "## Series\n",
    "- Column vector\n",
    "- Index를 지정해줄 수 있다.(숫자, 문자 가능)\n",
    "- numpy를 series가 warp 하고 있는 형태\n",
    "    - np.ndarray의 subclass\n",
    "- Series Name, Series index name 설정 가능"
   ]
  },
  {
   "cell_type": "code",
   "execution_count": 13,
   "id": "569a0653",
   "metadata": {},
   "outputs": [],
   "source": [
    "import pandas as pd\n",
    "from pandas import Series, DataFrame\n",
    "import numpy as np"
   ]
  },
  {
   "cell_type": "code",
   "execution_count": 2,
   "id": "b114b2a1",
   "metadata": {},
   "outputs": [
    {
     "name": "stderr",
     "output_type": "stream",
     "text": [
      "C:\\Users\\shinw\\AppData\\Local\\Temp\\ipykernel_18992\\3507266049.py:1: DeprecationWarning: The default dtype for empty Series will be 'object' instead of 'float64' in a future version. Specify a dtype explicitly to silence this warning.\n",
      "  example_obj = Series()\n"
     ]
    }
   ],
   "source": [
    "example_obj = Series()"
   ]
  },
  {
   "cell_type": "markdown",
   "id": "35b63709",
   "metadata": {},
   "source": [
    "List 로 생성"
   ]
  },
  {
   "cell_type": "code",
   "execution_count": 11,
   "id": "cecc5b88",
   "metadata": {},
   "outputs": [
    {
     "name": "stdout",
     "output_type": "stream",
     "text": [
      "0    10\n",
      "1    11\n",
      "2    12\n",
      "3    13\n",
      "4    14\n",
      "dtype: int64\n",
      "a    10\n",
      "b    11\n",
      "c    12\n",
      "d    13\n",
      "e    14\n",
      "dtype: int64\n"
     ]
    }
   ],
   "source": [
    "list_data = [i for i in range(10,15)]\n",
    "list_name = ['a','b','c','d','e']\n",
    "example = Series(data = list_data)\n",
    "example2 = Series(data = list_data,index = list_name )\n",
    "print(example)\n",
    "#앞 column이 index 뒤 column이 value\n",
    "print(example2)"
   ]
  },
  {
   "cell_type": "markdown",
   "id": "5ba7e3fd",
   "metadata": {},
   "source": [
    "#### Series.index\n",
    "- index 반환\n",
    "\n",
    "#### Series.values\n",
    "- value 반환"
   ]
  },
  {
   "cell_type": "code",
   "execution_count": 18,
   "id": "5b470cf5",
   "metadata": {},
   "outputs": [
    {
     "name": "stdout",
     "output_type": "stream",
     "text": [
      "RangeIndex(start=0, stop=5, step=1)\n",
      "Index(['a', 'b', 'c', 'd', 'e'], dtype='object')\n",
      "[10 11 12 13 14]\n",
      "[10 11 12 13 14]\n"
     ]
    }
   ],
   "source": [
    "# index에 접근\n",
    "print(example.index)\n",
    "print(example2.index)\n",
    "print(example.values)\n",
    "print(example2.values)"
   ]
  },
  {
   "cell_type": "markdown",
   "id": "d3cb83c0",
   "metadata": {},
   "source": [
    "#### Series.Values 는 ndarray"
   ]
  },
  {
   "cell_type": "code",
   "execution_count": 23,
   "id": "34720e3d",
   "metadata": {},
   "outputs": [
    {
     "data": {
      "text/plain": [
       "numpy.ndarray"
      ]
     },
     "execution_count": 23,
     "metadata": {},
     "output_type": "execute_result"
    }
   ],
   "source": [
    "type(example.values)"
   ]
  },
  {
   "cell_type": "markdown",
   "id": "da50855e",
   "metadata": {},
   "source": [
    "Dict로 생성"
   ]
  },
  {
   "cell_type": "code",
   "execution_count": 14,
   "id": "98702d1f",
   "metadata": {},
   "outputs": [
    {
     "data": {
      "text/plain": [
       "a    1.0\n",
       "b    2.0\n",
       "c    3.0\n",
       "d    4.0\n",
       "Name: dict_gen_series, dtype: float32"
      ]
     },
     "execution_count": 14,
     "metadata": {},
     "output_type": "execute_result"
    }
   ],
   "source": [
    "dict_data = {\"a\":1,\"b\":2,\"c\":3,\"d\":4}\n",
    "example3 = Series(dict_data,dtype = np.float32, name = \"dict_gen_series\")\n",
    "example3"
   ]
  },
  {
   "cell_type": "markdown",
   "id": "ada328ed",
   "metadata": {},
   "source": [
    "#### index로 데이터 접근\n",
    "- 할당 가능"
   ]
  },
  {
   "cell_type": "markdown",
   "id": "e06ae9ee",
   "metadata": {},
   "source": [
    "#### Series.astype(datatype)\n",
    "- data type 변경 가능"
   ]
  },
  {
   "cell_type": "code",
   "execution_count": 26,
   "id": "9456b2a1",
   "metadata": {},
   "outputs": [
    {
     "data": {
      "text/plain": [
       "a    100\n",
       "b      2\n",
       "c      3\n",
       "d      4\n",
       "Name: dict_gen_series, dtype: int32"
      ]
     },
     "execution_count": 26,
     "metadata": {},
     "output_type": "execute_result"
    }
   ],
   "source": [
    "example4 = example3.astype(int)\n",
    "example4['a'] = 100\n",
    "example4"
   ]
  },
  {
   "cell_type": "markdown",
   "id": "c30f7bca",
   "metadata": {},
   "source": [
    "#### Series는 index 기준으로 생성\n",
    "- index를 data 수보다 많이 설정해주면 비어있는 공간 생성 (NaN 들어가있음)"
   ]
  },
  {
   "cell_type": "code",
   "execution_count": 27,
   "id": "5009db4c",
   "metadata": {},
   "outputs": [
    {
     "data": {
      "text/plain": [
       "a    1.0\n",
       "b    2.0\n",
       "c    3.0\n",
       "d    4.0\n",
       "e    NaN\n",
       "f    NaN\n",
       "g    NaN\n",
       "dtype: float64"
      ]
     },
     "execution_count": 27,
     "metadata": {},
     "output_type": "execute_result"
    }
   ],
   "source": [
    "example5 = Series(dict_data, index = ['a','b','c','d','e','f','g'])\n",
    "example5"
   ]
  },
  {
   "cell_type": "markdown",
   "id": "6a3c20c1",
   "metadata": {},
   "source": [
    "# DataFrame\n",
    "- Series를 모아서 만든 Data Table\n",
    "- 보통 csv 파일을 불러와서 사용\n",
    "- Numpy array-like\n",
    "- Column 마다 다른 dtype 가질 수 있다\n",
    "- size 변경 가능"
   ]
  },
  {
   "cell_type": "markdown",
   "id": "4769fe9c",
   "metadata": {},
   "source": [
    "#### Column 기준으로 생성\n",
    "- 새로운 column 추가 시, NaN이 들어있는 column 생성"
   ]
  },
  {
   "cell_type": "markdown",
   "id": "60873839",
   "metadata": {},
   "source": [
    "#### column 접근방법(Series 추출방법)\n",
    "- `df.col_name`\n",
    "    - attribute 처럼 접근\n",
    "- `df[\"col_mame\"]`\n",
    "    - dict 처럼 col_name으로 접근"
   ]
  },
  {
   "cell_type": "markdown",
   "id": "b3b1840e",
   "metadata": {},
   "source": [
    "### column name 으로 indexing\n",
    "- df[df[\"col_name\"]=\"value\"]\n",
    "    - 특정 column의 특정 value의 데이터만 접근"
   ]
  },
  {
   "cell_type": "markdown",
   "id": "48301c25",
   "metadata": {},
   "source": [
    "### DataFrame Indexing\n",
    "- `df.loc[a]` : index location. df 의 index 명으로 접근\n",
    "    - index a에 해당하는 row를 column명과 함께 보여줌\n",
    "    - `df.loc[index_list,column_list]`\n",
    "    - index이름의 list, column 리스트로 접근\n",
    "    - `df.loc[:index,:col_name]`\n",
    "    <br><br>\n",
    "- `df.iloc[i]` : index position. 설정된 index와 상관없이, 첫 row를 0으로 시작하여 순서로 접근\n",
    "     - `df.iloc[row 순서 번호 list,column 순서 번호 list]`\n",
    "     - row 순서의 번호 list, column 순서의 번호로 접근\n",
    "     - `df.iloc[:i,:j]`"
   ]
  },
  {
   "cell_type": "code",
   "execution_count": 36,
   "id": "bd4919b4",
   "metadata": {},
   "outputs": [
    {
     "data": {
      "text/plain": [
       "9   NaN\n",
       "9   NaN\n",
       "9   NaN\n",
       "1   NaN\n",
       "0   NaN\n",
       "3   NaN\n",
       "dtype: float64"
      ]
     },
     "execution_count": 36,
     "metadata": {},
     "output_type": "execute_result"
    }
   ],
   "source": [
    "s = pd.Series(np.nan, index = [99,9,9,9,1,0,3])\n",
    "s.loc[9:3]\n",
    "# 앞에 뭐가 있던간에 index9부터 index 3 까지 출력"
   ]
  },
  {
   "cell_type": "code",
   "execution_count": 32,
   "id": "77074778",
   "metadata": {},
   "outputs": [
    {
     "data": {
      "text/plain": [
       "99   NaN\n",
       "9    NaN\n",
       "9    NaN\n",
       "dtype: float64"
      ]
     },
     "execution_count": 32,
     "metadata": {},
     "output_type": "execute_result"
    }
   ],
   "source": [
    "s.iloc[0:3]\n",
    "# 3번째 데이터 까지 출력"
   ]
  },
  {
   "cell_type": "markdown",
   "id": "00e84817",
   "metadata": {},
   "source": [
    "- `df.loc[:,list]` : 콤마 뒤에는 column에 대한 indexing\n",
    "    - column에 대한 indexing은 __list__로 받는다."
   ]
  },
  {
   "cell_type": "markdown",
   "id": "1d3990e2",
   "metadata": {},
   "source": [
    "### DataFrame handling\n",
    "- `df.age > 40`\n",
    "    - age가 40보다 큰지에 대해 boolean으로 반환"
   ]
  },
  {
   "cell_type": "markdown",
   "id": "1bb75894",
   "metadata": {},
   "source": [
    "#### df.values\n",
    "- data 전부를 array로 출력\n",
    "\n",
    "#### df.to_csv()\n",
    "- csv로 변형 및 저장"
   ]
  },
  {
   "cell_type": "markdown",
   "id": "ce2545dd",
   "metadata": {},
   "source": [
    "## column 삭제\n",
    "- df.drop(\"col_name\", axis = 1)\n",
    "    -  df에는 영향없다. drop 한 view만 보여줌\n",
    "- def df.col_name\n",
    "    - 메모리에서 col 삭제. df에서도 변경 일어남\n",
    "\n",
    "### 보통은 axis 0 은 row 방향으로 함수 적용하고, axis 1 은 col 방향으로 함수를 적용하는데, Drop은 axis 0 기준 drop, 1기준 drop으로 이해하면 됨."
   ]
  },
  {
   "cell_type": "markdown",
   "id": "cba86f75",
   "metadata": {},
   "source": [
    "## Dict 로 DataFrame 생성\n",
    "- 2중 Dict로 생성\n",
    "    - 겉의 key는 column 명\n",
    "    - 안의 key는 index 명\n",
    "    - 안의 value 가 data가 됨\n",
    "- jason file 이라거나"
   ]
  },
  {
   "cell_type": "code",
   "execution_count": 39,
   "id": "8ce518f1",
   "metadata": {},
   "outputs": [
    {
     "data": {
      "text/html": [
       "<div>\n",
       "<style scoped>\n",
       "    .dataframe tbody tr th:only-of-type {\n",
       "        vertical-align: middle;\n",
       "    }\n",
       "\n",
       "    .dataframe tbody tr th {\n",
       "        vertical-align: top;\n",
       "    }\n",
       "\n",
       "    .dataframe thead th {\n",
       "        text-align: right;\n",
       "    }\n",
       "</style>\n",
       "<table border=\"1\" class=\"dataframe\">\n",
       "  <thead>\n",
       "    <tr style=\"text-align: right;\">\n",
       "      <th></th>\n",
       "      <th>Neo</th>\n",
       "      <th>Reo</th>\n",
       "    </tr>\n",
       "  </thead>\n",
       "  <tbody>\n",
       "    <tr>\n",
       "      <th>2001</th>\n",
       "      <td>1.0</td>\n",
       "      <td>3.0</td>\n",
       "    </tr>\n",
       "    <tr>\n",
       "      <th>2002</th>\n",
       "      <td>2.9</td>\n",
       "      <td>4.0</td>\n",
       "    </tr>\n",
       "    <tr>\n",
       "      <th>2000</th>\n",
       "      <td>NaN</td>\n",
       "      <td>1.1</td>\n",
       "    </tr>\n",
       "  </tbody>\n",
       "</table>\n",
       "</div>"
      ],
      "text/plain": [
       "      Neo  Reo\n",
       "2001  1.0  3.0\n",
       "2002  2.9  4.0\n",
       "2000  NaN  1.1"
      ]
     },
     "execution_count": 39,
     "metadata": {},
     "output_type": "execute_result"
    }
   ],
   "source": [
    "pop = {\"Neo\":{2001:1,2002:2.9},\"Reo\":{2000:1.1,2001:3,2002:4}}\n",
    "\n",
    "DataFrame(pop)"
   ]
  },
  {
   "cell_type": "markdown",
   "id": "48a71243",
   "metadata": {},
   "source": [
    "## Select\n",
    "- `df[list]`로 여러 column을 DataFrame 형태로 불러옴\n",
    "- `df[list][:i]` list에 해당하는 column에서 i번째 데이터 가져옴"
   ]
  },
  {
   "cell_type": "code",
   "execution_count": 40,
   "id": "88dcbddc",
   "metadata": {},
   "outputs": [
    {
     "ename": "NameError",
     "evalue": "name 'df' is not defined",
     "output_type": "error",
     "traceback": [
      "\u001b[1;31m---------------------------------------------------------------------------\u001b[0m",
      "\u001b[1;31mNameError\u001b[0m                                 Traceback (most recent call last)",
      "Input \u001b[1;32mIn [40]\u001b[0m, in \u001b[0;36m<module>\u001b[1;34m\u001b[0m\n\u001b[1;32m----> 1\u001b[0m account_series \u001b[38;5;241m=\u001b[39m \u001b[43mdf\u001b[49m[\u001b[38;5;124m'\u001b[39m\u001b[38;5;124maccount\u001b[39m\u001b[38;5;124m'\u001b[39m]\n\u001b[0;32m      2\u001b[0m account_series[account_series\u001b[38;5;241m<\u001b[39m\u001b[38;5;241m50\u001b[39m]\n",
      "\u001b[1;31mNameError\u001b[0m: name 'df' is not defined"
     ]
    }
   ],
   "source": [
    "account_series = df['account']\n",
    "account_series[account_series<50] # true인 경우만 불러온다"
   ]
  },
  {
   "cell_type": "markdown",
   "id": "e0529cfa",
   "metadata": {},
   "source": [
    "- `df.loc[index_list,column_list]`\n",
    "    - index이름의 list, column 리스트로 접근\n",
    "\n",
    "- `df.iloc[row 순서 번호 list,column 순서 번호 list]`\n",
    "     - row 순서의 번호 list, column 순서의 번호로 접근\n",
    "     - `df.iloc[:i,:j]`"
   ]
  },
  {
   "cell_type": "markdown",
   "id": "819458bf",
   "metadata": {},
   "source": [
    " ### Index 재설정\n",
    " - df.index = index_list\n",
    " <br>\n",
    " \n",
    " - df.reset_index(inplace = True, drop = False)\n",
    "     - 새로운 index가 생성되고 기존 index는 col_name index라는 column으로 생김\n",
    "         - drop = True 일 경우 전 index 드랍\n",
    "     - Default는 경우 df가 변경되지 않음\n",
    "         - __inplace__ =True 이면 df가 변경됨!\n",
    "     "
   ]
  },
  {
   "cell_type": "markdown",
   "id": "fe069dda",
   "metadata": {},
   "source": [
    "### 데이터 삭제\n",
    "- `df.drop(list,inplace=False, axis = 0)` \n",
    "    - axis = 0 $\\rightarrow$ 한개 이상의 index로 drop\n",
    "    - axis = 1 $\\rightarrow$ 한개 이상의 col_name으로 drop\n",
    "    - default 는 df는 변하지 않음. \n",
    "    - inplace =True 하면 df가 변경됨\n",
    "    "
   ]
  },
  {
   "cell_type": "markdown",
   "id": "f9ffda09",
   "metadata": {},
   "source": [
    "# DataFrame operation\n",
    "### Series operation\n",
    "- index 기준으로 연산수행.\n",
    "    - 연산 할, 같은 index 없으면 NaN값 반환\n",
    "    - index 중복이 일어나면 각각 연산함\n",
    "\n",
    "## DataFrame operation\n",
    "- index, col_name 둘다 같아야 연산 수행. 연산할 상대 값이 없으면 NaN 반환\n",
    "- df1.add(df2, fill_value = 0)\n",
    "    - df1 + df2 수행하는 함수\n",
    "    - 겹치지 않는 부분에 0을 더해주는 연산을 수행함. NaN 대신 기존 값 반환\n",
    "        - df1.mul(df2, fill_value = 1) 연산 할 상대값 없는경우 기존값 반환\n",
    "        \n",
    "### Series 와 DataFrame의 연산\n",
    "- 그냥 연산하게 되면, Series의 col_name이 없는이상 전부 NaN 반환.\n",
    "- df.add(s1, axis = 0) \n",
    "    - axis 를 지정해주면 지정된 축을 따라 broadcasting 연산을 수행함.\n",
    "    "
   ]
  },
  {
   "cell_type": "markdown",
   "id": "7d35a5b4",
   "metadata": {},
   "source": [
    "## lambda, map, apply\n",
    "### map for series\n",
    "- series.map(func,inplace = False)\n",
    "    - series의 data를 func에 넣은 값으로 치환한 series를 보여줌\n",
    "    - inplace = True 해줘야 series의 값이 변경됨"
   ]
  },
  {
   "cell_type": "code",
   "execution_count": 43,
   "id": "80ccefc1",
   "metadata": {},
   "outputs": [
    {
     "data": {
      "text/plain": [
       "0     0\n",
       "1     1\n",
       "2     4\n",
       "3     9\n",
       "4    16\n",
       "5    25\n",
       "6    36\n",
       "7    49\n",
       "8    64\n",
       "9    81\n",
       "dtype: int64"
      ]
     },
     "execution_count": 43,
     "metadata": {},
     "output_type": "execute_result"
    }
   ],
   "source": [
    "s1 = Series(np.arange(10))\n",
    "s2 = s1.map(lambda x : x**2)\n",
    "s2"
   ]
  },
  {
   "cell_type": "code",
   "execution_count": 46,
   "id": "11750ee6",
   "metadata": {},
   "outputs": [
    {
     "name": "stdout",
     "output_type": "stream",
     "text": [
      "0    NaN\n",
      "1      A\n",
      "2    NaN\n",
      "3      B\n",
      "4    NaN\n",
      "5      C\n",
      "6    NaN\n",
      "7    NaN\n",
      "8    NaN\n",
      "9    NaN\n",
      "dtype: object\n",
      "0    10\n",
      "1    11\n",
      "2    12\n",
      "3    13\n",
      "4    14\n",
      "5    15\n",
      "6    16\n",
      "7    17\n",
      "8    18\n",
      "9    19\n",
      "dtype: int32\n"
     ]
    }
   ],
   "source": [
    "# 객체를 통해 값 교체\n",
    "\n",
    "\n",
    "z = {1:'A',3:'B',5:'C'}\n",
    "s2 = Series(np.arange(10,20))\n",
    "\n",
    "# dict의 key와 s1의 index가 같으면 해당 index의 data를 dict의 value로 대체,\n",
    "# 없는 index는 NaN\n",
    "s1_1 = s1.map(z)\n",
    "\n",
    "# s1과 index가 같은 s2의 data로 대체\n",
    "s1_2 = s1.map(s2)\n",
    "print(s1_1)\n",
    "print(s1_2)"
   ]
  },
  {
   "cell_type": "code",
   "execution_count": 47,
   "id": "c9391370",
   "metadata": {},
   "outputs": [
    {
     "ename": "NameError",
     "evalue": "name 'df' is not defined",
     "output_type": "error",
     "traceback": [
      "\u001b[1;31m---------------------------------------------------------------------------\u001b[0m",
      "\u001b[1;31mNameError\u001b[0m                                 Traceback (most recent call last)",
      "Input \u001b[1;32mIn [47]\u001b[0m, in \u001b[0;36m<module>\u001b[1;34m\u001b[0m\n\u001b[0;32m      1\u001b[0m \u001b[38;5;66;03m#example\u001b[39;00m\n\u001b[1;32m----> 3\u001b[0m df[\u001b[38;5;124m\"\u001b[39m\u001b[38;5;124msex_code\u001b[39m\u001b[38;5;124m\"\u001b[39m] \u001b[38;5;241m=\u001b[39m \u001b[43mdf\u001b[49m\u001b[38;5;241m.\u001b[39msex\u001b[38;5;241m.\u001b[39mmap({})\n",
      "\u001b[1;31mNameError\u001b[0m: name 'df' is not defined"
     ]
    }
   ],
   "source": [
    "#example\n",
    "\n",
    "# sex의 male 일 때  0 이고, female일 때 1인 sec_code라는 새로운 column 생성. \n",
    "df[\"sex_code\"] = df.sex.map({'male': 0, 'female':1})"
   ]
  },
  {
   "cell_type": "markdown",
   "id": "c441066f",
   "metadata": {},
   "source": [
    "#### replace\n",
    "- df.col_name.replace(dict)\n",
    "    - col_name Data가 dict의 key 값일 경우 value로 치환해줌\n",
    "    \n",
    "- df.col_name.replace(Target_list,Conversion_list,inplace = True)\n",
    "    - col_name Data 중에 Target_list를, Conversion_list로 치환함. 순서에 맞게."
   ]
  },
  {
   "cell_type": "markdown",
   "id": "9029e76e",
   "metadata": {},
   "source": [
    "## apply\n",
    "- Series 전체(column)를 정의역으로 적용\n",
    "    - #example\n",
    "    - `f = lambda x: x.max() - x.min()\n",
    "    df.apply(f)`\n",
    "        - column별로 max값과 min값의 차이를 보여줌\n"
   ]
  },
  {
   "cell_type": "code",
   "execution_count": 48,
   "id": "faf83a89",
   "metadata": {},
   "outputs": [
    {
     "ename": "NameError",
     "evalue": "name 'df' is not defined",
     "output_type": "error",
     "traceback": [
      "\u001b[1;31m---------------------------------------------------------------------------\u001b[0m",
      "\u001b[1;31mNameError\u001b[0m                                 Traceback (most recent call last)",
      "Input \u001b[1;32mIn [48]\u001b[0m, in \u001b[0;36m<module>\u001b[1;34m\u001b[0m\n\u001b[0;32m      2\u001b[0m \u001b[38;5;28;01mdef\u001b[39;00m \u001b[38;5;21mf\u001b[39m(x):\n\u001b[0;32m      3\u001b[0m     \u001b[38;5;28;01mreturn\u001b[39;00m Series([x\u001b[38;5;241m.\u001b[39mmin(),x\u001b[38;5;241m.\u001b[39mmax()],index\u001b[38;5;241m=\u001b[39m[\u001b[38;5;124m'\u001b[39m\u001b[38;5;124mmin\u001b[39m\u001b[38;5;124m'\u001b[39m,\u001b[38;5;124m'\u001b[39m\u001b[38;5;124mmax\u001b[39m\u001b[38;5;124m'\u001b[39m])\n\u001b[1;32m----> 4\u001b[0m \u001b[43mdf\u001b[49m\u001b[38;5;241m.\u001b[39mapply(x)\n",
      "\u001b[1;31mNameError\u001b[0m: name 'df' is not defined"
     ]
    }
   ],
   "source": [
    "# Series로 반환\n",
    "def f(x):\n",
    "    return Series([x.min(),x.max()],index=['min','max'])\n",
    "\n",
    "# column 별로 min, max를 구한 값을 보여줌\n",
    "df.apply(x)"
   ]
  },
  {
   "cell_type": "markdown",
   "id": "31f41f8c",
   "metadata": {},
   "source": [
    "### applymap\n",
    "- map을 series가 아닌 df 전체에 적용할 때 사용\n",
    "    - series에 적용해주면 map과 동일한 효과\n",
    "- df의 모든 data에 적용\n",
    "- df.applymap(f)\n",
    "    - 모든 data가 f 적용된걸 보여줌"
   ]
  },
  {
   "cell_type": "markdown",
   "id": "b991c75f",
   "metadata": {},
   "source": [
    "# pandas built-in function\n",
    "- df.describe()\n",
    "    - Numeric type data의 요약 정보 보여줌.\n",
    "         - count, mean, max, min 등등\n",
    "\n",
    "- df.col.unique()\n",
    "    - col의 unique한 값들만 list로 보여줌\n",
    "\n",
    "- df.isnull()\n",
    "    - null 값의 여부를 boolean으로 반환\n",
    "    - 이걸 sum해서 얼마나 null인지 알 수 있지\n",
    "\n",
    "- df.sort_values(col_list,ascending =True)\n",
    "    - col_list 기준으로 정렬\n",
    "\n",
    "- corr,cov\n",
    "    - df.age.corr(df.earn)\n",
    "    - age와 earn의 corr\n",
    "    - df.corr()\n",
    "        \n",
    "    \n",
    "- corrwith\n",
    "    - 한 column과 나머지 column의 corr 볼수있다.\n",
    "    - df.corrwith(df.earn)\n",
    "        - df.earn과 나머지의 corr 확인"
   ]
  },
  {
   "cell_type": "markdown",
   "id": "1c640db7",
   "metadata": {},
   "source": [
    "df.dtypes\n",
    "- df의 dtypes 볼수있다"
   ]
  },
  {
   "cell_type": "code",
   "execution_count": null,
   "id": "a359a847",
   "metadata": {},
   "outputs": [],
   "source": [
    "# 출력했을때 몇개나 보여줄지 설정핼 수 있따\n",
    "pd.options.display.max_rows = int"
   ]
  },
  {
   "cell_type": "markdown",
   "id": "d7879a46",
   "metadata": {},
   "source": [
    "#### df.col.value_counts(sort)\n",
    "- col의 value마다 몇개인지 세줌\n",
    "- df.col.value_counts(sort=True) / len(df)\n",
    "    - 퍼센트로 볼 수 있음"
   ]
  },
  {
   "cell_type": "markdown",
   "id": "9bcd3f8a",
   "metadata": {},
   "source": [
    " ## Groupby\n",
    " - `df.groupby(기준column_list)[적용할_col_name_list].연산()`\n",
    " - 연산: sum, mean,std 등등\n",
    " \n",
    " ### Hierarchical index\n",
    " \n",
    " #### Groupby를 두 기준을 적용할 경우 Hierarchical index\n",
    "- h_index : index가 두개인 __series__\n",
    "\n",
    " #### Hierarchical_index.unstack()\n",
    "    - h_index를 풀고 dataFrame으로 변경해줌\n",
    "    - stack() 으로 다시 h_index로 변경\n",
    "    \n",
    " #### h_index.reset_index()\n",
    "     - 인덱스를 초기화 하고, 기존의 두 인덱스는 column화 시킴    \n",
    "     \n",
    " #### h_index.swaplevel()\n",
    "     - 두 index의 level을 서로 바꿔줌\n",
    " \n",
    " ### 정렬\n",
    " \n",
    " #### h_index.sortlevel(level=) , h_index.sort_index(level = )\n",
    "     - index의 level 기준으로 정렬\n",
    "     \n",
    " #### h_index.sort_values()\n",
    "     - values 기준으로 sort\n",
    "\n",
    " ### Grouped\n",
    " \n",
    " - `grouped = df.groupby(기준col_name)\n",
    "    for name, group in grouped :\n",
    "    print(name,group)`\n",
    " - 기준 column의 value(name)에 따라 그룹화 하여 각각 DF객체로 받을 수 있다.\n",
    " - grouped 는 generator type\n",
    " \n",
    " #### grouped.get_group(그룹명)\n",
    "     - 그룹명은 기준 col_name의 value\n",
    "     - 해당 그룹만 가져올 수 있다.\n",
    " \n",
    " #### grouped.agg(연산_list)\n",
    "     - Aggreation\n",
    "     - 요약된 통계정보 추출가능\n",
    "     - group별로 연산_list를 각각 수행.\n",
    "      \n",
    " #### grouped.transform(func)\n",
    "     - group별로 연산을 하며, element단위로 func 적용해줌\n",
    "     - ex)<br>\n",
    "      `score = lambda x:(x - x.mean()) / x.std()\n",
    "       grouped.trandform(score)`\n",
    "     - group별로, 각 element의 정규화를 한 값 도출 \n",
    "     \n",
    " #### df.groupby(기준_col).filter(조건)\n",
    "     - 조건을 만족하는 값만 groupby 된 상태로 추출\n",
    "     - ex) <br>\n",
    "          `df.groupby(\"Team\").filter(lambda x : x[\"Point\"].mean() >700)` <br>          group point의 평균이 700넘는 team만 보여줘\n"
   ]
  },
  {
   "cell_type": "markdown",
   "id": "186c33b2",
   "metadata": {},
   "source": [
    "### DataFrame.transpose\n",
    "dataframe.T"
   ]
  },
  {
   "cell_type": "code",
   "execution_count": 2,
   "id": "1f0b6691",
   "metadata": {},
   "outputs": [],
   "source": [
    "import pandas as pd"
   ]
  },
  {
   "cell_type": "code",
   "execution_count": 3,
   "id": "3ffc3f6b",
   "metadata": {},
   "outputs": [
    {
     "data": {
      "text/html": [
       "<div>\n",
       "<style scoped>\n",
       "    .dataframe tbody tr th:only-of-type {\n",
       "        vertical-align: middle;\n",
       "    }\n",
       "\n",
       "    .dataframe tbody tr th {\n",
       "        vertical-align: top;\n",
       "    }\n",
       "\n",
       "    .dataframe thead th {\n",
       "        text-align: right;\n",
       "    }\n",
       "</style>\n",
       "<table border=\"1\" class=\"dataframe\">\n",
       "  <thead>\n",
       "    <tr style=\"text-align: right;\">\n",
       "      <th></th>\n",
       "      <th>col1</th>\n",
       "      <th>col2</th>\n",
       "    </tr>\n",
       "  </thead>\n",
       "  <tbody>\n",
       "    <tr>\n",
       "      <th>0</th>\n",
       "      <td>1</td>\n",
       "      <td>3</td>\n",
       "    </tr>\n",
       "    <tr>\n",
       "      <th>1</th>\n",
       "      <td>2</td>\n",
       "      <td>4</td>\n",
       "    </tr>\n",
       "  </tbody>\n",
       "</table>\n",
       "</div>"
      ],
      "text/plain": [
       "   col1  col2\n",
       "0     1     3\n",
       "1     2     4"
      ]
     },
     "execution_count": 3,
     "metadata": {},
     "output_type": "execute_result"
    }
   ],
   "source": [
    "d1 = {'col1': [1, 2], 'col2': [3, 4]}\n",
    "df1 = pd.DataFrame(data=d1)\n",
    "df1\n",
    "   "
   ]
  },
  {
   "cell_type": "code",
   "execution_count": 4,
   "id": "1d4a455a",
   "metadata": {},
   "outputs": [
    {
     "data": {
      "text/html": [
       "<div>\n",
       "<style scoped>\n",
       "    .dataframe tbody tr th:only-of-type {\n",
       "        vertical-align: middle;\n",
       "    }\n",
       "\n",
       "    .dataframe tbody tr th {\n",
       "        vertical-align: top;\n",
       "    }\n",
       "\n",
       "    .dataframe thead th {\n",
       "        text-align: right;\n",
       "    }\n",
       "</style>\n",
       "<table border=\"1\" class=\"dataframe\">\n",
       "  <thead>\n",
       "    <tr style=\"text-align: right;\">\n",
       "      <th></th>\n",
       "      <th>0</th>\n",
       "      <th>1</th>\n",
       "    </tr>\n",
       "  </thead>\n",
       "  <tbody>\n",
       "    <tr>\n",
       "      <th>col1</th>\n",
       "      <td>1</td>\n",
       "      <td>2</td>\n",
       "    </tr>\n",
       "    <tr>\n",
       "      <th>col2</th>\n",
       "      <td>3</td>\n",
       "      <td>4</td>\n",
       "    </tr>\n",
       "  </tbody>\n",
       "</table>\n",
       "</div>"
      ],
      "text/plain": [
       "      0  1\n",
       "col1  1  2\n",
       "col2  3  4"
      ]
     },
     "execution_count": 4,
     "metadata": {},
     "output_type": "execute_result"
    }
   ],
   "source": [
    "df1_transposed = df1.T  # or df1.transpose()\n",
    "df1_transposed"
   ]
  },
  {
   "cell_type": "markdown",
   "id": "56b6c50d",
   "metadata": {},
   "source": [
    "# case study"
   ]
  },
  {
   "cell_type": "code",
   "execution_count": 10,
   "id": "720fe104",
   "metadata": {},
   "outputs": [
    {
     "name": "stdout",
     "output_type": "stream",
     "text": [
      "Collecting wget\n",
      "  Downloading wget-3.2.zip (10 kB)\n",
      "Building wheels for collected packages: wget\n",
      "  Building wheel for wget (setup.py): started\n",
      "  Building wheel for wget (setup.py): finished with status 'done'\n",
      "  Created wheel for wget: filename=wget-3.2-py3-none-any.whl size=9672 sha256=8d30520be3e56974ed998164a1a3b47367a2c979516f918a925d148a02b1299d\n",
      "  Stored in directory: c:\\users\\shinw\\appdata\\local\\pip\\cache\\wheels\\04\\5f\\3e\\46cc37c5d698415694d83f607f833f83f0149e49b3af9d0f38\n",
      "Successfully built wget\n",
      "Installing collected packages: wget\n",
      "Successfully installed wget-3.2\n",
      "Note: you may need to restart the kernel to use updated packages.\n"
     ]
    }
   ],
   "source": [
    "pip install wget"
   ]
  },
  {
   "cell_type": "code",
   "execution_count": 13,
   "id": "e53eea54",
   "metadata": {},
   "outputs": [],
   "source": [
    "import wget\n",
    "import pandas as pd"
   ]
  },
  {
   "cell_type": "code",
   "execution_count": 9,
   "id": "39a7e031",
   "metadata": {
    "collapsed": true
   },
   "outputs": [
    {
     "ename": "URLError",
     "evalue": "<urlopen error [SSL: CERTIFICATE_VERIFY_FAILED] certificate verify failed: certificate has expired (_ssl.c:1129)>",
     "output_type": "error",
     "traceback": [
      "\u001b[1;31m---------------------------------------------------------------------------\u001b[0m",
      "\u001b[1;31mSSLCertVerificationError\u001b[0m                  Traceback (most recent call last)",
      "File \u001b[1;32m~\\anaconda3\\lib\\urllib\\request.py:1346\u001b[0m, in \u001b[0;36mAbstractHTTPHandler.do_open\u001b[1;34m(self, http_class, req, **http_conn_args)\u001b[0m\n\u001b[0;32m   1345\u001b[0m \u001b[38;5;28;01mtry\u001b[39;00m:\n\u001b[1;32m-> 1346\u001b[0m     \u001b[43mh\u001b[49m\u001b[38;5;241;43m.\u001b[39;49m\u001b[43mrequest\u001b[49m\u001b[43m(\u001b[49m\u001b[43mreq\u001b[49m\u001b[38;5;241;43m.\u001b[39;49m\u001b[43mget_method\u001b[49m\u001b[43m(\u001b[49m\u001b[43m)\u001b[49m\u001b[43m,\u001b[49m\u001b[43m \u001b[49m\u001b[43mreq\u001b[49m\u001b[38;5;241;43m.\u001b[39;49m\u001b[43mselector\u001b[49m\u001b[43m,\u001b[49m\u001b[43m \u001b[49m\u001b[43mreq\u001b[49m\u001b[38;5;241;43m.\u001b[39;49m\u001b[43mdata\u001b[49m\u001b[43m,\u001b[49m\u001b[43m \u001b[49m\u001b[43mheaders\u001b[49m\u001b[43m,\u001b[49m\n\u001b[0;32m   1347\u001b[0m \u001b[43m              \u001b[49m\u001b[43mencode_chunked\u001b[49m\u001b[38;5;241;43m=\u001b[39;49m\u001b[43mreq\u001b[49m\u001b[38;5;241;43m.\u001b[39;49m\u001b[43mhas_header\u001b[49m\u001b[43m(\u001b[49m\u001b[38;5;124;43m'\u001b[39;49m\u001b[38;5;124;43mTransfer-encoding\u001b[39;49m\u001b[38;5;124;43m'\u001b[39;49m\u001b[43m)\u001b[49m\u001b[43m)\u001b[49m\n\u001b[0;32m   1348\u001b[0m \u001b[38;5;28;01mexcept\u001b[39;00m \u001b[38;5;167;01mOSError\u001b[39;00m \u001b[38;5;28;01mas\u001b[39;00m err: \u001b[38;5;66;03m# timeout error\u001b[39;00m\n",
      "File \u001b[1;32m~\\anaconda3\\lib\\http\\client.py:1279\u001b[0m, in \u001b[0;36mHTTPConnection.request\u001b[1;34m(self, method, url, body, headers, encode_chunked)\u001b[0m\n\u001b[0;32m   1278\u001b[0m \u001b[38;5;124;03m\"\"\"Send a complete request to the server.\"\"\"\u001b[39;00m\n\u001b[1;32m-> 1279\u001b[0m \u001b[38;5;28;43mself\u001b[39;49m\u001b[38;5;241;43m.\u001b[39;49m\u001b[43m_send_request\u001b[49m\u001b[43m(\u001b[49m\u001b[43mmethod\u001b[49m\u001b[43m,\u001b[49m\u001b[43m \u001b[49m\u001b[43murl\u001b[49m\u001b[43m,\u001b[49m\u001b[43m \u001b[49m\u001b[43mbody\u001b[49m\u001b[43m,\u001b[49m\u001b[43m \u001b[49m\u001b[43mheaders\u001b[49m\u001b[43m,\u001b[49m\u001b[43m \u001b[49m\u001b[43mencode_chunked\u001b[49m\u001b[43m)\u001b[49m\n",
      "File \u001b[1;32m~\\anaconda3\\lib\\http\\client.py:1325\u001b[0m, in \u001b[0;36mHTTPConnection._send_request\u001b[1;34m(self, method, url, body, headers, encode_chunked)\u001b[0m\n\u001b[0;32m   1324\u001b[0m     body \u001b[38;5;241m=\u001b[39m _encode(body, \u001b[38;5;124m'\u001b[39m\u001b[38;5;124mbody\u001b[39m\u001b[38;5;124m'\u001b[39m)\n\u001b[1;32m-> 1325\u001b[0m \u001b[38;5;28;43mself\u001b[39;49m\u001b[38;5;241;43m.\u001b[39;49m\u001b[43mendheaders\u001b[49m\u001b[43m(\u001b[49m\u001b[43mbody\u001b[49m\u001b[43m,\u001b[49m\u001b[43m \u001b[49m\u001b[43mencode_chunked\u001b[49m\u001b[38;5;241;43m=\u001b[39;49m\u001b[43mencode_chunked\u001b[49m\u001b[43m)\u001b[49m\n",
      "File \u001b[1;32m~\\anaconda3\\lib\\http\\client.py:1274\u001b[0m, in \u001b[0;36mHTTPConnection.endheaders\u001b[1;34m(self, message_body, encode_chunked)\u001b[0m\n\u001b[0;32m   1273\u001b[0m     \u001b[38;5;28;01mraise\u001b[39;00m CannotSendHeader()\n\u001b[1;32m-> 1274\u001b[0m \u001b[38;5;28;43mself\u001b[39;49m\u001b[38;5;241;43m.\u001b[39;49m\u001b[43m_send_output\u001b[49m\u001b[43m(\u001b[49m\u001b[43mmessage_body\u001b[49m\u001b[43m,\u001b[49m\u001b[43m \u001b[49m\u001b[43mencode_chunked\u001b[49m\u001b[38;5;241;43m=\u001b[39;49m\u001b[43mencode_chunked\u001b[49m\u001b[43m)\u001b[49m\n",
      "File \u001b[1;32m~\\anaconda3\\lib\\http\\client.py:1034\u001b[0m, in \u001b[0;36mHTTPConnection._send_output\u001b[1;34m(self, message_body, encode_chunked)\u001b[0m\n\u001b[0;32m   1033\u001b[0m \u001b[38;5;28;01mdel\u001b[39;00m \u001b[38;5;28mself\u001b[39m\u001b[38;5;241m.\u001b[39m_buffer[:]\n\u001b[1;32m-> 1034\u001b[0m \u001b[38;5;28;43mself\u001b[39;49m\u001b[38;5;241;43m.\u001b[39;49m\u001b[43msend\u001b[49m\u001b[43m(\u001b[49m\u001b[43mmsg\u001b[49m\u001b[43m)\u001b[49m\n\u001b[0;32m   1036\u001b[0m \u001b[38;5;28;01mif\u001b[39;00m message_body \u001b[38;5;129;01mis\u001b[39;00m \u001b[38;5;129;01mnot\u001b[39;00m \u001b[38;5;28;01mNone\u001b[39;00m:\n\u001b[0;32m   1037\u001b[0m \n\u001b[0;32m   1038\u001b[0m     \u001b[38;5;66;03m# create a consistent interface to message_body\u001b[39;00m\n",
      "File \u001b[1;32m~\\anaconda3\\lib\\http\\client.py:974\u001b[0m, in \u001b[0;36mHTTPConnection.send\u001b[1;34m(self, data)\u001b[0m\n\u001b[0;32m    973\u001b[0m \u001b[38;5;28;01mif\u001b[39;00m \u001b[38;5;28mself\u001b[39m\u001b[38;5;241m.\u001b[39mauto_open:\n\u001b[1;32m--> 974\u001b[0m     \u001b[38;5;28;43mself\u001b[39;49m\u001b[38;5;241;43m.\u001b[39;49m\u001b[43mconnect\u001b[49m\u001b[43m(\u001b[49m\u001b[43m)\u001b[49m\n\u001b[0;32m    975\u001b[0m \u001b[38;5;28;01melse\u001b[39;00m:\n",
      "File \u001b[1;32m~\\anaconda3\\lib\\http\\client.py:1448\u001b[0m, in \u001b[0;36mHTTPSConnection.connect\u001b[1;34m(self)\u001b[0m\n\u001b[0;32m   1446\u001b[0m     server_hostname \u001b[38;5;241m=\u001b[39m \u001b[38;5;28mself\u001b[39m\u001b[38;5;241m.\u001b[39mhost\n\u001b[1;32m-> 1448\u001b[0m \u001b[38;5;28mself\u001b[39m\u001b[38;5;241m.\u001b[39msock \u001b[38;5;241m=\u001b[39m \u001b[38;5;28;43mself\u001b[39;49m\u001b[38;5;241;43m.\u001b[39;49m\u001b[43m_context\u001b[49m\u001b[38;5;241;43m.\u001b[39;49m\u001b[43mwrap_socket\u001b[49m\u001b[43m(\u001b[49m\u001b[38;5;28;43mself\u001b[39;49m\u001b[38;5;241;43m.\u001b[39;49m\u001b[43msock\u001b[49m\u001b[43m,\u001b[49m\n\u001b[0;32m   1449\u001b[0m \u001b[43m                                      \u001b[49m\u001b[43mserver_hostname\u001b[49m\u001b[38;5;241;43m=\u001b[39;49m\u001b[43mserver_hostname\u001b[49m\u001b[43m)\u001b[49m\n",
      "File \u001b[1;32m~\\anaconda3\\lib\\ssl.py:500\u001b[0m, in \u001b[0;36mSSLContext.wrap_socket\u001b[1;34m(self, sock, server_side, do_handshake_on_connect, suppress_ragged_eofs, server_hostname, session)\u001b[0m\n\u001b[0;32m    494\u001b[0m \u001b[38;5;28;01mdef\u001b[39;00m \u001b[38;5;21mwrap_socket\u001b[39m(\u001b[38;5;28mself\u001b[39m, sock, server_side\u001b[38;5;241m=\u001b[39m\u001b[38;5;28;01mFalse\u001b[39;00m,\n\u001b[0;32m    495\u001b[0m                 do_handshake_on_connect\u001b[38;5;241m=\u001b[39m\u001b[38;5;28;01mTrue\u001b[39;00m,\n\u001b[0;32m    496\u001b[0m                 suppress_ragged_eofs\u001b[38;5;241m=\u001b[39m\u001b[38;5;28;01mTrue\u001b[39;00m,\n\u001b[0;32m    497\u001b[0m                 server_hostname\u001b[38;5;241m=\u001b[39m\u001b[38;5;28;01mNone\u001b[39;00m, session\u001b[38;5;241m=\u001b[39m\u001b[38;5;28;01mNone\u001b[39;00m):\n\u001b[0;32m    498\u001b[0m     \u001b[38;5;66;03m# SSLSocket class handles server_hostname encoding before it calls\u001b[39;00m\n\u001b[0;32m    499\u001b[0m     \u001b[38;5;66;03m# ctx._wrap_socket()\u001b[39;00m\n\u001b[1;32m--> 500\u001b[0m     \u001b[38;5;28;01mreturn\u001b[39;00m \u001b[38;5;28;43mself\u001b[39;49m\u001b[38;5;241;43m.\u001b[39;49m\u001b[43msslsocket_class\u001b[49m\u001b[38;5;241;43m.\u001b[39;49m\u001b[43m_create\u001b[49m\u001b[43m(\u001b[49m\n\u001b[0;32m    501\u001b[0m \u001b[43m        \u001b[49m\u001b[43msock\u001b[49m\u001b[38;5;241;43m=\u001b[39;49m\u001b[43msock\u001b[49m\u001b[43m,\u001b[49m\n\u001b[0;32m    502\u001b[0m \u001b[43m        \u001b[49m\u001b[43mserver_side\u001b[49m\u001b[38;5;241;43m=\u001b[39;49m\u001b[43mserver_side\u001b[49m\u001b[43m,\u001b[49m\n\u001b[0;32m    503\u001b[0m \u001b[43m        \u001b[49m\u001b[43mdo_handshake_on_connect\u001b[49m\u001b[38;5;241;43m=\u001b[39;49m\u001b[43mdo_handshake_on_connect\u001b[49m\u001b[43m,\u001b[49m\n\u001b[0;32m    504\u001b[0m \u001b[43m        \u001b[49m\u001b[43msuppress_ragged_eofs\u001b[49m\u001b[38;5;241;43m=\u001b[39;49m\u001b[43msuppress_ragged_eofs\u001b[49m\u001b[43m,\u001b[49m\n\u001b[0;32m    505\u001b[0m \u001b[43m        \u001b[49m\u001b[43mserver_hostname\u001b[49m\u001b[38;5;241;43m=\u001b[39;49m\u001b[43mserver_hostname\u001b[49m\u001b[43m,\u001b[49m\n\u001b[0;32m    506\u001b[0m \u001b[43m        \u001b[49m\u001b[43mcontext\u001b[49m\u001b[38;5;241;43m=\u001b[39;49m\u001b[38;5;28;43mself\u001b[39;49m\u001b[43m,\u001b[49m\n\u001b[0;32m    507\u001b[0m \u001b[43m        \u001b[49m\u001b[43msession\u001b[49m\u001b[38;5;241;43m=\u001b[39;49m\u001b[43msession\u001b[49m\n\u001b[0;32m    508\u001b[0m \u001b[43m    \u001b[49m\u001b[43m)\u001b[49m\n",
      "File \u001b[1;32m~\\anaconda3\\lib\\ssl.py:1040\u001b[0m, in \u001b[0;36mSSLSocket._create\u001b[1;34m(cls, sock, server_side, do_handshake_on_connect, suppress_ragged_eofs, server_hostname, context, session)\u001b[0m\n\u001b[0;32m   1039\u001b[0m             \u001b[38;5;28;01mraise\u001b[39;00m \u001b[38;5;167;01mValueError\u001b[39;00m(\u001b[38;5;124m\"\u001b[39m\u001b[38;5;124mdo_handshake_on_connect should not be specified for non-blocking sockets\u001b[39m\u001b[38;5;124m\"\u001b[39m)\n\u001b[1;32m-> 1040\u001b[0m         \u001b[38;5;28;43mself\u001b[39;49m\u001b[38;5;241;43m.\u001b[39;49m\u001b[43mdo_handshake\u001b[49m\u001b[43m(\u001b[49m\u001b[43m)\u001b[49m\n\u001b[0;32m   1041\u001b[0m \u001b[38;5;28;01mexcept\u001b[39;00m (\u001b[38;5;167;01mOSError\u001b[39;00m, \u001b[38;5;167;01mValueError\u001b[39;00m):\n",
      "File \u001b[1;32m~\\anaconda3\\lib\\ssl.py:1309\u001b[0m, in \u001b[0;36mSSLSocket.do_handshake\u001b[1;34m(self, block)\u001b[0m\n\u001b[0;32m   1308\u001b[0m         \u001b[38;5;28mself\u001b[39m\u001b[38;5;241m.\u001b[39msettimeout(\u001b[38;5;28;01mNone\u001b[39;00m)\n\u001b[1;32m-> 1309\u001b[0m     \u001b[38;5;28;43mself\u001b[39;49m\u001b[38;5;241;43m.\u001b[39;49m\u001b[43m_sslobj\u001b[49m\u001b[38;5;241;43m.\u001b[39;49m\u001b[43mdo_handshake\u001b[49m\u001b[43m(\u001b[49m\u001b[43m)\u001b[49m\n\u001b[0;32m   1310\u001b[0m \u001b[38;5;28;01mfinally\u001b[39;00m:\n",
      "\u001b[1;31mSSLCertVerificationError\u001b[0m: [SSL: CERTIFICATE_VERIFY_FAILED] certificate verify failed: certificate has expired (_ssl.c:1129)",
      "\nDuring handling of the above exception, another exception occurred:\n",
      "\u001b[1;31mURLError\u001b[0m                                  Traceback (most recent call last)",
      "Input \u001b[1;32mIn [9]\u001b[0m, in \u001b[0;36m<module>\u001b[1;34m\u001b[0m\n\u001b[0;32m      1\u001b[0m \u001b[38;5;66;03m### data down load\u001b[39;00m\n\u001b[0;32m      2\u001b[0m url \u001b[38;5;241m=\u001b[39m \u001b[38;5;124m\"\u001b[39m\u001b[38;5;124mhttps://www.shanelynn.ie/wp-content/uploads/2015/06/phone_data.csv\u001b[39m\u001b[38;5;124m\"\u001b[39m\n\u001b[1;32m----> 3\u001b[0m \u001b[43mwget\u001b[49m\u001b[38;5;241;43m.\u001b[39;49m\u001b[43mdownload\u001b[49m\u001b[43m(\u001b[49m\u001b[43murl\u001b[49m\u001b[43m)\u001b[49m\n",
      "File \u001b[1;32m~\\anaconda3\\lib\\site-packages\\wget.py:526\u001b[0m, in \u001b[0;36mdownload\u001b[1;34m(url, out, bar)\u001b[0m\n\u001b[0;32m    524\u001b[0m \u001b[38;5;28;01melse\u001b[39;00m:\n\u001b[0;32m    525\u001b[0m     binurl \u001b[38;5;241m=\u001b[39m url\n\u001b[1;32m--> 526\u001b[0m (tmpfile, headers) \u001b[38;5;241m=\u001b[39m \u001b[43mulib\u001b[49m\u001b[38;5;241;43m.\u001b[39;49m\u001b[43murlretrieve\u001b[49m\u001b[43m(\u001b[49m\u001b[43mbinurl\u001b[49m\u001b[43m,\u001b[49m\u001b[43m \u001b[49m\u001b[43mtmpfile\u001b[49m\u001b[43m,\u001b[49m\u001b[43m \u001b[49m\u001b[43mcallback\u001b[49m\u001b[43m)\u001b[49m\n\u001b[0;32m    527\u001b[0m filename \u001b[38;5;241m=\u001b[39m detect_filename(url, out, headers)\n\u001b[0;32m    528\u001b[0m \u001b[38;5;28;01mif\u001b[39;00m outdir:\n",
      "File \u001b[1;32m~\\anaconda3\\lib\\urllib\\request.py:239\u001b[0m, in \u001b[0;36murlretrieve\u001b[1;34m(url, filename, reporthook, data)\u001b[0m\n\u001b[0;32m    222\u001b[0m \u001b[38;5;124;03m\"\"\"\u001b[39;00m\n\u001b[0;32m    223\u001b[0m \u001b[38;5;124;03mRetrieve a URL into a temporary location on disk.\u001b[39;00m\n\u001b[0;32m    224\u001b[0m \n\u001b[1;32m   (...)\u001b[0m\n\u001b[0;32m    235\u001b[0m \u001b[38;5;124;03mdata file as well as the resulting HTTPMessage object.\u001b[39;00m\n\u001b[0;32m    236\u001b[0m \u001b[38;5;124;03m\"\"\"\u001b[39;00m\n\u001b[0;32m    237\u001b[0m url_type, path \u001b[38;5;241m=\u001b[39m _splittype(url)\n\u001b[1;32m--> 239\u001b[0m \u001b[38;5;28;01mwith\u001b[39;00m contextlib\u001b[38;5;241m.\u001b[39mclosing(\u001b[43murlopen\u001b[49m\u001b[43m(\u001b[49m\u001b[43murl\u001b[49m\u001b[43m,\u001b[49m\u001b[43m \u001b[49m\u001b[43mdata\u001b[49m\u001b[43m)\u001b[49m) \u001b[38;5;28;01mas\u001b[39;00m fp:\n\u001b[0;32m    240\u001b[0m     headers \u001b[38;5;241m=\u001b[39m fp\u001b[38;5;241m.\u001b[39minfo()\n\u001b[0;32m    242\u001b[0m     \u001b[38;5;66;03m# Just return the local path and the \"headers\" for file://\u001b[39;00m\n\u001b[0;32m    243\u001b[0m     \u001b[38;5;66;03m# URLs. No sense in performing a copy unless requested.\u001b[39;00m\n",
      "File \u001b[1;32m~\\anaconda3\\lib\\urllib\\request.py:214\u001b[0m, in \u001b[0;36murlopen\u001b[1;34m(url, data, timeout, cafile, capath, cadefault, context)\u001b[0m\n\u001b[0;32m    212\u001b[0m \u001b[38;5;28;01melse\u001b[39;00m:\n\u001b[0;32m    213\u001b[0m     opener \u001b[38;5;241m=\u001b[39m _opener\n\u001b[1;32m--> 214\u001b[0m \u001b[38;5;28;01mreturn\u001b[39;00m \u001b[43mopener\u001b[49m\u001b[38;5;241;43m.\u001b[39;49m\u001b[43mopen\u001b[49m\u001b[43m(\u001b[49m\u001b[43murl\u001b[49m\u001b[43m,\u001b[49m\u001b[43m \u001b[49m\u001b[43mdata\u001b[49m\u001b[43m,\u001b[49m\u001b[43m \u001b[49m\u001b[43mtimeout\u001b[49m\u001b[43m)\u001b[49m\n",
      "File \u001b[1;32m~\\anaconda3\\lib\\urllib\\request.py:517\u001b[0m, in \u001b[0;36mOpenerDirector.open\u001b[1;34m(self, fullurl, data, timeout)\u001b[0m\n\u001b[0;32m    514\u001b[0m     req \u001b[38;5;241m=\u001b[39m meth(req)\n\u001b[0;32m    516\u001b[0m sys\u001b[38;5;241m.\u001b[39maudit(\u001b[38;5;124m'\u001b[39m\u001b[38;5;124murllib.Request\u001b[39m\u001b[38;5;124m'\u001b[39m, req\u001b[38;5;241m.\u001b[39mfull_url, req\u001b[38;5;241m.\u001b[39mdata, req\u001b[38;5;241m.\u001b[39mheaders, req\u001b[38;5;241m.\u001b[39mget_method())\n\u001b[1;32m--> 517\u001b[0m response \u001b[38;5;241m=\u001b[39m \u001b[38;5;28;43mself\u001b[39;49m\u001b[38;5;241;43m.\u001b[39;49m\u001b[43m_open\u001b[49m\u001b[43m(\u001b[49m\u001b[43mreq\u001b[49m\u001b[43m,\u001b[49m\u001b[43m \u001b[49m\u001b[43mdata\u001b[49m\u001b[43m)\u001b[49m\n\u001b[0;32m    519\u001b[0m \u001b[38;5;66;03m# post-process response\u001b[39;00m\n\u001b[0;32m    520\u001b[0m meth_name \u001b[38;5;241m=\u001b[39m protocol\u001b[38;5;241m+\u001b[39m\u001b[38;5;124m\"\u001b[39m\u001b[38;5;124m_response\u001b[39m\u001b[38;5;124m\"\u001b[39m\n",
      "File \u001b[1;32m~\\anaconda3\\lib\\urllib\\request.py:534\u001b[0m, in \u001b[0;36mOpenerDirector._open\u001b[1;34m(self, req, data)\u001b[0m\n\u001b[0;32m    531\u001b[0m     \u001b[38;5;28;01mreturn\u001b[39;00m result\n\u001b[0;32m    533\u001b[0m protocol \u001b[38;5;241m=\u001b[39m req\u001b[38;5;241m.\u001b[39mtype\n\u001b[1;32m--> 534\u001b[0m result \u001b[38;5;241m=\u001b[39m \u001b[38;5;28;43mself\u001b[39;49m\u001b[38;5;241;43m.\u001b[39;49m\u001b[43m_call_chain\u001b[49m\u001b[43m(\u001b[49m\u001b[38;5;28;43mself\u001b[39;49m\u001b[38;5;241;43m.\u001b[39;49m\u001b[43mhandle_open\u001b[49m\u001b[43m,\u001b[49m\u001b[43m \u001b[49m\u001b[43mprotocol\u001b[49m\u001b[43m,\u001b[49m\u001b[43m \u001b[49m\u001b[43mprotocol\u001b[49m\u001b[43m \u001b[49m\u001b[38;5;241;43m+\u001b[39;49m\n\u001b[0;32m    535\u001b[0m \u001b[43m                          \u001b[49m\u001b[38;5;124;43m'\u001b[39;49m\u001b[38;5;124;43m_open\u001b[39;49m\u001b[38;5;124;43m'\u001b[39;49m\u001b[43m,\u001b[49m\u001b[43m \u001b[49m\u001b[43mreq\u001b[49m\u001b[43m)\u001b[49m\n\u001b[0;32m    536\u001b[0m \u001b[38;5;28;01mif\u001b[39;00m result:\n\u001b[0;32m    537\u001b[0m     \u001b[38;5;28;01mreturn\u001b[39;00m result\n",
      "File \u001b[1;32m~\\anaconda3\\lib\\urllib\\request.py:494\u001b[0m, in \u001b[0;36mOpenerDirector._call_chain\u001b[1;34m(self, chain, kind, meth_name, *args)\u001b[0m\n\u001b[0;32m    492\u001b[0m \u001b[38;5;28;01mfor\u001b[39;00m handler \u001b[38;5;129;01min\u001b[39;00m handlers:\n\u001b[0;32m    493\u001b[0m     func \u001b[38;5;241m=\u001b[39m \u001b[38;5;28mgetattr\u001b[39m(handler, meth_name)\n\u001b[1;32m--> 494\u001b[0m     result \u001b[38;5;241m=\u001b[39m \u001b[43mfunc\u001b[49m\u001b[43m(\u001b[49m\u001b[38;5;241;43m*\u001b[39;49m\u001b[43margs\u001b[49m\u001b[43m)\u001b[49m\n\u001b[0;32m    495\u001b[0m     \u001b[38;5;28;01mif\u001b[39;00m result \u001b[38;5;129;01mis\u001b[39;00m \u001b[38;5;129;01mnot\u001b[39;00m \u001b[38;5;28;01mNone\u001b[39;00m:\n\u001b[0;32m    496\u001b[0m         \u001b[38;5;28;01mreturn\u001b[39;00m result\n",
      "File \u001b[1;32m~\\anaconda3\\lib\\urllib\\request.py:1389\u001b[0m, in \u001b[0;36mHTTPSHandler.https_open\u001b[1;34m(self, req)\u001b[0m\n\u001b[0;32m   1388\u001b[0m \u001b[38;5;28;01mdef\u001b[39;00m \u001b[38;5;21mhttps_open\u001b[39m(\u001b[38;5;28mself\u001b[39m, req):\n\u001b[1;32m-> 1389\u001b[0m     \u001b[38;5;28;01mreturn\u001b[39;00m \u001b[38;5;28;43mself\u001b[39;49m\u001b[38;5;241;43m.\u001b[39;49m\u001b[43mdo_open\u001b[49m\u001b[43m(\u001b[49m\u001b[43mhttp\u001b[49m\u001b[38;5;241;43m.\u001b[39;49m\u001b[43mclient\u001b[49m\u001b[38;5;241;43m.\u001b[39;49m\u001b[43mHTTPSConnection\u001b[49m\u001b[43m,\u001b[49m\u001b[43m \u001b[49m\u001b[43mreq\u001b[49m\u001b[43m,\u001b[49m\n\u001b[0;32m   1390\u001b[0m \u001b[43m        \u001b[49m\u001b[43mcontext\u001b[49m\u001b[38;5;241;43m=\u001b[39;49m\u001b[38;5;28;43mself\u001b[39;49m\u001b[38;5;241;43m.\u001b[39;49m\u001b[43m_context\u001b[49m\u001b[43m,\u001b[49m\u001b[43m \u001b[49m\u001b[43mcheck_hostname\u001b[49m\u001b[38;5;241;43m=\u001b[39;49m\u001b[38;5;28;43mself\u001b[39;49m\u001b[38;5;241;43m.\u001b[39;49m\u001b[43m_check_hostname\u001b[49m\u001b[43m)\u001b[49m\n",
      "File \u001b[1;32m~\\anaconda3\\lib\\urllib\\request.py:1349\u001b[0m, in \u001b[0;36mAbstractHTTPHandler.do_open\u001b[1;34m(self, http_class, req, **http_conn_args)\u001b[0m\n\u001b[0;32m   1346\u001b[0m         h\u001b[38;5;241m.\u001b[39mrequest(req\u001b[38;5;241m.\u001b[39mget_method(), req\u001b[38;5;241m.\u001b[39mselector, req\u001b[38;5;241m.\u001b[39mdata, headers,\n\u001b[0;32m   1347\u001b[0m                   encode_chunked\u001b[38;5;241m=\u001b[39mreq\u001b[38;5;241m.\u001b[39mhas_header(\u001b[38;5;124m'\u001b[39m\u001b[38;5;124mTransfer-encoding\u001b[39m\u001b[38;5;124m'\u001b[39m))\n\u001b[0;32m   1348\u001b[0m     \u001b[38;5;28;01mexcept\u001b[39;00m \u001b[38;5;167;01mOSError\u001b[39;00m \u001b[38;5;28;01mas\u001b[39;00m err: \u001b[38;5;66;03m# timeout error\u001b[39;00m\n\u001b[1;32m-> 1349\u001b[0m         \u001b[38;5;28;01mraise\u001b[39;00m URLError(err)\n\u001b[0;32m   1350\u001b[0m     r \u001b[38;5;241m=\u001b[39m h\u001b[38;5;241m.\u001b[39mgetresponse()\n\u001b[0;32m   1351\u001b[0m \u001b[38;5;28;01mexcept\u001b[39;00m:\n",
      "\u001b[1;31mURLError\u001b[0m: <urlopen error [SSL: CERTIFICATE_VERIFY_FAILED] certificate verify failed: certificate has expired (_ssl.c:1129)>"
     ]
    }
   ],
   "source": [
    "### data down load\n",
    "url = \"https://www.shanelynn.ie/wp-content/uploads/2015/06/phone_data.csv\"\n",
    "wget.download(url)"
   ]
  },
  {
   "cell_type": "markdown",
   "id": "4782ad44",
   "metadata": {},
   "source": [
    "### read_csv(file, sep='\\s+', header = None)\n",
    "- \\s+ 는 하나이상의 띄어쓰기의 정규식\n",
    "    - 띄어쓰기들을 기준으로 데이터를 구분한다.\n",
    "- header = None : column값을 불러오지 않는다."
   ]
  },
  {
   "cell_type": "code",
   "execution_count": 11,
   "id": "c2ba9914",
   "metadata": {},
   "outputs": [
    {
     "data": {
      "text/html": [
       "<div>\n",
       "<style scoped>\n",
       "    .dataframe tbody tr th:only-of-type {\n",
       "        vertical-align: middle;\n",
       "    }\n",
       "\n",
       "    .dataframe tbody tr th {\n",
       "        vertical-align: top;\n",
       "    }\n",
       "\n",
       "    .dataframe thead th {\n",
       "        text-align: right;\n",
       "    }\n",
       "</style>\n",
       "<table border=\"1\" class=\"dataframe\">\n",
       "  <thead>\n",
       "    <tr style=\"text-align: right;\">\n",
       "      <th></th>\n",
       "      <th>index</th>\n",
       "      <th>date</th>\n",
       "      <th>duration</th>\n",
       "      <th>item</th>\n",
       "      <th>month</th>\n",
       "      <th>network</th>\n",
       "      <th>network_type</th>\n",
       "    </tr>\n",
       "  </thead>\n",
       "  <tbody>\n",
       "    <tr>\n",
       "      <th>0</th>\n",
       "      <td>0</td>\n",
       "      <td>15/10/14 06:58</td>\n",
       "      <td>34.429</td>\n",
       "      <td>data</td>\n",
       "      <td>2014-11</td>\n",
       "      <td>data</td>\n",
       "      <td>data</td>\n",
       "    </tr>\n",
       "    <tr>\n",
       "      <th>1</th>\n",
       "      <td>1</td>\n",
       "      <td>15/10/14 06:58</td>\n",
       "      <td>13.000</td>\n",
       "      <td>call</td>\n",
       "      <td>2014-11</td>\n",
       "      <td>Vodafone</td>\n",
       "      <td>mobile</td>\n",
       "    </tr>\n",
       "    <tr>\n",
       "      <th>2</th>\n",
       "      <td>2</td>\n",
       "      <td>15/10/14 14:46</td>\n",
       "      <td>23.000</td>\n",
       "      <td>call</td>\n",
       "      <td>2014-11</td>\n",
       "      <td>Meteor</td>\n",
       "      <td>mobile</td>\n",
       "    </tr>\n",
       "    <tr>\n",
       "      <th>3</th>\n",
       "      <td>3</td>\n",
       "      <td>15/10/14 14:48</td>\n",
       "      <td>4.000</td>\n",
       "      <td>call</td>\n",
       "      <td>2014-11</td>\n",
       "      <td>Tesco</td>\n",
       "      <td>mobile</td>\n",
       "    </tr>\n",
       "    <tr>\n",
       "      <th>4</th>\n",
       "      <td>4</td>\n",
       "      <td>15/10/14 17:27</td>\n",
       "      <td>4.000</td>\n",
       "      <td>call</td>\n",
       "      <td>2014-11</td>\n",
       "      <td>Tesco</td>\n",
       "      <td>mobile</td>\n",
       "    </tr>\n",
       "  </tbody>\n",
       "</table>\n",
       "</div>"
      ],
      "text/plain": [
       "   index            date  duration  item    month   network network_type\n",
       "0      0  15/10/14 06:58    34.429  data  2014-11      data         data\n",
       "1      1  15/10/14 06:58    13.000  call  2014-11  Vodafone       mobile\n",
       "2      2  15/10/14 14:46    23.000  call  2014-11    Meteor       mobile\n",
       "3      3  15/10/14 14:48     4.000  call  2014-11     Tesco       mobile\n",
       "4      4  15/10/14 17:27     4.000  call  2014-11     Tesco       mobile"
      ]
     },
     "execution_count": 11,
     "metadata": {},
     "output_type": "execute_result"
    }
   ],
   "source": [
    "df_phone = pd.read_csv(\"phone_data.csv\")\n",
    "df_phone.head(5)"
   ]
  },
  {
   "cell_type": "code",
   "execution_count": 12,
   "id": "88eed81a",
   "metadata": {},
   "outputs": [
    {
     "data": {
      "text/plain": [
       "index             int64\n",
       "date             object\n",
       "duration        float64\n",
       "item             object\n",
       "month            object\n",
       "network          object\n",
       "network_type     object\n",
       "dtype: object"
      ]
     },
     "execution_count": 12,
     "metadata": {},
     "output_type": "execute_result"
    }
   ],
   "source": [
    "#object -> string\n",
    "# 현재 날짜가 str이다.\n",
    "df_phone.dtypes"
   ]
  },
  {
   "cell_type": "code",
   "execution_count": 15,
   "id": "6f997345",
   "metadata": {},
   "outputs": [
    {
     "data": {
      "text/plain": [
       "index                    int64\n",
       "date            datetime64[ns]\n",
       "duration               float64\n",
       "item                    object\n",
       "month                   object\n",
       "network                 object\n",
       "network_type            object\n",
       "dtype: object"
      ]
     },
     "execution_count": 15,
     "metadata": {},
     "output_type": "execute_result"
    }
   ],
   "source": [
    "import dateutil\n",
    "# dateutil.parser.parse\n",
    "# 문자를 날자 형태로 바꿔줌\n",
    "df_phone[\"date\"] = df_phone[\"date\"].apply(\n",
    "                    dateutil.parser.parse, dayfirst=True)\n",
    "df_phone.dtypes"
   ]
  },
  {
   "cell_type": "code",
   "execution_count": 18,
   "id": "722743fc",
   "metadata": {
    "scrolled": true
   },
   "outputs": [
    {
     "data": {
      "text/html": [
       "<div>\n",
       "<style scoped>\n",
       "    .dataframe tbody tr th:only-of-type {\n",
       "        vertical-align: middle;\n",
       "    }\n",
       "\n",
       "    .dataframe tbody tr th {\n",
       "        vertical-align: top;\n",
       "    }\n",
       "\n",
       "    .dataframe thead th {\n",
       "        text-align: right;\n",
       "    }\n",
       "</style>\n",
       "<table border=\"1\" class=\"dataframe\">\n",
       "  <thead>\n",
       "    <tr style=\"text-align: right;\">\n",
       "      <th></th>\n",
       "      <th>index</th>\n",
       "      <th>date</th>\n",
       "      <th>duration</th>\n",
       "      <th>item</th>\n",
       "      <th>month</th>\n",
       "      <th>network</th>\n",
       "      <th>network_type</th>\n",
       "    </tr>\n",
       "  </thead>\n",
       "  <tbody>\n",
       "    <tr>\n",
       "      <th>0</th>\n",
       "      <td>0</td>\n",
       "      <td>2014-10-15 06:58:00</td>\n",
       "      <td>34.429</td>\n",
       "      <td>data</td>\n",
       "      <td>2014-11</td>\n",
       "      <td>data</td>\n",
       "      <td>data</td>\n",
       "    </tr>\n",
       "    <tr>\n",
       "      <th>1</th>\n",
       "      <td>1</td>\n",
       "      <td>2014-10-15 06:58:00</td>\n",
       "      <td>13.000</td>\n",
       "      <td>call</td>\n",
       "      <td>2014-11</td>\n",
       "      <td>Vodafone</td>\n",
       "      <td>mobile</td>\n",
       "    </tr>\n",
       "    <tr>\n",
       "      <th>2</th>\n",
       "      <td>2</td>\n",
       "      <td>2014-10-15 14:46:00</td>\n",
       "      <td>23.000</td>\n",
       "      <td>call</td>\n",
       "      <td>2014-11</td>\n",
       "      <td>Meteor</td>\n",
       "      <td>mobile</td>\n",
       "    </tr>\n",
       "    <tr>\n",
       "      <th>3</th>\n",
       "      <td>3</td>\n",
       "      <td>2014-10-15 14:48:00</td>\n",
       "      <td>4.000</td>\n",
       "      <td>call</td>\n",
       "      <td>2014-11</td>\n",
       "      <td>Tesco</td>\n",
       "      <td>mobile</td>\n",
       "    </tr>\n",
       "    <tr>\n",
       "      <th>4</th>\n",
       "      <td>4</td>\n",
       "      <td>2014-10-15 17:27:00</td>\n",
       "      <td>4.000</td>\n",
       "      <td>call</td>\n",
       "      <td>2014-11</td>\n",
       "      <td>Tesco</td>\n",
       "      <td>mobile</td>\n",
       "    </tr>\n",
       "  </tbody>\n",
       "</table>\n",
       "</div>"
      ],
      "text/plain": [
       "   index                date  duration  item    month   network network_type\n",
       "0      0 2014-10-15 06:58:00    34.429  data  2014-11      data         data\n",
       "1      1 2014-10-15 06:58:00    13.000  call  2014-11  Vodafone       mobile\n",
       "2      2 2014-10-15 14:46:00    23.000  call  2014-11    Meteor       mobile\n",
       "3      3 2014-10-15 14:48:00     4.000  call  2014-11     Tesco       mobile\n",
       "4      4 2014-10-15 17:27:00     4.000  call  2014-11     Tesco       mobile"
      ]
     },
     "execution_count": 18,
     "metadata": {},
     "output_type": "execute_result"
    }
   ],
   "source": [
    "df_phone.head()"
   ]
  },
  {
   "cell_type": "code",
   "execution_count": 19,
   "id": "e0927c7d",
   "metadata": {
    "scrolled": true
   },
   "outputs": [
    {
     "name": "stdout",
     "output_type": "stream",
     "text": [
      "Collecting package metadata (current_repodata.json): ...working... done\n",
      "Solving environment: ...working... done\n",
      "\n",
      "## Package Plan ##\n",
      "\n",
      "  environment location: C:\\Users\\shinw\\anaconda3\n",
      "\n",
      "  added / updated specs:\n",
      "    - matplotlib\n",
      "\n",
      "\n",
      "The following packages will be downloaded:\n",
      "\n",
      "    package                    |            build\n",
      "    ---------------------------|-----------------\n",
      "    conda-4.13.0               |   py39haa95532_0         923 KB\n",
      "    ------------------------------------------------------------\n",
      "                                           Total:         923 KB\n",
      "\n",
      "The following packages will be UPDATED:\n",
      "\n",
      "  conda                               4.10.3-py39haa95532_0 --> 4.13.0-py39haa95532_0\n",
      "\n",
      "\n",
      "\n",
      "Downloading and Extracting Packages\n",
      "\n",
      "conda-4.13.0         | 923 KB    |            |   0% \n",
      "conda-4.13.0         | 923 KB    | 1          |   2% \n",
      "conda-4.13.0         | 923 KB    | ########## | 100% \n",
      "conda-4.13.0         | 923 KB    | ########## | 100% \n",
      "Preparing transaction: ...working... done\n",
      "Verifying transaction: ...working... done\n",
      "Executing transaction: ...working... done\n"
     ]
    }
   ],
   "source": [
    "!conda install --y matplotlib"
   ]
  },
  {
   "cell_type": "code",
   "execution_count": 28,
   "id": "cd96b0aa",
   "metadata": {},
   "outputs": [
    {
     "data": {
      "text/plain": [
       "month    item\n",
       "2014-11  call    107\n",
       "         data     29\n",
       "         sms      94\n",
       "2014-12  call     79\n",
       "         data     30\n",
       "         sms      48\n",
       "2015-01  call     88\n",
       "         data     31\n",
       "         sms      86\n",
       "2015-02  call     67\n",
       "         data     31\n",
       "         sms      39\n",
       "2015-03  call     47\n",
       "         data     29\n",
       "         sms      25\n",
       "Name: duration, dtype: int64"
      ]
     },
     "execution_count": 28,
     "metadata": {},
     "output_type": "execute_result"
    }
   ],
   "source": [
    "#.plot()을 위해 import\n",
    "import matplotlib\n",
    "\n",
    "df_phone.groupby([\"month\",\"item\"])[\"duration\"].count()"
   ]
  },
  {
   "cell_type": "code",
   "execution_count": 29,
   "id": "2c7d3e83",
   "metadata": {},
   "outputs": [
    {
     "data": {
      "text/html": [
       "<div>\n",
       "<style scoped>\n",
       "    .dataframe tbody tr th:only-of-type {\n",
       "        vertical-align: middle;\n",
       "    }\n",
       "\n",
       "    .dataframe tbody tr th {\n",
       "        vertical-align: top;\n",
       "    }\n",
       "\n",
       "    .dataframe thead th {\n",
       "        text-align: right;\n",
       "    }\n",
       "</style>\n",
       "<table border=\"1\" class=\"dataframe\">\n",
       "  <thead>\n",
       "    <tr style=\"text-align: right;\">\n",
       "      <th>item</th>\n",
       "      <th>call</th>\n",
       "      <th>data</th>\n",
       "      <th>sms</th>\n",
       "    </tr>\n",
       "    <tr>\n",
       "      <th>month</th>\n",
       "      <th></th>\n",
       "      <th></th>\n",
       "      <th></th>\n",
       "    </tr>\n",
       "  </thead>\n",
       "  <tbody>\n",
       "    <tr>\n",
       "      <th>2014-11</th>\n",
       "      <td>107</td>\n",
       "      <td>29</td>\n",
       "      <td>94</td>\n",
       "    </tr>\n",
       "    <tr>\n",
       "      <th>2014-12</th>\n",
       "      <td>79</td>\n",
       "      <td>30</td>\n",
       "      <td>48</td>\n",
       "    </tr>\n",
       "    <tr>\n",
       "      <th>2015-01</th>\n",
       "      <td>88</td>\n",
       "      <td>31</td>\n",
       "      <td>86</td>\n",
       "    </tr>\n",
       "    <tr>\n",
       "      <th>2015-02</th>\n",
       "      <td>67</td>\n",
       "      <td>31</td>\n",
       "      <td>39</td>\n",
       "    </tr>\n",
       "    <tr>\n",
       "      <th>2015-03</th>\n",
       "      <td>47</td>\n",
       "      <td>29</td>\n",
       "      <td>25</td>\n",
       "    </tr>\n",
       "  </tbody>\n",
       "</table>\n",
       "</div>"
      ],
      "text/plain": [
       "item     call  data  sms\n",
       "month                   \n",
       "2014-11   107    29   94\n",
       "2014-12    79    30   48\n",
       "2015-01    88    31   86\n",
       "2015-02    67    31   39\n",
       "2015-03    47    29   25"
      ]
     },
     "execution_count": 29,
     "metadata": {},
     "output_type": "execute_result"
    }
   ],
   "source": [
    "df_phone.groupby([\"month\",\"item\"])[\"duration\"].count().unstack()"
   ]
  },
  {
   "cell_type": "code",
   "execution_count": 30,
   "id": "9b87c5cf",
   "metadata": {},
   "outputs": [
    {
     "data": {
      "text/plain": [
       "<AxesSubplot:xlabel='month'>"
      ]
     },
     "execution_count": 30,
     "metadata": {},
     "output_type": "execute_result"
    },
    {
     "data": {
      "image/png": "[encoded data removed]",
      "text/plain": [
       "<Figure size 432x288 with 1 Axes>"
      ]
     },
     "metadata": {
      "needs_background": "light"
     },
     "output_type": "display_data"
    }
   ],
   "source": [
    "df_phone.groupby([\"month\",\"item\"])[\"duration\"].count().unstack().plot()"
   ]
  },
  {
   "cell_type": "markdown",
   "id": "718dc3be",
   "metadata": {},
   "source": [
    "### agg 에 dict 활용해서 함수적용\n",
    "- df.groupby(기준_list,as_index = True).agg({col_1:함수1,col_2:함수2,col3:함수3})\n",
    "    - 함수를 str으로 넣어주자\n",
    "    - 함수를 list로 넣어서 다양한 함수를 적용 가능\n",
    "- as_index는 Default true. \n",
    "    - 기준 column을 index로 한다\n",
    "    - False하면 index는 초기화, 기준 column은 column으로 들어감"
   ]
  },
  {
   "cell_type": "code",
   "execution_count": 33,
   "id": "163e9e60",
   "metadata": {},
   "outputs": [
    {
     "data": {
      "text/html": [
       "<div>\n",
       "<style scoped>\n",
       "    .dataframe tbody tr th:only-of-type {\n",
       "        vertical-align: middle;\n",
       "    }\n",
       "\n",
       "    .dataframe tbody tr th {\n",
       "        vertical-align: top;\n",
       "    }\n",
       "\n",
       "    .dataframe thead th {\n",
       "        text-align: right;\n",
       "    }\n",
       "</style>\n",
       "<table border=\"1\" class=\"dataframe\">\n",
       "  <thead>\n",
       "    <tr style=\"text-align: right;\">\n",
       "      <th></th>\n",
       "      <th>month</th>\n",
       "      <th>duration</th>\n",
       "    </tr>\n",
       "  </thead>\n",
       "  <tbody>\n",
       "    <tr>\n",
       "      <th>0</th>\n",
       "      <td>2014-11</td>\n",
       "      <td>26639.441</td>\n",
       "    </tr>\n",
       "    <tr>\n",
       "      <th>1</th>\n",
       "      <td>2014-12</td>\n",
       "      <td>14641.870</td>\n",
       "    </tr>\n",
       "    <tr>\n",
       "      <th>2</th>\n",
       "      <td>2015-01</td>\n",
       "      <td>18223.299</td>\n",
       "    </tr>\n",
       "    <tr>\n",
       "      <th>3</th>\n",
       "      <td>2015-02</td>\n",
       "      <td>15522.299</td>\n",
       "    </tr>\n",
       "    <tr>\n",
       "      <th>4</th>\n",
       "      <td>2015-03</td>\n",
       "      <td>22750.441</td>\n",
       "    </tr>\n",
       "  </tbody>\n",
       "</table>\n",
       "</div>"
      ],
      "text/plain": [
       "     month   duration\n",
       "0  2014-11  26639.441\n",
       "1  2014-12  14641.870\n",
       "2  2015-01  18223.299\n",
       "3  2015-02  15522.299\n",
       "4  2015-03  22750.441"
      ]
     },
     "execution_count": 33,
     "metadata": {},
     "output_type": "execute_result"
    }
   ],
   "source": [
    "df_phone.groupby(\"month\",as_index=False).agg({\"duration\":\"sum\"})"
   ]
  },
  {
   "cell_type": "code",
   "execution_count": 35,
   "id": "09d2397c",
   "metadata": {},
   "outputs": [
    {
     "data": {
      "text/html": [
       "<div>\n",
       "<style scoped>\n",
       "    .dataframe tbody tr th:only-of-type {\n",
       "        vertical-align: middle;\n",
       "    }\n",
       "\n",
       "    .dataframe tbody tr th {\n",
       "        vertical-align: top;\n",
       "    }\n",
       "\n",
       "    .dataframe thead th {\n",
       "        text-align: right;\n",
       "    }\n",
       "</style>\n",
       "<table border=\"1\" class=\"dataframe\">\n",
       "  <thead>\n",
       "    <tr style=\"text-align: right;\">\n",
       "      <th></th>\n",
       "      <th>month</th>\n",
       "      <th>duration</th>\n",
       "      <th>network_type</th>\n",
       "      <th>date</th>\n",
       "    </tr>\n",
       "  </thead>\n",
       "  <tbody>\n",
       "    <tr>\n",
       "      <th>0</th>\n",
       "      <td>2014-11</td>\n",
       "      <td>26639.441</td>\n",
       "      <td>230</td>\n",
       "      <td>2014-10-15 06:58:00</td>\n",
       "    </tr>\n",
       "    <tr>\n",
       "      <th>1</th>\n",
       "      <td>2014-12</td>\n",
       "      <td>14641.870</td>\n",
       "      <td>157</td>\n",
       "      <td>2014-11-13 06:58:00</td>\n",
       "    </tr>\n",
       "    <tr>\n",
       "      <th>2</th>\n",
       "      <td>2015-01</td>\n",
       "      <td>18223.299</td>\n",
       "      <td>205</td>\n",
       "      <td>2014-12-13 06:58:00</td>\n",
       "    </tr>\n",
       "    <tr>\n",
       "      <th>3</th>\n",
       "      <td>2015-02</td>\n",
       "      <td>15522.299</td>\n",
       "      <td>137</td>\n",
       "      <td>2015-01-13 06:58:00</td>\n",
       "    </tr>\n",
       "    <tr>\n",
       "      <th>4</th>\n",
       "      <td>2015-03</td>\n",
       "      <td>22750.441</td>\n",
       "      <td>101</td>\n",
       "      <td>2015-02-12 20:15:00</td>\n",
       "    </tr>\n",
       "  </tbody>\n",
       "</table>\n",
       "</div>"
      ],
      "text/plain": [
       "     month   duration  network_type                date\n",
       "0  2014-11  26639.441           230 2014-10-15 06:58:00\n",
       "1  2014-12  14641.870           157 2014-11-13 06:58:00\n",
       "2  2015-01  18223.299           205 2014-12-13 06:58:00\n",
       "3  2015-02  15522.299           137 2015-01-13 06:58:00\n",
       "4  2015-03  22750.441           101 2015-02-12 20:15:00"
      ]
     },
     "execution_count": 35,
     "metadata": {},
     "output_type": "execute_result"
    }
   ],
   "source": [
    "# first: column에 첫번째로 나오는 data 보여줌\n",
    "df_phone.groupby(\"month\",as_index=False).agg({\"duration\":\"sum\",\"network_type\": \"count\",\"date\":\"first\"})"
   ]
  },
  {
   "cell_type": "code",
   "execution_count": 46,
   "id": "f1a93441",
   "metadata": {},
   "outputs": [
    {
     "data": {
      "text/html": [
       "<div>\n",
       "<style scoped>\n",
       "    .dataframe tbody tr th:only-of-type {\n",
       "        vertical-align: middle;\n",
       "    }\n",
       "\n",
       "    .dataframe tbody tr th {\n",
       "        vertical-align: top;\n",
       "    }\n",
       "\n",
       "    .dataframe thead tr th {\n",
       "        text-align: left;\n",
       "    }\n",
       "\n",
       "    .dataframe thead tr:last-of-type th {\n",
       "        text-align: right;\n",
       "    }\n",
       "</style>\n",
       "<table border=\"1\" class=\"dataframe\">\n",
       "  <thead>\n",
       "    <tr>\n",
       "      <th></th>\n",
       "      <th colspan=\"2\" halign=\"left\">duration</th>\n",
       "      <th colspan=\"2\" halign=\"left\">network_type</th>\n",
       "      <th colspan=\"2\" halign=\"left\">date</th>\n",
       "    </tr>\n",
       "    <tr>\n",
       "      <th></th>\n",
       "      <th>min</th>\n",
       "      <th>max</th>\n",
       "      <th>count</th>\n",
       "      <th>sum</th>\n",
       "      <th>first</th>\n",
       "      <th>nunique</th>\n",
       "    </tr>\n",
       "    <tr>\n",
       "      <th>month</th>\n",
       "      <th></th>\n",
       "      <th></th>\n",
       "      <th></th>\n",
       "      <th></th>\n",
       "      <th></th>\n",
       "      <th></th>\n",
       "    </tr>\n",
       "  </thead>\n",
       "  <tbody>\n",
       "    <tr>\n",
       "      <th>2014-11</th>\n",
       "      <td>1.0</td>\n",
       "      <td>1940.0</td>\n",
       "      <td>230</td>\n",
       "      <td>datamobilemobilemobilemobilemobiledatamobilemo...</td>\n",
       "      <td>2014-10-15 06:58:00</td>\n",
       "      <td>210</td>\n",
       "    </tr>\n",
       "    <tr>\n",
       "      <th>2014-12</th>\n",
       "      <td>1.0</td>\n",
       "      <td>2120.0</td>\n",
       "      <td>157</td>\n",
       "      <td>datadatavoicemailmobiledatadatamobiledatadatam...</td>\n",
       "      <td>2014-11-13 06:58:00</td>\n",
       "      <td>147</td>\n",
       "    </tr>\n",
       "    <tr>\n",
       "      <th>2015-01</th>\n",
       "      <td>1.0</td>\n",
       "      <td>1859.0</td>\n",
       "      <td>205</td>\n",
       "      <td>datadatadatamobilemobilemobilemobilemobilemobi...</td>\n",
       "      <td>2014-12-13 06:58:00</td>\n",
       "      <td>172</td>\n",
       "    </tr>\n",
       "    <tr>\n",
       "      <th>2015-02</th>\n",
       "      <td>1.0</td>\n",
       "      <td>1863.0</td>\n",
       "      <td>137</td>\n",
       "      <td>datadatadatamobilespecialmobiledatamobilemobil...</td>\n",
       "      <td>2015-01-13 06:58:00</td>\n",
       "      <td>125</td>\n",
       "    </tr>\n",
       "    <tr>\n",
       "      <th>2015-03</th>\n",
       "      <td>1.0</td>\n",
       "      <td>10528.0</td>\n",
       "      <td>101</td>\n",
       "      <td>landlinemobiledatamobilemobiledatamobilemobile...</td>\n",
       "      <td>2015-02-12 20:15:00</td>\n",
       "      <td>93</td>\n",
       "    </tr>\n",
       "  </tbody>\n",
       "</table>\n",
       "</div>"
      ],
      "text/plain": [
       "        duration          network_type  \\\n",
       "             min      max        count   \n",
       "month                                    \n",
       "2014-11      1.0   1940.0          230   \n",
       "2014-12      1.0   2120.0          157   \n",
       "2015-01      1.0   1859.0          205   \n",
       "2015-02      1.0   1863.0          137   \n",
       "2015-03      1.0  10528.0          101   \n",
       "\n",
       "                                                            \\\n",
       "                                                       sum   \n",
       "month                                                        \n",
       "2014-11  datamobilemobilemobilemobilemobiledatamobilemo...   \n",
       "2014-12  datadatavoicemailmobiledatadatamobiledatadatam...   \n",
       "2015-01  datadatadatamobilemobilemobilemobilemobilemobi...   \n",
       "2015-02  datadatadatamobilespecialmobiledatamobilemobil...   \n",
       "2015-03  landlinemobiledatamobilemobiledatamobilemobile...   \n",
       "\n",
       "                       date          \n",
       "                      first nunique  \n",
       "month                                \n",
       "2014-11 2014-10-15 06:58:00     210  \n",
       "2014-12 2014-11-13 06:58:00     147  \n",
       "2015-01 2014-12-13 06:58:00     172  \n",
       "2015-02 2015-01-13 06:58:00     125  \n",
       "2015-03 2015-02-12 20:15:00      93  "
      ]
     },
     "execution_count": 46,
     "metadata": {},
     "output_type": "execute_result"
    }
   ],
   "source": [
    "# nunique : unique값 계산\n",
    "df_phone.groupby(\"month\",as_index=True).agg({\"duration\":[min,max],\n",
    "                                              \"network_type\": [\"count\",sum],\n",
    "                                              \"date\":[\"first\",\"nunique\"]})"
   ]
  },
  {
   "cell_type": "code",
   "execution_count": 51,
   "id": "a1e2f60a",
   "metadata": {},
   "outputs": [
    {
     "data": {
      "text/html": [
       "<div>\n",
       "<style scoped>\n",
       "    .dataframe tbody tr th:only-of-type {\n",
       "        vertical-align: middle;\n",
       "    }\n",
       "\n",
       "    .dataframe tbody tr th {\n",
       "        vertical-align: top;\n",
       "    }\n",
       "\n",
       "    .dataframe thead th {\n",
       "        text-align: right;\n",
       "    }\n",
       "</style>\n",
       "<table border=\"1\" class=\"dataframe\">\n",
       "  <thead>\n",
       "    <tr style=\"text-align: right;\">\n",
       "      <th></th>\n",
       "      <th>duration</th>\n",
       "      <th>duration</th>\n",
       "      <th>network_type</th>\n",
       "      <th>network_type</th>\n",
       "      <th>date</th>\n",
       "      <th>date</th>\n",
       "    </tr>\n",
       "    <tr>\n",
       "      <th>month</th>\n",
       "      <th></th>\n",
       "      <th></th>\n",
       "      <th></th>\n",
       "      <th></th>\n",
       "      <th></th>\n",
       "      <th></th>\n",
       "    </tr>\n",
       "  </thead>\n",
       "  <tbody>\n",
       "    <tr>\n",
       "      <th>2014-11</th>\n",
       "      <td>1.0</td>\n",
       "      <td>1940.0</td>\n",
       "      <td>230</td>\n",
       "      <td>datamobilemobilemobilemobilemobiledatamobilemo...</td>\n",
       "      <td>2014-10-15 06:58:00</td>\n",
       "      <td>210</td>\n",
       "    </tr>\n",
       "    <tr>\n",
       "      <th>2014-12</th>\n",
       "      <td>1.0</td>\n",
       "      <td>2120.0</td>\n",
       "      <td>157</td>\n",
       "      <td>datadatavoicemailmobiledatadatamobiledatadatam...</td>\n",
       "      <td>2014-11-13 06:58:00</td>\n",
       "      <td>147</td>\n",
       "    </tr>\n",
       "    <tr>\n",
       "      <th>2015-01</th>\n",
       "      <td>1.0</td>\n",
       "      <td>1859.0</td>\n",
       "      <td>205</td>\n",
       "      <td>datadatadatamobilemobilemobilemobilemobilemobi...</td>\n",
       "      <td>2014-12-13 06:58:00</td>\n",
       "      <td>172</td>\n",
       "    </tr>\n",
       "    <tr>\n",
       "      <th>2015-02</th>\n",
       "      <td>1.0</td>\n",
       "      <td>1863.0</td>\n",
       "      <td>137</td>\n",
       "      <td>datadatadatamobilespecialmobiledatamobilemobil...</td>\n",
       "      <td>2015-01-13 06:58:00</td>\n",
       "      <td>125</td>\n",
       "    </tr>\n",
       "    <tr>\n",
       "      <th>2015-03</th>\n",
       "      <td>1.0</td>\n",
       "      <td>10528.0</td>\n",
       "      <td>101</td>\n",
       "      <td>landlinemobiledatamobilemobiledatamobilemobile...</td>\n",
       "      <td>2015-02-12 20:15:00</td>\n",
       "      <td>93</td>\n",
       "    </tr>\n",
       "  </tbody>\n",
       "</table>\n",
       "</div>"
      ],
      "text/plain": [
       "         duration  duration network_type  \\\n",
       "month                                      \n",
       "2014-11       1.0    1940.0          230   \n",
       "2014-12       1.0    2120.0          157   \n",
       "2015-01       1.0    1859.0          205   \n",
       "2015-02       1.0    1863.0          137   \n",
       "2015-03       1.0   10528.0          101   \n",
       "\n",
       "                                              network_type  \\\n",
       "month                                                        \n",
       "2014-11  datamobilemobilemobilemobilemobiledatamobilemo...   \n",
       "2014-12  datadatavoicemailmobiledatadatamobiledatadatam...   \n",
       "2015-01  datadatadatamobilemobilemobilemobilemobilemobi...   \n",
       "2015-02  datadatadatamobilespecialmobiledatamobilemobil...   \n",
       "2015-03  landlinemobiledatamobilemobiledatamobilemobile...   \n",
       "\n",
       "                       date  date  \n",
       "month                              \n",
       "2014-11 2014-10-15 06:58:00   210  \n",
       "2014-12 2014-11-13 06:58:00   147  \n",
       "2015-01 2014-12-13 06:58:00   172  \n",
       "2015-02 2015-01-13 06:58:00   125  \n",
       "2015-03 2015-02-12 20:15:00    93  "
      ]
     },
     "execution_count": 51,
     "metadata": {},
     "output_type": "execute_result"
    }
   ],
   "source": [
    "# column droplevel\n",
    "# 2중 column을 level별로 드랍함\n",
    "mixed = df_phone.groupby(\"month\",as_index=True).agg({\"duration\":[min,max],\n",
    "                                              \"network_type\": [\"count\",sum],\n",
    "                                              \"date\":[\"first\",\"nunique\"]})\n",
    "# h_col인 column들 중에 level1을 다 없앰\n",
    "mixed.columns = mixed.columns.droplevel(level = 1)\n",
    "mixed"
   ]
  },
  {
   "cell_type": "markdown",
   "id": "9bab9327",
   "metadata": {},
   "source": [
    "####  Rename\n",
    "- df.rename(columns = {'target1':'new1','target2':'new2','target3':'new3'})\n",
    "    - target col_name을 new_col name으로 바꿔줌\n",
    "\n",
    "- df.add_prefix(\"prefix_\")\n",
    "    - prefix_colname 으로 col name 앞에 prefix 붙여줌\n",
    "    "
   ]
  },
  {
   "cell_type": "markdown",
   "id": "94e1ae39",
   "metadata": {},
   "source": [
    "## Pivot Table\n",
    "- Groupby 후, 특정 col1 의 value를, Col2의 Value 별로 연산을 적용하여 볼 수 있다.\n",
    "- 즉, col2 의 value 에 따른, col1 value의 통계정보를 볼 수 있다.\n",
    "- `df.pivot_table([\"col1\"],\n",
    "index = [df.groupby기준_col1,df.groupby기준_col2],\n",
    "columns = df.col2, aggfunc = \"연산\", fill_value = 0)`\n",
    "    - 값이 없으면 NaN 반환되므로, 없는 값에 fill_value = 0 해줌"
   ]
  },
  {
   "cell_type": "code",
   "execution_count": 53,
   "id": "77abc435",
   "metadata": {
    "scrolled": true
   },
   "outputs": [
    {
     "data": {
      "text/html": [
       "<div>\n",
       "<style scoped>\n",
       "    .dataframe tbody tr th:only-of-type {\n",
       "        vertical-align: middle;\n",
       "    }\n",
       "\n",
       "    .dataframe tbody tr th {\n",
       "        vertical-align: top;\n",
       "    }\n",
       "\n",
       "    .dataframe thead tr th {\n",
       "        text-align: left;\n",
       "    }\n",
       "\n",
       "    .dataframe thead tr:last-of-type th {\n",
       "        text-align: right;\n",
       "    }\n",
       "</style>\n",
       "<table border=\"1\" class=\"dataframe\">\n",
       "  <thead>\n",
       "    <tr>\n",
       "      <th></th>\n",
       "      <th></th>\n",
       "      <th colspan=\"9\" halign=\"left\">duration</th>\n",
       "    </tr>\n",
       "    <tr>\n",
       "      <th></th>\n",
       "      <th>network</th>\n",
       "      <th>Meteor</th>\n",
       "      <th>Tesco</th>\n",
       "      <th>Three</th>\n",
       "      <th>Vodafone</th>\n",
       "      <th>data</th>\n",
       "      <th>landline</th>\n",
       "      <th>special</th>\n",
       "      <th>voicemail</th>\n",
       "      <th>world</th>\n",
       "    </tr>\n",
       "    <tr>\n",
       "      <th>month</th>\n",
       "      <th>item</th>\n",
       "      <th></th>\n",
       "      <th></th>\n",
       "      <th></th>\n",
       "      <th></th>\n",
       "      <th></th>\n",
       "      <th></th>\n",
       "      <th></th>\n",
       "      <th></th>\n",
       "      <th></th>\n",
       "    </tr>\n",
       "  </thead>\n",
       "  <tbody>\n",
       "    <tr>\n",
       "      <th rowspan=\"3\" valign=\"top\">2014-11</th>\n",
       "      <th>call</th>\n",
       "      <td>1521</td>\n",
       "      <td>4045</td>\n",
       "      <td>12458</td>\n",
       "      <td>4316</td>\n",
       "      <td>0.000</td>\n",
       "      <td>2906</td>\n",
       "      <td>0</td>\n",
       "      <td>301</td>\n",
       "      <td>0</td>\n",
       "    </tr>\n",
       "    <tr>\n",
       "      <th>data</th>\n",
       "      <td>0</td>\n",
       "      <td>0</td>\n",
       "      <td>0</td>\n",
       "      <td>0</td>\n",
       "      <td>998.441</td>\n",
       "      <td>0</td>\n",
       "      <td>0</td>\n",
       "      <td>0</td>\n",
       "      <td>0</td>\n",
       "    </tr>\n",
       "    <tr>\n",
       "      <th>sms</th>\n",
       "      <td>10</td>\n",
       "      <td>3</td>\n",
       "      <td>25</td>\n",
       "      <td>55</td>\n",
       "      <td>0.000</td>\n",
       "      <td>0</td>\n",
       "      <td>1</td>\n",
       "      <td>0</td>\n",
       "      <td>0</td>\n",
       "    </tr>\n",
       "    <tr>\n",
       "      <th rowspan=\"3\" valign=\"top\">2014-12</th>\n",
       "      <th>call</th>\n",
       "      <td>2010</td>\n",
       "      <td>1819</td>\n",
       "      <td>6316</td>\n",
       "      <td>1302</td>\n",
       "      <td>0.000</td>\n",
       "      <td>1424</td>\n",
       "      <td>0</td>\n",
       "      <td>690</td>\n",
       "      <td>0</td>\n",
       "    </tr>\n",
       "    <tr>\n",
       "      <th>data</th>\n",
       "      <td>0</td>\n",
       "      <td>0</td>\n",
       "      <td>0</td>\n",
       "      <td>0</td>\n",
       "      <td>1032.870</td>\n",
       "      <td>0</td>\n",
       "      <td>0</td>\n",
       "      <td>0</td>\n",
       "      <td>0</td>\n",
       "    </tr>\n",
       "    <tr>\n",
       "      <th>sms</th>\n",
       "      <td>12</td>\n",
       "      <td>1</td>\n",
       "      <td>13</td>\n",
       "      <td>18</td>\n",
       "      <td>0.000</td>\n",
       "      <td>0</td>\n",
       "      <td>0</td>\n",
       "      <td>0</td>\n",
       "      <td>4</td>\n",
       "    </tr>\n",
       "    <tr>\n",
       "      <th rowspan=\"3\" valign=\"top\">2015-01</th>\n",
       "      <th>call</th>\n",
       "      <td>2207</td>\n",
       "      <td>2904</td>\n",
       "      <td>6445</td>\n",
       "      <td>3626</td>\n",
       "      <td>0.000</td>\n",
       "      <td>1603</td>\n",
       "      <td>0</td>\n",
       "      <td>285</td>\n",
       "      <td>0</td>\n",
       "    </tr>\n",
       "    <tr>\n",
       "      <th>data</th>\n",
       "      <td>0</td>\n",
       "      <td>0</td>\n",
       "      <td>0</td>\n",
       "      <td>0</td>\n",
       "      <td>1067.299</td>\n",
       "      <td>0</td>\n",
       "      <td>0</td>\n",
       "      <td>0</td>\n",
       "      <td>0</td>\n",
       "    </tr>\n",
       "    <tr>\n",
       "      <th>sms</th>\n",
       "      <td>10</td>\n",
       "      <td>3</td>\n",
       "      <td>33</td>\n",
       "      <td>40</td>\n",
       "      <td>0.000</td>\n",
       "      <td>0</td>\n",
       "      <td>0</td>\n",
       "      <td>0</td>\n",
       "      <td>0</td>\n",
       "    </tr>\n",
       "    <tr>\n",
       "      <th rowspan=\"3\" valign=\"top\">2015-02</th>\n",
       "      <th>call</th>\n",
       "      <td>1188</td>\n",
       "      <td>4087</td>\n",
       "      <td>6279</td>\n",
       "      <td>1864</td>\n",
       "      <td>0.000</td>\n",
       "      <td>730</td>\n",
       "      <td>0</td>\n",
       "      <td>268</td>\n",
       "      <td>0</td>\n",
       "    </tr>\n",
       "    <tr>\n",
       "      <th>data</th>\n",
       "      <td>0</td>\n",
       "      <td>0</td>\n",
       "      <td>0</td>\n",
       "      <td>0</td>\n",
       "      <td>1067.299</td>\n",
       "      <td>0</td>\n",
       "      <td>0</td>\n",
       "      <td>0</td>\n",
       "      <td>0</td>\n",
       "    </tr>\n",
       "    <tr>\n",
       "      <th>sms</th>\n",
       "      <td>1</td>\n",
       "      <td>2</td>\n",
       "      <td>11</td>\n",
       "      <td>23</td>\n",
       "      <td>0.000</td>\n",
       "      <td>0</td>\n",
       "      <td>2</td>\n",
       "      <td>0</td>\n",
       "      <td>0</td>\n",
       "    </tr>\n",
       "    <tr>\n",
       "      <th rowspan=\"3\" valign=\"top\">2015-03</th>\n",
       "      <th>call</th>\n",
       "      <td>274</td>\n",
       "      <td>973</td>\n",
       "      <td>4966</td>\n",
       "      <td>3513</td>\n",
       "      <td>0.000</td>\n",
       "      <td>11770</td>\n",
       "      <td>0</td>\n",
       "      <td>231</td>\n",
       "      <td>0</td>\n",
       "    </tr>\n",
       "    <tr>\n",
       "      <th>data</th>\n",
       "      <td>0</td>\n",
       "      <td>0</td>\n",
       "      <td>0</td>\n",
       "      <td>0</td>\n",
       "      <td>998.441</td>\n",
       "      <td>0</td>\n",
       "      <td>0</td>\n",
       "      <td>0</td>\n",
       "      <td>0</td>\n",
       "    </tr>\n",
       "    <tr>\n",
       "      <th>sms</th>\n",
       "      <td>0</td>\n",
       "      <td>4</td>\n",
       "      <td>5</td>\n",
       "      <td>13</td>\n",
       "      <td>0.000</td>\n",
       "      <td>0</td>\n",
       "      <td>0</td>\n",
       "      <td>0</td>\n",
       "      <td>3</td>\n",
       "    </tr>\n",
       "  </tbody>\n",
       "</table>\n",
       "</div>"
      ],
      "text/plain": [
       "             duration                                                   \\\n",
       "network        Meteor Tesco  Three Vodafone      data landline special   \n",
       "month   item                                                             \n",
       "2014-11 call     1521  4045  12458     4316     0.000     2906       0   \n",
       "        data        0     0      0        0   998.441        0       0   \n",
       "        sms        10     3     25       55     0.000        0       1   \n",
       "2014-12 call     2010  1819   6316     1302     0.000     1424       0   \n",
       "        data        0     0      0        0  1032.870        0       0   \n",
       "        sms        12     1     13       18     0.000        0       0   \n",
       "2015-01 call     2207  2904   6445     3626     0.000     1603       0   \n",
       "        data        0     0      0        0  1067.299        0       0   \n",
       "        sms        10     3     33       40     0.000        0       0   \n",
       "2015-02 call     1188  4087   6279     1864     0.000      730       0   \n",
       "        data        0     0      0        0  1067.299        0       0   \n",
       "        sms         1     2     11       23     0.000        0       2   \n",
       "2015-03 call      274   973   4966     3513     0.000    11770       0   \n",
       "        data        0     0      0        0   998.441        0       0   \n",
       "        sms         0     4      5       13     0.000        0       0   \n",
       "\n",
       "                              \n",
       "network      voicemail world  \n",
       "month   item                  \n",
       "2014-11 call       301     0  \n",
       "        data         0     0  \n",
       "        sms          0     0  \n",
       "2014-12 call       690     0  \n",
       "        data         0     0  \n",
       "        sms          0     4  \n",
       "2015-01 call       285     0  \n",
       "        data         0     0  \n",
       "        sms          0     0  \n",
       "2015-02 call       268     0  \n",
       "        data         0     0  \n",
       "        sms          0     0  \n",
       "2015-03 call       231     0  \n",
       "        data         0     0  \n",
       "        sms          0     3  "
      ]
     },
     "execution_count": 53,
     "metadata": {},
     "output_type": "execute_result"
    }
   ],
   "source": [
    "df_phone.pivot_table([\"duration\"], # 보고싶은 value\n",
    "                     # 묶을 기준\n",
    "                     index = [df_phone.month,df_phone.item], \n",
    "                     # value의 구분 \n",
    "                     columns = df_phone.network, aggfunc = \"sum\", fill_value = 0)\n"
   ]
  },
  {
   "cell_type": "code",
   "execution_count": 54,
   "id": "f9feed63",
   "metadata": {},
   "outputs": [
    {
     "data": {
      "text/html": [
       "<div>\n",
       "<style scoped>\n",
       "    .dataframe tbody tr th:only-of-type {\n",
       "        vertical-align: middle;\n",
       "    }\n",
       "\n",
       "    .dataframe tbody tr th {\n",
       "        vertical-align: top;\n",
       "    }\n",
       "\n",
       "    .dataframe thead th {\n",
       "        text-align: right;\n",
       "    }\n",
       "</style>\n",
       "<table border=\"1\" class=\"dataframe\">\n",
       "  <thead>\n",
       "    <tr style=\"text-align: right;\">\n",
       "      <th></th>\n",
       "      <th>network</th>\n",
       "      <th>Meteor</th>\n",
       "      <th>Tesco</th>\n",
       "      <th>Three</th>\n",
       "      <th>Vodafone</th>\n",
       "      <th>data</th>\n",
       "      <th>landline</th>\n",
       "      <th>special</th>\n",
       "      <th>voicemail</th>\n",
       "      <th>world</th>\n",
       "    </tr>\n",
       "    <tr>\n",
       "      <th>month</th>\n",
       "      <th>item</th>\n",
       "      <th></th>\n",
       "      <th></th>\n",
       "      <th></th>\n",
       "      <th></th>\n",
       "      <th></th>\n",
       "      <th></th>\n",
       "      <th></th>\n",
       "      <th></th>\n",
       "      <th></th>\n",
       "    </tr>\n",
       "  </thead>\n",
       "  <tbody>\n",
       "    <tr>\n",
       "      <th rowspan=\"3\" valign=\"top\">2014-11</th>\n",
       "      <th>call</th>\n",
       "      <td>1521.0</td>\n",
       "      <td>4045.0</td>\n",
       "      <td>12458.0</td>\n",
       "      <td>4316.0</td>\n",
       "      <td>NaN</td>\n",
       "      <td>2906.0</td>\n",
       "      <td>NaN</td>\n",
       "      <td>301.0</td>\n",
       "      <td>NaN</td>\n",
       "    </tr>\n",
       "    <tr>\n",
       "      <th>data</th>\n",
       "      <td>NaN</td>\n",
       "      <td>NaN</td>\n",
       "      <td>NaN</td>\n",
       "      <td>NaN</td>\n",
       "      <td>998.441</td>\n",
       "      <td>NaN</td>\n",
       "      <td>NaN</td>\n",
       "      <td>NaN</td>\n",
       "      <td>NaN</td>\n",
       "    </tr>\n",
       "    <tr>\n",
       "      <th>sms</th>\n",
       "      <td>10.0</td>\n",
       "      <td>3.0</td>\n",
       "      <td>25.0</td>\n",
       "      <td>55.0</td>\n",
       "      <td>NaN</td>\n",
       "      <td>NaN</td>\n",
       "      <td>1.0</td>\n",
       "      <td>NaN</td>\n",
       "      <td>NaN</td>\n",
       "    </tr>\n",
       "    <tr>\n",
       "      <th rowspan=\"3\" valign=\"top\">2014-12</th>\n",
       "      <th>call</th>\n",
       "      <td>2010.0</td>\n",
       "      <td>1819.0</td>\n",
       "      <td>6316.0</td>\n",
       "      <td>1302.0</td>\n",
       "      <td>NaN</td>\n",
       "      <td>1424.0</td>\n",
       "      <td>NaN</td>\n",
       "      <td>690.0</td>\n",
       "      <td>NaN</td>\n",
       "    </tr>\n",
       "    <tr>\n",
       "      <th>data</th>\n",
       "      <td>NaN</td>\n",
       "      <td>NaN</td>\n",
       "      <td>NaN</td>\n",
       "      <td>NaN</td>\n",
       "      <td>1032.870</td>\n",
       "      <td>NaN</td>\n",
       "      <td>NaN</td>\n",
       "      <td>NaN</td>\n",
       "      <td>NaN</td>\n",
       "    </tr>\n",
       "    <tr>\n",
       "      <th>sms</th>\n",
       "      <td>12.0</td>\n",
       "      <td>1.0</td>\n",
       "      <td>13.0</td>\n",
       "      <td>18.0</td>\n",
       "      <td>NaN</td>\n",
       "      <td>NaN</td>\n",
       "      <td>NaN</td>\n",
       "      <td>NaN</td>\n",
       "      <td>4.0</td>\n",
       "    </tr>\n",
       "    <tr>\n",
       "      <th rowspan=\"3\" valign=\"top\">2015-01</th>\n",
       "      <th>call</th>\n",
       "      <td>2207.0</td>\n",
       "      <td>2904.0</td>\n",
       "      <td>6445.0</td>\n",
       "      <td>3626.0</td>\n",
       "      <td>NaN</td>\n",
       "      <td>1603.0</td>\n",
       "      <td>NaN</td>\n",
       "      <td>285.0</td>\n",
       "      <td>NaN</td>\n",
       "    </tr>\n",
       "    <tr>\n",
       "      <th>data</th>\n",
       "      <td>NaN</td>\n",
       "      <td>NaN</td>\n",
       "      <td>NaN</td>\n",
       "      <td>NaN</td>\n",
       "      <td>1067.299</td>\n",
       "      <td>NaN</td>\n",
       "      <td>NaN</td>\n",
       "      <td>NaN</td>\n",
       "      <td>NaN</td>\n",
       "    </tr>\n",
       "    <tr>\n",
       "      <th>sms</th>\n",
       "      <td>10.0</td>\n",
       "      <td>3.0</td>\n",
       "      <td>33.0</td>\n",
       "      <td>40.0</td>\n",
       "      <td>NaN</td>\n",
       "      <td>NaN</td>\n",
       "      <td>NaN</td>\n",
       "      <td>NaN</td>\n",
       "      <td>NaN</td>\n",
       "    </tr>\n",
       "    <tr>\n",
       "      <th rowspan=\"3\" valign=\"top\">2015-02</th>\n",
       "      <th>call</th>\n",
       "      <td>1188.0</td>\n",
       "      <td>4087.0</td>\n",
       "      <td>6279.0</td>\n",
       "      <td>1864.0</td>\n",
       "      <td>NaN</td>\n",
       "      <td>730.0</td>\n",
       "      <td>NaN</td>\n",
       "      <td>268.0</td>\n",
       "      <td>NaN</td>\n",
       "    </tr>\n",
       "    <tr>\n",
       "      <th>data</th>\n",
       "      <td>NaN</td>\n",
       "      <td>NaN</td>\n",
       "      <td>NaN</td>\n",
       "      <td>NaN</td>\n",
       "      <td>1067.299</td>\n",
       "      <td>NaN</td>\n",
       "      <td>NaN</td>\n",
       "      <td>NaN</td>\n",
       "      <td>NaN</td>\n",
       "    </tr>\n",
       "    <tr>\n",
       "      <th>sms</th>\n",
       "      <td>1.0</td>\n",
       "      <td>2.0</td>\n",
       "      <td>11.0</td>\n",
       "      <td>23.0</td>\n",
       "      <td>NaN</td>\n",
       "      <td>NaN</td>\n",
       "      <td>2.0</td>\n",
       "      <td>NaN</td>\n",
       "      <td>NaN</td>\n",
       "    </tr>\n",
       "    <tr>\n",
       "      <th rowspan=\"3\" valign=\"top\">2015-03</th>\n",
       "      <th>call</th>\n",
       "      <td>274.0</td>\n",
       "      <td>973.0</td>\n",
       "      <td>4966.0</td>\n",
       "      <td>3513.0</td>\n",
       "      <td>NaN</td>\n",
       "      <td>11770.0</td>\n",
       "      <td>NaN</td>\n",
       "      <td>231.0</td>\n",
       "      <td>NaN</td>\n",
       "    </tr>\n",
       "    <tr>\n",
       "      <th>data</th>\n",
       "      <td>NaN</td>\n",
       "      <td>NaN</td>\n",
       "      <td>NaN</td>\n",
       "      <td>NaN</td>\n",
       "      <td>998.441</td>\n",
       "      <td>NaN</td>\n",
       "      <td>NaN</td>\n",
       "      <td>NaN</td>\n",
       "      <td>NaN</td>\n",
       "    </tr>\n",
       "    <tr>\n",
       "      <th>sms</th>\n",
       "      <td>NaN</td>\n",
       "      <td>4.0</td>\n",
       "      <td>5.0</td>\n",
       "      <td>13.0</td>\n",
       "      <td>NaN</td>\n",
       "      <td>NaN</td>\n",
       "      <td>NaN</td>\n",
       "      <td>NaN</td>\n",
       "      <td>3.0</td>\n",
       "    </tr>\n",
       "  </tbody>\n",
       "</table>\n",
       "</div>"
      ],
      "text/plain": [
       "network       Meteor   Tesco    Three  Vodafone      data  landline  special  \\\n",
       "month   item                                                                   \n",
       "2014-11 call  1521.0  4045.0  12458.0    4316.0       NaN    2906.0      NaN   \n",
       "        data     NaN     NaN      NaN       NaN   998.441       NaN      NaN   \n",
       "        sms     10.0     3.0     25.0      55.0       NaN       NaN      1.0   \n",
       "2014-12 call  2010.0  1819.0   6316.0    1302.0       NaN    1424.0      NaN   \n",
       "        data     NaN     NaN      NaN       NaN  1032.870       NaN      NaN   \n",
       "        sms     12.0     1.0     13.0      18.0       NaN       NaN      NaN   \n",
       "2015-01 call  2207.0  2904.0   6445.0    3626.0       NaN    1603.0      NaN   \n",
       "        data     NaN     NaN      NaN       NaN  1067.299       NaN      NaN   \n",
       "        sms     10.0     3.0     33.0      40.0       NaN       NaN      NaN   \n",
       "2015-02 call  1188.0  4087.0   6279.0    1864.0       NaN     730.0      NaN   \n",
       "        data     NaN     NaN      NaN       NaN  1067.299       NaN      NaN   \n",
       "        sms      1.0     2.0     11.0      23.0       NaN       NaN      2.0   \n",
       "2015-03 call   274.0   973.0   4966.0    3513.0       NaN   11770.0      NaN   \n",
       "        data     NaN     NaN      NaN       NaN   998.441       NaN      NaN   \n",
       "        sms      NaN     4.0      5.0      13.0       NaN       NaN      NaN   \n",
       "\n",
       "network       voicemail  world  \n",
       "month   item                    \n",
       "2014-11 call      301.0    NaN  \n",
       "        data        NaN    NaN  \n",
       "        sms         NaN    NaN  \n",
       "2014-12 call      690.0    NaN  \n",
       "        data        NaN    NaN  \n",
       "        sms         NaN    4.0  \n",
       "2015-01 call      285.0    NaN  \n",
       "        data        NaN    NaN  \n",
       "        sms         NaN    NaN  \n",
       "2015-02 call      268.0    NaN  \n",
       "        data        NaN    NaN  \n",
       "        sms         NaN    NaN  \n",
       "2015-03 call      231.0    NaN  \n",
       "        data        NaN    NaN  \n",
       "        sms         NaN    3.0  "
      ]
     },
     "execution_count": 54,
     "metadata": {},
     "output_type": "execute_result"
    }
   ],
   "source": [
    "# groupby로 같은 거 보기.\n",
    "df_phone.groupby([\"month\",\"item\",\"network\"])[\"duration\"].sum().unstack()"
   ]
  },
  {
   "cell_type": "markdown",
   "id": "f3f7cac0",
   "metadata": {},
   "source": [
    "# Merge & Concat\n",
    "## Merge\n",
    "- 기준col 기준으로 두 DataFrame을 합친다.\n",
    "- pd.merge(df_a,df_b, left_on=\"df_a_col_name\", right_on =\"df_b_col_name\")\n",
    "- pd.merge(df_a,df_b, on=\"기준 col_name\", how = join방식 )\n",
    "    - 기본적으로는 how: inner\n",
    "    - how: inner, outer,right, left\n",
    "### index 기준 merge\n",
    "- pd.merge(df_a,df_b, right_index= True, left_index = True)\n",
    "    - index 기준으로 같은 부분 join\n",
    "    - 동일한 col_name이 있으면 '_x','_y' 붙는다.\n",
    "    - 할당해줘야함\n",
    "    \n",
    "\n",
    "## Concat\n",
    "- DataFrame을 붙임. axis 에 따라 붙이는 위치 다름 \n",
    "    - axis = 0 이면 위아래, axis =1 이면 옆에 붙임\n",
    "- `df_new = pd.concat([합칠 dataframe_list], axis = 0)`\n",
    "    - 합칠 dataframe을 리스트로 넣어줌\n",
    "    - .reset_index() 해서 index 초기화\n",
    "- `df_new.append(df_3)`\n",
    "    - 새로 더 붙임"
   ]
  },
  {
   "cell_type": "code",
   "execution_count": 6,
   "id": "e6175427",
   "metadata": {},
   "outputs": [
    {
     "data": {
      "text/plain": [
       "['concurrent.futures 활용 비동기 작업.ipynb',\n",
       " 'Coroutine.ipynb',\n",
       " 'Decorator.ipynb',\n",
       " 'Exception.ipynb',\n",
       " 'File 다루기os, pathlib, pickle.ipynb',\n",
       " 'Iterator and Generator and itertools.ipynb',\n",
       " 'MARKDOWN.ipynb',\n",
       " 'Modules and Projects.ipynb',\n",
       " 'Numpy.ipynb',\n",
       " 'Often used Functions.ipynb',\n",
       " 'Often used Lib.ipynb',\n",
       " 'Often used List.ipynb',\n",
       " 'Often used Methods.ipynb',\n",
       " 'Often used string.ipynb',\n",
       " 'OOP(Object Oriented Programming).ipynb',\n",
       " 'Pandas.ipynb',\n",
       " 'Python GIL.ipynb',\n",
       " 'Random.ipynb',\n",
       " '매개변수.ipynb',\n",
       " '상식.ipynb']"
      ]
     },
     "execution_count": 6,
     "metadata": {},
     "output_type": "execute_result"
    }
   ],
   "source": [
    "import os\n",
    "# os.listdir : 경로\n",
    "# 그 경로 안에 파일이름을 list에 저장함.\n",
    "files = [file_name\n",
    "        for file_name in os.listdir(\".\") if file_name.endswith(\"ipynb\")] \n",
    "files"
   ]
  },
  {
   "cell_type": "code",
   "execution_count": 9,
   "id": "8254e409",
   "metadata": {},
   "outputs": [
    {
     "data": {
      "text/plain": [
       "['data\\\\concurrent.futures 활용 비동기 작업.ipynb',\n",
       " 'data\\\\Coroutine.ipynb',\n",
       " 'data\\\\Decorator.ipynb',\n",
       " 'data\\\\Exception.ipynb',\n",
       " 'data\\\\File 다루기os, pathlib, pickle.ipynb',\n",
       " 'data\\\\Iterator and Generator and itertools.ipynb',\n",
       " 'data\\\\MARKDOWN.ipynb',\n",
       " 'data\\\\Modules and Projects.ipynb',\n",
       " 'data\\\\Numpy.ipynb',\n",
       " 'data\\\\Often used Functions.ipynb',\n",
       " 'data\\\\Often used Lib.ipynb',\n",
       " 'data\\\\Often used List.ipynb',\n",
       " 'data\\\\Often used Methods.ipynb',\n",
       " 'data\\\\Often used string.ipynb',\n",
       " 'data\\\\OOP(Object Oriented Programming).ipynb',\n",
       " 'data\\\\Pandas.ipynb',\n",
       " 'data\\\\Python GIL.ipynb',\n",
       " 'data\\\\Random.ipynb',\n",
       " 'data\\\\매개변수.ipynb',\n",
       " 'data\\\\상식.ipynb']"
      ]
     },
     "execution_count": 9,
     "metadata": {},
     "output_type": "execute_result"
    }
   ],
   "source": [
    " # 데이터를 한번에 list로 불러 올 수 있다.\n",
    "import pandas as pd\n",
    "# 예시일 뿐 실행안됨. files가 ibynb 파일이라 read_excel로 못 읽음\n",
    "df_list = [pd.read_excel(\n",
    "            os.path.join(\"data\",files_name)) for files_name in files]\n",
    "# df_list[0]에 각각 엑셀파일1 df_list[1]에 엑셀파일2, 이런식으로 들어감.\n",
    "df_list"
   ]
  },
  {
   "cell_type": "markdown",
   "id": "8a7c8d7b",
   "metadata": {},
   "source": [
    "## Database connection\n"
   ]
  },
  {
   "cell_type": "code",
   "execution_count": null,
   "id": "8bb32346",
   "metadata": {},
   "outputs": [],
   "source": [
    "import sqlite3\n",
    "pd.read_sql_querry"
   ]
  },
  {
   "cell_type": "markdown",
   "id": "4274f678",
   "metadata": {},
   "source": [
    "### ExcelWriter\n",
    "- pd 활용해 excel 파일 생성\n",
    "- conda install XlsxWriter\n",
    "- conda install openpyxl\n",
    "- 둘중에 하나 설치해야함"
   ]
  },
  {
   "cell_type": "code",
   "execution_count": null,
   "id": "f3569581",
   "metadata": {},
   "outputs": [],
   "source": [
    "writer = pd.ExcelWriter(\"./file.excel\", engine = \"xlsxwriter\")\n",
    "df.to_excel(writer, sheet_name = \"Sheet1\")\n"
   ]
  },
  {
   "cell_type": "markdown",
   "id": "12bfb760",
   "metadata": {},
   "source": [
    "### Pickle 저장"
   ]
  },
  {
   "cell_type": "code",
   "execution_count": null,
   "id": "fbd4f29c",
   "metadata": {},
   "outputs": [],
   "source": [
    "df.to_pickle(\"./file.pickle\")\n"
   ]
  },
  {
   "cell_type": "code",
   "execution_count": null,
   "id": "a427fd3c",
   "metadata": {},
   "outputs": [],
   "source": [
    "df_pickle = pd.read_pickle(\"./file.pickle\")\n",
    "df_picke.head()"
   ]
  }
 ],
 "metadata": {
  "kernelspec": {
   "display_name": "Python 3.9.1 64-bit",
   "language": "python",
   "name": "python3"
  },
  "language_info": {
   "codemirror_mode": {
    "name": "ipython",
    "version": 3
   },
   "file_extension": ".py",
   "mimetype": "text/x-python",
   "name": "python",
   "nbconvert_exporter": "python",
   "pygments_lexer": "ipython3",
   "version": "3.9.1"
  },
  "vscode": {
   "interpreter": {
    "hash": "da2004fe03f436a9a81b9c95e439c4add18d0165a64bc8b11e0efabfe79c313a"
   }
  }
 },
 "nbformat": 4,
 "nbformat_minor": 5
}
