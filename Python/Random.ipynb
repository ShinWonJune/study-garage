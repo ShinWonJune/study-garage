{
 "cells": [
  {
   "cell_type": "markdown",
   "id": "2d232cb9",
   "metadata": {},
   "source": [
    "### Random 모듈"
   ]
  },
  {
   "cell_type": "code",
   "execution_count": 2,
   "id": "cae949fd",
   "metadata": {},
   "outputs": [],
   "source": [
    "import random"
   ]
  },
  {
   "cell_type": "code",
   "execution_count": 3,
   "id": "b068efe3",
   "metadata": {},
   "outputs": [
    {
     "data": {
      "text/plain": [
       "0.8395721113918798"
      ]
     },
     "execution_count": 3,
     "metadata": {},
     "output_type": "execute_result"
    }
   ],
   "source": [
    "# 1. random.random() \n",
    "# 0~1 의 균일한 확률 분포에서 실수 난수 생성\n",
    "random.random()"
   ]
  },
  {
   "cell_type": "code",
   "execution_count": 5,
   "id": "b8e8a068",
   "metadata": {},
   "outputs": [
    {
     "name": "stdout",
     "output_type": "stream",
     "text": [
      "0.13436424411240122 0.13436424411240122 0.9560342718892494\n"
     ]
    }
   ],
   "source": [
    "# 2. seed\n",
    "# 난수 생성의 기준 같은거\n",
    "\n",
    "r_1 = 1 # seed 1\n",
    "r_2 = 2 # seed 2\n",
    "\n",
    "random.seed(r_1)\n",
    "b_1 = random.random()\n",
    "random.seed(r_1)      #같은 seed 에서 생성된 난수는 같다.\n",
    "b_2 = random.random()\n",
    "random.seed(r_2)\n",
    "b_3 = random.random()\n",
    "\n",
    "print(b_1,b_2,b_3)"
   ]
  },
  {
   "cell_type": "code",
   "execution_count": 6,
   "id": "9c6bc073",
   "metadata": {},
   "outputs": [
    {
     "data": {
      "text/plain": [
       "[5, 9, 8]"
      ]
     },
     "execution_count": 6,
     "metadata": {},
     "output_type": "execute_result"
    }
   ],
   "source": [
    "# 3. 범위 값 설정 후 랜덤 추출\n",
    "\n",
    "# random.sample(range(p,q),r)\n",
    "# p~ q-1 에서 r개 비복원 추출\n",
    "\n",
    "random.sample(range(5,10),3)"
   ]
  },
  {
   "cell_type": "code",
   "execution_count": 3,
   "id": "fbe47abe",
   "metadata": {},
   "outputs": [
    {
     "data": {
      "text/plain": [
       "7.193321090311155"
      ]
     },
     "execution_count": 3,
     "metadata": {},
     "output_type": "execute_result"
    }
   ],
   "source": [
    "# 4. uniform(p,q)\n",
    "# p~q 범위 사이의 실수 난수 생성\n",
    "\n",
    "random.uniform(5,10)"
   ]
  },
  {
   "cell_type": "markdown",
   "id": "374b6084",
   "metadata": {},
   "source": [
    "### numpy 모듈"
   ]
  },
  {
   "cell_type": "code",
   "execution_count": 3,
   "id": "60e8f1c4",
   "metadata": {},
   "outputs": [
    {
     "name": "stdout",
     "output_type": "stream",
     "text": [
      "1.\n",
      " 0.9549939757559612 \n",
      " 2.\n",
      "  [0.41979964 0.03197976 0.30764627 0.08066553 0.73373807] \n",
      " 3.\n",
      "  [[0.7463116  0.6666984  0.67081825]\n",
      " [0.13714327 0.05417113 0.51039395]\n",
      " [0.82482707 0.11502902 0.02244886]\n",
      " [0.34289483 0.3094831  0.12096931]\n",
      " [0.76447782 0.1202277  0.44691226]\n",
      " [0.83643297 0.17340701 0.90227371]\n",
      " [0.21713789 0.53915008 0.7842396 ]]\n"
     ]
    }
   ],
   "source": [
    "# random.rand() \n",
    "# 균일 분포\n",
    "\n",
    "import numpy as np\n",
    "\n",
    "# 1. np.random.rand()\n",
    "# 0~1 사이 균일 확률 분포로 실수 난수 추출\n",
    "a= np.random.rand()\n",
    "\n",
    "# 2. np.random.rand(n)\n",
    "# 0~1 사이 균등 확률 분포에서 n개 실수 배열 생성\n",
    "b =np.random.rand(5)\n",
    "\n",
    "# 3. np.random.rand(p,q)\n",
    "# 균일 분포 난수를 PxQ matrix array로 생성\n",
    "c =np.random.rand(7,3)\n",
    "\n",
    "print('1.\\n',a,'\\n','2.\\n ',b,'\\n','3.\\n ',c)"
   ]
  },
  {
   "cell_type": "code",
   "execution_count": 4,
   "id": "99537f16",
   "metadata": {},
   "outputs": [
    {
     "name": "stdout",
     "output_type": "stream",
     "text": [
      "1.\n",
      " -0.04269596702345541 \n",
      " 2.\n",
      "  [ 1.51543806  0.5138861  -0.83824335  0.98768009 -0.22154636] \n",
      " 3.\n",
      "  [[ 0.20481923  1.70173745  0.19650909]\n",
      " [-2.61803807 -0.87730872 -0.19656549]\n",
      " [-0.09017576 -0.64763433 -0.02335893]\n",
      " [-0.05682159 -0.47885905  0.23204729]\n",
      " [ 0.06873607  1.22202493  0.18062824]\n",
      " [-0.70436482  1.95677412 -0.69120771]\n",
      " [-0.26557795 -1.49651252 -0.29076067]]\n"
     ]
    }
   ],
   "source": [
    "# random.randn()\n",
    "# 가우시간 정규 분포 (m = 0, 표준편차 = 1)\n",
    "\n",
    "# 1. np.random.randn()\n",
    "# 0~1 사이 정규분포로 실수 난수 추출\n",
    "a= np.random.randn()\n",
    "\n",
    "# 2. np.random.randn(n)\n",
    "# 0~1 사이 정규분포에서 n개 실수 배열 생성\n",
    "b =np.random.randn(5)\n",
    "\n",
    "# 3. np.random.randn(p,q)\n",
    "# 정규 분포 난수를 PxQ matrix array로 생성\n",
    "c =np.random.randn(7,3)\n",
    "\n",
    "print('1.\\n',a,'\\n','2.\\n ',b,'\\n','3.\\n ',c)"
   ]
  },
  {
   "cell_type": "code",
   "execution_count": 5,
   "id": "2c151891",
   "metadata": {},
   "outputs": [
    {
     "data": {
      "text/plain": [
       "array([[ True, False,  True],\n",
       "       [ True,  True,  True],\n",
       "       [ True,  True,  True],\n",
       "       [ True,  True,  True],\n",
       "       [ True, False,  True],\n",
       "       [ True, False,  True],\n",
       "       [ True,  True,  True]])"
      ]
     },
     "execution_count": 5,
     "metadata": {},
     "output_type": "execute_result"
    }
   ],
   "source": [
    "# 4. np.random.randn(p,q) < a\n",
    "# a 보다 작은지 여부를 boolean 으로 반환.\n",
    "\n",
    "c < 0.5"
   ]
  },
  {
   "cell_type": "code",
   "execution_count": 31,
   "id": "afea328e",
   "metadata": {},
   "outputs": [
    {
     "name": "stdout",
     "output_type": "stream",
     "text": [
      "1.\n",
      " 3 \n",
      " 2.\n",
      " 7 \n",
      " 3.\n",
      " [6 5]\n"
     ]
    }
   ],
   "source": [
    "# random.randint(n) \n",
    "# 정수 난수 출력\n",
    "# randint() 은 무조건 하나 이상의 인수를 받아야함\n",
    "\n",
    "# 1. np.random.randint(n)\n",
    "# 0~ n-1 사이 정수에서 난수 1개 출력\n",
    "a =np.random.randint(5)\n",
    "\n",
    "# 2. np.random.randint(p,q) (p <= q)\n",
    "# p ~ q-1 사이 정수에서 난수 하나 출력\n",
    "b =np.random.randint(7,10)\n",
    "\n",
    "# 3. np.random.random(p,q, size=m)\n",
    "# p~ q-1 사이에서 m개 정수 list로 출력 (복원추출)\n",
    "c = np.random.randint(2,7,size=2)\n",
    "\n",
    "print('1.\\n',a,'\\n','2.\\n',b,'\\n','3.\\n',c)"
   ]
  },
  {
   "cell_type": "code",
   "execution_count": null,
   "id": "ec703592",
   "metadata": {},
   "outputs": [],
   "source": [
    "# np.random.choice(주머니,뽑을갯수,replace=True/False,p=p)\n",
    "# replace = True : 복원추출, False: 비복원추출\n",
    "# p : 원소별 뽑힐 확률"
   ]
  }
 ],
 "metadata": {
  "kernelspec": {
   "display_name": "Python 3 (ipykernel)",
   "language": "python",
   "name": "python3"
  },
  "language_info": {
   "codemirror_mode": {
    "name": "ipython",
    "version": 3
   },
   "file_extension": ".py",
   "mimetype": "text/x-python",
   "name": "python",
   "nbconvert_exporter": "python",
   "pygments_lexer": "ipython3",
   "version": "3.9.1"
  }
 },
 "nbformat": 4,
 "nbformat_minor": 5
}
