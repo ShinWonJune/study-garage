{
 "cells": [
  {
   "cell_type": "markdown",
   "id": "2d232cb9",
   "metadata": {},
   "source": [
    "### Random 모듈"
   ]
  },
  {
   "cell_type": "code",
   "execution_count": 3,
   "id": "b068efe3",
   "metadata": {},
   "outputs": [
    {
     "data": {
      "text/plain": [
       "0.8395721113918798"
      ]
     },
     "execution_count": 3,
     "metadata": {},
     "output_type": "execute_result"
    }
   ],
   "source": [
    "import random\n",
    "\n",
    "# 1. random.random() \n",
    "# 0~1 의 균일한 확률 분포에서 실수 난수 생성\n",
    "random.random()"
   ]
  },
  {
   "cell_type": "code",
   "execution_count": 5,
   "id": "b8e8a068",
   "metadata": {},
   "outputs": [
    {
     "name": "stdout",
     "output_type": "stream",
     "text": [
      "0.13436424411240122 0.13436424411240122 0.9560342718892494\n"
     ]
    }
   ],
   "source": [
    "# 2. seed\n",
    "# 난수 생성의 기준 같은거\n",
    "\n",
    "r_1 = 1 # seed 1\n",
    "r_2 = 2 # seed 2\n",
    "\n",
    "random.seed(r_1)\n",
    "b_1 = random.random()\n",
    "random.seed(r_1)      #같은 seed 에서 생성된 난수는 같다.\n",
    "b_2 = random.random()\n",
    "random.seed(r_2)\n",
    "b_3 = random.random()\n",
    "\n",
    "print(b_1,b_2,b_3)"
   ]
  },
  {
   "cell_type": "code",
   "execution_count": 6,
   "id": "9c6bc073",
   "metadata": {},
   "outputs": [
    {
     "data": {
      "text/plain": [
       "[5, 9, 8]"
      ]
     },
     "execution_count": 6,
     "metadata": {},
     "output_type": "execute_result"
    }
   ],
   "source": [
    "# 3. 범위 값 설정 후 랜덤 추출\n",
    "\n",
    "# random.sample(range(p,q),r)\n",
    "# p~ q-1 에서 r개 비복원 추출\n",
    "\n",
    "random.sample(range(5,10),3)"
   ]
  },
  {
   "cell_type": "markdown",
   "id": "374b6084",
   "metadata": {},
   "source": [
    "### numpy 모듈"
   ]
  },
  {
   "cell_type": "code",
   "execution_count": 17,
   "id": "60e8f1c4",
   "metadata": {},
   "outputs": [
    {
     "name": "stdout",
     "output_type": "stream",
     "text": [
      "1.\n",
      " 0.21122763974555026 \n",
      " 2.\n",
      "  [0.99948903 0.96656159 0.83217963 0.06145886 0.99793419] \n",
      " 3.\n",
      "  [[0.89516597 0.1708311  0.4512998 ]\n",
      " [0.09899183 0.04933619 0.76775646]\n",
      " [0.46208778 0.13396962 0.89887582]\n",
      " [0.05738096 0.04136156 0.85067845]\n",
      " [0.07330635 0.2008475  0.38796338]\n",
      " [0.4876755  0.94229925 0.37340957]\n",
      " [0.41329509 0.69611559 0.86338525]]\n"
     ]
    }
   ],
   "source": [
    "# random.rand() \n",
    "# 균일 분포\n",
    "\n",
    "import numpy as np\n",
    "\n",
    "# 1. np.random.rand()\n",
    "# 0~1 사이 균일 확률 분포로 실수 난수 추출\n",
    "a= np.random.rand()\n",
    "\n",
    "# 2. np.random.rand(n)\n",
    "# 0~1 사이 균등 확률 분포에서 n개 실수 배열 생성\n",
    "b =np.random.rand(5)\n",
    "\n",
    "# 3. np.random.rand(p,q)\n",
    "# p ~ q-1 사이 균일 분포 난수를 PxQ matrix array로 생성\n",
    "c =np.random.rand(7,3)\n",
    "\n",
    "print('1.\\n',a,'\\n','2.\\n ',b,'\\n','3.\\n ',c)"
   ]
  },
  {
   "cell_type": "code",
   "execution_count": 18,
   "id": "99537f16",
   "metadata": {},
   "outputs": [
    {
     "name": "stdout",
     "output_type": "stream",
     "text": [
      "1.\n",
      " 1.1038432263684788 \n",
      " 2.\n",
      "  [-0.54312684 -0.01545701 -0.20715304 -3.01276657 -0.88235009] \n",
      " 3.\n",
      "  [[ 0.10588854  0.09550656  1.67480338]\n",
      " [ 0.37780808  0.77391523  0.76819161]\n",
      " [ 1.19491854  0.08608634  0.89360739]\n",
      " [-0.25124158 -0.87966998 -0.64962233]\n",
      " [ 0.10506861  0.54094412  1.59786147]\n",
      " [ 0.16770715  2.37952667  1.17871398]\n",
      " [-0.75383435 -0.92008797 -0.2246122 ]]\n"
     ]
    }
   ],
   "source": [
    "# random.randn()\n",
    "# 가우시간 정규 분포 (m = 0, 표준편차 = 1)\n",
    "\n",
    "# 1. np.random.randn()\n",
    "# 0~1 사이 정규분포로 실수 난수 추출\n",
    "a= np.random.randn()\n",
    "\n",
    "# 2. np.random.randn(n)\n",
    "# 0~1 사이 정규분포에서 n개 실수 배열 생성\n",
    "b =np.random.randn(5)\n",
    "\n",
    "# 3. np.random.randn(p,q)\n",
    "# p ~ q-1 사이 정규 분포 난수를 PxQ matrix array로 생성\n",
    "c =np.random.randn(7,3)\n",
    "\n",
    "print('1.\\n',a,'\\n','2.\\n ',b,'\\n','3.\\n ',c)"
   ]
  },
  {
   "cell_type": "code",
   "execution_count": 31,
   "id": "afea328e",
   "metadata": {},
   "outputs": [
    {
     "name": "stdout",
     "output_type": "stream",
     "text": [
      "1.\n",
      " 3 \n",
      " 2.\n",
      " 7 \n",
      " 3.\n",
      " [6 5]\n"
     ]
    }
   ],
   "source": [
    "# random.randint(n) \n",
    "# 정수 난수 출력\n",
    "# randint() 은 무조건 하나 이상의 인수를 받아야함\n",
    "\n",
    "# 1. np.random.randint(n)\n",
    "# 0~ n-1 사이 정수에서 난수 1개 출력\n",
    "a =np.random.randint(5)\n",
    "\n",
    "# 2. np.random.randint(p,q) (p <= q)\n",
    "# p ~ q-1 사이 정수에서 난수 하나 출력\n",
    "b =np.random.randint(7,10)\n",
    "\n",
    "# 3. np.random.random(p,q, size=m)\n",
    "# p~ q-1 사이에서 m개 정수 list로 출력\n",
    "c = np.random.randint(2,7,size=2)\n",
    "\n",
    "print('1.\\n',a,'\\n','2.\\n',b,'\\n','3.\\n',c)"
   ]
  },
  {
   "cell_type": "code",
   "execution_count": null,
   "id": "ec703592",
   "metadata": {},
   "outputs": [],
   "source": [
    "# np.random.choice(주머니,뽑을갯수,replace=True/False,p=p)\n",
    "# replace = True : 복원추출, False: 비복원추출\n",
    "# p : 원소별 뽑힐 확률"
   ]
  }
 ],
 "metadata": {
  "kernelspec": {
   "display_name": "Python 3 (ipykernel)",
   "language": "python",
   "name": "python3"
  },
  "language_info": {
   "codemirror_mode": {
    "name": "ipython",
    "version": 3
   },
   "file_extension": ".py",
   "mimetype": "text/x-python",
   "name": "python",
   "nbconvert_exporter": "python",
   "pygments_lexer": "ipython3",
   "version": "3.9.7"
  }
 },
 "nbformat": 4,
 "nbformat_minor": 5
}
