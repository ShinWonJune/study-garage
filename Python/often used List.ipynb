{
 "cells": [
  {
   "cell_type": "code",
   "execution_count": 4,
   "metadata": {},
   "outputs": [],
   "source": [
    "import numpy as np"
   ]
  },
  {
   "cell_type": "markdown",
   "metadata": {},
   "source": [
    "### .pop() : index로 원소 지우기 \n"
   ]
  },
  {
   "cell_type": "code",
   "execution_count": 6,
   "metadata": {},
   "outputs": [
    {
     "name": "stdout",
     "output_type": "stream",
     "text": [
      "[array([[1, 2, 3, 5]]), array([[0, 2, 0, 6]])]\n"
     ]
    }
   ],
   "source": [
    "a = np.array([[1,2,3,4],\n",
    "             [1,2,3,5],\n",
    "             [0,2,0,6]])\n",
    "x = np.array_split(a,3)\n",
    "# x 에서 index 0 element 제거 (print 할 경우 제거한 element 보여줌)\n",
    "x.pop(0) \n",
    "print(x)"
   ]
  },
  {
   "cell_type": "markdown",
   "metadata": {},
   "source": [
    "### 깊은 복사 얕은 복사"
   ]
  },
  {
   "cell_type": "markdown",
   "metadata": {},
   "source": [
    "- 얕은 복사\n",
    "- 하나가 수정되면 다같이 수정됨"
   ]
  },
  {
   "cell_type": "code",
   "execution_count": 7,
   "metadata": {},
   "outputs": [
    {
     "data": {
      "text/plain": [
       "[[1, 0], [1, 0], [1, 0]]"
      ]
     },
     "execution_count": 7,
     "metadata": {},
     "output_type": "execute_result"
    }
   ],
   "source": [
    "# [0][0] 만 바꿨지만 [:][0] 전부가 바뀜\n",
    "array = [[0]*2]*3\n",
    "array[0][0] = 1\n",
    "array"
   ]
  },
  {
   "cell_type": "markdown",
   "metadata": {},
   "source": [
    "### ''.format()\n",
    "#### print('{0}{1:c.df}'.format(a,b))\n",
    "- format함수 안 튜플을 index 순서대로 전달 a->0, b->1\n",
    "- b를 전체 c칸 중에 소수점d자리를 차지하게 표기"
   ]
  },
  {
   "cell_type": "code",
   "execution_count": 3,
   "metadata": {},
   "outputs": [
    {
     "name": "stdout",
     "output_type": "stream",
     "text": [
      "10   5.23000\n"
     ]
    }
   ],
   "source": [
    "print('{0}{1:10.5f}'.format(10,5.23))"
   ]
  },
  {
   "cell_type": "markdown",
   "metadata": {},
   "source": [
    "- 패딩 왼쪽으로 정렬: print('{0}{1:>10.5f}'.format(10,5.23))\n",
    "- 패딩 오른쪽으로 정렬: print('{0}{1:>10.5f}'.format(10,5.23))"
   ]
  },
  {
   "cell_type": "code",
   "execution_count": 5,
   "metadata": {},
   "outputs": [
    {
     "name": "stdout",
     "output_type": "stream",
     "text": [
      "105.23000   \n"
     ]
    }
   ],
   "source": [
    "print('{0}{1:<10.5f}'.format(10,5.23))"
   ]
  },
  {
   "cell_type": "code",
   "execution_count": 6,
   "metadata": {},
   "outputs": [
    {
     "name": "stdout",
     "output_type": "stream",
     "text": [
      "10   5.23000\n"
     ]
    }
   ],
   "source": [
    "print('{0}{1:>10.5f}'.format(10,5.23))"
   ]
  },
  {
   "cell_type": "markdown",
   "metadata": {},
   "source": [
    "## f-string\n",
    "- 편해진 포멧팅\n",
    "- print문 밖의 변수를 바로 사용가능"
   ]
  },
  {
   "cell_type": "code",
   "execution_count": 7,
   "metadata": {},
   "outputs": [
    {
     "name": "stdout",
     "output_type": "stream",
     "text": [
      "hello,I'm shin, and 31 years old\n"
     ]
    }
   ],
   "source": [
    "name = 'shin'\n",
    "age = 31\n",
    "print(f\"hello,I'm {name}, and {age} years old\")"
   ]
  },
  {
   "cell_type": "code",
   "execution_count": 9,
   "metadata": {},
   "outputs": [
    {
     "name": "stdout",
     "output_type": "stream",
     "text": [
      "                shin\n",
      "****************shin\n",
      "********shin********\n",
      "31.00\n"
     ]
    }
   ],
   "source": [
    "#오른쪽 정렬\n",
    "print(f\"{name:>20}\")\n",
    "\n",
    "#빈칸 별로 체우기\n",
    "print(f\"{name:*>20}\")\n",
    "\n",
    "# 중앙 정렬\n",
    "print(f\"{name:*^20}\")\n",
    "\n",
    "# 소수점\n",
    "print(f\"{age:.2f}\")"
   ]
  }
 ],
 "metadata": {
  "kernelspec": {
   "display_name": "Python 3.9.1 64-bit",
   "language": "python",
   "name": "python3"
  },
  "language_info": {
   "codemirror_mode": {
    "name": "ipython",
    "version": 3
   },
   "file_extension": ".py",
   "mimetype": "text/x-python",
   "name": "python",
   "nbconvert_exporter": "python",
   "pygments_lexer": "ipython3",
   "version": "3.9.1"
  },
  "orig_nbformat": 4,
  "vscode": {
   "interpreter": {
    "hash": "da2004fe03f436a9a81b9c95e439c4add18d0165a64bc8b11e0efabfe79c313a"
   }
  }
 },
 "nbformat": 4,
 "nbformat_minor": 2
}
