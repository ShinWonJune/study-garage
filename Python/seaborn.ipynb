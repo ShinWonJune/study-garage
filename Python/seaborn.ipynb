{
 "cells": [
  {
   "cell_type": "markdown",
   "metadata": {},
   "source": [
    "### sns.countplot(data = , x= ,y= ,hue=,)\n",
    "- 아주 편하게 count를 해줌. histogram\n",
    "- x : count할 column. Column 의 class 별로 나누어 count 해줌 대박\n",
    "- y : 누워있는 batplot.\n",
    "- hue: 다른 column의 class에 따라 나누어 plot."
   ]
  },
  {
   "cell_type": "code",
   "execution_count": null,
   "metadata": {},
   "outputs": [],
   "source": [
    "import seaborn as sns\n",
    "plt.figure(figsize=(6, 4.5))\n",
    "# gender의 class 별 count! \n",
    "ax = sns.countplot(x = 'gender', data = df, palette=[\"#55967e\", \"#263959\"])\n",
    "\n",
    "plt.xticks( np.arange(2), ['female', 'male'] )\n",
    "plt.title('Sex Ratio',fontsize= 14)\n",
    "plt.xlabel('')\n",
    "plt.ylabel('Number of images')\n",
    "\n",
    "#value_counts() : unique한 row별로 count 해줌.\n",
    "counts = df['gender'].value_counts()\n",
    "counts_pct = [f'{elem * 100:.2f}%' for elem in counts / counts.sum()]\n",
    "for i, v in enumerate(counts_pct):\n",
    "    ax.text(i, 0, v, horizontalalignment = 'center', size = 14, color = 'w', fontweight = 'bold')\n",
    "    \n",
    "plt.show()"
   ]
  },
  {
   "cell_type": "markdown",
   "metadata": {},
   "source": [
    "\n",
    "### sns.displot(x=, hue=, stat=)\n",
    "- 히스토그램\n",
    "- x : 분포의 대상\n",
    "- stat = False : absolute value<br>\n",
    "    = 'density' : 밀도\n",
    "- hue : 각 클래스에 마다 분포를 표시함 (겹쳐서 표시)"
   ]
  },
  {
   "cell_type": "code",
   "execution_count": null,
   "metadata": {},
   "outputs": [],
   "source": [
    "# age histogram\n",
    "sns.displot(df, x=\"age\", stat=\"density\")\n",
    "plt.show()"
   ]
  },
  {
   "cell_type": "code",
   "execution_count": null,
   "metadata": {},
   "outputs": [],
   "source": [
    "# gender 별 age histogram\n",
    "sns.displot(df, x=\"age\", hue=\"gender\", stat=\"density\")\n",
    "plt.show()"
   ]
  },
  {
   "cell_type": "markdown",
   "metadata": {},
   "source": [
    "### sns.boxplot(x=,y=,data)\n",
    "- 박스수염그래프\n",
    "- median, 최대 최소 값 보여줌\n",
    "- spear style(이상치 표기 x), turkey style(이상치 점으로 표기)"
   ]
  },
  {
   "cell_type": "markdown",
   "metadata": {},
   "source": []
  }
 ],
 "metadata": {
  "kernelspec": {
   "display_name": "Python 3.9.1 64-bit",
   "language": "python",
   "name": "python3"
  },
  "language_info": {
   "name": "python",
   "version": "3.9.1"
  },
  "orig_nbformat": 4,
  "vscode": {
   "interpreter": {
    "hash": "da2004fe03f436a9a81b9c95e439c4add18d0165a64bc8b11e0efabfe79c313a"
   }
  }
 },
 "nbformat": 4,
 "nbformat_minor": 2
}
