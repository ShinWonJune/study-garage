{
 "cells": [
  {
   "cell_type": "markdown",
   "metadata": {},
   "source": [
    "### sns.countplot(data = , x= ,y= ,hue=,)\n",
    "- 아주 편하게 count를 해줌. histogram\n",
    "- x : count할 column. Column 의 class 별로 나누어 count 해줌 대박\n",
    "- y : 누워있는 batplot.\n",
    "- hue: 다른 column의 class에 따라 나누어 plot."
   ]
  },
  {
   "cell_type": "markdown",
   "metadata": {},
   "source": []
  }
 ],
 "metadata": {
  "language_info": {
   "name": "python"
  },
  "orig_nbformat": 4
 },
 "nbformat": 4,
 "nbformat_minor": 2
}
