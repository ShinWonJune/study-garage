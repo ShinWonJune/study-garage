{
 "cells": [
  {
   "cell_type": "markdown",
   "id": "103a6165",
   "metadata": {},
   "source": [
    "### 매개변수 입력 \n",
    "- `*args` : 다수의 단일 매개변수\n",
    "- `**kwargs` : 다수의 딕셔너리 매개변수 (key_word arguments)\n",
    "- `arg = i` : `arg` 변수는 할당을 통해 지정해줘야함 "
   ]
  },
  {
   "cell_type": "code",
   "execution_count": 3,
   "id": "1f9987a1",
   "metadata": {},
   "outputs": [
    {
     "name": "stdout",
     "output_type": "stream",
     "text": [
      "EX5-1 - <args_test> -> (name: test1) (()) (1) ({})\n",
      "EX5-2 - <args_test> -> (name: test1) (('test2',)) (1) ({})\n",
      "Ex5-3 - <args_test> -> (name: test1) (('test2', 'test3')) (1) ({'id': 'john'})\n",
      "Ex5-4 - <args_test> -> (name: test1) (('test2', 'test3')) (8) ({'id': 'john'})\n",
      "Ex5-5 - <args_test> -> (name: test1) (('test2', 'test3')) (8) ({'id': 'john', 'password': '12344'})\n"
     ]
    }
   ],
   "source": [
    "def  args_test(name,*contents, point=1, **attrs):\n",
    "    return '<args_test> -> (name: {}) ({}) ({}) ({})'.format(name, contents, point, attrs)\n",
    "\n",
    "# 1. *args 는 packing이 되게 때문이 tuple 형태로 넘어간다. 입력이 없을경우 텅빈 튜플로 넘어간다.\n",
    "#   **kargs 는 입력이 없을경우 텅빈 set? dict?\n",
    "print('EX5-1 -', args_test('test1')) \n",
    "\n",
    "# 2. 'test2' 는 한개짜리 튜플로 들어간다. ('test2',) 으로 들어간다 \n",
    "print('EX5-2 -', args_test('test1','test2')) \n",
    "print('Ex5-3 -', args_test('test1','test2','test3',id='john'))\n",
    "# 4. point는 point = 어쩌구 라고 해줘야 반영된다.\n",
    "print('Ex5-4 -', args_test('test1','test2','test3',id='john',point='8'))\n",
    "# 5. 입력 순서가 달라도, Dict 끼리 묶어서 받는다.\n",
    "print('Ex5-5 -', args_test('test1','test2','test3',id='john',point='8',password = '12344')) "
   ]
  }
 ],
 "metadata": {
  "kernelspec": {
   "display_name": "Python 3.9.1 64-bit",
   "language": "python",
   "name": "python3"
  },
  "language_info": {
   "codemirror_mode": {
    "name": "ipython",
    "version": 3
   },
   "file_extension": ".py",
   "mimetype": "text/x-python",
   "name": "python",
   "nbconvert_exporter": "python",
   "pygments_lexer": "ipython3",
   "version": "3.9.1"
  },
  "vscode": {
   "interpreter": {
    "hash": "da2004fe03f436a9a81b9c95e439c4add18d0165a64bc8b11e0efabfe79c313a"
   }
  }
 },
 "nbformat": 4,
 "nbformat_minor": 5
}
