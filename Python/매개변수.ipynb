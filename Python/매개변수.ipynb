{
 "cells": [
  {
   "cell_type": "markdown",
   "id": "103a6165",
   "metadata": {},
   "source": [
    "### 매개변수 입력 \n",
    "- `*args` : 다수의 단일 매개변수\n",
    "- `**kwargs` : 다수의 딕셔너리 매개변수 (key_word arguments)\n",
    "- `arg = i` : `arg` 변수는 할당을 통해 지정해줘야함 "
   ]
  },
  {
   "cell_type": "code",
   "execution_count": 3,
   "id": "1f9987a1",
   "metadata": {},
   "outputs": [
    {
     "name": "stdout",
     "output_type": "stream",
     "text": [
      "EX5-1 - <args_test> -> (name: test1) (()) (1) ({})\n",
      "EX5-2 - <args_test> -> (name: test1) (('test2',)) (1) ({})\n",
      "Ex5-3 - <args_test> -> (name: test1) (('test2', 'test3')) (1) ({'id': 'john'})\n",
      "Ex5-4 - <args_test> -> (name: test1) (('test2', 'test3')) (8) ({'id': 'john'})\n",
      "Ex5-5 - <args_test> -> (name: test1) (('test2', 'test3')) (8) ({'id': 'john', 'password': '12344'})\n"
     ]
    }
   ],
   "source": [
    "def  args_test(name,*contents, point=1, **attrs):\n",
    "    return '<args_test> -> (name: {}) ({}) ({}) ({})'.format(name, contents, point, attrs)\n",
    "\n",
    "# 1. *args 는 packing이 되게 때문이 tuple 형태로 넘어간다. 입력이 없을경우 텅빈 튜플로 넘어간다.\n",
    "#   **kargs 는 입력이 없을경우 텅빈 set? dict?\n",
    "print('EX5-1 -', args_test('test1')) \n",
    "\n",
    "# 2. 'test2' 는 한개짜리 튜플로 들어간다. ('test2',) 으로 들어간다 \n",
    "print('EX5-2 -', args_test('test1','test2')) \n",
    "print('Ex5-3 -', args_test('test1','test2','test3',id='john'))\n",
    "# 4. point는 point = 어쩌구 라고 해줘야 반영된다.\n",
    "print('Ex5-4 -', args_test('test1','test2','test3',id='john',point='8'))\n",
    "# 5. 입력 순서가 달라도, Dict 끼리 묶어서 받는다.\n",
    "print('Ex5-5 -', args_test('test1','test2','test3',id='john',point='8',password = '12344')) "
   ]
  },
  {
   "cell_type": "markdown",
   "id": "1b5a8377",
   "metadata": {},
   "source": [
    "### asterisk as unpacking a container\n",
    "- container에 * 붙이면 언패킹 됨\n"
   ]
  },
  {
   "cell_type": "code",
   "execution_count": 1,
   "id": "7e879c04",
   "metadata": {},
   "outputs": [
    {
     "name": "stdout",
     "output_type": "stream",
     "text": [
      "1 (2, 3, 4, 5, 6)\n",
      "1 ((2, 3, 4, 5, 6),)\n",
      "<class 'tuple'>\n"
     ]
    }
   ],
   "source": [
    "def asterisk_test(a,*args):\n",
    "    print(a, *args)\n",
    "    print(a,args)\n",
    "    print(type(args))\n",
    "\n",
    "test = (2,3,4,5,6)\n",
    "asterisk_test(1,test)"
   ]
  },
  {
   "cell_type": "code",
   "execution_count": 2,
   "id": "e0891d8e",
   "metadata": {},
   "outputs": [
    {
     "name": "stdout",
     "output_type": "stream",
     "text": [
      "1 2 3 4 5 6\n",
      "1 (2, 3, 4, 5, 6)\n",
      "<class 'tuple'>\n"
     ]
    }
   ],
   "source": [
    "# container에 * 붙이면 언패킹 된다.\n",
    "asterisk_test(1,*test)"
   ]
  },
  {
   "cell_type": "code",
   "execution_count": 4,
   "id": "360a66c0",
   "metadata": {},
   "outputs": [
    {
     "name": "stdout",
     "output_type": "stream",
     "text": [
      "! 2 A\n",
      "['!', '2', 'A']\n"
     ]
    }
   ],
   "source": [
    "print(*[\"!\",\"2\",\"A\"])\n",
    "print([\"!\",\"2\",\"A\"])"
   ]
  },
  {
   "cell_type": "markdown",
   "id": "ebcab3e1",
   "metadata": {},
   "source": [
    "### with zip"
   ]
  },
  {
   "cell_type": "code",
   "execution_count": 8,
   "id": "2452ce21",
   "metadata": {},
   "outputs": [
    {
     "name": "stdout",
     "output_type": "stream",
     "text": [
      "([1, 2],)\n",
      "([3, 4],)\n",
      "([5, 6],)\n"
     ]
    }
   ],
   "source": [
    "ex = ([1,2],[3,4],[5,6])\n",
    "for value in zip(ex):\n",
    "    print(value)\n",
    "\n",
    "# ex 하나의 튜플이므로 묶일게 없어서 1개짜리 튜플이 반환됨"
   ]
  },
  {
   "cell_type": "code",
   "execution_count": 11,
   "id": "e1bd41c1",
   "metadata": {},
   "outputs": [
    {
     "name": "stdout",
     "output_type": "stream",
     "text": [
      "(1, 3, 5)\n",
      "(2, 4, 6)\n"
     ]
    }
   ],
   "source": [
    "# *를 붙여서 언패킹 하게되면 3개의 list가 되므로 각 리스트마다 같은 인덱스끼리 묶임\n",
    "for value in zip(*ex):\n",
    "    print(value)"
   ]
  }
 ],
 "metadata": {
  "kernelspec": {
   "display_name": "Python 3.9.1 64-bit",
   "language": "python",
   "name": "python3"
  },
  "language_info": {
   "codemirror_mode": {
    "name": "ipython",
    "version": 3
   },
   "file_extension": ".py",
   "mimetype": "text/x-python",
   "name": "python",
   "nbconvert_exporter": "python",
   "pygments_lexer": "ipython3",
   "version": "3.9.1"
  },
  "vscode": {
   "interpreter": {
    "hash": "da2004fe03f436a9a81b9c95e439c4add18d0165a64bc8b11e0efabfe79c313a"
   }
  }
 },
 "nbformat": 4,
 "nbformat_minor": 5
}
