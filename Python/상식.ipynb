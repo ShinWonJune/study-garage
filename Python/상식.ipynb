{
 "cells": [
  {
   "cell_type": "markdown",
   "metadata": {},
   "source": [
    "### Jupyter notebook\n",
    " shift + tab = Docstring ; 함수의 구성을 알 수 있음"
   ]
  },
  {
   "cell_type": "markdown",
   "metadata": {},
   "source": [
    "### 함수 명\n",
    "#### 변수와 Class명 함수명은 짓는 방식이 존재\n",
    "- snake_case : 띄워쓰기 부분에 “_” 를 추가\n",
    "    - 뱀 처럼 늘여쓰기, 파이썬 함수/변수명에 사용\n",
    " - CamelCase: 띄워쓰기 부분에 대문자\n",
    "    - 낙타의 등 모양, 파이썬 Class명에 사용"
   ]
  },
  {
   "cell_type": "markdown",
   "metadata": {},
   "source": [
    "### python list VS numpy array\n",
    "- python list는 data의 저장공간의 주소를 가져다가 저장함\n",
    "    - ex) [1] 이라면, 메모리 어딘가의 1의 주소를 list에 저장했다가 이를 통해 1에 접근함\n",
    "- numpy array는 직접 array의 첫번째 위치에 1저장함\n",
    "    - ex) [1] 이면 첫번째 공간에 1을 저장한 것\n",
    "- array의 연산속도가 훨씬 빠름"
   ]
  },
  {
   "cell_type": "markdown",
   "metadata": {},
   "source": [
    "#### data type\n",
    "- __int64__ 는 $2^{63}$에 +,- 까지 표현 가능하다\n",
    "- Unsigned intager\n",
    "    - __uint64__ 는 $2^{64}$ 까지 표현가능. 부호 표기가 필요없으니\n",
    "- __float64__ : 64bit로 소수점을 표현한다"
   ]
  },
  {
   "cell_type": "markdown",
   "metadata": {},
   "source": [
    "### byte bit\n",
    "- 8bit = 1bytes\n",
    "<br><br>\n",
    "- 메모리 크기\n",
    "    - ex) np.array([[1,2,3],[4,5,6]],dtype=np.float64).nbytes<br>\n",
    "    = 6개의 32bit로 표현된 숫자 = 6개의 4byte숫자 = 24byte"
   ]
  },
  {
   "cell_type": "markdown",
   "metadata": {},
   "source": [
    "### axis\n",
    "- axis : func operation의 기준\n",
    "    -  axis = 0 : row를 따라서 연산.\n",
    "    -  axis = 1 : column을 따라서 연산."
   ]
  },
  {
   "cell_type": "markdown",
   "metadata": {},
   "source": [
    "### IS\n",
    "- is 는 메모리상의 같은 주소값인지를 보는 것\n",
    "- 아예 같은 것인지를 묻는것"
   ]
  }
 ],
 "metadata": {
  "kernelspec": {
   "display_name": "Python 3.9.1 64-bit",
   "language": "python",
   "name": "python3"
  },
  "language_info": {
   "name": "python",
   "version": "3.9.1"
  },
  "orig_nbformat": 4,
  "vscode": {
   "interpreter": {
    "hash": "da2004fe03f436a9a81b9c95e439c4add18d0165a64bc8b11e0efabfe79c313a"
   }
  }
 },
 "nbformat": 4,
 "nbformat_minor": 2
}
