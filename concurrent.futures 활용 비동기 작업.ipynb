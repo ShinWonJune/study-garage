{
 "cells": [
  {
   "cell_type": "markdown",
   "id": "960e01bd",
   "metadata": {},
   "source": [
    "# concurrent.futures.\n",
    "   - __ThreadPoolExecutor__ : 멀티스레딩, GIL에 종속\n",
    "   - __ProcessPoolExecutor__ : 멀티프로세싱, GIL에 독립\n",
    "   \n",
    "   \n",
    "    각각 map(), submit()을 활용하는 방식이 있다.\n",
    "   - __map()__ 활용 : 작업순서 유지하고 즉시 실행함\n",
    "   - __submit(), futures__ 활용: 더 구체적인 작업 현황 파악 가능\n",
    "   -------------------------"
   ]
  },
  {
   "cell_type": "markdown",
   "id": "2aee2be0",
   "metadata": {},
   "source": [
    "각 case마다 공통적인 코딩"
   ]
  },
  {
   "cell_type": "code",
   "execution_count": 52,
   "id": "1c88ab9d",
   "metadata": {},
   "outputs": [],
   "source": [
    "import os\n",
    "import time\n",
    "import sys\n",
    "import csv\n",
    "from concurrent import futures\n",
    "\n",
    "#국가정보\n",
    "NATION_LS = 'Singapore Germany Israel Norway Italy Canada France Spain Mexico'.split() #split함수; list로 반환\n",
    "\n",
    "#csv 자본 위치\n",
    "TARGET_CSV = 'C:/Python/python_basic/PYTHON_ADVANCED/resources/nations.csv'\n",
    "\n",
    "#저당 폴더 위치\n",
    "DEST_DIR = 'C:/Python/python_basic/csvs'\n",
    "\n",
    "#CSV자본 헤더 정보\n",
    "with open('C:/Python/python_basic/PYTHON_ADVANCED/resources/nations.csv','r', encoding='utf-8') as f:\n",
    "    HEADER = f.readline().split(',') \n",
    "f.close()\n",
    "HEADER[-1] = HEADER[-1][:-1]\n",
    "\n",
    "\n",
    "#국가별 분리\n",
    "# target_csv를 위에서부터 읽어서 nt 인 국가들만 모아서 data 로 반환하는 함수\n",
    "def get_sales_data(nt):\n",
    "    with open(TARGET_CSV,'r') as f:\n",
    "        reader = csv.DictReader(f) #header column명과 field값의 쌍으로 dict 반환\n",
    "        #Dict을 리스트로 적재\n",
    "        data =[]\n",
    "        for r in reader:\n",
    "            if r['Country']==nt: #dict의 key인 country를 활용함. nt인 나라들을 모으다.\n",
    "                data.append(r)\n",
    "    return data\n",
    "\n",
    "\n",
    "# 중간 상황 출력\n",
    "def show(text):\n",
    "    print(text, end = ' ')\n",
    "    # 중간출력, 버퍼지우기 (처리 완료되는 나라들 출력. 다 될 때 까지 기다렸다가 한번이 출력하지 말고.)\n",
    "    sys.stdout.flush()\n",
    "\n",
    "    \n",
    "# 국가별 csv 파일 저장\n",
    "# dict형식의 LIST 파일을 받아서 field명과 field값에 맞게 write 해주는 함수\n",
    "def save_csv(data, filename):\n",
    "    #최종 경로 생성\n",
    "    path = os.path.join(DEST_DIR, filename) # join(a,b) = ab 붙여서 반환\n",
    "    \n",
    "    with open(path,'w',newline='') as fp: #기본적으로 줄바꾸기가 들어기가 때문에, newline ='' 로 줄바꾸기 하나 없애줌\n",
    "        writer = csv.DictWriter(fp,fieldnames=HEADER) #fieldnames:Headder를 인식하게 함. 단, header가 파일에 한 줄을 차지하진 않음\n",
    "        # 헤더 작성\n",
    "        writer.writeheader() # 이제야 헤더가 파일의 한줄을 차지함\n",
    "        #Dict to CSV Write\n",
    "        for row in data:\n",
    "            writer.writerow(row) #dict 한쌍을 field, field값으로 인식해 파일에 작성.\n",
    "\n",
    "# 국가별 분리 함수 실행\n",
    "# 국가 이름을 받아서 그 이름에 해당하는 데이터만 분류하여 파일로 만드는 함수\n",
    "def separate_many(nt):\n",
    "    #분리 데이터\n",
    "    data = get_sales_data(nt)\n",
    "    #상황 출력\n",
    "    show(nt)\n",
    "    #파일저장\n",
    "    save_csv(data,nt.lower()+'.csv') #save_csv(저장할데이터, 저장할파일명)\n",
    "    return nt"
   ]
  },
  {
   "cell_type": "markdown",
   "id": "75bd2cc0",
   "metadata": {},
   "source": [
    "--------------------------\n",
    "## .map() 활용\n",
    "#### ThreadPoolExecutor 활용 비동기 작업\n",
    "- 결론 : n개의 workers가 하나에 파일에 순차적으로 접근을 시도하므로(by GIL), context swithing 비용이 일어나서 순차 작업보다 느림."
   ]
  },
  {
   "cell_type": "code",
   "execution_count": 54,
   "id": "67f7df76",
   "metadata": {},
   "outputs": [
    {
     "name": "stdout",
     "output_type": "stream",
     "text": [
      "Israel Singapore Spain Canada Germany Italy France Mexico Norway \n",
      " ['Canada', 'France', 'Germany', 'Israel', 'Italy', 'Mexico', 'Norway', 'Singapore', 'Spain'] csv separated in 14.79s\n"
     ]
    }
   ],
   "source": [
    "#main 함수\n",
    "def main(separate_many):\n",
    "    # worker 개수 설정. threadpoolexecutor 사용시에만 설정\n",
    "    worker = min(20,len(NATION_LS))\n",
    "    # 시작 시간\n",
    "    start_tm = time.time()\n",
    "    # 결과 건수\n",
    "    with futures.ThreadPoolExecutor(worker) as executor:\n",
    "        # map : 작업 순서를 유지하고 즉시 실행됨.\n",
    "        result_cnt = executor.map(separate_many, sorted(NATION_LS)) #result_cnt는 generator로 반환됨.\n",
    "    # 종료 시간\n",
    "    end_tm = time.time() - start_tm\n",
    "    msg = '\\n {} csv separated in {:.2f}s'\n",
    "    # 최종 결과 출력\n",
    "    print(msg.format(list(result_cnt),end_tm)) #generator 인 result_cnt를 list로 반환\n",
    "\n",
    "# 실행\n",
    "if __name__ == '__main__':\n",
    "        main(separate_many)"
   ]
  },
  {
   "cell_type": "markdown",
   "id": "cb102c8b",
   "metadata": {},
   "source": [
    "#### ProcessPoolExecutor 활용 비동기 작업\n",
    "- CPU의 개수만큼 멀티프로세스 가능.\n",
    "- CPU 전부 활용 : 부하가 크다\n",
    "- 딥러닝 등의 고속계산시에 효과가 좋다"
   ]
  },
  {
   "cell_type": "code",
   "execution_count": 45,
   "id": "18132df1",
   "metadata": {},
   "outputs": [
    {
     "name": "stdout",
     "output_type": "stream",
     "text": [
      "\n",
      " <generator object _chain_from_iterable_of_lists at 0x00000212F04E7A50> csv separated in 0.37s\n"
     ]
    }
   ],
   "source": [
    "#main 함수\n",
    "def main(separate_many):\n",
    "    \n",
    "    # 시작 시간\n",
    "    start_tm = time.time()\n",
    "    # 결과 건수\n",
    "    with futures.ProcessPoolExecutor() as executor:\n",
    "        # map : 작업 순서를 유지하고 즉시 실행됨.\n",
    "        result_cnt = executor.map(separate_many, sorted(NATION_LS)) #result_cnt는 generator로 반환됨.\n",
    "    # 종료 시간\n",
    "    end_tm = time.time() - start_tm\n",
    "    msg = '\\n {} csv separated in {:.2f}s'\n",
    "    # 최종 결과 출력\n",
    "    print(msg.format(result_cnt,end_tm)) \n",
    "\n",
    "# 실행\n",
    "if __name__ == '__main__':\n",
    "    main(separate_many)\n",
    "    \n",
    "    \n",
    "# vscode 에서는 돌아가나 jupyter notebook 에서는 돌아가지 않음. jupyter의 특성때문"
   ]
  },
  {
   "cell_type": "markdown",
   "id": "d447b6db",
   "metadata": {},
   "source": [
    "---------------------------\n",
    "## .submit() 활용\n",
    "\n",
    "### future\n",
    "   1. 정의 : 일, 작업(Task)\n",
    "   \n",
    "   \n",
    "   2. 특징: \n",
    "       - future = concurrent.futures.submit(func, `*args`, `**kwargs`) 을 통해 객체 생성됨\n",
    "        - callable 함수 func를 func(`*args`, `**kwargs`) 으로 __스케줄링__하며 future 객체를 반환한다.\n",
    "\n",
    "      - 아래의 메소드를 갖는다.\n",
    "           - result() :  future 작업 결과물\n",
    "           - done(): future 작업 완료 여부\n",
    "           - as_completed(futures) : 모든 futures의 작업이 완료되면 futures iterator 객체 반환.\n",
    "           - cancelled() : 취소여부 True,False. (cancelled 하면 state = finished, error, cancelled 나타냄)"
   ]
  },
  {
   "cell_type": "markdown",
   "id": "4beb0967",
   "metadata": {},
   "source": [
    "### ThreadPoolExecutor 활용"
   ]
  },
  {
   "cell_type": "code",
   "execution_count": 61,
   "id": "37019b5d",
   "metadata": {},
   "outputs": [
    {
     "name": "stdout",
     "output_type": "stream",
     "text": [
      "Israel Germany Norway Mexico Singapore Spain France Italy Canada Future Result: Mexico, Done? : True\n",
      "Future cancelled info: <bound method Future.cancelled of <Future at 0x212f04bf9d0 state=finished returned str>>\n",
      "Future Result: Italy, Done? : True\n",
      "Future cancelled info: <bound method Future.cancelled of <Future at 0x212f053d5b0 state=finished returned str>>\n",
      "Future Result: Canada, Done? : True\n",
      "Future cancelled info: <bound method Future.cancelled of <Future at 0x212f0521340 state=finished returned str>>\n",
      "Future Result: Norway, Done? : True\n",
      "Future cancelled info: <bound method Future.cancelled of <Future at 0x212f054c2e0 state=finished returned str>>\n",
      "Future Result: Spain, Done? : True\n",
      "Future cancelled info: <bound method Future.cancelled of <Future at 0x212f0553eb0 state=finished returned str>>\n",
      "Future Result: Singapore, Done? : True\n",
      "Future cancelled info: <bound method Future.cancelled of <Future at 0x212f054cac0 state=finished returned str>>\n",
      "Future Result: Germany, Done? : True\n",
      "Future cancelled info: <bound method Future.cancelled of <Future at 0x212f04bf2b0 state=finished returned str>>\n",
      "Future Result: France, Done? : True\n",
      "Future cancelled info: <bound method Future.cancelled of <Future at 0x212f04bf490 state=finished returned str>>\n",
      "Future Result: Israel, Done? : True\n",
      "Future cancelled info: <bound method Future.cancelled of <Future at 0x212f04f29d0 state=finished returned str>>\n",
      "\n",
      " csv separated in 15.429459s\n"
     ]
    }
   ],
   "source": [
    "def main(separate_many):\n",
    "    #workers\n",
    "    workers = len(NATION_LS)\n",
    "    start_tm = time.time()\n",
    "    #futures를 담는 \n",
    "    futures_list = []\n",
    "    \n",
    "    with futures.ThreadPoolExecutor(workers) as executor:\n",
    "        for nt in sorted(NATION_LS):\n",
    "            #future 객체 반환\n",
    "            future = executor.submit(separate_many,nt) # nt 만큼의 future 생성\n",
    "            #스케쥴링\n",
    "            futures_list.append(future)\n",
    "    \n",
    "    #futures_list에 future들을 담았다\n",
    "    \n",
    "    for future in futures.as_completed(futures_list): #futures 작업 완료후 iterator로 반환됨\n",
    "        result = future.result() #futures 하나하나에 대해서 메소드 호출해서 상태 확인.\n",
    "        done = future.done()\n",
    "        cancelled = future.cancelled\n",
    "        #future 결과 확인\n",
    "        print('Future Result: {}, Done? : {}'.format(result,done))\n",
    "        print('Future cancelled info: {}'.format(cancelled))\n",
    "    \n",
    "    #종료시간\n",
    "    end_tm = time.time()-start_tm\n",
    "    msg = '\\n csv separated in {:2f}s'\n",
    "    #최종결과출력\n",
    "    print(msg.format(end_tm))\n",
    "\n",
    "# 실행\n",
    "if __name__ == '__main__':\n",
    "    main(separate_many)"
   ]
  },
  {
   "cell_type": "markdown",
   "id": "4630f914",
   "metadata": {},
   "source": [
    "### ProcessPoolExecutor 활용"
   ]
  },
  {
   "cell_type": "code",
   "execution_count": 59,
   "id": "86866c1f",
   "metadata": {
    "scrolled": false
   },
   "outputs": [
    {
     "ename": "BrokenProcessPool",
     "evalue": "A process in the process pool was terminated abruptly while the future was running or pending.",
     "output_type": "error",
     "traceback": [
      "\u001b[1;31m---------------------------------------------------------------------------\u001b[0m",
      "\u001b[1;31mBrokenProcessPool\u001b[0m                         Traceback (most recent call last)",
      "\u001b[1;32m~\\AppData\\Local\\Temp/ipykernel_21008/2833429684.py\u001b[0m in \u001b[0;36m<module>\u001b[1;34m\u001b[0m\n\u001b[0;32m     29\u001b[0m \u001b[1;31m# 실행\u001b[0m\u001b[1;33m\u001b[0m\u001b[1;33m\u001b[0m\u001b[0m\n\u001b[0;32m     30\u001b[0m \u001b[1;32mif\u001b[0m \u001b[0m__name__\u001b[0m \u001b[1;33m==\u001b[0m \u001b[1;34m'__main__'\u001b[0m\u001b[1;33m:\u001b[0m\u001b[1;33m\u001b[0m\u001b[1;33m\u001b[0m\u001b[0m\n\u001b[1;32m---> 31\u001b[1;33m     \u001b[0mmain\u001b[0m\u001b[1;33m(\u001b[0m\u001b[0mseparate_many\u001b[0m\u001b[1;33m)\u001b[0m\u001b[1;33m\u001b[0m\u001b[1;33m\u001b[0m\u001b[0m\n\u001b[0m",
      "\u001b[1;32m~\\AppData\\Local\\Temp/ipykernel_21008/2833429684.py\u001b[0m in \u001b[0;36mmain\u001b[1;34m(separate_many)\u001b[0m\n\u001b[0;32m     14\u001b[0m \u001b[1;33m\u001b[0m\u001b[0m\n\u001b[0;32m     15\u001b[0m     \u001b[1;32mfor\u001b[0m \u001b[0mfuture\u001b[0m \u001b[1;32min\u001b[0m \u001b[0mfutures\u001b[0m\u001b[1;33m.\u001b[0m\u001b[0mas_completed\u001b[0m\u001b[1;33m(\u001b[0m\u001b[0mfutures_list\u001b[0m\u001b[1;33m)\u001b[0m\u001b[1;33m:\u001b[0m \u001b[1;31m#futures 작업 완료후 iterator로 반환됨\u001b[0m\u001b[1;33m\u001b[0m\u001b[1;33m\u001b[0m\u001b[0m\n\u001b[1;32m---> 16\u001b[1;33m         \u001b[0mresult\u001b[0m \u001b[1;33m=\u001b[0m \u001b[0mfuture\u001b[0m\u001b[1;33m.\u001b[0m\u001b[0mresult\u001b[0m\u001b[1;33m(\u001b[0m\u001b[1;33m)\u001b[0m \u001b[1;31m#futures 하나하나에 대해서 메소드 호출해서 상태 확인.\u001b[0m\u001b[1;33m\u001b[0m\u001b[1;33m\u001b[0m\u001b[0m\n\u001b[0m\u001b[0;32m     17\u001b[0m         \u001b[0mdone\u001b[0m \u001b[1;33m=\u001b[0m \u001b[0mfuture\u001b[0m\u001b[1;33m.\u001b[0m\u001b[0mdone\u001b[0m\u001b[1;33m(\u001b[0m\u001b[1;33m)\u001b[0m\u001b[1;33m\u001b[0m\u001b[1;33m\u001b[0m\u001b[0m\n\u001b[0;32m     18\u001b[0m         \u001b[0mcancelled\u001b[0m \u001b[1;33m=\u001b[0m \u001b[0mfuture\u001b[0m\u001b[1;33m.\u001b[0m\u001b[0mcancelled\u001b[0m\u001b[1;33m\u001b[0m\u001b[1;33m\u001b[0m\u001b[0m\n",
      "\u001b[1;32m~\\anaconda3\\lib\\concurrent\\futures\\_base.py\u001b[0m in \u001b[0;36mresult\u001b[1;34m(self, timeout)\u001b[0m\n\u001b[0;32m    436\u001b[0m                     \u001b[1;32mraise\u001b[0m \u001b[0mCancelledError\u001b[0m\u001b[1;33m(\u001b[0m\u001b[1;33m)\u001b[0m\u001b[1;33m\u001b[0m\u001b[1;33m\u001b[0m\u001b[0m\n\u001b[0;32m    437\u001b[0m                 \u001b[1;32melif\u001b[0m \u001b[0mself\u001b[0m\u001b[1;33m.\u001b[0m\u001b[0m_state\u001b[0m \u001b[1;33m==\u001b[0m \u001b[0mFINISHED\u001b[0m\u001b[1;33m:\u001b[0m\u001b[1;33m\u001b[0m\u001b[1;33m\u001b[0m\u001b[0m\n\u001b[1;32m--> 438\u001b[1;33m                     \u001b[1;32mreturn\u001b[0m \u001b[0mself\u001b[0m\u001b[1;33m.\u001b[0m\u001b[0m__get_result\u001b[0m\u001b[1;33m(\u001b[0m\u001b[1;33m)\u001b[0m\u001b[1;33m\u001b[0m\u001b[1;33m\u001b[0m\u001b[0m\n\u001b[0m\u001b[0;32m    439\u001b[0m \u001b[1;33m\u001b[0m\u001b[0m\n\u001b[0;32m    440\u001b[0m                 \u001b[0mself\u001b[0m\u001b[1;33m.\u001b[0m\u001b[0m_condition\u001b[0m\u001b[1;33m.\u001b[0m\u001b[0mwait\u001b[0m\u001b[1;33m(\u001b[0m\u001b[0mtimeout\u001b[0m\u001b[1;33m)\u001b[0m\u001b[1;33m\u001b[0m\u001b[1;33m\u001b[0m\u001b[0m\n",
      "\u001b[1;32m~\\anaconda3\\lib\\concurrent\\futures\\_base.py\u001b[0m in \u001b[0;36m__get_result\u001b[1;34m(self)\u001b[0m\n\u001b[0;32m    388\u001b[0m         \u001b[1;32mif\u001b[0m \u001b[0mself\u001b[0m\u001b[1;33m.\u001b[0m\u001b[0m_exception\u001b[0m\u001b[1;33m:\u001b[0m\u001b[1;33m\u001b[0m\u001b[1;33m\u001b[0m\u001b[0m\n\u001b[0;32m    389\u001b[0m             \u001b[1;32mtry\u001b[0m\u001b[1;33m:\u001b[0m\u001b[1;33m\u001b[0m\u001b[1;33m\u001b[0m\u001b[0m\n\u001b[1;32m--> 390\u001b[1;33m                 \u001b[1;32mraise\u001b[0m \u001b[0mself\u001b[0m\u001b[1;33m.\u001b[0m\u001b[0m_exception\u001b[0m\u001b[1;33m\u001b[0m\u001b[1;33m\u001b[0m\u001b[0m\n\u001b[0m\u001b[0;32m    391\u001b[0m             \u001b[1;32mfinally\u001b[0m\u001b[1;33m:\u001b[0m\u001b[1;33m\u001b[0m\u001b[1;33m\u001b[0m\u001b[0m\n\u001b[0;32m    392\u001b[0m                 \u001b[1;31m# Break a reference cycle with the exception in self._exception\u001b[0m\u001b[1;33m\u001b[0m\u001b[1;33m\u001b[0m\u001b[0m\n",
      "\u001b[1;31mBrokenProcessPool\u001b[0m: A process in the process pool was terminated abruptly while the future was running or pending."
     ]
    }
   ],
   "source": [
    "def main(separate_many):\n",
    "    start_tm = time.time()\n",
    "    #futures를 담는 \n",
    "    futures_list = []\n",
    "    \n",
    "    with futures.ProcessPoolExecutor() as executor:\n",
    "        for nt in sorted(NATION_LS):\n",
    "            #future 객체 반환\n",
    "            future = executor.submit(separate_many,nt) # nt 만큼의 future 생성\n",
    "            #스케쥴링\n",
    "            futures_list.append(future)\n",
    "    \n",
    "    #futures_list에 future들을 담았다\n",
    "    \n",
    "    for future in futures.as_completed(futures_list): #futures 작업 완료후 iterator로 반환됨\n",
    "        result = future.result() #futures 하나하나에 대해서 메소드 호출해서 상태 확인.\n",
    "        done = future.done()\n",
    "        cancelled = future.cancelled\n",
    "        #future 결과 확인\n",
    "        print('Future Result: {}, Done? : {}'.format(result,done))\n",
    "        print('Future cancelled info: {}'.format(cancelled))\n",
    "    \n",
    "    #종료시간\n",
    "    end_tm = time.time()-start_tm\n",
    "    msg = '\\n csv separated in {:2f}s'\n",
    "    #최종결과출력\n",
    "    print(msg.format(end_tm))\n",
    "\n",
    "# 실행\n",
    "if __name__ == '__main__':\n",
    "    main(separate_many)\n",
    "\n",
    "# python 특성 때문에 BrokenProcessPool 에러 발생"
   ]
  }
 ],
 "metadata": {
  "kernelspec": {
   "display_name": "Python 3 (ipykernel)",
   "language": "python",
   "name": "python3"
  },
  "language_info": {
   "codemirror_mode": {
    "name": "ipython",
    "version": 3
   },
   "file_extension": ".py",
   "mimetype": "text/x-python",
   "name": "python",
   "nbconvert_exporter": "python",
   "pygments_lexer": "ipython3",
   "version": "3.9.7"
  }
 },
 "nbformat": 4,
 "nbformat_minor": 5
}
